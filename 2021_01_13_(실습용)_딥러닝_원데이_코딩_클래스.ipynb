{
  "nbformat": 4,
  "nbformat_minor": 0,
  "metadata": {
    "colab": {
      "name": "2021-01-13_(실습용)_딥러닝 원데이 코딩 클래스.ipynb",
      "provenance": [],
      "authorship_tag": "ABX9TyMz6k0D5hiUTssTmfcrTxJ3",
      "include_colab_link": true
    },
    "kernelspec": {
      "name": "python3",
      "display_name": "Python 3"
    }
  },
  "cells": [
    {
      "cell_type": "markdown",
      "metadata": {
        "id": "view-in-github",
        "colab_type": "text"
      },
      "source": [
        "<a href=\"https://colab.research.google.com/github/Ahnjihye/allinone_AI/blob/students-oneday-class/2021_01_13_(%EC%8B%A4%EC%8A%B5%EC%9A%A9)_%EB%94%A5%EB%9F%AC%EB%8B%9D_%EC%9B%90%EB%8D%B0%EC%9D%B4_%EC%BD%94%EB%94%A9_%ED%81%B4%EB%9E%98%EC%8A%A4.ipynb\" target=\"_parent\"><img src=\"https://colab.research.google.com/assets/colab-badge.svg\" alt=\"Open In Colab\"/></a>"
      ]
    },
    {
      "cell_type": "markdown",
      "metadata": {
        "id": "L5GKdNLnAQsd"
      },
      "source": [
        "# 1. 딥러닝 개요\n",
        "## 1-1. 딥러닝 활용분야\n",
        "**1) 객체 탐지**\n",
        "\n",
        "<img src='https://s3-us-west-2.amazonaws.com/static.pyimagesearch.com/opencv-yolo/yolo_car_chase_01_output.gif'>\n",
        "         \n",
        "<br/>\n",
        "\n",
        "         \n",
        "<img src='https://miro.medium.com/max/1103/1*tQ9PotwEr93jwFte56U8aA.gif'>\n",
        "         \n",
        "<br/>\n",
        "\n",
        "<img src='https://s3-us-west-2.amazonaws.com/static.pyimagesearch.com/opencv-face-recognition/opencv_face_reco_animation.gif'>\n",
        "\n",
        "<br/><br/>\n"
      ]
    },
    {
      "cell_type": "markdown",
      "metadata": {
        "id": "ZUOQJ3qFiEqF"
      },
      "source": [
        "\r\n",
        "**2) 자연어 처리**\r\n",
        "\r\n",
        "<img src='https://images.chosun.com/resizer/xKp6vZn0Tap2nAyWZb3x7nfxX1A=/616x0/smart/cloudfront-ap-northeast-1.images.arcpublishing.com/chosun/J6WHZS5XNZEXVOO3APDPFC3H2I.jpg' width=600>\r\n",
        "<br/>\r\n",
        "<img src='https://blog.pingpong.us/images/2020.08.05.gpt3-review/example5_covid.png' width=500>\r\n",
        "<br/>\r\n",
        "<img src='https://t1.kakaocdn.net/braincloud/homepage/article_image/201803201508516713249.png' width=400>\r\n"
      ]
    },
    {
      "cell_type": "markdown",
      "metadata": {
        "id": "KGXPXP-UAQuy"
      },
      "source": [
        "## 1-2. 퍼셉트론 \n",
        "\n",
        "### 단일 퍼셉트론 = 인간의 신경 세포 뉴런을 모방\n",
        "\n",
        "<img src='https://miro.medium.com/proxy/1*3UpdymQx-C1tBKRnfD7eOg.gif'>\n",
        "\n",
        "<br/><br/>\n",
        "### 활성화함수의 종류\n",
        "\n",
        "\n",
        "<img src='https://t1.daumcdn.net/cfile/tistory/994C83365D4FD0D125' width=600>\n",
        "\n",
        "<br/>\n",
        "\n",
        "> 단일 퍼셉트론은 선형 공간에서 적용\n",
        "\n",
        "<img src='https://www.edureka.co/blog/wp-content/uploads/2017/12/Perceptron-Learning-Algorithm_03.gif' width=600>\n",
        "\n",
        "<br/><br/>\n",
        "\n",
        "#### 텐서플로우 그라운드에서 선형 공간의 데이터를 선택해보고, 단일 퍼셉트론으로 해결해보기 \n",
        "\n",
        "[텐서플로우 그라운드](https://playground.tensorflow.org/)"
      ]
    },
    {
      "cell_type": "markdown",
      "metadata": {
        "id": "D04PwGWhAQxC"
      },
      "source": [
        "## 1-3. 다층 퍼셉트론 \n",
        "\n",
        "<img src='https://blog.kakaocdn.net/dn/IwrnT/btqB5iKagJH/yuiTua4KCbdP2Qdhqz4ghK/img.png' width=600>\n",
        "\n",
        "<br/><br/>\n",
        "\n",
        "> 비선형 공간의 문제를 해결하지 못하는 단일 퍼셉트론\n",
        "\n",
        "<img src='https://user-images.githubusercontent.com/31475037/59172735-b5969780-8b84-11e9-8d3a-8445513adfc2.png' width=800>\n",
        "\n",
        "<br/><br/>\n",
        "                               \n",
        "> 비선형 공간의 문제를 해결하는데 탁월한 다층 퍼셉트론\n",
        "\n",
        "<img src='https://upload.wikimedia.org/wikipedia/commons/b/b2/Perceptron_XOR.jpg' width=600>\n",
        "\n",
        "<br/><br/>\n",
        "\n",
        "\n",
        "#### 텐서플로우 그라운드에서 비선형 공간의 데이터를 선택해보고, 다층 퍼셉트론으로 해결해보기 \n",
        "\n",
        "[텐서플로우 그라운드](https://playground.tensorflow.org/)\n"
      ]
    },
    {
      "cell_type": "markdown",
      "metadata": {
        "id": "Lk-tKUsRi0GN"
      },
      "source": [
        "## 1-4. 일반적인 딥러닝 구조\r\n",
        "\r\n",
        "<img src='https://blog.kakaocdn.net/dn/rEitk/btqBNlnBe9p/UvsZZSnPOhhvh1ubTNTWK1/img.png' width =800>"
      ]
    },
    {
      "cell_type": "markdown",
      "metadata": {
        "id": "EPwWM1CQFqqr"
      },
      "source": [
        "## 1-5. 출력층의 활성화함수는 softmax\r\n",
        "\r\n",
        "softmax의 특징 \r\n",
        "\r\n",
        "*   최종적으로 00일 확률을 계산함\r\n",
        "*   가장 높은 확률을 가진 것이 최종 결과로 판단됨\r\n",
        "\r\n",
        "<br/>\r\n",
        "<img src='https://www.aitimes.kr/news/photo/201807/12087_12004_574.png' width=600>\r\n",
        "\r\n",
        "\r\n",
        "<br/><br/>\r\n",
        "\r\n",
        "<img src='https://miro.medium.com/max/1906/1*ReYpdIZ3ZSAPb2W8cJpkBg.jpeg' width = 600>\r\n"
      ]
    },
    {
      "cell_type": "markdown",
      "metadata": {
        "id": "aP60bezSoH09"
      },
      "source": [
        "\r\n",
        "<img src='https://analyticsindiamag.com/wp-content/uploads/2018/01/nural-network_3.gif' width=600>\r\n",
        "\r\n",
        "<img src='https://i2.wp.com/www.yoonsupchoi.com/wp-content/uploads/2017/08/google-brain.png?fit=1000%2C501' width=800>"
      ]
    },
    {
      "cell_type": "markdown",
      "metadata": {
        "id": "o_6YA7KN93Fh"
      },
      "source": [
        "# 2. 인간의 손글씨를 인식시켜보자! \n",
        "\n",
        "### 손글씨 이미지 구성 - MNIST \n",
        "- 손글씨 이미지 0부터 9까지 총10개 \n",
        "<br/>\n",
        "<img src=\"https://learnmachinelearning.files.wordpress.com/2017/08/mnist.png?w=638\" height=\"150px\">\n",
        "\n",
        "\n",
        "- 손글씨 0~9 = 총 10개 * 각 600개 = 총 60000개\n",
        "- 학습 데이터 60000개, 테스트 데이터 10000개로 구성\n",
        "- 0~9까지의 숫자 이미지를 구분하는 것은 회귀인가? 분류인가?\n",
        "\n",
        "<br/>\n",
        "<img src = \"https://korchris.github.io/images/overview_mnist.png\">\n",
        "\n",
        "- 각 숫자 이미지는 28 pixel * 28 pixel   \n",
        "![대체 텍스트](https://encrypted-tbn0.gstatic.com/images?q=tbn%3AANd9GcRiYU_Wf8GiLoaAXWiCdJHm87IWjpOfTClkwg&usqp=CAU)\n",
        "\n"
      ]
    },
    {
      "cell_type": "markdown",
      "metadata": {
        "id": "A7XPNrUy_AQS"
      },
      "source": [
        "## 1) 데이터 로드\n",
        "\n",
        "#### 학습데이터와 테스트 데이터의 분리\n",
        "\n",
        "<img src='https://img1.daumcdn.net/thumb/R800x0/?scode=mtistory2&fname=https%3A%2F%2Ft1.daumcdn.net%2Fcfile%2Ftistory%2F99F705445DA0686711' width=600>"
      ]
    },
    {
      "cell_type": "code",
      "metadata": {
        "id": "X9Fuap8m9M_I"
      },
      "source": [
        "from keras.datasets import mnist\n",
        "\n"
      ],
      "execution_count": null,
      "outputs": []
    },
    {
      "cell_type": "code",
      "metadata": {
        "id": "bP-Ionzd-_su"
      },
      "source": [
        "print(\"학습셋 이미지 수 :\", -------)\n",
        "print(\"테스트셋 이미지 수:\", -------)"
      ],
      "execution_count": null,
      "outputs": []
    },
    {
      "cell_type": "code",
      "metadata": {
        "id": "5vcaL3VM_GVD"
      },
      "source": [
        "# 첫번째 숫자 살펴보기\n"
      ],
      "execution_count": null,
      "outputs": []
    },
    {
      "cell_type": "markdown",
      "metadata": {
        "id": "8nQnIgxTIS-c"
      },
      "source": [
        "조금 더 예쁘게 출력해보자!\n",
        "\n",
        "```\n",
        "# 숫자 하나마다 탭 길이만큼 공백을 주어 출력하는 코드\n",
        "\n",
        "import sys\n",
        "\n",
        "for x in X_train[0]:\n",
        "    for i in x:\n",
        "        sys.stdout.write('%d\\t' % i)\n",
        "    sys.stdout.write('\\n')\n",
        "```\n",
        "\n"
      ]
    },
    {
      "cell_type": "code",
      "metadata": {
        "id": "8PpG31ZJM8Y1"
      },
      "source": [
        "# 조금 더 예쁘게 출력해보자!\n",
        "\n"
      ],
      "execution_count": null,
      "outputs": []
    },
    {
      "cell_type": "markdown",
      "metadata": {
        "id": "beLUriHejaNC"
      },
      "source": [
        "0~255까지의 숫자로 구성된 파일을 흑백 이미지로 보여주기 \r\n",
        "\r\n",
        "```\r\n",
        "import matplotlib.pyplot as plt\r\n",
        "\r\n",
        "plt.imshow(숫자리스트, cmap='gray') \r\n",
        "plt.show()\r\n",
        "```\r\n",
        "\r\n"
      ]
    },
    {
      "cell_type": "code",
      "metadata": {
        "id": "VVhEH_TZ_IMK"
      },
      "source": [
        "import matplotlib.pyplot as plt\n",
        "\n",
        "# 이미지로 출력해보기  \n",
        "\n",
        "\n",
        "# 해당 결과값은 ? \n",
        "\n"
      ],
      "execution_count": null,
      "outputs": []
    },
    {
      "cell_type": "code",
      "metadata": {
        "id": "ZDtsDwE_O-gJ"
      },
      "source": [
        "# 숫자 10개 출력\n",
        "\n"
      ],
      "execution_count": null,
      "outputs": []
    },
    {
      "cell_type": "markdown",
      "metadata": {
        "id": "9I2onhXB_jMo"
      },
      "source": [
        "#### 데이터 주물러보기"
      ]
    },
    {
      "cell_type": "code",
      "metadata": {
        "id": "soOSYOej_Vfr"
      },
      "source": [
        "# 이미지 주무르기\n",
        "\n"
      ],
      "execution_count": null,
      "outputs": []
    },
    {
      "cell_type": "code",
      "metadata": {
        "id": "xCUo3E6O_nKe"
      },
      "source": [
        "# 1을 7로 만들기\n",
        "\n"
      ],
      "execution_count": null,
      "outputs": []
    },
    {
      "cell_type": "code",
      "metadata": {
        "id": "r89yiwvG_6GP"
      },
      "source": [
        "# 7을 2로 만들기\n",
        "\n"
      ],
      "execution_count": null,
      "outputs": []
    },
    {
      "cell_type": "code",
      "metadata": {
        "id": "VEyDqdbhABVO"
      },
      "source": [
        "\r\n"
      ],
      "execution_count": null,
      "outputs": []
    },
    {
      "cell_type": "markdown",
      "metadata": {
        "id": "pEqbKQbiR_Xr"
      },
      "source": [
        "## 2) 출력을 원 핫 인코딩 처리\n",
        "\n",
        "<img src='https://i.ytimg.com/vi/9HkqZJI_X0k/hqdefault.jpg' width=600>"
      ]
    },
    {
      "cell_type": "code",
      "metadata": {
        "id": "nILRVNmDSNTv"
      },
      "source": [
        "\n"
      ],
      "execution_count": null,
      "outputs": []
    },
    {
      "cell_type": "code",
      "metadata": {
        "id": "OPGv5WAiAEZj"
      },
      "source": [
        "import tensorflow.keras.utils as utils\n",
        "\n",
        "print('인코딩 전 학습/테스트 데이터', Y_train.shape, Y_test.shape)\n",
        "\n",
        "# 학습데이터의 Y를 원 핫 인코딩 처리\n",
        "\n",
        "\n",
        "# 테스트 데이터의 Y를 원 핫 인코딩 처리\n",
        "\n",
        "\n",
        "print('인코딩 후 학습/테스트 데이터',Y_train.shape, Y_test.shape)"
      ],
      "execution_count": null,
      "outputs": []
    },
    {
      "cell_type": "code",
      "metadata": {
        "id": "nQSZdeUAA6pD"
      },
      "source": [
        ""
      ],
      "execution_count": null,
      "outputs": []
    },
    {
      "cell_type": "markdown",
      "metadata": {
        "id": "cGP2qLKCAGFF"
      },
      "source": [
        "## 3) 딥러닝 모델 구성하기\n",
        "\n",
        "<img src='https://static.javatpoint.com/tutorial/tensorflow/images/mnist-dataset-in-cnn.jpg' width = 700>"
      ]
    },
    {
      "cell_type": "markdown",
      "metadata": {
        "id": "TdjgQ3g3Bp8z"
      },
      "source": [
        "> Q. 손글씨 딥러닝 모델의 입력층 개수는?\n",
        "\n",
        "<img src='https://t1.daumcdn.net/cfile/tistory/998BAF475BECAB3B26' width=800>\n",
        "<br/><br/>\n",
        "\n",
        "> Q. 출력층의 개수는?\n",
        "\n",
        "<img src = 'https://github.com/Ahnjihye/allinone_AI/blob/images/34_mnist%20%EA%B5%AC%EC%A1%B0.png?raw=true' width =700>\n",
        "\n",
        "<img src='https://thumbs.gfycat.com/ActiveCourteousAmericanindianhorse-small.gif' width=600>\n",
        "\n",
        "<br/><br/>\n",
        "\n",
        "> 출력층의 활성화 함수는 softmax\n",
        "<br/>\n",
        "\n",
        "<img src='https://miro.medium.com/max/1906/1*ReYpdIZ3ZSAPb2W8cJpkBg.jpeg' width = 600>"
      ]
    },
    {
      "cell_type": "markdown",
      "metadata": {
        "id": "VzeVcFhNBiKb"
      },
      "source": [
        "# model1 : 은닉층 없이 돌려보자 \r\n",
        "**입력층(노드 784) -> 출력층(노드 10)**"
      ]
    },
    {
      "cell_type": "code",
      "metadata": {
        "id": "LprbUis6BKtu"
      },
      "source": [
        "from tensorflow.keras.models import Sequential\n",
        "from tensorflow.keras.layers import Dense, Flatten\n",
        "\n",
        "# 층을 쌓을 수 있는 Sequential의 객체 생성\n"
      ],
      "execution_count": null,
      "outputs": []
    },
    {
      "cell_type": "code",
      "metadata": {
        "id": "szHM8lz2WupW"
      },
      "source": [
        "# 입력층에서 입력되는 이차원 리스트를 한 줄로 만들어주는 작업\n",
        "# 28*28 --> 784\n"
      ],
      "execution_count": null,
      "outputs": []
    },
    {
      "cell_type": "code",
      "metadata": {
        "id": "sZktWsScWwVt"
      },
      "source": [
        "# 모델에 층 추가\n",
        "# 층은 Dense(노드개수, activation =활성화함수), \n",
        "# 입력층을 추가할 때만 input_dim 옵션\n"
      ],
      "execution_count": null,
      "outputs": []
    },
    {
      "cell_type": "code",
      "metadata": {
        "id": "4lCASE-DWxsf"
      },
      "source": [
        "# 만든 딥러닝 구조를 컴파일\n",
        "\n"
      ],
      "execution_count": null,
      "outputs": []
    },
    {
      "cell_type": "code",
      "metadata": {
        "id": "pmVMTHC4B0kL"
      },
      "source": [
        "# 딥러닝 구조에 데이터를 넣어 학습시키기\n",
        "\n"
      ],
      "execution_count": null,
      "outputs": []
    },
    {
      "cell_type": "code",
      "metadata": {
        "id": "1AMTuBWxhs1K"
      },
      "source": [
        "# 새로운 데이터 예측해보기 \n",
        "\n"
      ],
      "execution_count": null,
      "outputs": []
    },
    {
      "cell_type": "code",
      "metadata": {
        "id": "fh-JAMLcim92"
      },
      "source": [
        "import numpy as np\n",
        "\n"
      ],
      "execution_count": null,
      "outputs": []
    },
    {
      "cell_type": "markdown",
      "metadata": {
        "id": "ZkJmS52JpJHt"
      },
      "source": [
        "출력값 살펴보기\r\n",
        "\r\n",
        "```\r\n",
        "import numpy as np\r\n",
        "\r\n",
        "print('X_test[0]의 softmax값 :', --예측값--)\r\n",
        "print('X_test[0]의 softmax값 중 가장 큰 원소값 :', --np.max(예측값)--)\r\n",
        "print('X_test[0]의 softmax값 중 가장 큰 원소값을 가진 index :', --np.argmax(예측값)--)\r\n",
        "```\r\n",
        "\r\n"
      ]
    },
    {
      "cell_type": "code",
      "metadata": {
        "id": "YPpuXuZvqhu4"
      },
      "source": [
        "\n"
      ],
      "execution_count": null,
      "outputs": []
    },
    {
      "cell_type": "code",
      "metadata": {
        "id": "9BUyIMGmqh7T"
      },
      "source": [
        "\n"
      ],
      "execution_count": null,
      "outputs": []
    },
    {
      "cell_type": "code",
      "metadata": {
        "id": "5J7FvoavEBIv"
      },
      "source": [
        "# 완성된 모델 평가하기\n",
        "\n",
        "\n",
        "print(score1)      #[오차, 정확도]"
      ],
      "execution_count": null,
      "outputs": []
    },
    {
      "cell_type": "code",
      "metadata": {
        "id": "McjUHF29a5lz"
      },
      "source": [
        "# 최종 점수\n",
        "\n"
      ],
      "execution_count": null,
      "outputs": []
    },
    {
      "cell_type": "markdown",
      "metadata": {
        "id": "Pg1WftKBEP45"
      },
      "source": [
        "# model2 : 은닉층을 추가하여 돌려보자 \r\n",
        "**입력층(노드 784) -> 은닉층(노드 512) -> 출력층(노드 10)**"
      ]
    },
    {
      "cell_type": "code",
      "metadata": {
        "id": "Y04OaBOSE82G"
      },
      "source": [
        "from tensorflow.keras.models import Sequential\n",
        "from tensorflow.keras.layers import Dense, Flatten\n",
        "\n",
        "# 딥러닝 구조를 담을 수 있는 객체 생성하기\n"
      ],
      "execution_count": null,
      "outputs": []
    },
    {
      "cell_type": "code",
      "metadata": {
        "id": "HsnyAdQ_eBmb"
      },
      "source": [
        "# 입력데이터 이차원 리스트를 한 줄로 flatten\n"
      ],
      "execution_count": null,
      "outputs": []
    },
    {
      "cell_type": "code",
      "metadata": {
        "id": "pVuOKKEaeBo5"
      },
      "source": [
        "# 모델에 층 추가 : 입력층 784 --> 은닉층 512\n"
      ],
      "execution_count": null,
      "outputs": []
    },
    {
      "cell_type": "code",
      "metadata": {
        "id": "p7dOUqU7eBrh"
      },
      "source": [
        "# 모델에 층 추가 : 은닉층 512 -> 출력층 10\n"
      ],
      "execution_count": null,
      "outputs": []
    },
    {
      "cell_type": "code",
      "metadata": {
        "id": "GScpg-IPeBt1"
      },
      "source": [
        "# 만든 딥러닝 구조를 컴파일\n",
        "\n"
      ],
      "execution_count": null,
      "outputs": []
    },
    {
      "cell_type": "code",
      "metadata": {
        "id": "RDGETBFAFQg-"
      },
      "source": [
        "# 작성한 딥러닝 구조에 데이터를 넣어 학습\n",
        "\n"
      ],
      "execution_count": null,
      "outputs": []
    },
    {
      "cell_type": "code",
      "metadata": {
        "id": "J_osKRVt9RcJ"
      },
      "source": [
        ""
      ],
      "execution_count": null,
      "outputs": []
    },
    {
      "cell_type": "code",
      "metadata": {
        "id": "NYX7T16I9RcL"
      },
      "source": [
        "\n"
      ],
      "execution_count": null,
      "outputs": []
    },
    {
      "cell_type": "code",
      "metadata": {
        "id": "IErWpcZrFdwU"
      },
      "source": [
        "# 완성된 모델 평가하기\n",
        "\n",
        "print(score2)      #[오차, 정확도]"
      ],
      "execution_count": null,
      "outputs": []
    },
    {
      "cell_type": "code",
      "metadata": {
        "id": "DcZjsbH8fI96"
      },
      "source": [
        "# 최종 점수\n"
      ],
      "execution_count": null,
      "outputs": []
    },
    {
      "cell_type": "markdown",
      "metadata": {
        "id": "asoxygKpfiTO"
      },
      "source": [
        "# model3 : 입력데이터를 정규화하여 넣어보자\r\n"
      ]
    },
    {
      "cell_type": "code",
      "metadata": {
        "id": "FAAcV7iWEDRA"
      },
      "source": [
        "X_train[0]"
      ],
      "execution_count": null,
      "outputs": []
    },
    {
      "cell_type": "markdown",
      "metadata": {
        "id": "MMXlkm7ZcjyW"
      },
      "source": [
        "#### 정규화를 하는 이유 \n",
        "\n",
        "\n",
        "<img src = 'https://www.agilent.com/cs/promotions/images/before-after-normalization.png' width=700>\n",
        "\n",
        "[출처](https://www.agilent.com/en/products/cell-analysis/seahorse-xf-imaging-normalization-solution)\n",
        "\n",
        "\n",
        "\n",
        "[참고 읽을거리](http://hleecaster.com/ml-normalization-concept/)"
      ]
    },
    {
      "cell_type": "code",
      "metadata": {
        "id": "nHO1vQrAEM2z"
      },
      "source": [
        "# 픽셀값 0 ~ 255 를 0 ~ 1 사이의 값으로 정규화\n",
        "\n"
      ],
      "execution_count": null,
      "outputs": []
    },
    {
      "cell_type": "code",
      "metadata": {
        "id": "VrXVTJ7wEtJk"
      },
      "source": [
        ""
      ],
      "execution_count": null,
      "outputs": []
    },
    {
      "cell_type": "code",
      "metadata": {
        "id": "T0cQLoyrEShm"
      },
      "source": [
        "from tensorflow.keras.models import Sequential\n",
        "from tensorflow.keras.layers import Dense, Flatten\n",
        "\n",
        "# 딥러닝 층을 담을 수 있는 객체 생성\n"
      ],
      "execution_count": null,
      "outputs": []
    },
    {
      "cell_type": "code",
      "metadata": {
        "id": "7vYcHKBXgVoZ"
      },
      "source": [
        "# 28*28을 한 줄로 만들어주는 작업\n"
      ],
      "execution_count": null,
      "outputs": []
    },
    {
      "cell_type": "code",
      "metadata": {
        "id": "FmHabnHVgVrB"
      },
      "source": [
        "# 모델에 층 추가 : 입력층 784 --> 은닉층 512\n"
      ],
      "execution_count": null,
      "outputs": []
    },
    {
      "cell_type": "code",
      "metadata": {
        "id": "lTwecupnhB8J"
      },
      "source": [
        "# 모델에 층 추가 : 은닉층 512 --> 출력층 10\n"
      ],
      "execution_count": null,
      "outputs": []
    },
    {
      "cell_type": "code",
      "metadata": {
        "id": "POfskAyIgVtk"
      },
      "source": [
        "# 작성한 모델 컴파일\n"
      ],
      "execution_count": null,
      "outputs": []
    },
    {
      "cell_type": "code",
      "metadata": {
        "id": "N1Q9CCKjETHU"
      },
      "source": [
        "# 작성한 모델에 학습데이터를 넣어 학습 \n",
        "# 현재  X_train에는 정규화 처리된 데이터가 저장되어 있음\n"
      ],
      "execution_count": null,
      "outputs": []
    },
    {
      "cell_type": "code",
      "metadata": {
        "id": "KAv1JeA69_nZ"
      },
      "source": [
        ""
      ],
      "execution_count": null,
      "outputs": []
    },
    {
      "cell_type": "code",
      "metadata": {
        "id": "vnHAZaRA9_ni"
      },
      "source": [
        "\n"
      ],
      "execution_count": null,
      "outputs": []
    },
    {
      "cell_type": "code",
      "metadata": {
        "id": "_9FwqcqZgsa4"
      },
      "source": [
        "# 완성된 모델 평가하기\n",
        "\n",
        "\n",
        "print(score3)      #[오차, 정확도]"
      ],
      "execution_count": null,
      "outputs": []
    },
    {
      "cell_type": "code",
      "metadata": {
        "id": "hB4uDv8hgsa8"
      },
      "source": [
        "# 최종 점수\n"
      ],
      "execution_count": null,
      "outputs": []
    },
    {
      "cell_type": "markdown",
      "metadata": {
        "id": "rkkBMokkceMP"
      },
      "source": [
        "# model4 : 이미지 처리 CNN\n",
        "**CNN층 -> 입력층(노드 784) -> 은닉층(노드 128) -> 출력층(노드 10)**\n",
        "#### 1) Convolutional Layer\n",
        "\n",
        "<img src='https://mlnotebook.github.io/img/CNN/convSobel.gif' width=600>\n",
        "\n",
        "#### 2) Maxpooling Layer\n",
        "\n",
        "<img src='https://developers.google.com/machine-learning/practica/image-classification/images/maxpool_animation.gif' width=600>\n",
        "\n",
        "<img src='https://media-exp1.licdn.com/dms/image/C5112AQFli1PZInreVg/article-inline_image-shrink_1000_1488/0/1582176329803?e=1614816000&v=beta&t=1DyGcZkoYEibME2E3uetZj__7maqMwDtpbiZuiDzpy0' width=600>\n",
        "\n",
        "> CNN 구조\n",
        "\n",
        "<img src='https://www.oreilly.com/library/view/deep-learning/9781491924570/assets/dpln_0415.png' width=800>"
      ]
    },
    {
      "cell_type": "code",
      "metadata": {
        "id": "L87AdXrJca6_"
      },
      "source": [
        "# Conv계층은 3차원 데이터를 입력으로 하기 때문에 1개 숫자를 3차원으로 구성해야 함\n",
        "\n"
      ],
      "execution_count": null,
      "outputs": []
    },
    {
      "cell_type": "code",
      "metadata": {
        "id": "UI3MSJZr-fdS"
      },
      "source": [
        "from tensorflow.keras.models import Sequential\n",
        "from tensorflow.keras.layers import Dense, Flatten, Conv2D, Dropout, MaxPooling2D\n",
        "\n",
        "# 딥러닝 층을 담을 수 있는 객체 생성\n"
      ],
      "execution_count": null,
      "outputs": []
    },
    {
      "cell_type": "code",
      "metadata": {
        "id": "XYSnz-ia-fdW"
      },
      "source": [
        "# Concolutional 계층 추가 - 3*3 사이즈의 필터 32개 적용\n",
        "# Conv계층에 flatten() 사용불가 - 필터를 적용하려면 2차원이여야 함\n",
        "\n"
      ],
      "execution_count": null,
      "outputs": []
    },
    {
      "cell_type": "code",
      "metadata": {
        "id": "INfP1_sMCKmr"
      },
      "source": [
        "# Maxpooling 계층 추가\n"
      ],
      "execution_count": null,
      "outputs": []
    },
    {
      "cell_type": "code",
      "metadata": {
        "id": "4NezC43nCKrT"
      },
      "source": [
        "# 신경망 학습 적용\n",
        "\n"
      ],
      "execution_count": null,
      "outputs": []
    },
    {
      "cell_type": "code",
      "metadata": {
        "id": "HVyl5gFzCKtz"
      },
      "source": [
        "\n"
      ],
      "execution_count": null,
      "outputs": []
    },
    {
      "cell_type": "code",
      "metadata": {
        "id": "ETwnUUWVCKw7"
      },
      "source": [
        ""
      ],
      "execution_count": null,
      "outputs": []
    },
    {
      "cell_type": "code",
      "metadata": {
        "id": "R0-_UWTc-fdX"
      },
      "source": [
        "# 작성한 모델에 학습데이터를 넣어 학습 \n",
        "# 현재  X_train에는 정규화 처리된 데이터가 저장되어 있음\n",
        "\n"
      ],
      "execution_count": null,
      "outputs": []
    },
    {
      "cell_type": "code",
      "metadata": {
        "id": "LxS3SBlX-fdY"
      },
      "source": [
        "# 완성된 모델 평가하기\n",
        "\n",
        "print(score4)      #[오차, 정확도]"
      ],
      "execution_count": null,
      "outputs": []
    },
    {
      "cell_type": "code",
      "metadata": {
        "id": "R9ZMscSB-fdY"
      },
      "source": [
        "# 최종 점수\n"
      ],
      "execution_count": null,
      "outputs": []
    },
    {
      "cell_type": "markdown",
      "metadata": {
        "id": "xTuHgGjzQF5-"
      },
      "source": [
        "## 내 손글씨를 인식할 수 있을까?\n",
        "<img src = 'https://github.com/Ahnjihye/allinone_AI/blob/images/35_%EA%B7%B8%EB%A6%BC%ED%8C%90.png?raw=true' width=700>"
      ]
    },
    {
      "cell_type": "code",
      "metadata": {
        "id": "MaTEBxt2FiUf"
      },
      "source": [
        "from google.colab import files\n",
        "uploaded = files.upload()"
      ],
      "execution_count": null,
      "outputs": []
    },
    {
      "cell_type": "code",
      "metadata": {
        "id": "H1zOwZAOqi-7"
      },
      "source": [
        "from tensorflow.keras.preprocessing import image\n",
        "\n",
        "s = image.load_img('파일명.png', target_size=(28, 28), color_mode=\"grayscale\")\n",
        "img = image.img_to_array(s).astype('float32')\n"
      ],
      "execution_count": null,
      "outputs": []
    },
    {
      "cell_type": "code",
      "metadata": {
        "id": "DSL3VVd4Hzju"
      },
      "source": [
        "# model4에 넣고 예측\n",
        "print(np.argmax(model4.predict(img.reshape(-1, 28, 28, 1))))"
      ],
      "execution_count": null,
      "outputs": []
    }
  ]
}