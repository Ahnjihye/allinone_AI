{
  "nbformat": 4,
  "nbformat_minor": 0,
  "metadata": {
    "colab": {
      "name": "AIO_AI_day4_복습 + 사용자 정의 함수(완성본).ipynb",
      "provenance": [],
      "collapsed_sections": [],
      "include_colab_link": true
    },
    "kernelspec": {
      "name": "python3",
      "display_name": "Python 3"
    }
  },
  "cells": [
    {
      "cell_type": "markdown",
      "metadata": {
        "id": "view-in-github",
        "colab_type": "text"
      },
      "source": [
        "<a href=\"https://colab.research.google.com/github/Ahnjihye/allinone_AI/blob/master/AIO_AI_day4_%EB%B3%B5%EC%8A%B5_%2B_%EC%82%AC%EC%9A%A9%EC%9E%90_%EC%A0%95%EC%9D%98_%ED%95%A8%EC%88%98(%EC%99%84%EC%84%B1%EB%B3%B8).ipynb\" target=\"_parent\"><img src=\"https://colab.research.google.com/assets/colab-badge.svg\" alt=\"Open In Colab\"/></a>"
      ]
    },
    {
      "cell_type": "markdown",
      "metadata": {
        "id": "bi4PMnN_vOrV",
        "colab_type": "text"
      },
      "source": [
        "# **복습**"
      ]
    },
    {
      "cell_type": "code",
      "metadata": {
        "id": "9vhXjaW63j-M",
        "colab_type": "code",
        "colab": {
          "base_uri": "https://localhost:8080/",
          "height": 35
        },
        "outputId": "bb745b2e-0c07-4578-e067-1dd2ed6f7987"
      },
      "source": [
        "# 리스트 슬라이싱\n",
        "\n",
        "data = [10, 20, 30, 40, 50]\n",
        "\n",
        "data[1:5]"
      ],
      "execution_count": null,
      "outputs": [
        {
          "output_type": "execute_result",
          "data": {
            "text/plain": [
              "[20, 30, 40, 50]"
            ]
          },
          "metadata": {
            "tags": []
          },
          "execution_count": 57
        }
      ]
    },
    {
      "cell_type": "code",
      "metadata": {
        "id": "ywwvka9Q2TcK",
        "colab_type": "code",
        "colab": {
          "base_uri": "https://localhost:8080/",
          "height": 35
        },
        "outputId": "bb6fc8b1-4ff0-405a-d7fd-63a62d7f185c"
      },
      "source": [
        "# 리스트에 데이터 추가\n",
        "\n",
        "data = [1,2,3]\n",
        "\n",
        "data.append(4)\n",
        "\n",
        "data"
      ],
      "execution_count": null,
      "outputs": [
        {
          "output_type": "execute_result",
          "data": {
            "text/plain": [
              "[1, 2, 3, 4]"
            ]
          },
          "metadata": {
            "tags": []
          },
          "execution_count": 23
        }
      ]
    },
    {
      "cell_type": "code",
      "metadata": {
        "id": "cMLxSY0hsQxu",
        "colab_type": "code",
        "colab": {
          "base_uri": "https://localhost:8080/",
          "height": 35
        },
        "outputId": "eb7a2df8-b32d-4479-9844-639a5604b10d"
      },
      "source": [
        "# 2차원리스트를 구성하는 각각의 1차원리스트에 접근 (데이터 추가)\n",
        "\n",
        "data = [[1,1], [2,2], [3,3]]\n",
        "\n",
        "for row in data :\n",
        "    row.append(0)\n",
        "\n",
        "data"
      ],
      "execution_count": null,
      "outputs": [
        {
          "output_type": "execute_result",
          "data": {
            "text/plain": [
              "[[1, 1, 0], [2, 2, 0], [3, 3, 0]]"
            ]
          },
          "metadata": {
            "tags": []
          },
          "execution_count": 35
        }
      ]
    },
    {
      "cell_type": "code",
      "metadata": {
        "id": "eZSl_wqsupjO",
        "colab_type": "code",
        "colab": {
          "base_uri": "https://localhost:8080/",
          "height": 35
        },
        "outputId": "73693eb5-a76f-4bd4-aeeb-6e470657fda7"
      },
      "source": [
        "# 2차원리스트를 구성하는 각각의 1차원리스트에 접근 (데이터 변경)\n",
        "\n",
        "for row in data :\n",
        "    row[-1] = 100\n",
        "\n",
        "data "
      ],
      "execution_count": null,
      "outputs": [
        {
          "output_type": "execute_result",
          "data": {
            "text/plain": [
              "[[1, 1, 100], [2, 2, 100], [3, 3, 100]]"
            ]
          },
          "metadata": {
            "tags": []
          },
          "execution_count": 36
        }
      ]
    },
    {
      "cell_type": "code",
      "metadata": {
        "id": "Jn8WNFkltfhD",
        "colab_type": "code",
        "colab": {
          "base_uri": "https://localhost:8080/",
          "height": 35
        },
        "outputId": "6a98cb42-8118-4d84-9bce-99fada080c7d"
      },
      "source": [
        "# 리스트 정렬\n",
        "\n",
        "data = [[7,2], [4,8], [1,5], [9,4], [2,7]]\n",
        "\n",
        "data.sort()\n",
        "data"
      ],
      "execution_count": null,
      "outputs": [
        {
          "output_type": "execute_result",
          "data": {
            "text/plain": [
              "[[1, 5], [2, 7], [4, 8], [7, 2], [9, 4]]"
            ]
          },
          "metadata": {
            "tags": []
          },
          "execution_count": 46
        }
      ]
    },
    {
      "cell_type": "code",
      "metadata": {
        "id": "pFPAhcdHt2GT",
        "colab_type": "code",
        "colab": {
          "base_uri": "https://localhost:8080/",
          "height": 35
        },
        "outputId": "7244b03f-5859-405e-c2bc-221c39ecca72"
      },
      "source": [
        "# 원하는 기준으로 리스트 정렬\n",
        "\n",
        "import operator\n",
        "\n",
        "data.sort(key = operator.itemgetter(1))\n",
        "data"
      ],
      "execution_count": null,
      "outputs": [
        {
          "output_type": "execute_result",
          "data": {
            "text/plain": [
              "[[7, 2], [9, 4], [1, 5], [2, 7], [4, 8]]"
            ]
          },
          "metadata": {
            "tags": []
          },
          "execution_count": 47
        }
      ]
    },
    {
      "cell_type": "code",
      "metadata": {
        "id": "d4h3BPwvvfGw",
        "colab_type": "code",
        "colab": {
          "base_uri": "https://localhost:8080/",
          "height": 265
        },
        "outputId": "4e3bb9bc-0582-4721-b22a-32eec3219e2c"
      },
      "source": [
        "# 데이터 시각화 (산점도 그리기)\n",
        "\n",
        "import matplotlib.pyplot as plt\n",
        "\n",
        "X = [2, 4, 6, 8, 10]\n",
        "Y = [6, 4, 8, 2, 3]\n",
        "\n",
        "plt.scatter(X, Y, color = 'orange')\n",
        "\n",
        "plt.show()"
      ],
      "execution_count": null,
      "outputs": [
        {
          "output_type": "display_data",
          "data": {
            "image/png": "[encoded data removed]",
            "text/plain": [
              "<Figure size 432x288 with 1 Axes>"
            ]
          },
          "metadata": {
            "tags": [],
            "needs_background": "light"
          }
        }
      ]
    },
    {
      "cell_type": "code",
      "metadata": {
        "id": "Y8tuZlDV5Jfj",
        "colab_type": "code",
        "colab": {
          "base_uri": "https://localhost:8080/",
          "height": 265
        },
        "outputId": "c869620d-91dc-445d-cfab-57b3eeaebb8b"
      },
      "source": [
        "data = [[2, 6], [4, 4], [6, 8], [8, 2], [10,3]]\n",
        "\n",
        "for row in data :\n",
        "    plt.scatter(row[0], row[1], color = 'orange')\n",
        "\n",
        "plt.show()"
      ],
      "execution_count": null,
      "outputs": [
        {
          "output_type": "display_data",
          "data": {
            "image/png": "[encoded data removed]",
            "text/plain": [
              "<Figure size 432x288 with 1 Axes>"
            ]
          },
          "metadata": {
            "tags": [],
            "needs_background": "light"
          }
        }
      ]
    },
    {
      "cell_type": "markdown",
      "metadata": {
        "id": "LXWMVTZdvJn6",
        "colab_type": "text"
      },
      "source": [
        "# **사용자 정의 함수**"
      ]
    },
    {
      "cell_type": "code",
      "metadata": {
        "id": "P5pp2mHfTjP9",
        "colab_type": "code",
        "colab": {
          "base_uri": "https://localhost:8080/",
          "height": 54
        },
        "outputId": "34668947-92f8-4a6d-9053-c7dc8dab32c6"
      },
      "source": [
        "# 간단한 함수\n",
        "\n",
        "def greeting() :\n",
        "    print('안녕하세요.')\n",
        "    print('AI 연수에 오신 것을 환영합니다!')\n",
        "\n",
        "greeting()"
      ],
      "execution_count": null,
      "outputs": [
        {
          "output_type": "stream",
          "text": [
            "안녕하세요.\n",
            "AI 연수에 오신 것을 환영합니다!\n"
          ],
          "name": "stdout"
        }
      ]
    },
    {
      "cell_type": "code",
      "metadata": {
        "id": "1b0Xvj76TKus",
        "colab_type": "code",
        "colab": {
          "base_uri": "https://localhost:8080/",
          "height": 35
        },
        "outputId": "001bb2c3-cdd5-4e96-afcf-cf8524390bd1"
      },
      "source": [
        "# 매개변수가 있는 함수 (어떤 값을 전달하느냐에 따라 결과가 달라지기를 바랄 때)\n",
        "\n",
        "adult = 10000\n",
        "student = 8000\n",
        "\n",
        "def cal_total(x,y) :\n",
        "    total = adult*x + student*y\n",
        "    print('지불할 금액은', total, '원입니다.')\n",
        "\n",
        "cal_total(2,1)"
      ],
      "execution_count": null,
      "outputs": [
        {
          "output_type": "stream",
          "text": [
            "지불할 금액은 28000 원입니다.\n"
          ],
          "name": "stdout"
        }
      ]
    },
    {
      "cell_type": "code",
      "metadata": {
        "id": "Kp7OHXqR7-wn",
        "colab_type": "code",
        "colab": {
          "base_uri": "https://localhost:8080/",
          "height": 35
        },
        "outputId": "b25e17dd-89cf-4ee5-9209-11595efe9988"
      },
      "source": [
        "# 리턴값이 있는 함수 (함수 실행을 통해 얻은 결과값을 활용하고 싶을 때)\n",
        "\n",
        "def cal_cost(x,y) :\n",
        "    total = adult*x + student*y\n",
        "    return total\n",
        "\n",
        "money = 50000\n",
        "pay = cal_cost(2,1)*0.8\n",
        "left = money - pay\n",
        "\n",
        "print(left)"
      ],
      "execution_count": null,
      "outputs": [
        {
          "output_type": "stream",
          "text": [
            "27600.0\n"
          ],
          "name": "stdout"
        }
      ]
    },
    {
      "cell_type": "code",
      "metadata": {
        "id": "nG-Mt3V1FBAJ",
        "colab_type": "code",
        "colab": {
          "base_uri": "https://localhost:8080/",
          "height": 35
        },
        "outputId": "dc479c27-acca-43ec-943c-3234f5f3f310"
      },
      "source": [
        "# 파이썬에서는 여러 개의 리턴값을 한 번에 받을 수 있음 \n",
        "\n",
        "def calculate(x,y) :\n",
        "    result1 = x+y\n",
        "    result2 = x-y\n",
        "    return result1, result2\n",
        "\n",
        "sum, difference = calculate(5, 3)\n",
        "\n",
        "print(sum, difference)"
      ],
      "execution_count": null,
      "outputs": [
        {
          "output_type": "stream",
          "text": [
            "8 2\n"
          ],
          "name": "stdout"
        }
      ]
    },
    {
      "cell_type": "markdown",
      "metadata": {
        "id": "F-t3cigHzrDg",
        "colab_type": "text"
      },
      "source": [
        "# **지역변수 전역변수**"
      ]
    },
    {
      "cell_type": "code",
      "metadata": {
        "id": "zwPPyjwvNung",
        "colab_type": "code",
        "colab": {
          "base_uri": "https://localhost:8080/",
          "height": 54
        },
        "outputId": "75af81d1-9800-4c2d-f5ad-0c51fa302625"
      },
      "source": [
        "# 함수 밖에서 만들어진 변수에 접근(읽기) 가능\n",
        "\n",
        "a = 5\n",
        "\n",
        "def read() :\n",
        "    print(a)\n",
        "    b = a+5\n",
        "    print(b)\n",
        "\n",
        "read()"
      ],
      "execution_count": null,
      "outputs": [
        {
          "output_type": "stream",
          "text": [
            "5\n",
            "10\n"
          ],
          "name": "stdout"
        }
      ]
    },
    {
      "cell_type": "code",
      "metadata": {
        "id": "ESuONHSigITK",
        "colab_type": "code",
        "colab": {
          "base_uri": "https://localhost:8080/",
          "height": 35
        },
        "outputId": "4137c093-5c86-4962-b31d-4765605677da"
      },
      "source": [
        "# 함수 내에서 [변수명 = 값] => 함수 내에서만 사용 가능한 새로운 변수 생성\n",
        "\n",
        "def change() :\n",
        "    a = 10\n",
        "    print(a)\n",
        "\n",
        "change()"
      ],
      "execution_count": null,
      "outputs": [
        {
          "output_type": "stream",
          "text": [
            "10\n"
          ],
          "name": "stdout"
        }
      ]
    },
    {
      "cell_type": "code",
      "metadata": {
        "id": "m_GmimlATf5M",
        "colab_type": "code",
        "colab": {}
      },
      "source": [
        "print(a)"
      ],
      "execution_count": null,
      "outputs": []
    },
    {
      "cell_type": "code",
      "metadata": {
        "id": "hcPMuTgak5w3",
        "colab_type": "code",
        "colab": {
          "base_uri": "https://localhost:8080/",
          "height": 35
        },
        "outputId": "67cec119-c706-46c0-8d1e-78746172ac90"
      },
      "source": [
        "# 변수를 공동으로 사용(읽기+쓰기)하고자 할 경우, 전역변수임을 명시\n",
        "\n",
        "def change2() :\n",
        "    global a\n",
        "    a = 10\n",
        "    print(a)\n",
        "\n",
        "change2()"
      ],
      "execution_count": null,
      "outputs": [
        {
          "output_type": "stream",
          "text": [
            "10\n"
          ],
          "name": "stdout"
        }
      ]
    },
    {
      "cell_type": "code",
      "metadata": {
        "id": "cKNkKofETkXS",
        "colab_type": "code",
        "colab": {}
      },
      "source": [
        "print(a)"
      ],
      "execution_count": null,
      "outputs": []
    },
    {
      "cell_type": "code",
      "metadata": {
        "id": "0F-YPkpSmJ_b",
        "colab_type": "code",
        "colab": {
          "base_uri": "https://localhost:8080/",
          "height": 35
        },
        "outputId": "01b52dae-46df-4de2-cbcf-be305681d8bf"
      },
      "source": [
        "# 함수 밖에 없는 변수도 전역변수로 지정 가능\n",
        "\n",
        "def change3() :\n",
        "    global b\n",
        "    b = 0\n",
        "    print(b)\n",
        "\n",
        "change3()"
      ],
      "execution_count": null,
      "outputs": [
        {
          "output_type": "stream",
          "text": [
            "0\n"
          ],
          "name": "stdout"
        }
      ]
    },
    {
      "cell_type": "code",
      "metadata": {
        "id": "ZRCRLJKVmsl1",
        "colab_type": "code",
        "colab": {
          "base_uri": "https://localhost:8080/",
          "height": 35
        },
        "outputId": "0b14cf41-5840-4822-df03-0e71d2cca4cd"
      },
      "source": [
        "b = b+3\n",
        "\n",
        "print(b)"
      ],
      "execution_count": null,
      "outputs": [
        {
          "output_type": "stream",
          "text": [
            "3\n"
          ],
          "name": "stdout"
        }
      ]
    },
    {
      "cell_type": "code",
      "metadata": {
        "id": "MCDEQNk6oO-F",
        "colab_type": "code",
        "colab": {
          "base_uri": "https://localhost:8080/",
          "height": 35
        },
        "outputId": "cf5ce50e-36ca-4025-e532-480b34533bde"
      },
      "source": [
        "# 다른 함수에서 생성된 전역변수 사용(읽기+쓰기)\n",
        "\n",
        "def change4() :\n",
        "    global b\n",
        "    b = b+100\n",
        "    print(b)\n",
        "\n",
        "change4()"
      ],
      "execution_count": null,
      "outputs": [
        {
          "output_type": "stream",
          "text": [
            "103\n"
          ],
          "name": "stdout"
        }
      ]
    },
    {
      "cell_type": "code",
      "metadata": {
        "id": "zkSSsf9ijztj",
        "colab_type": "code",
        "colab": {
          "base_uri": "https://localhost:8080/",
          "height": 35
        },
        "outputId": "a63a88b4-780b-46d9-8e58-42ae75607d5e"
      },
      "source": [
        "print(b)"
      ],
      "execution_count": null,
      "outputs": [
        {
          "output_type": "stream",
          "text": [
            "105\n"
          ],
          "name": "stdout"
        }
      ]
    },
    {
      "cell_type": "code",
      "metadata": {
        "id": "7uXlWqkmktTX",
        "colab_type": "code",
        "colab": {
          "base_uri": "https://localhost:8080/",
          "height": 54
        },
        "outputId": "2f97df25-f8ba-4011-fa47-033444154a20"
      },
      "source": [
        "# 리스트 타입 : 함수 내에서 [변수명 = 값] => 함수 내에서만 사용 가능한 새로운 변수 생성  \n",
        "\n",
        "data = [4,5,6]\n",
        "\n",
        "def change5() :\n",
        "    data = [1,2,3]\n",
        "    print(data)\n",
        "\n",
        "change5()\n",
        "print(data)"
      ],
      "execution_count": null,
      "outputs": [
        {
          "output_type": "stream",
          "text": [
            "[1, 2, 3]\n",
            "[4, 5, 6]\n"
          ],
          "name": "stdout"
        }
      ]
    },
    {
      "cell_type": "code",
      "metadata": {
        "id": "6deir3zozE-7",
        "colab_type": "code",
        "colab": {
          "base_uri": "https://localhost:8080/",
          "height": 54
        },
        "outputId": "3b577a37-61b5-4bd8-c81b-c49d8821d916"
      },
      "source": [
        "# 리스트 타입 : 변수를 공동으로 사용하고자 할 경우, 전역변수임을 명시  \n",
        "\n",
        "def change6() :\n",
        "    global data\n",
        "    data = [1,2,3]\n",
        "    print(data)\n",
        "\n",
        "change6()\n",
        "print(data)"
      ],
      "execution_count": null,
      "outputs": [
        {
          "output_type": "stream",
          "text": [
            "[1, 2, 3]\n",
            "[1, 2, 3]\n"
          ],
          "name": "stdout"
        }
      ]
    },
    {
      "cell_type": "code",
      "metadata": {
        "id": "UHr3c-TAqYwS",
        "colab_type": "code",
        "colab": {
          "base_uri": "https://localhost:8080/",
          "height": 35
        },
        "outputId": "fbde71c5-b53b-48f5-92ae-0dee01abe68f"
      },
      "source": [
        "# 리스트 타입 : [변수명 = 값]이 아닌 다른 형태로는 수정 가능\n",
        "\n",
        "def change7() :\n",
        "    data.append(4)\n",
        "    data[0] = 0\n",
        "\n",
        "change7()\n",
        "print(data)"
      ],
      "execution_count": null,
      "outputs": [
        {
          "output_type": "stream",
          "text": [
            "[0, 2, 3, 4]\n"
          ],
          "name": "stdout"
        }
      ]
    }
  ]
}