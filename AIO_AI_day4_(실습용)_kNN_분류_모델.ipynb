{
  "nbformat": 4,
  "nbformat_minor": 0,
  "metadata": {
    "colab": {
      "name": "AIO_AI_day4_(실습용)_kNN 분류 모델.ipynb",
      "provenance": [],
      "collapsed_sections": [],
      "include_colab_link": true
    },
    "kernelspec": {
      "name": "python3",
      "display_name": "Python 3"
    }
  },
  "cells": [
    {
      "cell_type": "markdown",
      "metadata": {
        "id": "view-in-github",
        "colab_type": "text"
      },
      "source": [
        "<a href=\"https://colab.research.google.com/github/Ahnjihye/allinone_AI/blob/master/AIO_AI_day4_(%EC%8B%A4%EC%8A%B5%EC%9A%A9)_kNN_%EB%B6%84%EB%A5%98_%EB%AA%A8%EB%8D%B8.ipynb\" target=\"_parent\"><img src=\"https://colab.research.google.com/assets/colab-badge.svg\" alt=\"Open In Colab\"/></a>"
      ]
    },
    {
      "cell_type": "markdown",
      "metadata": {
        "id": "DI3NRjHv30u2",
        "colab_type": "text"
      },
      "source": [
        "# **1. 데이터 불러오고 확인해보기**"
      ]
    },
    {
      "cell_type": "code",
      "metadata": {
        "id": "ctqTtkqMGzkr",
        "colab_type": "code",
        "colab": {}
      },
      "source": [
        "# 방법1) 내 PC에 있는 파일 불러오기\n",
        " \n",
        "#from google.colab import files\n",
        "#uploaded = files.upload()"
      ],
      "execution_count": null,
      "outputs": []
    },
    {
      "cell_type": "code",
      "metadata": {
        "id": "M9Am3sfftHMk",
        "colab_type": "code",
        "colab": {}
      },
      "source": [
        "# 방법2) 깃허브에 있는 파일 불러오기\n",
        "\n"
      ],
      "execution_count": null,
      "outputs": []
    },
    {
      "cell_type": "code",
      "metadata": {
        "id": "D9794Z1WIVU5",
        "colab_type": "code",
        "colab": {}
      },
      "source": [
        "import csv \n",
        " \n",
        "f = open('파일이름.csv')     # 파일 오픈\n",
        "data = csv.reader(f)         # 파일 읽기\n",
        "next(data)                   # 파일 헤더 건너뛰기 \n",
        "data = list(data)            # 파일 리스트로 바꾸기\n"
      ],
      "execution_count": null,
      "outputs": []
    },
    {
      "cell_type": "code",
      "metadata": {
        "id": "9JzT3OG9_0nL",
        "colab_type": "code",
        "colab": {}
      },
      "source": [
        "# 확인용\n"
      ],
      "execution_count": null,
      "outputs": []
    },
    {
      "cell_type": "code",
      "metadata": {
        "id": "PFD8vRHl0fb0",
        "colab_type": "code",
        "colab": {}
      },
      "source": [
        "# 꽃받침 길이/넓이 => 숫자(실수)로 변경\n",
        "\n",
        "\n",
        "\n",
        "# 확인용\n"
      ],
      "execution_count": null,
      "outputs": []
    },
    {
      "cell_type": "code",
      "metadata": {
        "id": "sfAf2sTPRQxG",
        "colab_type": "code",
        "colab": {}
      },
      "source": [
        "# 함수 만들기(새로운 데이터를 입력하면 기존 데이터와 함께 시각화해주는 함수)\n",
        "\n",
        "import matplotlib.pyplot as plt\n",
        "\n"
      ],
      "execution_count": null,
      "outputs": []
    },
    {
      "cell_type": "code",
      "metadata": {
        "id": "IJFE1uUl8d6n",
        "colab_type": "code",
        "colab": {}
      },
      "source": [
        "# [단계0] 데이터 분포를 확인하기 위한 시각화\n",
        "\n"
      ],
      "execution_count": null,
      "outputs": []
    },
    {
      "cell_type": "markdown",
      "metadata": {
        "id": "vuod22wV3-ih",
        "colab_type": "text"
      },
      "source": [
        "# **2. kNN 알고리즘에 따라 구현해보기 (단계별)**"
      ]
    },
    {
      "cell_type": "code",
      "metadata": {
        "id": "SrXLgb6qP71_",
        "colab_type": "code",
        "colab": {}
      },
      "source": [
        "# 함수 만들기(두 점을 입력하면 거리를 리턴해주는 함수)\n",
        "\n"
      ],
      "execution_count": null,
      "outputs": []
    },
    {
      "cell_type": "code",
      "metadata": {
        "id": "2KhCYTm8RYFr",
        "colab_type": "code",
        "colab": {}
      },
      "source": [
        "# 확인용\n"
      ],
      "execution_count": null,
      "outputs": []
    },
    {
      "cell_type": "code",
      "metadata": {
        "id": "LzCsp3walAhv",
        "colab_type": "code",
        "colab": {}
      },
      "source": [
        "# [단계1] 새로운 데이터와 기존 데이터 사이의 거리를 각각 구해서 저장\n",
        "\n"
      ],
      "execution_count": null,
      "outputs": []
    },
    {
      "cell_type": "code",
      "metadata": {
        "id": "dBubBLPP5B3k",
        "colab_type": "code",
        "colab": {}
      },
      "source": [
        "# 확인용\n"
      ],
      "execution_count": null,
      "outputs": []
    },
    {
      "cell_type": "code",
      "metadata": {
        "id": "xfFJxlrb5-5b",
        "colab_type": "code",
        "colab": {}
      },
      "source": [
        "# [단계2] 거리가 가까운 순으로 기존 데이터 정렬\n",
        "\n",
        "import operator\n",
        "\n"
      ],
      "execution_count": null,
      "outputs": []
    },
    {
      "cell_type": "code",
      "metadata": {
        "id": "iPmFm6ZX7Xxa",
        "colab_type": "code",
        "colab": {}
      },
      "source": [
        "# 확인용\n"
      ],
      "execution_count": null,
      "outputs": []
    },
    {
      "cell_type": "code",
      "metadata": {
        "id": "r1mFxCCTP9xg",
        "colab_type": "code",
        "colab": {}
      },
      "source": [
        "# 함수 만들기(k개의 이웃을 살펴본 뒤, 더 많은 수의 이웃이 속한 카테고리로 분류해주는 함수)\n",
        "\n"
      ],
      "execution_count": null,
      "outputs": []
    },
    {
      "cell_type": "code",
      "metadata": {
        "id": "btfzIEd969Ca",
        "colab_type": "code",
        "colab": {}
      },
      "source": [
        ""
      ],
      "execution_count": null,
      "outputs": []
    },
    {
      "cell_type": "markdown",
      "metadata": {
        "id": "8zEzBdB3b2LI",
        "colab_type": "text"
      },
      "source": [
        "# **3. 위 과정을 종합하여 kNN 함수로 만들기**"
      ]
    },
    {
      "cell_type": "code",
      "metadata": {
        "id": "hR5cURcK8v__",
        "colab_type": "code",
        "colab": {}
      },
      "source": [
        "# 함수 만들기(새로운 데이터와 k값을 입력하면 kNN알고리즘으로 분류해주는 함수)\n",
        "\n"
      ],
      "execution_count": null,
      "outputs": []
    },
    {
      "cell_type": "code",
      "metadata": {
        "id": "l8aIszBl_vKb",
        "colab_type": "code",
        "colab": {}
      },
      "source": [
        "# 최종 확인\n",
        "\n"
      ],
      "execution_count": null,
      "outputs": []
    },
    {
      "cell_type": "markdown",
      "metadata": {
        "id": "mHOSG8H6AYMQ",
        "colab_type": "text"
      },
      "source": [
        "# **4. 사이킷런 라이브러리를 활용한 kNN**"
      ]
    },
    {
      "cell_type": "code",
      "metadata": {
        "id": "3IThm96TAccS",
        "colab_type": "code",
        "colab": {}
      },
      "source": [
        "# 사이킷런 라이브러리에서 붓꽃 데이터 불러오기\n",
        "\n",
        "from sklearn.datasets import load_iris\n",
        "\n"
      ],
      "execution_count": null,
      "outputs": []
    },
    {
      "cell_type": "code",
      "metadata": {
        "id": "Ajs_WUtdTu-d",
        "colab_type": "code",
        "colab": {}
      },
      "source": [
        "# 붓꽃 데이터의 구성 요소 살펴보기\n",
        "\n"
      ],
      "execution_count": null,
      "outputs": []
    },
    {
      "cell_type": "code",
      "metadata": {
        "id": "2ZRSoN30Ameh",
        "colab_type": "code",
        "colab": {}
      },
      "source": [
        "# 붓꽃 데이터에 대한 설명 살펴보기\n",
        "\n"
      ],
      "execution_count": null,
      "outputs": []
    },
    {
      "cell_type": "code",
      "metadata": {
        "id": "Z2dwpcBKA4KS",
        "colab_type": "code",
        "colab": {}
      },
      "source": [
        "# 붓꽃을 종류를 구분하는 속성 이름 살펴보기\n",
        "\n"
      ],
      "execution_count": null,
      "outputs": []
    },
    {
      "cell_type": "code",
      "metadata": {
        "id": "omrc2bSGA9oi",
        "colab_type": "code",
        "colab": {}
      },
      "source": [
        "# 각 샘플의 속성값 살펴보기 \n",
        "\n"
      ],
      "execution_count": null,
      "outputs": []
    },
    {
      "cell_type": "code",
      "metadata": {
        "id": "jk-GJYdtA8IB",
        "colab_type": "code",
        "colab": {}
      },
      "source": [
        "# 붓꽃의 품종 이름 살펴보기\n",
        "\n"
      ],
      "execution_count": null,
      "outputs": []
    },
    {
      "cell_type": "code",
      "metadata": {
        "id": "74yQkxUKA-fS",
        "colab_type": "code",
        "colab": {}
      },
      "source": [
        "# 각 샘플이 어떤 품종인지 살펴보기\n",
        "\n"
      ],
      "execution_count": null,
      "outputs": []
    },
    {
      "cell_type": "code",
      "metadata": {
        "id": "CD0YYDl_BfIK",
        "colab_type": "code",
        "colab": {}
      },
      "source": [
        "# 학습을 위해 사용할 데이터 지정\n",
        "\n"
      ],
      "execution_count": null,
      "outputs": []
    },
    {
      "cell_type": "code",
      "metadata": {
        "id": "qEgk4a-bBoUR",
        "colab_type": "code",
        "colab": {}
      },
      "source": [
        "# kNN 알고리즘으로 학습 진행\n",
        "\n",
        "from sklearn.neighbors import KNeighborsClassifier\n"
      ],
      "execution_count": null,
      "outputs": []
    },
    {
      "cell_type": "code",
      "metadata": {
        "id": "Zfk8SRveCA8r",
        "colab_type": "code",
        "colab": {}
      },
      "source": [
        "# 새로운 데이터 분류해보기\n",
        "\n"
      ],
      "execution_count": null,
      "outputs": []
    },
    {
      "cell_type": "code",
      "metadata": {
        "id": "ci1Z1DdVBr3p",
        "colab_type": "code",
        "colab": {}
      },
      "source": [
        "# 모델의 성능 평가(정확도 측정)\n",
        "\n",
        "from sklearn import metrics\n",
        "\n"
      ],
      "execution_count": null,
      "outputs": []
    }
  ]
}