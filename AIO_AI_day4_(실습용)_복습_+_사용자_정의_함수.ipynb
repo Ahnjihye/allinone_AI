{
  "nbformat": 4,
  "nbformat_minor": 0,
  "metadata": {
    "colab": {
      "name": "AIO_AI_day4_(실습용)_복습 + 사용자 정의 함수.ipynb",
      "provenance": [],
      "collapsed_sections": [],
      "include_colab_link": true
    },
    "kernelspec": {
      "name": "python3",
      "display_name": "Python 3"
    }
  },
  "cells": [
    {
      "cell_type": "markdown",
      "metadata": {
        "id": "view-in-github",
        "colab_type": "text"
      },
      "source": [
        "<a href=\"https://colab.research.google.com/github/Ahnjihye/allinone_AI/blob/master/AIO_AI_day4_(%EC%8B%A4%EC%8A%B5%EC%9A%A9)_%EB%B3%B5%EC%8A%B5_%2B_%EC%82%AC%EC%9A%A9%EC%9E%90_%EC%A0%95%EC%9D%98_%ED%95%A8%EC%88%98.ipynb\" target=\"_parent\"><img src=\"https://colab.research.google.com/assets/colab-badge.svg\" alt=\"Open In Colab\"/></a>"
      ]
    },
    {
      "cell_type": "markdown",
      "metadata": {
        "id": "bi4PMnN_vOrV",
        "colab_type": "text"
      },
      "source": [
        "# **복습**"
      ]
    },
    {
      "cell_type": "code",
      "metadata": {
        "id": "9vhXjaW63j-M",
        "colab_type": "code",
        "colab": {}
      },
      "source": [
        "# 리스트 슬라이싱\n",
        "\n",
        "data = [10, 20, 30, 40, 50]\n",
        "\n"
      ],
      "execution_count": null,
      "outputs": []
    },
    {
      "cell_type": "code",
      "metadata": {
        "id": "ywwvka9Q2TcK",
        "colab_type": "code",
        "colab": {}
      },
      "source": [
        "# 리스트에 데이터 추가\n",
        "\n",
        "data = [1,2,3]\n",
        "\n"
      ],
      "execution_count": null,
      "outputs": []
    },
    {
      "cell_type": "code",
      "metadata": {
        "id": "cMLxSY0hsQxu",
        "colab_type": "code",
        "colab": {}
      },
      "source": [
        "# 2차원리스트를 구성하는 각각의 1차원리스트에 접근 (데이터 추가)\n",
        "\n",
        "data = [[1,1], [2,2], [3,3]]\n",
        "\n"
      ],
      "execution_count": null,
      "outputs": []
    },
    {
      "cell_type": "code",
      "metadata": {
        "id": "eZSl_wqsupjO",
        "colab_type": "code",
        "colab": {}
      },
      "source": [
        "# 2차원리스트를 구성하는 각각의 1차원리스트에 접근 (데이터 변경)\n",
        "\n"
      ],
      "execution_count": null,
      "outputs": []
    },
    {
      "cell_type": "code",
      "metadata": {
        "id": "Jn8WNFkltfhD",
        "colab_type": "code",
        "colab": {}
      },
      "source": [
        "# 리스트 정렬\n",
        "\n",
        "data = [[7,2], [4,8], [1,5], [9,4], [2,7]]\n",
        "\n"
      ],
      "execution_count": null,
      "outputs": []
    },
    {
      "cell_type": "code",
      "metadata": {
        "id": "pFPAhcdHt2GT",
        "colab_type": "code",
        "colab": {}
      },
      "source": [
        "# 원하는 기준으로 리스트 정렬\n",
        "\n",
        "import operator\n",
        "\n"
      ],
      "execution_count": null,
      "outputs": []
    },
    {
      "cell_type": "code",
      "metadata": {
        "id": "d4h3BPwvvfGw",
        "colab_type": "code",
        "colab": {}
      },
      "source": [
        "# 데이터 시각화 (산점도 그리기)\n",
        "\n",
        "import matplotlib.pyplot as plt\n",
        "\n",
        "X = [2, 4, 6, 8, 10]\n",
        "Y = [6, 4, 8, 2, 3]\n",
        "\n"
      ],
      "execution_count": null,
      "outputs": []
    },
    {
      "cell_type": "code",
      "metadata": {
        "id": "Y8tuZlDV5Jfj",
        "colab_type": "code",
        "colab": {}
      },
      "source": [
        "data = [[2, 6], [4, 4], [6, 8], [8, 2], [10,3]]\n",
        "\n"
      ],
      "execution_count": null,
      "outputs": []
    },
    {
      "cell_type": "markdown",
      "metadata": {
        "id": "LXWMVTZdvJn6",
        "colab_type": "text"
      },
      "source": [
        "# **사용자 정의 함수**"
      ]
    },
    {
      "cell_type": "code",
      "metadata": {
        "id": "P5pp2mHfTjP9",
        "colab_type": "code",
        "colab": {}
      },
      "source": [
        "# 간단한 함수\n",
        "\n"
      ],
      "execution_count": null,
      "outputs": []
    },
    {
      "cell_type": "code",
      "metadata": {
        "id": "1b0Xvj76TKus",
        "colab_type": "code",
        "colab": {}
      },
      "source": [
        "# 매개변수가 있는 함수 (어떤 값을 전달하느냐에 따라 결과가 달라지기를 바랄 때)\n",
        "\n",
        "adult = 10000\n",
        "student = 8000\n",
        "\n",
        "\n"
      ],
      "execution_count": null,
      "outputs": []
    },
    {
      "cell_type": "code",
      "metadata": {
        "id": "Kp7OHXqR7-wn",
        "colab_type": "code",
        "colab": {}
      },
      "source": [
        "# 리턴값이 있는 함수 (함수 실행을 통해 얻은 결과값을 활용하고 싶을 때)\n",
        "\n",
        "\n"
      ],
      "execution_count": null,
      "outputs": []
    },
    {
      "cell_type": "code",
      "metadata": {
        "id": "nG-Mt3V1FBAJ",
        "colab_type": "code",
        "colab": {}
      },
      "source": [
        "# 파이썬에서는 여러 개의 리턴값을 한 번에 받을 수 있음 \n",
        "\n",
        "\n"
      ],
      "execution_count": null,
      "outputs": []
    },
    {
      "cell_type": "markdown",
      "metadata": {
        "id": "F-t3cigHzrDg",
        "colab_type": "text"
      },
      "source": [
        "# **기타**"
      ]
    },
    {
      "cell_type": "code",
      "metadata": {
        "id": "NkPuouzFmdEc",
        "colab_type": "code",
        "colab": {}
      },
      "source": [
        "# 리스트 변수 append할 때 주의할 점\n",
        "\n",
        "data = [0, 1, 2, 3]\n",
        "\n",
        "def add_5th() :\n",
        "    data.append(4)\n",
        "    print(data)\n"
      ],
      "execution_count": null,
      "outputs": []
    },
    {
      "cell_type": "code",
      "metadata": {
        "id": "0a2ePvrZbZwu",
        "colab_type": "code",
        "colab": {}
      },
      "source": [
        "def add_5th() :\n",
        "    data.append(4)\n",
        "    print(data)"
      ],
      "execution_count": null,
      "outputs": []
    },
    {
      "cell_type": "code",
      "metadata": {
        "id": "aQSUE-aAbYN2",
        "colab_type": "code",
        "colab": {}
      },
      "source": [
        "# 리스트 내 값을 랜덤으로 뽑아내기\n",
        "\n",
        "\n",
        "\n",
        "data1 = [1, 2, 3, 4, 5]\n",
        "data2 = [[6,1], [2,5], [4,4], [8,7], [9,3]]\n",
        "\n"
      ],
      "execution_count": null,
      "outputs": []
    }
  ]
}