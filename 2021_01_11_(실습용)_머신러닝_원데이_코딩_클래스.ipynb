{
  "nbformat": 4,
  "nbformat_minor": 0,
  "metadata": {
    "colab": {
      "name": "2021-01-11_(실습용)_머신러닝 원데이 코딩 클래스.ipynb",
      "provenance": [],
      "collapsed_sections": [],
      "authorship_tag": "ABX9TyNxBxc1SXehe3lxrQ7FhILN",
      "include_colab_link": true
    },
    "kernelspec": {
      "name": "python3",
      "display_name": "Python 3"
    }
  },
  "cells": [
    {
      "cell_type": "markdown",
      "metadata": {
        "id": "view-in-github",
        "colab_type": "text"
      },
      "source": [
        "<a href=\"https://colab.research.google.com/github/Ahnjihye/allinone_AI/blob/students-oneday-class/2021_01_11_(%EC%8B%A4%EC%8A%B5%EC%9A%A9)_%EB%A8%B8%EC%8B%A0%EB%9F%AC%EB%8B%9D_%EC%9B%90%EB%8D%B0%EC%9D%B4_%EC%BD%94%EB%94%A9_%ED%81%B4%EB%9E%98%EC%8A%A4.ipynb\" target=\"_parent\"><img src=\"https://colab.research.google.com/assets/colab-badge.svg\" alt=\"Open In Colab\"/></a>"
      ]
    },
    {
      "cell_type": "markdown",
      "metadata": {
        "id": "VBPcWsXv-BDt"
      },
      "source": [
        "# 1. 간단 복습"
      ]
    },
    {
      "cell_type": "markdown",
      "metadata": {
        "id": "f_d5-SAtUoVr"
      },
      "source": [
        "#### 1-1. 리스트\r\n",
        "\r\n",
        "<img src='https://github.com/Ahnjihye/allinone_AI/blob/images/6_%EB%A6%AC%EC%8A%A4%ED%8A%B8%EA%B0%9C%EB%85%90.png?raw=true' width=600>\r\n",
        "\r\n",
        "```\r\n",
        "리스트 여러 데이터를 한 번에 묶어서 표현\r\n",
        "리스트이름 = [데이터1, 데이터2, ..., 데이터n]\r\n",
        "```\r\n",
        "<img src ='https://github.com/Ahnjihye/allinone_AI/blob/images/7_%EB%A6%AC%EC%8A%A4%ED%8A%B8%EC%9D%B8%EB%8D%B1%EC%8A%A4.png?raw=true' width =700>\r\n"
      ]
    },
    {
      "cell_type": "code",
      "metadata": {
        "id": "ciJjREEW-Dds"
      },
      "source": [
        "# 리스트 \r\n",
        "\r\n",
        "\r\n",
        "# 1월 지출은?\r\n",
        "\r\n",
        "\r\n",
        "# 6월 지출은?\r\n",
        "\r\n"
      ],
      "execution_count": null,
      "outputs": []
    },
    {
      "cell_type": "code",
      "metadata": {
        "id": "PHw5NeeG-DbU"
      },
      "source": [
        "# 리스트와 반복문 \r\n",
        "\r\n"
      ],
      "execution_count": null,
      "outputs": []
    },
    {
      "cell_type": "markdown",
      "metadata": {
        "id": "LXmlTWr4UIaj"
      },
      "source": [
        "#### 2-2. 이차원 리스트\r\n",
        "\r\n",
        "<img src= 'https://github.com/Ahnjihye/allinone_AI/blob/images/17_%EC%98%AC%EB%A6%BC%ED%94%BD.png?raw=true' width=500>\r\n",
        "\r\n",
        "\r\n",
        "\r\n",
        "```\r\n",
        "olympic =[\r\n",
        "          [1,'미국',46,37,38,121],\r\n",
        "          [2,'영국',27,23,17,67],\r\n",
        "          [3,'중국',26,18,26,70],\r\n",
        "          [4,'러시아',19,18,19,56],\r\n",
        "          [5,'독일',17,10,15,42],\r\n",
        "          [6,'일본',12,8,21,41],\r\n",
        "          [7,'프랑스',10,18,14,42],\r\n",
        "          [8,'대한민국',9,3,9,21] \r\n",
        "        ]\r\n",
        "```\r\n",
        "\r\n"
      ]
    },
    {
      "cell_type": "code",
      "metadata": {
        "id": "Fcu3zsLqUEiv"
      },
      "source": [
        "# 순위권에 든 모든 국가를 출력하시오\r\n",
        "\r\n"
      ],
      "execution_count": null,
      "outputs": []
    },
    {
      "cell_type": "code",
      "metadata": {
        "id": "NaSgCrW59wBw"
      },
      "source": [
        "# 리스트와 조건문 \r\n",
        "# 금메달보다 동메달 개수가 많은 나라를 출력하시오\r\n",
        "\r\n"
      ],
      "execution_count": null,
      "outputs": []
    },
    {
      "cell_type": "markdown",
      "metadata": {
        "id": "A9LD5PW_12OW"
      },
      "source": [
        "### 코랩에서 한글 폰트 설정\n",
        "1) 한글 폰트 코드 실행 \n",
        "\n",
        "2) 런타임 - 런타임 다시시작 \n",
        "\n",
        "3) 다시 한글폰트 실행\n",
        "\n",
        "\n",
        "\n",
        "```\n",
        "# 한글 폰트 설정\n",
        "import matplotlib as mpl\n",
        "import matplotlib.pyplot as plt\n",
        " \n",
        "%config InlineBackend.figure_format = 'retina'\n",
        " \n",
        "!apt -qq -y install fonts-nanum\n",
        " \n",
        "import matplotlib.font_manager as fm\n",
        "fontpath = '/usr/share/fonts/truetype/nanum/NanumBarunGothic.ttf'\n",
        "font = fm.FontProperties(fname=fontpath, size=9)\n",
        "plt.rc('font', family='NanumGothic') \n",
        "mpl.font_manager._rebuild()\n",
        "```\n",
        "\n"
      ]
    },
    {
      "cell_type": "code",
      "metadata": {
        "id": "z_Sl3Cpo1Zgn"
      },
      "source": [
        "# 한글 폰트 설정\n",
        "\n"
      ],
      "execution_count": null,
      "outputs": []
    },
    {
      "cell_type": "code",
      "metadata": {
        "id": "ZHFEs85k-DgD"
      },
      "source": [
        "# 점 하나 찍기\r\n",
        "\r\n"
      ],
      "execution_count": null,
      "outputs": []
    },
    {
      "cell_type": "markdown",
      "metadata": {
        "id": "R3TlmrbHS5Z7"
      },
      "source": [
        "\r\n",
        "학생 10명의 (국어점수, 영어점수)\r\n",
        "```\r\n",
        "score = [[80, 90],\r\n",
        "         [20, 40],\r\n",
        "         [50, 60], \r\n",
        "         [20, 40],\r\n",
        "         [10, 10],\r\n",
        "         [50, 30], \r\n",
        "         [60, 50],\r\n",
        "         [30, 70],\r\n",
        "         [60, 90]]\r\n",
        "```\r\n",
        "\r\n"
      ]
    },
    {
      "cell_type": "code",
      "metadata": {
        "id": "MT-C6FIV-Diq"
      },
      "source": [
        "# 점 여러개 찍기\r\n",
        "\r\n"
      ],
      "execution_count": null,
      "outputs": []
    },
    {
      "cell_type": "code",
      "metadata": {
        "id": "i5qAp4CxTBEo"
      },
      "source": [
        "\r\n"
      ],
      "execution_count": null,
      "outputs": []
    },
    {
      "cell_type": "markdown",
      "metadata": {
        "id": "fzVEOux_-DrR"
      },
      "source": [
        "# 2. 인공지능 개요 \r\n"
      ]
    },
    {
      "cell_type": "markdown",
      "metadata": {
        "id": "Sx70VPsV5ze2"
      },
      "source": [
        "## 2-1. 인공지능이란? \n",
        " : 인간의 지능을 인공적으로 모방하는 총체\n",
        "\n",
        " <img src='https://miro.medium.com/max/1000/0*lOPl0881zcdhdHnl.png' width=700>\n",
        "\n",
        "\n",
        "\n",
        "> **인공지능(Artificial Intelligence)**\n",
        "\n",
        ": 가장 오래된 개념으로 인간의 지능을 컴퓨터 프로그램으로 구현해 인공적인 지능을 갖춘 컴퓨터 시스템이다.\n",
        "\n",
        "  * Q. 인공지능의 사례 ? 계산 기능을 모방한 계산기, 일정관리 앱, \n",
        "  * 또 다른 인공지능의 사례를 생각해봅시다\n",
        "\n",
        "<br/><br/>\n",
        "\n",
        "> **머신러닝 (Machine Learning)**\n",
        "\n",
        ": 말 그대로 기계(Machine)가 스스로 학습(Learning)을 하는 것으로 인간이 직접 지시를(프로그래밍) 하는 것이 아니고, 데이터와 원하는 결과 값을 주면 스스로 학습하여 조건을 찾는 것이다. 인간이 컴퓨터를 다루는 근본적인 개념을 바꾸었다는 측면에서 큰 의미를 지닌다.\n",
        "\n",
        "<img src='https://i0.wp.com/vinodsblog.com/wp-content/uploads/2018/11/Classification-vs-Regression.png?fit=2048%2C1158&ssl=1' width=600>\n",
        "\n",
        "--> [기존 프로그래밍과 인공지능의 차이](https://youtu.be/ZY6eBxyEOq0)\n",
        "\n",
        "<br/><br/>\n",
        "\n",
        "> **딥러닝(Deep Learning)**\n",
        "\n",
        ": 인간의 뇌 신경망을 모방한 인공 신경망의 한 종류로 예전부터 존재했으나, 근본적인 한계로 인해 사라질 뻔하다가 2000년대 들어 기존 한계를 극복할 알고리즘을 찾아 ‘딥러닝’이라는 새로운 이름으로 브랜딩 하였다. 근래 들어 축적된 막대한 데이터와 그래픽 처리 장치의 발전으로 정확도가 급격히 좋아져서 현재는 활발히 이용되고 있다.\n",
        "\n",
        "\n",
        "* 신경세포 뉴런\n",
        "\n",
        "<img src='https://thumbs.gfycat.com/BrightElatedAlbino-small.gif' width=400>\n",
        "\n",
        "* 서로 상호작용하는 뉴런\n",
        "\n",
        "<img src='https://media2.giphy.com/media/9N2UvCx7wXLnG/giphy.gif' width=600>\n",
        "\n",
        "* 뉴런을 모방한 인공신경망\n",
        "\n",
        "<img src='https://thumbs.gfycat.com/ActiveCourteousAmericanindianhorse-small.gif' width=600>\n",
        "\n"
      ]
    },
    {
      "cell_type": "markdown",
      "metadata": {
        "id": "CNzoB0jx_fs1"
      },
      "source": [
        "\n",
        "## 2-2. 머신러닝과 딥러닝의 차이\n",
        "\n",
        "<img src='https://blog.kakaocdn.net/dn/LYTie/btqDp12Zbvq/YyvsPGwZYfnvVcHfi9kTE0/img.jpg' width=600>\n",
        "\n",
        "<br/>      \n",
        "\n",
        "**정형데이터와 비정형데이터**\n",
        "아래 두 데이터 모두 과일을 나타내는 데이터이지만, 그 형태가 다르다!! <br/>\n",
        "[과일데이터1](https://www.kaggle.com/anandraos/fruit-data-with-colours) <br/>\n",
        "[과일데이터2](https://www.kaggle.com/moltean/fruits)\n",
        "\n",
        "\n",
        "<br/><br/>\n",
        "\n",
        "\n",
        "<img src='https://www.aitimes.kr/news/photo/201807/12087_12004_574.png' width=600>\n",
        "\n",
        "<br/><br/>\n",
        "\n",
        "<img src='https://kr.mathworks.com/solutions/image-video-processing/object-recognition/_jcr_content/mainParsys/band_copy_copy_14735_1351083864/mainParsys/columns_1606542234_c_508428977/2/image_copy_copy_copy.adapt.480.high.svg/1599565806635.svg' width=600>"
      ]
    },
    {
      "cell_type": "markdown",
      "metadata": {
        "id": "JBNUqSMwb3ko"
      },
      "source": [
        "## 2-3. 지도학습, 비지도학습\n",
        "\n",
        "<img src='https://nohjiho.github.io/images/ml/tensorflow/%EB%A8%B8%EC%8B%A0%EB%9F%AC%EB%8B%9D_%EC%9C%A0%ED%98%95.png' width=1000>"
      ]
    },
    {
      "cell_type": "markdown",
      "metadata": {
        "id": "Ch5yb_zj5zkd"
      },
      "source": [
        "## 2-4. 지도학습\n",
        "### 분류와 회귀\n",
        "  *  분류 : 서로 다른 대상을 구분하는 것 (결과값이 구분적인 값)\n",
        "  *  회귀 : 새로운 데이터의 예측값을 구하는 것 (결과값이 연속적인 값)\n",
        "\n",
        "<img src='https://i0.wp.com/vinodsblog.com/wp-content/uploads/2018/11/Classification-vs-Regression.png?fit=2048%2C1158&ssl=1' width=600>\n",
        "\n",
        "\n",
        "\n",
        "  * Q. 분류로 해결할 수 있는 문제에는 무엇이 있을까요?\n",
        "  * Q. 회귀로 해결할 수 있는 문제에는 무엇이 있을까요?"
      ]
    },
    {
      "cell_type": "markdown",
      "metadata": {
        "id": "vShc1XYcF_mD"
      },
      "source": [
        "# 3. 머신러닝 - 분류 "
      ]
    },
    {
      "cell_type": "markdown",
      "metadata": {
        "id": "7nAyihHAfoF_"
      },
      "source": [
        "* 꽃 사진을 찍어서 품종을 알려주는 다음 꽃검색 \n",
        "\n",
        "<img src='https://t1.daumcdn.net/cfile/tistory/991F18385BE2B58C25' width = 700>\n"
      ]
    },
    {
      "cell_type": "markdown",
      "metadata": {
        "id": "96ct-H4XhMyp"
      },
      "source": [
        "### 우리는 붓꽃의 품종을 구분해보자.\n",
        "<img src='https://miro.medium.com/max/1000/1*Hh53mOF4Xy4eORjLilKOwA.png' width=600>\n",
        "\n",
        "머신러닝 데이터가 많은 사이트 kaggle에서 붓꽃 데이터를 다운받아 실행해보기 \n",
        "\n",
        "\n",
        "\n",
        "https://www.kaggle.com/uciml/iris"
      ]
    },
    {
      "cell_type": "markdown",
      "metadata": {
        "id": "JAJJSr_hlw8t"
      },
      "source": [
        "#### 1) 데이터 업로드"
      ]
    },
    {
      "cell_type": "markdown",
      "metadata": {
        "id": "Eqm0-zJ019Y7"
      },
      "source": [
        "\n",
        "코랩에 파일 업로드하기\n",
        "\n",
        "```\n",
        "from google.colab import files\n",
        "uploaded = files.upload()\n",
        "```\n",
        "\n",
        "\n",
        "<br/>\n",
        "파일업로드 안되는 사람 - 데이터가 저장된 온라인 공간에서 바로 데이터 가져오기\n",
        "\n",
        "```\n",
        "! git clone https://github.com/Ahnjihye/allinone_AI.git\n",
        "\n",
        "import csv \n",
        " \n",
        "f = open('allinone_AI/Iris_2.csv')\n",
        "data = csv.reader(f)\n",
        "next(data)\n",
        "data = list(data)\n",
        "```\n",
        "\n",
        "\n",
        "\n"
      ]
    },
    {
      "cell_type": "code",
      "metadata": {
        "id": "6sCuvDuNeqpK"
      },
      "source": [
        "\n"
      ],
      "execution_count": null,
      "outputs": []
    },
    {
      "cell_type": "markdown",
      "metadata": {
        "id": "bm6Wjfhn2TeN"
      },
      "source": [
        "\n",
        "업로드된 데이터를 리스트로 변환하기\n",
        "```\n",
        "import csv \n",
        "\n",
        "f = open('파일명')\n",
        "data = csv.reader(f)\n",
        "next(data)\n",
        "data = list(data)\n",
        "\n",
        "```\n",
        "\n"
      ]
    },
    {
      "cell_type": "code",
      "metadata": {
        "id": "U1fnw_4Oeqrs"
      },
      "source": [
        "\n",
        "\n"
      ],
      "execution_count": null,
      "outputs": []
    },
    {
      "cell_type": "code",
      "metadata": {
        "id": "LrjQwd9qlSf8"
      },
      "source": [
        ""
      ],
      "execution_count": null,
      "outputs": []
    },
    {
      "cell_type": "code",
      "metadata": {
        "id": "u4Vks2TXlTdj"
      },
      "source": [
        ""
      ],
      "execution_count": null,
      "outputs": []
    },
    {
      "cell_type": "markdown",
      "metadata": {
        "id": "VxAq7BRzl15l"
      },
      "source": [
        "#### 2) csv 파일로 업로드하면 모두 문자로 인식. 문자로 저장된 숫자를 숫자 타입으로 변경해주기"
      ]
    },
    {
      "cell_type": "code",
      "metadata": {
        "id": "Di_raDMrlUyI"
      },
      "source": [
        "\n"
      ],
      "execution_count": null,
      "outputs": []
    },
    {
      "cell_type": "markdown",
      "metadata": {
        "id": "VJimd79qmCsc"
      },
      "source": [
        "#### 3) x축이 꽃받침길이, y축이 꽃받침너비인 산점도 그려보기"
      ]
    },
    {
      "cell_type": "markdown",
      "metadata": {
        "id": "ro_qgnDUmTc8"
      },
      "source": [
        "plt.scatter(x좌표, y좌표, color = )는 점 한 개를 찍는 것\n",
        "\n",
        "여러 개의 점을 150번 반복해서 찍어보기 "
      ]
    },
    {
      "cell_type": "code",
      "metadata": {
        "id": "_iYr6ahLj5S-"
      },
      "source": [
        "\n"
      ],
      "execution_count": null,
      "outputs": []
    },
    {
      "cell_type": "markdown",
      "metadata": {
        "id": "oACtGR4imtlC"
      },
      "source": [
        "#### 4) 품종별로 색상을 구분하여 찍어보자 \n",
        "\n",
        "\n",
        "*   setosa는 indigo 색상\n",
        "*   versicolor는 crimson 색상\n",
        "*   virginica는 limegreen 색상\n",
        "\n"
      ]
    },
    {
      "cell_type": "code",
      "metadata": {
        "id": "NoZzGv0BkFlO"
      },
      "source": [
        "# 점 하나 찍을 때마다 품종을 구분하여 찍기\n",
        "\n"
      ],
      "execution_count": null,
      "outputs": []
    },
    {
      "cell_type": "markdown",
      "metadata": {
        "id": "1f0tpi1Iny69"
      },
      "source": [
        "#### Q. 위 그래프는 붓꽃 품종 세 개를 잘 구분하나요? \n",
        "\n",
        "#### 그렇다면 그 이유는 무엇인지, 그렇지 않다면 그 이유는 무엇인가요?\n"
      ]
    },
    {
      "cell_type": "markdown",
      "metadata": {
        "id": "VHQsY8BXnKLR"
      },
      "source": [
        "#### 5) 이번에는 꽃잎 길이가 x축, 꽃잎 너비가 y축인 산점도를 그려보자. \n",
        "\n",
        "\n",
        "\n",
        "*   setosa는 indigo 색상\n",
        "*   versicolor는 crimson 색상\n",
        "*   virginica는 limegreen 색상\n",
        "\n"
      ]
    },
    {
      "cell_type": "code",
      "metadata": {
        "id": "PvpIediak-va"
      },
      "source": [
        "# 점 하나 찍을 때마다 품종을 구분하여 찍기\n",
        "\n"
      ],
      "execution_count": null,
      "outputs": []
    },
    {
      "cell_type": "markdown",
      "metadata": {
        "id": "0GpqsAFOn-6N"
      },
      "source": [
        "#### Q. 위 그래프는 붓꽃 품종 세 개를 잘 구분하나요? \n",
        "\n",
        "#### 그렇다면 그 이유는 무엇인지, 그렇지 않다면 그 이유는 무엇인가요?\n"
      ]
    },
    {
      "cell_type": "markdown",
      "metadata": {
        "id": "qf86wIgjuPRQ"
      },
      "source": [
        "#### 6) 새로운 데이터 예측해보기\n",
        "꽃받침 길이가 다음과 같은 꽃이 인식되었을 때, 인공지능은 어떻게 판단할까요?\n",
        "\n",
        "\n",
        "\n",
        "1.   꽃잎 길이 = 2, 꽃받침 너비 = 0.5\n",
        "2.   꽃잎 길이 = 5.5, 꽃받침 너비 = 2.0\n",
        "\n",
        "---\n",
        "\n",
        "\n",
        "지금까지 작성한 그래프 위에 두 개 점을 파랑색 별로 찍어봅시다.\n",
        "\n",
        "- scatter 점 모양 변경 옵션 : marker = '*'\n",
        "- scatter 점 크기 변경 옵션 : s = 150"
      ]
    },
    {
      "cell_type": "code",
      "metadata": {
        "id": "Z1EuAJCtngua"
      },
      "source": [
        "# 점 하나 찍을 때마다 품종을 구분하여 찍기\n",
        "\n"
      ],
      "execution_count": null,
      "outputs": []
    },
    {
      "cell_type": "markdown",
      "metadata": {
        "id": "l8FbTguwIejM"
      },
      "source": [
        "# 4. 붓꽃의 품종을 구분하는 결정트리 만들어보기 \r\n",
        "\r\n",
        "#### 결정 트리 (Decision Tree)\r\n",
        "\r\n",
        "<br/><br/>\r\n",
        "<img src='https://blog.kakaocdn.net/dn/wlH1u/btqwWZI9Xen/kFJDjGSFJAPxhyatC3Xhs0/img.png' width=600>\r\n",
        "\r\n",
        "<br/><br/>\r\n",
        "\r\n",
        "<img src='https://wikidocs.net/images/page/34087/%EC%9D%98%EC%82%AC%EA%B2%B0%EC%A0%95%EB%82%98%EB%AC%B44.png' width=600>\r\n"
      ]
    },
    {
      "cell_type": "markdown",
      "metadata": {
        "id": "OQY5qiXMxGQT"
      },
      "source": [
        "#### 머신러닝 라이브러리 sklearn \n",
        "<img src='https://upload.wikimedia.org/wikipedia/commons/thumb/0/05/Scikit_learn_logo_small.svg/1200px-Scikit_learn_logo_small.svg.png' width = 400>\n",
        "\n",
        "\n",
        "* 머신러닝에는 다양한 알고리즘이 존재\n",
        "* 대부분의 머신러닝 알고리즘이 sklearn에 구현되어 있음\n",
        "* sklearn의 의사결정트리를 사용하여 인공지능 학습을 시키고, 예측을 수행해보자\n"
      ]
    },
    {
      "cell_type": "markdown",
      "metadata": {
        "id": "AjWXBNdQxrVn"
      },
      "source": [
        "#### 인공지능 프로그래밍 - 간단한 순서\n",
        "\n",
        "\n",
        "0. 사전작업- 학습시킬 데이터 속성 준비하기\n",
        "1.   인공지능 모델 생성하기\n",
        "2.   모델에 데이터를 넣고 학습시키기\n",
        "3.   새로운 데이터를 잘 예측하는지 확인해보기\n",
        "\n"
      ]
    },
    {
      "cell_type": "code",
      "metadata": {
        "id": "zkmgjkIJu5Wg"
      },
      "source": [
        "# 0. 사전작업- 학습시킬 데이터 속성 준비하기\n",
        "\n"
      ],
      "execution_count": null,
      "outputs": []
    },
    {
      "cell_type": "code",
      "metadata": {
        "id": "LoT0KCL6ulCF"
      },
      "source": [
        "from sklearn.tree import DecisionTreeClassifier      # 의사결정트리 기능 포함시키기\n",
        "\n",
        "# 1. 의사결정트리 모델 생성\n",
        "\n"
      ],
      "execution_count": null,
      "outputs": []
    },
    {
      "cell_type": "code",
      "metadata": {
        "id": "dRt940MGu6y2"
      },
      "source": [
        "# 2. data의 꽃잎길이와 꽃잎너비로 품종을 판별하도록 학습\n"
      ],
      "execution_count": null,
      "outputs": []
    },
    {
      "cell_type": "code",
      "metadata": {
        "id": "uYiVlcWBvZ5X"
      },
      "source": [
        "# 3. 새로운 데이터 예측하기\n",
        "# 1) 꽃잎 길이 = 2, 꽃받침 너비 = 0.5\n"
      ],
      "execution_count": null,
      "outputs": []
    },
    {
      "cell_type": "code",
      "metadata": {
        "id": "w4i42SgQw1Vs"
      },
      "source": [
        "# 2) 꽃잎 길이 = 5.5, 꽃받침 너비 = 2.0\n"
      ],
      "execution_count": null,
      "outputs": []
    },
    {
      "cell_type": "markdown",
      "metadata": {
        "id": "0HlbNgFIyIC0"
      },
      "source": [
        "\n",
        "\n",
        "```\n",
        "import graphviz\n",
        "from sklearn.tree import export_graphviz\n",
        "\n",
        "# 의사 결정 트리를 시각화하여 tree.dot 파일로 내보내는 코드\n",
        "export_graphviz(model, out_file ='tree.dot',\n",
        "                feature_names = [학습데이터 속성명],    \n",
        "                class_names = [학습결과로 판단할 분류],\n",
        "                filled = True, rounded = True, impurity = False)\n",
        "\n",
        "# 위에서 만든 tree.dot을 화면에 보이게 하기\n",
        "with open(\"tree.dot\") as f:\n",
        "    dot_graph = f.read()\n",
        "display(graphviz.Source(dot_graph))\n",
        "```\n",
        "\n"
      ]
    },
    {
      "cell_type": "code",
      "metadata": {
        "id": "thSKwwn9w5wO"
      },
      "source": [
        "\n"
      ],
      "execution_count": null,
      "outputs": []
    },
    {
      "cell_type": "markdown",
      "metadata": {
        "id": "d6lydZuqJyk0"
      },
      "source": [
        "# 5. KNN\r\n",
        "\r\n",
        "\r\n",
        "<img src='https://blog.kakaocdn.net/dn/cvzGSE/btqw569xJ8n/DfckialHS6fgKmDZpy4L01/img.png' width=600>\r\n",
        "\r\n",
        "<img src='https://img1.daumcdn.net/thumb/R1280x0/?scode=mtistory2&fname=https%3A%2F%2Fblog.kakaocdn.net%2Fdn%2FbIPgPh%2FbtqyUfXFHSg%2FzaSUkU4xoqEEAsOClKWvw1%2Fimg.png' width=800>"
      ]
    },
    {
      "cell_type": "code",
      "metadata": {
        "id": "FuUb2alFYTg8"
      },
      "source": [
        "from sklearn.neighbors import KNeighborsClassifier\n",
        "\n",
        "# 1. KNN 모델 생성하기\n"
      ],
      "execution_count": null,
      "outputs": []
    },
    {
      "cell_type": "code",
      "metadata": {
        "id": "kiE4sZqHWkGj"
      },
      "source": [
        "# 2. KNN 모델에 학습데이터 넣고 학습시키기 .fit\n"
      ],
      "execution_count": null,
      "outputs": []
    },
    {
      "cell_type": "code",
      "metadata": {
        "id": "RTt1aoCRWkIz"
      },
      "source": [
        "# 3. 새로운 데이터 예측시키기\n"
      ],
      "execution_count": null,
      "outputs": []
    },
    {
      "cell_type": "code",
      "metadata": {
        "id": "5bd86fLDWkLO"
      },
      "source": [
        ""
      ],
      "execution_count": null,
      "outputs": []
    },
    {
      "cell_type": "code",
      "metadata": {
        "id": "r0a-zylhfTOU"
      },
      "source": [
        ""
      ],
      "execution_count": null,
      "outputs": []
    },
    {
      "cell_type": "markdown",
      "metadata": {
        "id": "wcocNJS1OBYM"
      },
      "source": [
        "# 6. 머신러닝 - 회귀 \r\n",
        "\r\n",
        "**가장 훌륭한 예측선을 찾아가는 과정**\r\n",
        "\r\n",
        "<img src='https://miro.medium.com/max/1280/1*eeIvlwkMNG1wSmj3FR6M2g.gif' width=600>\r\n",
        "\r\n",
        "\r\n",
        "<img src='https://i.stack.imgur.com/onf2z.gif' width=400>\r\n",
        "\r\n",
        "#### 평균 제곱 오차 (MSE) - 가장 정확한 예측선은 오차가 가장 적을 것이다!\r\n",
        "\r\n",
        "<img src='https://cdn-media-1.freecodecamp.org/images/MNskFmGPKuQfMLdmpkT-X7-8w2cJXulP3683' width=500>\r\n"
      ]
    },
    {
      "cell_type": "markdown",
      "metadata": {
        "id": "KwzjZUMaajwI"
      },
      "source": [
        "\r\n",
        "코랩에 파일 업로드하기\r\n",
        "\r\n",
        "```\r\n",
        "from google.colab import files\r\n",
        "uploaded = files.upload()\r\n",
        "```\r\n",
        "\r\n",
        "<br/>\r\n",
        "파일업로드 안되는 사람 - 데이터가 저장된 온라인 공간에서 바로 데이터 가져오기\r\n",
        "\r\n",
        "```\r\n",
        "! git clone https://github.com/Ahnjihye/allinone_AI.git\r\n",
        "\r\n",
        "import csv \r\n",
        " \r\n",
        "f = open('allinone_AI/shoes and height.csv', encoding='cp949')\r\n",
        "data = csv.reader(f)\r\n",
        "next(data)\r\n",
        "data = list(data)\r\n",
        "```\r\n"
      ]
    },
    {
      "cell_type": "code",
      "metadata": {
        "id": "UlegyYgtpYlW"
      },
      "source": [
        ""
      ],
      "execution_count": null,
      "outputs": []
    },
    {
      "cell_type": "markdown",
      "metadata": {
        "id": "EPXVuu-saufS"
      },
      "source": [
        "\r\n",
        "\r\n",
        "```\r\n",
        "import csv\r\n",
        "\r\n",
        "f = open('파일명', encoding='cp949')\r\n",
        "data = csv.reader(f)\r\n",
        "next(data)\r\n",
        "data = list(data)\r\n",
        "```\r\n",
        "\r\n"
      ]
    },
    {
      "cell_type": "code",
      "metadata": {
        "id": "s3vpsHZs4Qgt"
      },
      "source": [
        "\n",
        "\n"
      ],
      "execution_count": null,
      "outputs": []
    },
    {
      "cell_type": "code",
      "metadata": {
        "id": "D12OBeOU5hUB"
      },
      "source": [
        "\n"
      ],
      "execution_count": null,
      "outputs": []
    },
    {
      "cell_type": "code",
      "metadata": {
        "id": "pBLjnw6i4QjT"
      },
      "source": [
        "\n"
      ],
      "execution_count": null,
      "outputs": []
    },
    {
      "cell_type": "code",
      "metadata": {
        "id": "jAAEdlRY4Ql6"
      },
      "source": [
        "\n"
      ],
      "execution_count": null,
      "outputs": []
    },
    {
      "cell_type": "code",
      "metadata": {
        "id": "KMj20nXo4Qo9"
      },
      "source": [
        "\n"
      ],
      "execution_count": null,
      "outputs": []
    },
    {
      "cell_type": "code",
      "metadata": {
        "id": "Y5TV-8Fw84Ee"
      },
      "source": [
        "\r\n"
      ],
      "execution_count": null,
      "outputs": []
    },
    {
      "cell_type": "code",
      "metadata": {
        "id": "nIX4VoBB9Uae"
      },
      "source": [
        "# y = 3/4x -25 의 평균제곱오차\n",
        "\n"
      ],
      "execution_count": null,
      "outputs": []
    },
    {
      "cell_type": "code",
      "metadata": {
        "id": "HAhuTKW59Uez"
      },
      "source": [
        "\r\n"
      ],
      "execution_count": null,
      "outputs": []
    },
    {
      "cell_type": "code",
      "metadata": {
        "id": "X70J26cW84Hw"
      },
      "source": [
        "from sklearn.linear_model import LinearRegression\n",
        "\n",
        "\n"
      ],
      "execution_count": null,
      "outputs": []
    },
    {
      "cell_type": "code",
      "metadata": {
        "id": "Qm9fM_pp-F8K"
      },
      "source": [
        ""
      ],
      "execution_count": null,
      "outputs": []
    },
    {
      "cell_type": "code",
      "metadata": {
        "id": "eZPn4OjX-pft"
      },
      "source": [
        ""
      ],
      "execution_count": null,
      "outputs": []
    },
    {
      "cell_type": "code",
      "metadata": {
        "id": "BOt7171y-rg8"
      },
      "source": [
        "\n"
      ],
      "execution_count": null,
      "outputs": []
    }
  ]
}