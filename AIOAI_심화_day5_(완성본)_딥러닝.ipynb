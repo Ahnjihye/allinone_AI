{
  "nbformat": 4,
  "nbformat_minor": 0,
  "metadata": {
    "colab": {
      "name": "AIOAI_심화_day5_(완성본)_딥러닝.ipynb",
      "provenance": [],
      "collapsed_sections": [],
      "authorship_tag": "ABX9TyOeiVrC4wzOUN3zGnAIpRM6",
      "include_colab_link": true
    },
    "kernelspec": {
      "name": "python3",
      "display_name": "Python 3"
    }
  },
  "cells": [
    {
      "cell_type": "markdown",
      "metadata": {
        "id": "view-in-github",
        "colab_type": "text"
      },
      "source": [
        "<a href=\"https://colab.research.google.com/github/Ahnjihye/allinone_AI/blob/master/AIOAI_%EC%8B%AC%ED%99%94_day5_(%EC%99%84%EC%84%B1%EB%B3%B8)_%EB%94%A5%EB%9F%AC%EB%8B%9D.ipynb\" target=\"_parent\"><img src=\"https://colab.research.google.com/assets/colab-badge.svg\" alt=\"Open In Colab\"/></a>"
      ]
    },
    {
      "cell_type": "markdown",
      "metadata": {
        "id": "L5GKdNLnAQsd"
      },
      "source": [
        "# 딥러닝\n",
        "\n",
        "### 딥러닝 활용분야\n",
        "1. 객체 탐지\n",
        "\n",
        "<img src='https://s3-us-west-2.amazonaws.com/static.pyimagesearch.com/opencv-yolo/yolo_car_chase_01_output.gif'>\n",
        "         \n",
        "<br/>\n",
        "\n",
        "         \n",
        "<img src='https://miro.medium.com/max/1103/1*tQ9PotwEr93jwFte56U8aA.gif'>\n",
        "         \n",
        "<br/>\n",
        "\n",
        "<img src='https://s3-us-west-2.amazonaws.com/static.pyimagesearch.com/opencv-face-recognition/opencv_face_reco_animation.gif'>\n",
        "\n",
        "<br/><br/>\n",
        "\n",
        "2. 자연어 처리\n",
        "\n",
        "\n",
        "<img src='https://images.chosun.com/resizer/xKp6vZn0Tap2nAyWZb3x7nfxX1A=/616x0/smart/cloudfront-ap-northeast-1.images.arcpublishing.com/chosun/J6WHZS5XNZEXVOO3APDPFC3H2I.jpg' width=600>\n",
        "\n",
        "<img src='https://t1.kakaocdn.net/braincloud/homepage/article_image/201803201508516713249.png' width=400>"
      ]
    },
    {
      "cell_type": "markdown",
      "metadata": {
        "id": "KGXPXP-UAQuy"
      },
      "source": [
        "# 퍼셉트론 \n",
        "\n",
        "### 단일 퍼셉트론 = 인간의 신경 세포 뉴런을 모방\n",
        "\n",
        "<img src='https://miro.medium.com/proxy/1*3UpdymQx-C1tBKRnfD7eOg.gif'>\n",
        "\n",
        "<br/><br/>\n",
        "### 활성화함수의 종류\n",
        "\n",
        "\n",
        "<img src='https://t1.daumcdn.net/cfile/tistory/994C83365D4FD0D125' width=600>\n",
        "\n",
        "<br/><br/>\n",
        "\n",
        "> 단일 퍼셉트론은 선형 공간에서 적용\n",
        "\n",
        "<img src='https://docsplayer.org/docs-images/99/142288562/images/23-0.jpg' width=300>\n",
        "\n",
        "<br/><br/>\n",
        "\n",
        "#### 텐서플로우 그라운드에서 선형 공간의 데이터를 선택해보고, 단일 퍼셉트론으로 해결해보기 \n",
        "\n",
        "[텐서플로우 그라운드](https://playground.tensorflow.org/)"
      ]
    },
    {
      "cell_type": "markdown",
      "metadata": {
        "id": "D04PwGWhAQxC"
      },
      "source": [
        "# 다층 퍼셉트론 \n",
        "\n",
        "<img src='https://blog.kakaocdn.net/dn/IwrnT/btqB5iKagJH/yuiTua4KCbdP2Qdhqz4ghK/img.png' width=600>\n",
        "\n",
        "<br/><br/>\n",
        "\n",
        "> 비선형 공간의 문제를 해결하지 못하는 단일 퍼셉트론\n",
        "\n",
        "<img src='https://user-images.githubusercontent.com/31475037/59172735-b5969780-8b84-11e9-8d3a-8445513adfc2.png' width=800>\n",
        "\n",
        "<br/><br/>\n",
        "                               \n",
        "> 비선형 공간의 문제를 해결하는데 탁월한 다층 퍼셉트론\n",
        "\n",
        "<img src='https://upload.wikimedia.org/wikipedia/commons/b/b2/Perceptron_XOR.jpg' width=600>\n",
        "\n",
        "<br/><br/>\n",
        "\n",
        "\n",
        "#### 텐서플로우 그라운드에서 비선형 공간의 데이터를 선택해보고, 다층 퍼셉트론으로 해결해보기 \n",
        "\n",
        "[텐서플로우 그라운드](https://playground.tensorflow.org/)\n",
        "\n",
        "\n",
        "## 일반적인 딥러닝 구조\n",
        "\n",
        "<img src='https://blog.kakaocdn.net/dn/rEitk/btqBNlnBe9p/UvsZZSnPOhhvh1ubTNTWK1/img.png' width =800>"
      ]
    },
    {
      "cell_type": "markdown",
      "metadata": {
        "id": "BzlNzk_-Xm3-"
      },
      "source": [
        ""
      ]
    },
    {
      "cell_type": "markdown",
      "metadata": {
        "id": "I9RFfD9HXfOc"
      },
      "source": [
        "\n",
        "\n",
        "```\n",
        "# 한글 폰트 지정\n",
        "import matplotlib.pyplot as plt\n",
        "\n",
        "# 그래프 폰트 설정  --> 런타임 다시 시작\n",
        "import matplotlib as mpl\n",
        "import matplotlib.pyplot as plt\n",
        " \n",
        "%config InlineBackend.figure_format = 'retina'\n",
        " \n",
        "!apt -qq -y install fonts-nanum\n",
        " \n",
        "import matplotlib.font_manager as fm\n",
        "fontpath = '/usr/share/fonts/truetype/nanum/NanumGothic.ttf'\n",
        "font = fm.FontProperties(fname=fontpath, size=9)\n",
        "plt.rc('font', family='NanumGothic') \n",
        "mpl.font_manager._rebuild()\n",
        "```\n",
        "\n"
      ]
    },
    {
      "cell_type": "code",
      "metadata": {
        "id": "le9DlOe3Xtau",
        "colab": {
          "base_uri": "https://localhost:8080/",
          "height": 105
        },
        "outputId": "b72a16e9-202c-4737-d5cc-a47ac00e733c"
      },
      "source": [
        "import matplotlib.pyplot as plt\n",
        "\n",
        "# 그래프 폰트 설정  --> 런타임 다시 시작\n",
        "import matplotlib as mpl\n",
        "import matplotlib.pyplot as plt\n",
        " \n",
        "%config InlineBackend.figure_format = 'retina'\n",
        " \n",
        "!apt -qq -y install fonts-nanum\n",
        " \n",
        "import matplotlib.font_manager as fm\n",
        "fontpath = '/usr/share/fonts/truetype/nanum/NanumGothic.ttf'\n",
        "font = fm.FontProperties(fname=fontpath, size=9)\n",
        "plt.rc('font', family='NanumGothic') \n",
        "mpl.font_manager._rebuild()"
      ],
      "execution_count": null,
      "outputs": [
        {
          "output_type": "stream",
          "text": [
            "fonts-nanum is already the newest version (20170925-1).\n",
            "The following package was automatically installed and is no longer required:\n",
            "  libnvidia-common-440\n",
            "Use 'apt autoremove' to remove it.\n",
            "0 upgraded, 0 newly installed, 0 to remove and 39 not upgraded.\n"
          ],
          "name": "stdout"
        }
      ]
    },
    {
      "cell_type": "markdown",
      "metadata": {
        "id": "o_6YA7KN93Fh"
      },
      "source": [
        "# 손글씨 이미지 구성 - MNIST \n",
        "- 손글씨 이미지 0부터 9까지 총10개 \n",
        "<br/>\n",
        "<img src=\"https://learnmachinelearning.files.wordpress.com/2017/08/mnist.png?w=638\" height=\"150px\">\n",
        "\n",
        "\n",
        "- 손글씨 0~9 = 총 10개 * 각 600개 = 총 60000개\n",
        "- 학습 데이터 60000개, 테스트 데이터 10000개로 구성\n",
        "<br/>\n",
        "<img src = \"https://korchris.github.io/images/overview_mnist.png\">\n",
        "\n",
        "- 각 숫자 이미지는 28 pixel * 28 pixel   \n",
        "![대체 텍스트](https://encrypted-tbn0.gstatic.com/images?q=tbn%3AANd9GcRiYU_Wf8GiLoaAXWiCdJHm87IWjpOfTClkwg&usqp=CAU)\n",
        "\n"
      ]
    },
    {
      "cell_type": "markdown",
      "metadata": {
        "id": "A7XPNrUy_AQS"
      },
      "source": [
        "## 1. 데이터 로드\n",
        "\n",
        "#### 학습데이터와 테스트 데이터의 분리\n",
        "\n",
        "<img src='https://img1.daumcdn.net/thumb/R800x0/?scode=mtistory2&fname=https%3A%2F%2Ft1.daumcdn.net%2Fcfile%2Ftistory%2F99F705445DA0686711' width=600>"
      ]
    },
    {
      "cell_type": "code",
      "metadata": {
        "id": "X9Fuap8m9M_I"
      },
      "source": [
        "from keras.datasets import mnist\n",
        "\n",
        "(X_train, Y_train), (X_test, Y_test) = mnist.load_data()"
      ],
      "execution_count": 1,
      "outputs": []
    },
    {
      "cell_type": "code",
      "metadata": {
        "id": "bP-Ionzd-_su",
        "colab": {
          "base_uri": "https://localhost:8080/"
        },
        "outputId": "304eabbe-980a-47bb-d81c-967c9347673f"
      },
      "source": [
        "print(\"학습셋 이미지 수 :\", X_train.shape)\n",
        "print(\"테스트셋 이미지 수:\", X_test.shape)"
      ],
      "execution_count": 2,
      "outputs": [
        {
          "output_type": "stream",
          "text": [
            "학습셋 이미지 수 : (60000, 28, 28)\n",
            "테스트셋 이미지 수: (10000, 28, 28)\n"
          ],
          "name": "stdout"
        }
      ]
    },
    {
      "cell_type": "code",
      "metadata": {
        "id": "5vcaL3VM_GVD",
        "colab": {
          "base_uri": "https://localhost:8080/"
        },
        "outputId": "afe8745e-c38f-4ea1-a2a0-320e49796331"
      },
      "source": [
        "# 첫번째 숫자 살펴보기\n",
        "X_train[0]"
      ],
      "execution_count": 3,
      "outputs": [
        {
          "output_type": "execute_result",
          "data": {
            "text/plain": [
              "array([[  0,   0,   0,   0,   0,   0,   0,   0,   0,   0,   0,   0,   0,\n",
              "          0,   0,   0,   0,   0,   0,   0,   0,   0,   0,   0,   0,   0,\n",
              "          0,   0],\n",
              "       [  0,   0,   0,   0,   0,   0,   0,   0,   0,   0,   0,   0,   0,\n",
              "          0,   0,   0,   0,   0,   0,   0,   0,   0,   0,   0,   0,   0,\n",
              "          0,   0],\n",
              "       [  0,   0,   0,   0,   0,   0,   0,   0,   0,   0,   0,   0,   0,\n",
              "          0,   0,   0,   0,   0,   0,   0,   0,   0,   0,   0,   0,   0,\n",
              "          0,   0],\n",
              "       [  0,   0,   0,   0,   0,   0,   0,   0,   0,   0,   0,   0,   0,\n",
              "          0,   0,   0,   0,   0,   0,   0,   0,   0,   0,   0,   0,   0,\n",
              "          0,   0],\n",
              "       [  0,   0,   0,   0,   0,   0,   0,   0,   0,   0,   0,   0,   0,\n",
              "          0,   0,   0,   0,   0,   0,   0,   0,   0,   0,   0,   0,   0,\n",
              "          0,   0],\n",
              "       [  0,   0,   0,   0,   0,   0,   0,   0,   0,   0,   0,   0,   3,\n",
              "         18,  18,  18, 126, 136, 175,  26, 166, 255, 247, 127,   0,   0,\n",
              "          0,   0],\n",
              "       [  0,   0,   0,   0,   0,   0,   0,   0,  30,  36,  94, 154, 170,\n",
              "        253, 253, 253, 253, 253, 225, 172, 253, 242, 195,  64,   0,   0,\n",
              "          0,   0],\n",
              "       [  0,   0,   0,   0,   0,   0,   0,  49, 238, 253, 253, 253, 253,\n",
              "        253, 253, 253, 253, 251,  93,  82,  82,  56,  39,   0,   0,   0,\n",
              "          0,   0],\n",
              "       [  0,   0,   0,   0,   0,   0,   0,  18, 219, 253, 253, 253, 253,\n",
              "        253, 198, 182, 247, 241,   0,   0,   0,   0,   0,   0,   0,   0,\n",
              "          0,   0],\n",
              "       [  0,   0,   0,   0,   0,   0,   0,   0,  80, 156, 107, 253, 253,\n",
              "        205,  11,   0,  43, 154,   0,   0,   0,   0,   0,   0,   0,   0,\n",
              "          0,   0],\n",
              "       [  0,   0,   0,   0,   0,   0,   0,   0,   0,  14,   1, 154, 253,\n",
              "         90,   0,   0,   0,   0,   0,   0,   0,   0,   0,   0,   0,   0,\n",
              "          0,   0],\n",
              "       [  0,   0,   0,   0,   0,   0,   0,   0,   0,   0,   0, 139, 253,\n",
              "        190,   2,   0,   0,   0,   0,   0,   0,   0,   0,   0,   0,   0,\n",
              "          0,   0],\n",
              "       [  0,   0,   0,   0,   0,   0,   0,   0,   0,   0,   0,  11, 190,\n",
              "        253,  70,   0,   0,   0,   0,   0,   0,   0,   0,   0,   0,   0,\n",
              "          0,   0],\n",
              "       [  0,   0,   0,   0,   0,   0,   0,   0,   0,   0,   0,   0,  35,\n",
              "        241, 225, 160, 108,   1,   0,   0,   0,   0,   0,   0,   0,   0,\n",
              "          0,   0],\n",
              "       [  0,   0,   0,   0,   0,   0,   0,   0,   0,   0,   0,   0,   0,\n",
              "         81, 240, 253, 253, 119,  25,   0,   0,   0,   0,   0,   0,   0,\n",
              "          0,   0],\n",
              "       [  0,   0,   0,   0,   0,   0,   0,   0,   0,   0,   0,   0,   0,\n",
              "          0,  45, 186, 253, 253, 150,  27,   0,   0,   0,   0,   0,   0,\n",
              "          0,   0],\n",
              "       [  0,   0,   0,   0,   0,   0,   0,   0,   0,   0,   0,   0,   0,\n",
              "          0,   0,  16,  93, 252, 253, 187,   0,   0,   0,   0,   0,   0,\n",
              "          0,   0],\n",
              "       [  0,   0,   0,   0,   0,   0,   0,   0,   0,   0,   0,   0,   0,\n",
              "          0,   0,   0,   0, 249, 253, 249,  64,   0,   0,   0,   0,   0,\n",
              "          0,   0],\n",
              "       [  0,   0,   0,   0,   0,   0,   0,   0,   0,   0,   0,   0,   0,\n",
              "          0,  46, 130, 183, 253, 253, 207,   2,   0,   0,   0,   0,   0,\n",
              "          0,   0],\n",
              "       [  0,   0,   0,   0,   0,   0,   0,   0,   0,   0,   0,   0,  39,\n",
              "        148, 229, 253, 253, 253, 250, 182,   0,   0,   0,   0,   0,   0,\n",
              "          0,   0],\n",
              "       [  0,   0,   0,   0,   0,   0,   0,   0,   0,   0,  24, 114, 221,\n",
              "        253, 253, 253, 253, 201,  78,   0,   0,   0,   0,   0,   0,   0,\n",
              "          0,   0],\n",
              "       [  0,   0,   0,   0,   0,   0,   0,   0,  23,  66, 213, 253, 253,\n",
              "        253, 253, 198,  81,   2,   0,   0,   0,   0,   0,   0,   0,   0,\n",
              "          0,   0],\n",
              "       [  0,   0,   0,   0,   0,   0,  18, 171, 219, 253, 253, 253, 253,\n",
              "        195,  80,   9,   0,   0,   0,   0,   0,   0,   0,   0,   0,   0,\n",
              "          0,   0],\n",
              "       [  0,   0,   0,   0,  55, 172, 226, 253, 253, 253, 253, 244, 133,\n",
              "         11,   0,   0,   0,   0,   0,   0,   0,   0,   0,   0,   0,   0,\n",
              "          0,   0],\n",
              "       [  0,   0,   0,   0, 136, 253, 253, 253, 212, 135, 132,  16,   0,\n",
              "          0,   0,   0,   0,   0,   0,   0,   0,   0,   0,   0,   0,   0,\n",
              "          0,   0],\n",
              "       [  0,   0,   0,   0,   0,   0,   0,   0,   0,   0,   0,   0,   0,\n",
              "          0,   0,   0,   0,   0,   0,   0,   0,   0,   0,   0,   0,   0,\n",
              "          0,   0],\n",
              "       [  0,   0,   0,   0,   0,   0,   0,   0,   0,   0,   0,   0,   0,\n",
              "          0,   0,   0,   0,   0,   0,   0,   0,   0,   0,   0,   0,   0,\n",
              "          0,   0],\n",
              "       [  0,   0,   0,   0,   0,   0,   0,   0,   0,   0,   0,   0,   0,\n",
              "          0,   0,   0,   0,   0,   0,   0,   0,   0,   0,   0,   0,   0,\n",
              "          0,   0]], dtype=uint8)"
            ]
          },
          "metadata": {
            "tags": []
          },
          "execution_count": 3
        }
      ]
    },
    {
      "cell_type": "markdown",
      "metadata": {
        "id": "8nQnIgxTIS-c"
      },
      "source": [
        "\n",
        "\n",
        "```\n",
        "# 숫자 하나마다 탭 길이만큼 공백을 주어 출력하는 코드\n",
        "\n",
        "import sys\n",
        "\n",
        "for x in X_train[0]:\n",
        "    for i in x:\n",
        "        sys.stdout.write('%d\\t' % i)\n",
        "    sys.stdout.write('\\n')\n",
        "```\n",
        "\n"
      ]
    },
    {
      "cell_type": "code",
      "metadata": {
        "id": "8PpG31ZJM8Y1",
        "colab": {
          "base_uri": "https://localhost:8080/"
        },
        "outputId": "727abcca-339d-4b51-9e61-eaf9f21c8819"
      },
      "source": [
        "# 조금 더 예쁘게 출력해보자!\n",
        "import sys\n",
        "\n",
        "for x in X_train[0]:\n",
        "    for i in x:\n",
        "        sys.stdout.write('%d\\t' % i)\n",
        "    sys.stdout.write('\\n')"
      ],
      "execution_count": 4,
      "outputs": [
        {
          "output_type": "stream",
          "text": [
            "0\t0\t0\t0\t0\t0\t0\t0\t0\t0\t0\t0\t0\t0\t0\t0\t0\t0\t0\t0\t0\t0\t0\t0\t0\t0\t0\t0\t\n",
            "0\t0\t0\t0\t0\t0\t0\t0\t0\t0\t0\t0\t0\t0\t0\t0\t0\t0\t0\t0\t0\t0\t0\t0\t0\t0\t0\t0\t\n",
            "0\t0\t0\t0\t0\t0\t0\t0\t0\t0\t0\t0\t0\t0\t0\t0\t0\t0\t0\t0\t0\t0\t0\t0\t0\t0\t0\t0\t\n",
            "0\t0\t0\t0\t0\t0\t0\t0\t0\t0\t0\t0\t0\t0\t0\t0\t0\t0\t0\t0\t0\t0\t0\t0\t0\t0\t0\t0\t\n",
            "0\t0\t0\t0\t0\t0\t0\t0\t0\t0\t0\t0\t0\t0\t0\t0\t0\t0\t0\t0\t0\t0\t0\t0\t0\t0\t0\t0\t\n",
            "0\t0\t0\t0\t0\t0\t0\t0\t0\t0\t0\t0\t3\t18\t18\t18\t126\t136\t175\t26\t166\t255\t247\t127\t0\t0\t0\t0\t\n",
            "0\t0\t0\t0\t0\t0\t0\t0\t30\t36\t94\t154\t170\t253\t253\t253\t253\t253\t225\t172\t253\t242\t195\t64\t0\t0\t0\t0\t\n",
            "0\t0\t0\t0\t0\t0\t0\t49\t238\t253\t253\t253\t253\t253\t253\t253\t253\t251\t93\t82\t82\t56\t39\t0\t0\t0\t0\t0\t\n",
            "0\t0\t0\t0\t0\t0\t0\t18\t219\t253\t253\t253\t253\t253\t198\t182\t247\t241\t0\t0\t0\t0\t0\t0\t0\t0\t0\t0\t\n",
            "0\t0\t0\t0\t0\t0\t0\t0\t80\t156\t107\t253\t253\t205\t11\t0\t43\t154\t0\t0\t0\t0\t0\t0\t0\t0\t0\t0\t\n",
            "0\t0\t0\t0\t0\t0\t0\t0\t0\t14\t1\t154\t253\t90\t0\t0\t0\t0\t0\t0\t0\t0\t0\t0\t0\t0\t0\t0\t\n",
            "0\t0\t0\t0\t0\t0\t0\t0\t0\t0\t0\t139\t253\t190\t2\t0\t0\t0\t0\t0\t0\t0\t0\t0\t0\t0\t0\t0\t\n",
            "0\t0\t0\t0\t0\t0\t0\t0\t0\t0\t0\t11\t190\t253\t70\t0\t0\t0\t0\t0\t0\t0\t0\t0\t0\t0\t0\t0\t\n",
            "0\t0\t0\t0\t0\t0\t0\t0\t0\t0\t0\t0\t35\t241\t225\t160\t108\t1\t0\t0\t0\t0\t0\t0\t0\t0\t0\t0\t\n",
            "0\t0\t0\t0\t0\t0\t0\t0\t0\t0\t0\t0\t0\t81\t240\t253\t253\t119\t25\t0\t0\t0\t0\t0\t0\t0\t0\t0\t\n",
            "0\t0\t0\t0\t0\t0\t0\t0\t0\t0\t0\t0\t0\t0\t45\t186\t253\t253\t150\t27\t0\t0\t0\t0\t0\t0\t0\t0\t\n",
            "0\t0\t0\t0\t0\t0\t0\t0\t0\t0\t0\t0\t0\t0\t0\t16\t93\t252\t253\t187\t0\t0\t0\t0\t0\t0\t0\t0\t\n",
            "0\t0\t0\t0\t0\t0\t0\t0\t0\t0\t0\t0\t0\t0\t0\t0\t0\t249\t253\t249\t64\t0\t0\t0\t0\t0\t0\t0\t\n",
            "0\t0\t0\t0\t0\t0\t0\t0\t0\t0\t0\t0\t0\t0\t46\t130\t183\t253\t253\t207\t2\t0\t0\t0\t0\t0\t0\t0\t\n",
            "0\t0\t0\t0\t0\t0\t0\t0\t0\t0\t0\t0\t39\t148\t229\t253\t253\t253\t250\t182\t0\t0\t0\t0\t0\t0\t0\t0\t\n",
            "0\t0\t0\t0\t0\t0\t0\t0\t0\t0\t24\t114\t221\t253\t253\t253\t253\t201\t78\t0\t0\t0\t0\t0\t0\t0\t0\t0\t\n",
            "0\t0\t0\t0\t0\t0\t0\t0\t23\t66\t213\t253\t253\t253\t253\t198\t81\t2\t0\t0\t0\t0\t0\t0\t0\t0\t0\t0\t\n",
            "0\t0\t0\t0\t0\t0\t18\t171\t219\t253\t253\t253\t253\t195\t80\t9\t0\t0\t0\t0\t0\t0\t0\t0\t0\t0\t0\t0\t\n",
            "0\t0\t0\t0\t55\t172\t226\t253\t253\t253\t253\t244\t133\t11\t0\t0\t0\t0\t0\t0\t0\t0\t0\t0\t0\t0\t0\t0\t\n",
            "0\t0\t0\t0\t136\t253\t253\t253\t212\t135\t132\t16\t0\t0\t0\t0\t0\t0\t0\t0\t0\t0\t0\t0\t0\t0\t0\t0\t\n",
            "0\t0\t0\t0\t0\t0\t0\t0\t0\t0\t0\t0\t0\t0\t0\t0\t0\t0\t0\t0\t0\t0\t0\t0\t0\t0\t0\t0\t\n",
            "0\t0\t0\t0\t0\t0\t0\t0\t0\t0\t0\t0\t0\t0\t0\t0\t0\t0\t0\t0\t0\t0\t0\t0\t0\t0\t0\t0\t\n",
            "0\t0\t0\t0\t0\t0\t0\t0\t0\t0\t0\t0\t0\t0\t0\t0\t0\t0\t0\t0\t0\t0\t0\t0\t0\t0\t0\t0\t\n"
          ],
          "name": "stdout"
        }
      ]
    },
    {
      "cell_type": "code",
      "metadata": {
        "id": "VVhEH_TZ_IMK",
        "colab": {
          "base_uri": "https://localhost:8080/",
          "height": 282
        },
        "outputId": "bb605d55-2f66-4a05-bd7b-ab2bfe09f7b2"
      },
      "source": [
        "import matplotlib.pyplot as plt\n",
        "\n",
        "# 이미지로 출력해보기  \n",
        "plt.imshow(X_train[0], cmap='gray')\n",
        "plt.show()\n",
        "# 해당 결과값은 ? \n",
        "print(Y_train[0])"
      ],
      "execution_count": 5,
      "outputs": [
        {
          "output_type": "display_data",
          "data": {
            "image/png": "[encoded data removed]",
            "text/plain": [
              "<Figure size 432x288 with 1 Axes>"
            ]
          },
          "metadata": {
            "tags": [],
            "needs_background": "light"
          }
        },
        {
          "output_type": "stream",
          "text": [
            "5\n"
          ],
          "name": "stdout"
        }
      ]
    },
    {
      "cell_type": "code",
      "metadata": {
        "id": "ZDtsDwE_O-gJ",
        "colab": {
          "base_uri": "https://localhost:8080/",
          "height": 1000
        },
        "outputId": "9a384d0e-2bae-447b-d788-0c716391240b"
      },
      "source": [
        "# 숫자 10개 출력\n",
        "for i in range(100, 110) : \n",
        "    plt.imshow(X_train[i], cmap='gray')\n",
        "    plt.show()"
      ],
      "execution_count": 6,
      "outputs": [
        {
          "output_type": "display_data",
          "data": {
            "image/png": "[encoded data removed]",
            "text/plain": [
              "<Figure size 432x288 with 1 Axes>"
            ]
          },
          "metadata": {
            "tags": [],
            "needs_background": "light"
          }
        },
        {
          "output_type": "display_data",
          "data": {
            "image/png": "[encoded data removed]",
            "text/plain": [
              "<Figure size 432x288 with 1 Axes>"
            ]
          },
          "metadata": {
            "tags": [],
            "needs_background": "light"
          }
        },
        {
          "output_type": "display_data",
          "data": {
            "image/png": "[encoded data removed]",
            "text/plain": [
              "<Figure size 432x288 with 1 Axes>"
            ]
          },
          "metadata": {
            "tags": [],
            "needs_background": "light"
          }
        },
        {
          "output_type": "display_data",
          "data": {
            "image/png": "[encoded data removed]",
            "text/plain": [
              "<Figure size 432x288 with 1 Axes>"
            ]
          },
          "metadata": {
            "tags": [],
            "needs_background": "light"
          }
        },
        {
          "output_type": "display_data",
          "data": {
            "image/png": "[encoded data removed]",
            "text/plain": [
              "<Figure size 432x288 with 1 Axes>"
            ]
          },
          "metadata": {
            "tags": [],
            "needs_background": "light"
          }
        },
        {
          "output_type": "display_data",
          "data": {
            "image/png": "[encoded data removed]",
            "text/plain": [
              "<Figure size 432x288 with 1 Axes>"
            ]
          },
          "metadata": {
            "tags": [],
            "needs_background": "light"
          }
        },
        {
          "output_type": "display_data",
          "data": {
            "image/png": "[encoded data removed]",
            "text/plain": [
              "<Figure size 432x288 with 1 Axes>"
            ]
          },
          "metadata": {
            "tags": [],
            "needs_background": "light"
          }
        },
        {
          "output_type": "display_data",
          "data": {
            "image/png": "[encoded data removed]",
            "text/plain": [
              "<Figure size 432x288 with 1 Axes>"
            ]
          },
          "metadata": {
            "tags": [],
            "needs_background": "light"
          }
        },
        {
          "output_type": "display_data",
          "data": {
            "image/png": "[encoded data removed]",
            "text/plain": [
              "<Figure size 432x288 with 1 Axes>"
            ]
          },
          "metadata": {
            "tags": [],
            "needs_background": "light"
          }
        },
        {
          "output_type": "display_data",
          "data": {
            "image/png": "[encoded data removed]",
            "text/plain": [
              "<Figure size 432x288 with 1 Axes>"
            ]
          },
          "metadata": {
            "tags": [],
            "needs_background": "light"
          }
        }
      ]
    },
    {
      "cell_type": "markdown",
      "metadata": {
        "id": "pEqbKQbiR_Xr"
      },
      "source": [
        "## 2. 출력을 원 핫 인코딩 처리\n",
        "\n",
        "<img src='https://i.ytimg.com/vi/9HkqZJI_X0k/hqdefault.jpg' width=600>"
      ]
    },
    {
      "cell_type": "code",
      "metadata": {
        "id": "nILRVNmDSNTv",
        "colab": {
          "base_uri": "https://localhost:8080/"
        },
        "outputId": "f6d3f50b-401d-430f-d678-5638f4419db3"
      },
      "source": [
        "print(Y_train[0])\n",
        "print(Y_train[:10])"
      ],
      "execution_count": 7,
      "outputs": [
        {
          "output_type": "stream",
          "text": [
            "5\n",
            "[5 0 4 1 9 2 1 3 1 4]\n"
          ],
          "name": "stdout"
        }
      ]
    },
    {
      "cell_type": "code",
      "metadata": {
        "id": "OPGv5WAiAEZj",
        "colab": {
          "base_uri": "https://localhost:8080/"
        },
        "outputId": "d2a25992-0ca4-4eec-b07e-8b8002b0f9a0"
      },
      "source": [
        "import tensorflow.keras.utils as utils\n",
        "\n",
        "print('인코딩 전 학습/테스트 데이터', Y_train.shape, Y_test.shape)\n",
        "\n",
        "# 학습데이터의 Y를 원 핫 인코딩 처리\n",
        "Y_train = utils.to_categorical(Y_train, 10)\n",
        "\n",
        "# 테스트 데이터의 Y를 원 핫 인코딩 처리\n",
        "Y_test = utils.to_categorical(Y_test, 10)\n",
        "\n",
        "print('인코딩 후 학습/테스트 데이터',Y_train.shape, Y_test.shape)"
      ],
      "execution_count": 8,
      "outputs": [
        {
          "output_type": "stream",
          "text": [
            "인코딩 전 학습/테스트 데이터 (60000,) (10000,)\n",
            "인코딩 후 학습/테스트 데이터 (60000, 10) (10000, 10)\n"
          ],
          "name": "stdout"
        }
      ]
    },
    {
      "cell_type": "code",
      "metadata": {
        "id": "nQSZdeUAA6pD",
        "colab": {
          "base_uri": "https://localhost:8080/"
        },
        "outputId": "b2578e3a-f2b6-4ebb-f5fc-61481581851a"
      },
      "source": [
        "print(Y_train[0])"
      ],
      "execution_count": 9,
      "outputs": [
        {
          "output_type": "stream",
          "text": [
            "[0. 0. 0. 0. 0. 1. 0. 0. 0. 0.]\n"
          ],
          "name": "stdout"
        }
      ]
    },
    {
      "cell_type": "markdown",
      "metadata": {
        "id": "cGP2qLKCAGFF"
      },
      "source": [
        "## 2. 딥러닝 모델 구성하기\n",
        "\n",
        "<img src='https://static.javatpoint.com/tutorial/tensorflow/images/mnist-dataset-in-cnn.jpg' width = 700>"
      ]
    },
    {
      "cell_type": "markdown",
      "metadata": {
        "id": "TdjgQ3g3Bp8z"
      },
      "source": [
        "> Q. 손글씨 딥러닝 모델의 입력층 개수는?\n",
        "\n",
        "<img src='https://t1.daumcdn.net/cfile/tistory/998BAF475BECAB3B26' width=800>\n",
        "<br/><br/>\n",
        "\n",
        "> Q. 출력층의 개수는?\n",
        "\n",
        "<img src = 'https://github.com/Ahnjihye/allinone_AI/blob/images/34_mnist%20%EA%B5%AC%EC%A1%B0.png?raw=true' width =700>\n",
        "\n",
        "<img src='https://thumbs.gfycat.com/ActiveCourteousAmericanindianhorse-small.gif' width=600>\n",
        "\n",
        "<br/><br/>\n",
        "\n",
        "> 출력층의 활성화 함수는 softmax\n",
        "<br/>\n",
        "\n",
        "\n",
        "<img src='https://img1.daumcdn.net/thumb/R720x0.q80/?scode=mtistory2&fname=http%3A%2F%2Fcfile27.uf.tistory.com%2Fimage%2F990DA44F5B41DC370552CD' width=600>\n",
        "\n",
        "<br/>\n",
        "\n",
        "<img src='https://miro.medium.com/max/1906/1*ReYpdIZ3ZSAPb2W8cJpkBg.jpeg' width = 600>"
      ]
    },
    {
      "cell_type": "markdown",
      "metadata": {
        "id": "VzeVcFhNBiKb"
      },
      "source": [
        "### 2-1. model1 : 은닉층 없이 돌려보자"
      ]
    },
    {
      "cell_type": "code",
      "metadata": {
        "id": "LprbUis6BKtu"
      },
      "source": [
        "from tensorflow.keras.models import Sequential\n",
        "from tensorflow.keras.layers import Dense, Flatten\n",
        "\n",
        "# 층을 쌓을 수 있는 Sequential의 객체 생성\n",
        "model1 = Sequential()"
      ],
      "execution_count": 10,
      "outputs": []
    },
    {
      "cell_type": "code",
      "metadata": {
        "id": "szHM8lz2WupW"
      },
      "source": [
        "# 입력층에서 입력되는 이차원 리스트를 한 줄로 만들어주는 작업\n",
        "# 28*28 --> 784\n",
        "model1.add(Flatten())"
      ],
      "execution_count": 11,
      "outputs": []
    },
    {
      "cell_type": "code",
      "metadata": {
        "id": "sZktWsScWwVt"
      },
      "source": [
        "# 모델에 층 추가\n",
        "# 층은 Dense(노드개수, activation =활성화함수), \n",
        "# 입력층을 추가할 때만 input_dim 옵션\n",
        "model1.add(Dense(10, input_dim = 784, activation='softmax'))"
      ],
      "execution_count": 12,
      "outputs": []
    },
    {
      "cell_type": "code",
      "metadata": {
        "id": "4lCASE-DWxsf"
      },
      "source": [
        "# 만든 딥러닝 구조를 컴파일\n",
        "model1.compile(loss='categorical_crossentropy', \n",
        "               optimizer='adam', metrics=['accuracy'])"
      ],
      "execution_count": 13,
      "outputs": []
    },
    {
      "cell_type": "code",
      "metadata": {
        "id": "pmVMTHC4B0kL",
        "colab": {
          "base_uri": "https://localhost:8080/"
        },
        "outputId": "e1c6505c-44bc-4725-8958-bf0eb3b7ebed"
      },
      "source": [
        "# 딥러닝 구조에 데이터를 넣어 학습시키기\n",
        "model1.fit(X_train, Y_train,\n",
        "           epochs=10, batch_size =200 , verbose=1)"
      ],
      "execution_count": 14,
      "outputs": [
        {
          "output_type": "stream",
          "text": [
            "Epoch 1/10\n",
            "300/300 [==============================] - 1s 2ms/step - loss: 35.6640 - accuracy: 0.6367\n",
            "Epoch 2/10\n",
            "300/300 [==============================] - 1s 2ms/step - loss: 5.7214 - accuracy: 0.8712\n",
            "Epoch 3/10\n",
            "300/300 [==============================] - 1s 2ms/step - loss: 4.0948 - accuracy: 0.8850\n",
            "Epoch 4/10\n",
            "300/300 [==============================] - 1s 2ms/step - loss: 3.4818 - accuracy: 0.8895\n",
            "Epoch 5/10\n",
            "300/300 [==============================] - 1s 2ms/step - loss: 3.1786 - accuracy: 0.8876\n",
            "Epoch 6/10\n",
            "300/300 [==============================] - 1s 2ms/step - loss: 2.7970 - accuracy: 0.8923\n",
            "Epoch 7/10\n",
            "300/300 [==============================] - 1s 2ms/step - loss: 2.5143 - accuracy: 0.8947\n",
            "Epoch 8/10\n",
            "300/300 [==============================] - 1s 2ms/step - loss: 2.3737 - accuracy: 0.8934\n",
            "Epoch 9/10\n",
            "300/300 [==============================] - 1s 2ms/step - loss: 2.3093 - accuracy: 0.8912\n",
            "Epoch 10/10\n",
            "300/300 [==============================] - 1s 2ms/step - loss: 2.2050 - accuracy: 0.8953\n"
          ],
          "name": "stdout"
        },
        {
          "output_type": "execute_result",
          "data": {
            "text/plain": [
              "<tensorflow.python.keras.callbacks.History at 0x7fa2c21d16a0>"
            ]
          },
          "metadata": {
            "tags": []
          },
          "execution_count": 14
        }
      ]
    },
    {
      "cell_type": "code",
      "metadata": {
        "colab": {
          "base_uri": "https://localhost:8080/",
          "height": 1000
        },
        "id": "1AMTuBWxhs1K",
        "outputId": "f0ebc0ca-3c30-4a8d-ab04-e9c45f300ca8"
      },
      "source": [
        "# 새로운 데이터 예측해보기 \n",
        "for i in range(5) : \n",
        "    plt.imshow(X_test[i], cmap='gray')\n",
        "    plt.show()\n"
      ],
      "execution_count": 15,
      "outputs": [
        {
          "output_type": "display_data",
          "data": {
            "image/png": "[encoded data removed]",
            "text/plain": [
              "<Figure size 432x288 with 1 Axes>"
            ]
          },
          "metadata": {
            "tags": [],
            "needs_background": "light"
          }
        },
        {
          "output_type": "display_data",
          "data": {
            "image/png": "[encoded data removed]",
            "text/plain": [
              "<Figure size 432x288 with 1 Axes>"
            ]
          },
          "metadata": {
            "tags": [],
            "needs_background": "light"
          }
        },
        {
          "output_type": "display_data",
          "data": {
            "image/png": "[encoded data removed]",
            "text/plain": [
              "<Figure size 432x288 with 1 Axes>"
            ]
          },
          "metadata": {
            "tags": [],
            "needs_background": "light"
          }
        },
        {
          "output_type": "display_data",
          "data": {
            "image/png": "[encoded data removed]",
            "text/plain": [
              "<Figure size 432x288 with 1 Axes>"
            ]
          },
          "metadata": {
            "tags": [],
            "needs_background": "light"
          }
        },
        {
          "output_type": "display_data",
          "data": {
            "image/png": "[encoded data removed]",
            "text/plain": [
              "<Figure size 432x288 with 1 Axes>"
            ]
          },
          "metadata": {
            "tags": [],
            "needs_background": "light"
          }
        }
      ]
    },
    {
      "cell_type": "code",
      "metadata": {
        "id": "fh-JAMLcim92"
      },
      "source": [
        "import numpy as np\n",
        "\n",
        "predict1 = model1.predict(X_test[:5])"
      ],
      "execution_count": 16,
      "outputs": []
    },
    {
      "cell_type": "code",
      "metadata": {
        "colab": {
          "base_uri": "https://localhost:8080/"
        },
        "id": "YPpuXuZvqhu4",
        "outputId": "26c70782-ac43-4f1e-ed25-da6c1ff0e6ad"
      },
      "source": [
        "print('X_test[0]의 softmax값 :', predict1[0])\n",
        "print('X_test[0]의 softmax값 중 가장 큰 원소값 :',np.max(predict1[0]))\n",
        "print('X_test[0]의 softmax값 중 가장 큰 원소값을 가진 index :',np.argmax(predict1[0]))"
      ],
      "execution_count": 17,
      "outputs": [
        {
          "output_type": "stream",
          "text": [
            "X_test[0]의 softmax값 : [0.0000000e+00 0.0000000e+00 0.0000000e+00 9.9982875e-23 0.0000000e+00\n",
            " 0.0000000e+00 0.0000000e+00 1.0000000e+00 0.0000000e+00 0.0000000e+00]\n",
            "X_test[0]의 softmax값 중 가장 큰 원소값 : 1.0\n",
            "X_test[0]의 softmax값 중 가장 큰 원소값을 가진 index : 7\n"
          ],
          "name": "stdout"
        }
      ]
    },
    {
      "cell_type": "code",
      "metadata": {
        "colab": {
          "base_uri": "https://localhost:8080/",
          "height": 1000
        },
        "id": "9BUyIMGmqh7T",
        "outputId": "cfa97026-e4eb-4243-b62a-fd96b22ab534"
      },
      "source": [
        "for i in range(5) : \n",
        "    plt.imshow(X_test[i], cmap='gray')\n",
        "    plt.show()\n",
        "\n",
        "    print('softmax값 :', predict1[i])\n",
        "    print('softmax값 중 가장 큰 원소값 :',np.max(predict1[i]))\n",
        "    print('softmax값 중 가장 큰 원소값을 가진 index :',np.argmax(predict1[i]))"
      ],
      "execution_count": 18,
      "outputs": [
        {
          "output_type": "display_data",
          "data": {
            "image/png": "[encoded data removed]",
            "text/plain": [
              "<Figure size 432x288 with 1 Axes>"
            ]
          },
          "metadata": {
            "tags": [],
            "needs_background": "light"
          }
        },
        {
          "output_type": "stream",
          "text": [
            "softmax값 : [0.0000000e+00 0.0000000e+00 0.0000000e+00 9.9982875e-23 0.0000000e+00\n",
            " 0.0000000e+00 0.0000000e+00 1.0000000e+00 0.0000000e+00 0.0000000e+00]\n",
            "softmax값 중 가장 큰 원소값 : 1.0\n",
            "softmax값 중 가장 큰 원소값을 가진 index : 7\n"
          ],
          "name": "stdout"
        },
        {
          "output_type": "display_data",
          "data": {
            "image/png": "[encoded data removed]",
            "text/plain": [
              "<Figure size 432x288 with 1 Axes>"
            ]
          },
          "metadata": {
            "tags": [],
            "needs_background": "light"
          }
        },
        {
          "output_type": "stream",
          "text": [
            "softmax값 : [0.0000000e+00 0.0000000e+00 1.0000000e+00 0.0000000e+00 0.0000000e+00\n",
            " 1.5412986e-37 6.1380474e-30 0.0000000e+00 0.0000000e+00 0.0000000e+00]\n",
            "softmax값 중 가장 큰 원소값 : 1.0\n",
            "softmax값 중 가장 큰 원소값을 가진 index : 2\n"
          ],
          "name": "stdout"
        },
        {
          "output_type": "display_data",
          "data": {
            "image/png": "[encoded data removed]",
            "text/plain": [
              "<Figure size 432x288 with 1 Axes>"
            ]
          },
          "metadata": {
            "tags": [],
            "needs_background": "light"
          }
        },
        {
          "output_type": "stream",
          "text": [
            "softmax값 : [0.0000000e+00 1.0000000e+00 3.7975352e-12 3.6010040e-21 1.2976999e-38\n",
            " 3.1240146e-29 2.0456924e-23 3.1201195e-37 6.7590246e-20 8.3287113e-31]\n",
            "softmax값 중 가장 큰 원소값 : 1.0\n",
            "softmax값 중 가장 큰 원소값을 가진 index : 1\n"
          ],
          "name": "stdout"
        },
        {
          "output_type": "display_data",
          "data": {
            "image/png": "[encoded data removed]",
            "text/plain": [
              "<Figure size 432x288 with 1 Axes>"
            ]
          },
          "metadata": {
            "tags": [],
            "needs_background": "light"
          }
        },
        {
          "output_type": "stream",
          "text": [
            "softmax값 : [1.0000000e+00 0.0000000e+00 0.0000000e+00 0.0000000e+00 0.0000000e+00\n",
            " 0.0000000e+00 4.6779087e-29 0.0000000e+00 0.0000000e+00 0.0000000e+00]\n",
            "softmax값 중 가장 큰 원소값 : 1.0\n",
            "softmax값 중 가장 큰 원소값을 가진 index : 0\n"
          ],
          "name": "stdout"
        },
        {
          "output_type": "display_data",
          "data": {
            "image/png": "[encoded data removed]",
            "text/plain": [
              "<Figure size 432x288 with 1 Axes>"
            ]
          },
          "metadata": {
            "tags": [],
            "needs_background": "light"
          }
        },
        {
          "output_type": "stream",
          "text": [
            "softmax값 : [0.00000000e+00 0.00000000e+00 1.17344025e-36 0.00000000e+00\n",
            " 1.00000000e+00 0.00000000e+00 1.12255104e-24 4.14751120e-30\n",
            " 4.89822817e-25 3.13041672e-16]\n",
            "softmax값 중 가장 큰 원소값 : 1.0\n",
            "softmax값 중 가장 큰 원소값을 가진 index : 4\n"
          ],
          "name": "stdout"
        }
      ]
    },
    {
      "cell_type": "code",
      "metadata": {
        "id": "5J7FvoavEBIv",
        "colab": {
          "base_uri": "https://localhost:8080/"
        },
        "outputId": "245f07e3-0a37-4802-fdfe-7feb3e1f8ae4"
      },
      "source": [
        "# 완성된 모델 평가하기\n",
        "score1 = model1.evaluate(X_test, Y_test, verbose =1)\n",
        "\n",
        "print(score1)      #[오차, 정확도]"
      ],
      "execution_count": 19,
      "outputs": [
        {
          "output_type": "stream",
          "text": [
            "313/313 [==============================] - 0s 776us/step - loss: 2.7463 - accuracy: 0.8914\n",
            "[2.746326446533203, 0.8913999795913696]\n"
          ],
          "name": "stdout"
        }
      ]
    },
    {
      "cell_type": "code",
      "metadata": {
        "id": "McjUHF29a5lz",
        "colab": {
          "base_uri": "https://localhost:8080/"
        },
        "outputId": "bcb1f449-1c4b-4c77-b521-2f03716a87ef"
      },
      "source": [
        "# 최종 점수\n",
        "print(score1[1]*100)"
      ],
      "execution_count": 20,
      "outputs": [
        {
          "output_type": "stream",
          "text": [
            "89.13999795913696\n"
          ],
          "name": "stdout"
        }
      ]
    },
    {
      "cell_type": "markdown",
      "metadata": {
        "id": "Pg1WftKBEP45"
      },
      "source": [
        "### 2-2. model2 : 은닉층을 추가하여 돌려보자"
      ]
    },
    {
      "cell_type": "code",
      "metadata": {
        "id": "Y04OaBOSE82G"
      },
      "source": [
        "from tensorflow.keras.models import Sequential\n",
        "from tensorflow.keras.layers import Dense, Flatten\n",
        "\n",
        "# 딥러닝 구조를 담을 수 있는 객체 생성하기\n",
        "model2 = Sequential()"
      ],
      "execution_count": 21,
      "outputs": []
    },
    {
      "cell_type": "code",
      "metadata": {
        "id": "HsnyAdQ_eBmb"
      },
      "source": [
        "# 입력데이터 이차원 리스트를 한 줄로 flatten\n",
        "model2.add(Flatten())"
      ],
      "execution_count": 22,
      "outputs": []
    },
    {
      "cell_type": "code",
      "metadata": {
        "id": "pVuOKKEaeBo5"
      },
      "source": [
        "# 모델에 층 추가 : 입력층 784 --> 은닉층 512\n",
        "model2.add(Dense(512, input_dim=784, activation = 'relu'))"
      ],
      "execution_count": 23,
      "outputs": []
    },
    {
      "cell_type": "code",
      "metadata": {
        "id": "p7dOUqU7eBrh"
      },
      "source": [
        "# 모델에 층 추가 : 은닉층 512 -> 출력층 10\n",
        "model2.add(Dense(10, activation='softmax'))"
      ],
      "execution_count": 24,
      "outputs": []
    },
    {
      "cell_type": "code",
      "metadata": {
        "id": "GScpg-IPeBt1"
      },
      "source": [
        "# 만든 딥러닝 구조를 컴파일\n",
        "model2.compile(loss='categorical_crossentropy', \n",
        "               optimizer='adam', metrics=['accuracy'])"
      ],
      "execution_count": 25,
      "outputs": []
    },
    {
      "cell_type": "code",
      "metadata": {
        "id": "RDGETBFAFQg-",
        "colab": {
          "base_uri": "https://localhost:8080/"
        },
        "outputId": "e96cd1b4-1c6f-4cc6-8676-8f15b265d770"
      },
      "source": [
        "# 작성한 딥러닝 구조에 데이터를 넣어 학습\n",
        "model2.fit(X_train, Y_train,\n",
        "           epochs=10, batch_size =200 , verbose=1)"
      ],
      "execution_count": 26,
      "outputs": [
        {
          "output_type": "stream",
          "text": [
            "Epoch 1/10\n",
            "300/300 [==============================] - 3s 9ms/step - loss: 14.7671 - accuracy: 0.8322\n",
            "Epoch 2/10\n",
            "300/300 [==============================] - 3s 9ms/step - loss: 0.9445 - accuracy: 0.9554\n",
            "Epoch 3/10\n",
            "300/300 [==============================] - 3s 8ms/step - loss: 0.4719 - accuracy: 0.9693\n",
            "Epoch 4/10\n",
            "300/300 [==============================] - 3s 9ms/step - loss: 0.2888 - accuracy: 0.9762\n",
            "Epoch 5/10\n",
            "300/300 [==============================] - 3s 9ms/step - loss: 0.2259 - accuracy: 0.9794\n",
            "Epoch 6/10\n",
            "300/300 [==============================] - 3s 9ms/step - loss: 0.1576 - accuracy: 0.9836\n",
            "Epoch 7/10\n",
            "300/300 [==============================] - 3s 9ms/step - loss: 0.1406 - accuracy: 0.9861\n",
            "Epoch 8/10\n",
            "300/300 [==============================] - 3s 9ms/step - loss: 0.1438 - accuracy: 0.9853\n",
            "Epoch 9/10\n",
            "300/300 [==============================] - 3s 9ms/step - loss: 0.1312 - accuracy: 0.9864\n",
            "Epoch 10/10\n",
            "300/300 [==============================] - 3s 9ms/step - loss: 0.1238 - accuracy: 0.9864\n"
          ],
          "name": "stdout"
        },
        {
          "output_type": "execute_result",
          "data": {
            "text/plain": [
              "<tensorflow.python.keras.callbacks.History at 0x7fa2c620a1d0>"
            ]
          },
          "metadata": {
            "tags": []
          },
          "execution_count": 26
        }
      ]
    },
    {
      "cell_type": "code",
      "metadata": {
        "id": "J_osKRVt9RcJ"
      },
      "source": [
        "predict2= model2.predict(X_test[:5])"
      ],
      "execution_count": 27,
      "outputs": []
    },
    {
      "cell_type": "code",
      "metadata": {
        "colab": {
          "base_uri": "https://localhost:8080/",
          "height": 1000
        },
        "id": "NYX7T16I9RcL",
        "outputId": "9933e69c-747e-4e4c-dfa2-264e53d0654e"
      },
      "source": [
        "for i in range(5) : \n",
        "    plt.imshow(X_test[i], cmap='gray')\n",
        "    plt.show()\n",
        "\n",
        "    print('softmax값 :', predict2[i])\n",
        "    print('softmax값 중 가장 큰 원소값 :',np.max(predict2[i]))\n",
        "    print('softmax값 중 가장 큰 원소값을 가진 index :',np.argmax(predict2[i]))"
      ],
      "execution_count": 28,
      "outputs": [
        {
          "output_type": "display_data",
          "data": {
            "image/png": "[encoded data removed]",
            "text/plain": [
              "<Figure size 432x288 with 1 Axes>"
            ]
          },
          "metadata": {
            "tags": [],
            "needs_background": "light"
          }
        },
        {
          "output_type": "stream",
          "text": [
            "softmax값 : [0. 0. 0. 0. 0. 0. 0. 1. 0. 0.]\n",
            "softmax값 중 가장 큰 원소값 : 1.0\n",
            "softmax값 중 가장 큰 원소값을 가진 index : 7\n"
          ],
          "name": "stdout"
        },
        {
          "output_type": "display_data",
          "data": {
            "image/png": "[encoded data removed]",
            "text/plain": [
              "<Figure size 432x288 with 1 Axes>"
            ]
          },
          "metadata": {
            "tags": [],
            "needs_background": "light"
          }
        },
        {
          "output_type": "stream",
          "text": [
            "softmax값 : [0.0000000e+00 0.0000000e+00 1.0000000e+00 3.1874576e-34 0.0000000e+00\n",
            " 0.0000000e+00 0.0000000e+00 0.0000000e+00 0.0000000e+00 0.0000000e+00]\n",
            "softmax값 중 가장 큰 원소값 : 1.0\n",
            "softmax값 중 가장 큰 원소값을 가진 index : 2\n"
          ],
          "name": "stdout"
        },
        {
          "output_type": "display_data",
          "data": {
            "image/png": "[encoded data removed]",
            "text/plain": [
              "<Figure size 432x288 with 1 Axes>"
            ]
          },
          "metadata": {
            "tags": [],
            "needs_background": "light"
          }
        },
        {
          "output_type": "stream",
          "text": [
            "softmax값 : [0.0000000e+00 1.0000000e+00 0.0000000e+00 0.0000000e+00 0.0000000e+00\n",
            " 0.0000000e+00 0.0000000e+00 0.0000000e+00 1.1017119e-33 0.0000000e+00]\n",
            "softmax값 중 가장 큰 원소값 : 1.0\n",
            "softmax값 중 가장 큰 원소값을 가진 index : 1\n"
          ],
          "name": "stdout"
        },
        {
          "output_type": "display_data",
          "data": {
            "image/png": "[encoded data removed]",
            "text/plain": [
              "<Figure size 432x288 with 1 Axes>"
            ]
          },
          "metadata": {
            "tags": [],
            "needs_background": "light"
          }
        },
        {
          "output_type": "stream",
          "text": [
            "softmax값 : [1.0000000e+00 0.0000000e+00 8.0368212e-12 5.5537934e-23 1.4885934e-29\n",
            " 2.5400552e-31 1.6886560e-16 2.9542373e-38 6.7956578e-28 6.5862127e-13]\n",
            "softmax값 중 가장 큰 원소값 : 1.0\n",
            "softmax값 중 가장 큰 원소값을 가진 index : 0\n"
          ],
          "name": "stdout"
        },
        {
          "output_type": "display_data",
          "data": {
            "image/png": "[encoded data removed]",
            "text/plain": [
              "<Figure size 432x288 with 1 Axes>"
            ]
          },
          "metadata": {
            "tags": [],
            "needs_background": "light"
          }
        },
        {
          "output_type": "stream",
          "text": [
            "softmax값 : [0.000000e+00 0.000000e+00 0.000000e+00 0.000000e+00 1.000000e+00\n",
            " 0.000000e+00 0.000000e+00 0.000000e+00 0.000000e+00 9.090173e-25]\n",
            "softmax값 중 가장 큰 원소값 : 1.0\n",
            "softmax값 중 가장 큰 원소값을 가진 index : 4\n"
          ],
          "name": "stdout"
        }
      ]
    },
    {
      "cell_type": "code",
      "metadata": {
        "id": "IErWpcZrFdwU",
        "colab": {
          "base_uri": "https://localhost:8080/"
        },
        "outputId": "4df98106-4608-4a53-f30d-7bab463cc096"
      },
      "source": [
        "# 완성된 모델 평가하기\n",
        "score2 = model2.evaluate(X_test, Y_test, verbose =1)\n",
        "\n",
        "print(score2)      #[오차, 정확도]"
      ],
      "execution_count": 29,
      "outputs": [
        {
          "output_type": "stream",
          "text": [
            "313/313 [==============================] - 1s 2ms/step - loss: 0.6458 - accuracy: 0.9641\n",
            "[0.645782470703125, 0.9641000032424927]\n"
          ],
          "name": "stdout"
        }
      ]
    },
    {
      "cell_type": "code",
      "metadata": {
        "id": "DcZjsbH8fI96",
        "colab": {
          "base_uri": "https://localhost:8080/"
        },
        "outputId": "dec20e13-8338-496f-8224-71b473cdbec5"
      },
      "source": [
        "# 최종 점수\n",
        "print(score2[1]*100)"
      ],
      "execution_count": 30,
      "outputs": [
        {
          "output_type": "stream",
          "text": [
            "96.41000032424927\n"
          ],
          "name": "stdout"
        }
      ]
    },
    {
      "cell_type": "markdown",
      "metadata": {
        "id": "asoxygKpfiTO"
      },
      "source": [
        "### 2-3. model3 : 입력데이터를 정규화하여 넣어보자"
      ]
    },
    {
      "cell_type": "code",
      "metadata": {
        "id": "FAAcV7iWEDRA",
        "colab": {
          "base_uri": "https://localhost:8080/"
        },
        "outputId": "d3231e5c-acd1-4ca6-bb5e-bf501f3f58d3"
      },
      "source": [
        "X_train[0]"
      ],
      "execution_count": 31,
      "outputs": [
        {
          "output_type": "execute_result",
          "data": {
            "text/plain": [
              "array([[  0,   0,   0,   0,   0,   0,   0,   0,   0,   0,   0,   0,   0,\n",
              "          0,   0,   0,   0,   0,   0,   0,   0,   0,   0,   0,   0,   0,\n",
              "          0,   0],\n",
              "       [  0,   0,   0,   0,   0,   0,   0,   0,   0,   0,   0,   0,   0,\n",
              "          0,   0,   0,   0,   0,   0,   0,   0,   0,   0,   0,   0,   0,\n",
              "          0,   0],\n",
              "       [  0,   0,   0,   0,   0,   0,   0,   0,   0,   0,   0,   0,   0,\n",
              "          0,   0,   0,   0,   0,   0,   0,   0,   0,   0,   0,   0,   0,\n",
              "          0,   0],\n",
              "       [  0,   0,   0,   0,   0,   0,   0,   0,   0,   0,   0,   0,   0,\n",
              "          0,   0,   0,   0,   0,   0,   0,   0,   0,   0,   0,   0,   0,\n",
              "          0,   0],\n",
              "       [  0,   0,   0,   0,   0,   0,   0,   0,   0,   0,   0,   0,   0,\n",
              "          0,   0,   0,   0,   0,   0,   0,   0,   0,   0,   0,   0,   0,\n",
              "          0,   0],\n",
              "       [  0,   0,   0,   0,   0,   0,   0,   0,   0,   0,   0,   0,   3,\n",
              "         18,  18,  18, 126, 136, 175,  26, 166, 255, 247, 127,   0,   0,\n",
              "          0,   0],\n",
              "       [  0,   0,   0,   0,   0,   0,   0,   0,  30,  36,  94, 154, 170,\n",
              "        253, 253, 253, 253, 253, 225, 172, 253, 242, 195,  64,   0,   0,\n",
              "          0,   0],\n",
              "       [  0,   0,   0,   0,   0,   0,   0,  49, 238, 253, 253, 253, 253,\n",
              "        253, 253, 253, 253, 251,  93,  82,  82,  56,  39,   0,   0,   0,\n",
              "          0,   0],\n",
              "       [  0,   0,   0,   0,   0,   0,   0,  18, 219, 253, 253, 253, 253,\n",
              "        253, 198, 182, 247, 241,   0,   0,   0,   0,   0,   0,   0,   0,\n",
              "          0,   0],\n",
              "       [  0,   0,   0,   0,   0,   0,   0,   0,  80, 156, 107, 253, 253,\n",
              "        205,  11,   0,  43, 154,   0,   0,   0,   0,   0,   0,   0,   0,\n",
              "          0,   0],\n",
              "       [  0,   0,   0,   0,   0,   0,   0,   0,   0,  14,   1, 154, 253,\n",
              "         90,   0,   0,   0,   0,   0,   0,   0,   0,   0,   0,   0,   0,\n",
              "          0,   0],\n",
              "       [  0,   0,   0,   0,   0,   0,   0,   0,   0,   0,   0, 139, 253,\n",
              "        190,   2,   0,   0,   0,   0,   0,   0,   0,   0,   0,   0,   0,\n",
              "          0,   0],\n",
              "       [  0,   0,   0,   0,   0,   0,   0,   0,   0,   0,   0,  11, 190,\n",
              "        253,  70,   0,   0,   0,   0,   0,   0,   0,   0,   0,   0,   0,\n",
              "          0,   0],\n",
              "       [  0,   0,   0,   0,   0,   0,   0,   0,   0,   0,   0,   0,  35,\n",
              "        241, 225, 160, 108,   1,   0,   0,   0,   0,   0,   0,   0,   0,\n",
              "          0,   0],\n",
              "       [  0,   0,   0,   0,   0,   0,   0,   0,   0,   0,   0,   0,   0,\n",
              "         81, 240, 253, 253, 119,  25,   0,   0,   0,   0,   0,   0,   0,\n",
              "          0,   0],\n",
              "       [  0,   0,   0,   0,   0,   0,   0,   0,   0,   0,   0,   0,   0,\n",
              "          0,  45, 186, 253, 253, 150,  27,   0,   0,   0,   0,   0,   0,\n",
              "          0,   0],\n",
              "       [  0,   0,   0,   0,   0,   0,   0,   0,   0,   0,   0,   0,   0,\n",
              "          0,   0,  16,  93, 252, 253, 187,   0,   0,   0,   0,   0,   0,\n",
              "          0,   0],\n",
              "       [  0,   0,   0,   0,   0,   0,   0,   0,   0,   0,   0,   0,   0,\n",
              "          0,   0,   0,   0, 249, 253, 249,  64,   0,   0,   0,   0,   0,\n",
              "          0,   0],\n",
              "       [  0,   0,   0,   0,   0,   0,   0,   0,   0,   0,   0,   0,   0,\n",
              "          0,  46, 130, 183, 253, 253, 207,   2,   0,   0,   0,   0,   0,\n",
              "          0,   0],\n",
              "       [  0,   0,   0,   0,   0,   0,   0,   0,   0,   0,   0,   0,  39,\n",
              "        148, 229, 253, 253, 253, 250, 182,   0,   0,   0,   0,   0,   0,\n",
              "          0,   0],\n",
              "       [  0,   0,   0,   0,   0,   0,   0,   0,   0,   0,  24, 114, 221,\n",
              "        253, 253, 253, 253, 201,  78,   0,   0,   0,   0,   0,   0,   0,\n",
              "          0,   0],\n",
              "       [  0,   0,   0,   0,   0,   0,   0,   0,  23,  66, 213, 253, 253,\n",
              "        253, 253, 198,  81,   2,   0,   0,   0,   0,   0,   0,   0,   0,\n",
              "          0,   0],\n",
              "       [  0,   0,   0,   0,   0,   0,  18, 171, 219, 253, 253, 253, 253,\n",
              "        195,  80,   9,   0,   0,   0,   0,   0,   0,   0,   0,   0,   0,\n",
              "          0,   0],\n",
              "       [  0,   0,   0,   0,  55, 172, 226, 253, 253, 253, 253, 244, 133,\n",
              "         11,   0,   0,   0,   0,   0,   0,   0,   0,   0,   0,   0,   0,\n",
              "          0,   0],\n",
              "       [  0,   0,   0,   0, 136, 253, 253, 253, 212, 135, 132,  16,   0,\n",
              "          0,   0,   0,   0,   0,   0,   0,   0,   0,   0,   0,   0,   0,\n",
              "          0,   0],\n",
              "       [  0,   0,   0,   0,   0,   0,   0,   0,   0,   0,   0,   0,   0,\n",
              "          0,   0,   0,   0,   0,   0,   0,   0,   0,   0,   0,   0,   0,\n",
              "          0,   0],\n",
              "       [  0,   0,   0,   0,   0,   0,   0,   0,   0,   0,   0,   0,   0,\n",
              "          0,   0,   0,   0,   0,   0,   0,   0,   0,   0,   0,   0,   0,\n",
              "          0,   0],\n",
              "       [  0,   0,   0,   0,   0,   0,   0,   0,   0,   0,   0,   0,   0,\n",
              "          0,   0,   0,   0,   0,   0,   0,   0,   0,   0,   0,   0,   0,\n",
              "          0,   0]], dtype=uint8)"
            ]
          },
          "metadata": {
            "tags": []
          },
          "execution_count": 31
        }
      ]
    },
    {
      "cell_type": "markdown",
      "metadata": {
        "id": "MMXlkm7ZcjyW"
      },
      "source": [
        "#### 정규화를 하는 이유 \n",
        "\n",
        "\n",
        "<img src = 'https://www.agilent.com/cs/promotions/images/before-after-normalization.png' width=700>\n",
        "\n",
        "[출처](https://www.agilent.com/en/products/cell-analysis/seahorse-xf-imaging-normalization-solution)\n",
        "\n",
        "\n",
        "\n",
        "[참고 읽을거리](http://hleecaster.com/ml-normalization-concept/)"
      ]
    },
    {
      "cell_type": "code",
      "metadata": {
        "id": "nHO1vQrAEM2z"
      },
      "source": [
        "# 픽셀값 0 ~ 255 를 0 ~ 1 사이의 값으로 정규화\n",
        "X_train = X_train / 255\n",
        "X_test = X_test / 255"
      ],
      "execution_count": 32,
      "outputs": []
    },
    {
      "cell_type": "code",
      "metadata": {
        "id": "VrXVTJ7wEtJk",
        "colab": {
          "base_uri": "https://localhost:8080/"
        },
        "outputId": "49f28192-9fee-4bd5-d191-9e1d2e533cfb"
      },
      "source": [
        "X_train[0]"
      ],
      "execution_count": 33,
      "outputs": [
        {
          "output_type": "execute_result",
          "data": {
            "text/plain": [
              "array([[0.        , 0.        , 0.        , 0.        , 0.        ,\n",
              "        0.        , 0.        , 0.        , 0.        , 0.        ,\n",
              "        0.        , 0.        , 0.        , 0.        , 0.        ,\n",
              "        0.        , 0.        , 0.        , 0.        , 0.        ,\n",
              "        0.        , 0.        , 0.        , 0.        , 0.        ,\n",
              "        0.        , 0.        , 0.        ],\n",
              "       [0.        , 0.        , 0.        , 0.        , 0.        ,\n",
              "        0.        , 0.        , 0.        , 0.        , 0.        ,\n",
              "        0.        , 0.        , 0.        , 0.        , 0.        ,\n",
              "        0.        , 0.        , 0.        , 0.        , 0.        ,\n",
              "        0.        , 0.        , 0.        , 0.        , 0.        ,\n",
              "        0.        , 0.        , 0.        ],\n",
              "       [0.        , 0.        , 0.        , 0.        , 0.        ,\n",
              "        0.        , 0.        , 0.        , 0.        , 0.        ,\n",
              "        0.        , 0.        , 0.        , 0.        , 0.        ,\n",
              "        0.        , 0.        , 0.        , 0.        , 0.        ,\n",
              "        0.        , 0.        , 0.        , 0.        , 0.        ,\n",
              "        0.        , 0.        , 0.        ],\n",
              "       [0.        , 0.        , 0.        , 0.        , 0.        ,\n",
              "        0.        , 0.        , 0.        , 0.        , 0.        ,\n",
              "        0.        , 0.        , 0.        , 0.        , 0.        ,\n",
              "        0.        , 0.        , 0.        , 0.        , 0.        ,\n",
              "        0.        , 0.        , 0.        , 0.        , 0.        ,\n",
              "        0.        , 0.        , 0.        ],\n",
              "       [0.        , 0.        , 0.        , 0.        , 0.        ,\n",
              "        0.        , 0.        , 0.        , 0.        , 0.        ,\n",
              "        0.        , 0.        , 0.        , 0.        , 0.        ,\n",
              "        0.        , 0.        , 0.        , 0.        , 0.        ,\n",
              "        0.        , 0.        , 0.        , 0.        , 0.        ,\n",
              "        0.        , 0.        , 0.        ],\n",
              "       [0.        , 0.        , 0.        , 0.        , 0.        ,\n",
              "        0.        , 0.        , 0.        , 0.        , 0.        ,\n",
              "        0.        , 0.        , 0.01176471, 0.07058824, 0.07058824,\n",
              "        0.07058824, 0.49411765, 0.53333333, 0.68627451, 0.10196078,\n",
              "        0.65098039, 1.        , 0.96862745, 0.49803922, 0.        ,\n",
              "        0.        , 0.        , 0.        ],\n",
              "       [0.        , 0.        , 0.        , 0.        , 0.        ,\n",
              "        0.        , 0.        , 0.        , 0.11764706, 0.14117647,\n",
              "        0.36862745, 0.60392157, 0.66666667, 0.99215686, 0.99215686,\n",
              "        0.99215686, 0.99215686, 0.99215686, 0.88235294, 0.6745098 ,\n",
              "        0.99215686, 0.94901961, 0.76470588, 0.25098039, 0.        ,\n",
              "        0.        , 0.        , 0.        ],\n",
              "       [0.        , 0.        , 0.        , 0.        , 0.        ,\n",
              "        0.        , 0.        , 0.19215686, 0.93333333, 0.99215686,\n",
              "        0.99215686, 0.99215686, 0.99215686, 0.99215686, 0.99215686,\n",
              "        0.99215686, 0.99215686, 0.98431373, 0.36470588, 0.32156863,\n",
              "        0.32156863, 0.21960784, 0.15294118, 0.        , 0.        ,\n",
              "        0.        , 0.        , 0.        ],\n",
              "       [0.        , 0.        , 0.        , 0.        , 0.        ,\n",
              "        0.        , 0.        , 0.07058824, 0.85882353, 0.99215686,\n",
              "        0.99215686, 0.99215686, 0.99215686, 0.99215686, 0.77647059,\n",
              "        0.71372549, 0.96862745, 0.94509804, 0.        , 0.        ,\n",
              "        0.        , 0.        , 0.        , 0.        , 0.        ,\n",
              "        0.        , 0.        , 0.        ],\n",
              "       [0.        , 0.        , 0.        , 0.        , 0.        ,\n",
              "        0.        , 0.        , 0.        , 0.31372549, 0.61176471,\n",
              "        0.41960784, 0.99215686, 0.99215686, 0.80392157, 0.04313725,\n",
              "        0.        , 0.16862745, 0.60392157, 0.        , 0.        ,\n",
              "        0.        , 0.        , 0.        , 0.        , 0.        ,\n",
              "        0.        , 0.        , 0.        ],\n",
              "       [0.        , 0.        , 0.        , 0.        , 0.        ,\n",
              "        0.        , 0.        , 0.        , 0.        , 0.05490196,\n",
              "        0.00392157, 0.60392157, 0.99215686, 0.35294118, 0.        ,\n",
              "        0.        , 0.        , 0.        , 0.        , 0.        ,\n",
              "        0.        , 0.        , 0.        , 0.        , 0.        ,\n",
              "        0.        , 0.        , 0.        ],\n",
              "       [0.        , 0.        , 0.        , 0.        , 0.        ,\n",
              "        0.        , 0.        , 0.        , 0.        , 0.        ,\n",
              "        0.        , 0.54509804, 0.99215686, 0.74509804, 0.00784314,\n",
              "        0.        , 0.        , 0.        , 0.        , 0.        ,\n",
              "        0.        , 0.        , 0.        , 0.        , 0.        ,\n",
              "        0.        , 0.        , 0.        ],\n",
              "       [0.        , 0.        , 0.        , 0.        , 0.        ,\n",
              "        0.        , 0.        , 0.        , 0.        , 0.        ,\n",
              "        0.        , 0.04313725, 0.74509804, 0.99215686, 0.2745098 ,\n",
              "        0.        , 0.        , 0.        , 0.        , 0.        ,\n",
              "        0.        , 0.        , 0.        , 0.        , 0.        ,\n",
              "        0.        , 0.        , 0.        ],\n",
              "       [0.        , 0.        , 0.        , 0.        , 0.        ,\n",
              "        0.        , 0.        , 0.        , 0.        , 0.        ,\n",
              "        0.        , 0.        , 0.1372549 , 0.94509804, 0.88235294,\n",
              "        0.62745098, 0.42352941, 0.00392157, 0.        , 0.        ,\n",
              "        0.        , 0.        , 0.        , 0.        , 0.        ,\n",
              "        0.        , 0.        , 0.        ],\n",
              "       [0.        , 0.        , 0.        , 0.        , 0.        ,\n",
              "        0.        , 0.        , 0.        , 0.        , 0.        ,\n",
              "        0.        , 0.        , 0.        , 0.31764706, 0.94117647,\n",
              "        0.99215686, 0.99215686, 0.46666667, 0.09803922, 0.        ,\n",
              "        0.        , 0.        , 0.        , 0.        , 0.        ,\n",
              "        0.        , 0.        , 0.        ],\n",
              "       [0.        , 0.        , 0.        , 0.        , 0.        ,\n",
              "        0.        , 0.        , 0.        , 0.        , 0.        ,\n",
              "        0.        , 0.        , 0.        , 0.        , 0.17647059,\n",
              "        0.72941176, 0.99215686, 0.99215686, 0.58823529, 0.10588235,\n",
              "        0.        , 0.        , 0.        , 0.        , 0.        ,\n",
              "        0.        , 0.        , 0.        ],\n",
              "       [0.        , 0.        , 0.        , 0.        , 0.        ,\n",
              "        0.        , 0.        , 0.        , 0.        , 0.        ,\n",
              "        0.        , 0.        , 0.        , 0.        , 0.        ,\n",
              "        0.0627451 , 0.36470588, 0.98823529, 0.99215686, 0.73333333,\n",
              "        0.        , 0.        , 0.        , 0.        , 0.        ,\n",
              "        0.        , 0.        , 0.        ],\n",
              "       [0.        , 0.        , 0.        , 0.        , 0.        ,\n",
              "        0.        , 0.        , 0.        , 0.        , 0.        ,\n",
              "        0.        , 0.        , 0.        , 0.        , 0.        ,\n",
              "        0.        , 0.        , 0.97647059, 0.99215686, 0.97647059,\n",
              "        0.25098039, 0.        , 0.        , 0.        , 0.        ,\n",
              "        0.        , 0.        , 0.        ],\n",
              "       [0.        , 0.        , 0.        , 0.        , 0.        ,\n",
              "        0.        , 0.        , 0.        , 0.        , 0.        ,\n",
              "        0.        , 0.        , 0.        , 0.        , 0.18039216,\n",
              "        0.50980392, 0.71764706, 0.99215686, 0.99215686, 0.81176471,\n",
              "        0.00784314, 0.        , 0.        , 0.        , 0.        ,\n",
              "        0.        , 0.        , 0.        ],\n",
              "       [0.        , 0.        , 0.        , 0.        , 0.        ,\n",
              "        0.        , 0.        , 0.        , 0.        , 0.        ,\n",
              "        0.        , 0.        , 0.15294118, 0.58039216, 0.89803922,\n",
              "        0.99215686, 0.99215686, 0.99215686, 0.98039216, 0.71372549,\n",
              "        0.        , 0.        , 0.        , 0.        , 0.        ,\n",
              "        0.        , 0.        , 0.        ],\n",
              "       [0.        , 0.        , 0.        , 0.        , 0.        ,\n",
              "        0.        , 0.        , 0.        , 0.        , 0.        ,\n",
              "        0.09411765, 0.44705882, 0.86666667, 0.99215686, 0.99215686,\n",
              "        0.99215686, 0.99215686, 0.78823529, 0.30588235, 0.        ,\n",
              "        0.        , 0.        , 0.        , 0.        , 0.        ,\n",
              "        0.        , 0.        , 0.        ],\n",
              "       [0.        , 0.        , 0.        , 0.        , 0.        ,\n",
              "        0.        , 0.        , 0.        , 0.09019608, 0.25882353,\n",
              "        0.83529412, 0.99215686, 0.99215686, 0.99215686, 0.99215686,\n",
              "        0.77647059, 0.31764706, 0.00784314, 0.        , 0.        ,\n",
              "        0.        , 0.        , 0.        , 0.        , 0.        ,\n",
              "        0.        , 0.        , 0.        ],\n",
              "       [0.        , 0.        , 0.        , 0.        , 0.        ,\n",
              "        0.        , 0.07058824, 0.67058824, 0.85882353, 0.99215686,\n",
              "        0.99215686, 0.99215686, 0.99215686, 0.76470588, 0.31372549,\n",
              "        0.03529412, 0.        , 0.        , 0.        , 0.        ,\n",
              "        0.        , 0.        , 0.        , 0.        , 0.        ,\n",
              "        0.        , 0.        , 0.        ],\n",
              "       [0.        , 0.        , 0.        , 0.        , 0.21568627,\n",
              "        0.6745098 , 0.88627451, 0.99215686, 0.99215686, 0.99215686,\n",
              "        0.99215686, 0.95686275, 0.52156863, 0.04313725, 0.        ,\n",
              "        0.        , 0.        , 0.        , 0.        , 0.        ,\n",
              "        0.        , 0.        , 0.        , 0.        , 0.        ,\n",
              "        0.        , 0.        , 0.        ],\n",
              "       [0.        , 0.        , 0.        , 0.        , 0.53333333,\n",
              "        0.99215686, 0.99215686, 0.99215686, 0.83137255, 0.52941176,\n",
              "        0.51764706, 0.0627451 , 0.        , 0.        , 0.        ,\n",
              "        0.        , 0.        , 0.        , 0.        , 0.        ,\n",
              "        0.        , 0.        , 0.        , 0.        , 0.        ,\n",
              "        0.        , 0.        , 0.        ],\n",
              "       [0.        , 0.        , 0.        , 0.        , 0.        ,\n",
              "        0.        , 0.        , 0.        , 0.        , 0.        ,\n",
              "        0.        , 0.        , 0.        , 0.        , 0.        ,\n",
              "        0.        , 0.        , 0.        , 0.        , 0.        ,\n",
              "        0.        , 0.        , 0.        , 0.        , 0.        ,\n",
              "        0.        , 0.        , 0.        ],\n",
              "       [0.        , 0.        , 0.        , 0.        , 0.        ,\n",
              "        0.        , 0.        , 0.        , 0.        , 0.        ,\n",
              "        0.        , 0.        , 0.        , 0.        , 0.        ,\n",
              "        0.        , 0.        , 0.        , 0.        , 0.        ,\n",
              "        0.        , 0.        , 0.        , 0.        , 0.        ,\n",
              "        0.        , 0.        , 0.        ],\n",
              "       [0.        , 0.        , 0.        , 0.        , 0.        ,\n",
              "        0.        , 0.        , 0.        , 0.        , 0.        ,\n",
              "        0.        , 0.        , 0.        , 0.        , 0.        ,\n",
              "        0.        , 0.        , 0.        , 0.        , 0.        ,\n",
              "        0.        , 0.        , 0.        , 0.        , 0.        ,\n",
              "        0.        , 0.        , 0.        ]])"
            ]
          },
          "metadata": {
            "tags": []
          },
          "execution_count": 33
        }
      ]
    },
    {
      "cell_type": "code",
      "metadata": {
        "id": "T0cQLoyrEShm"
      },
      "source": [
        "from tensorflow.keras.models import Sequential\n",
        "from tensorflow.keras.layers import Dense, Flatten\n",
        "\n",
        "# 딥러닝 층을 담을 수 있는 객체 생성\n",
        "model3 = Sequential()"
      ],
      "execution_count": 34,
      "outputs": []
    },
    {
      "cell_type": "code",
      "metadata": {
        "id": "7vYcHKBXgVoZ"
      },
      "source": [
        "# 28*28을 한 줄로 만들어주는 작업\n",
        "model3.add(Flatten())"
      ],
      "execution_count": 35,
      "outputs": []
    },
    {
      "cell_type": "code",
      "metadata": {
        "id": "FmHabnHVgVrB"
      },
      "source": [
        "# 모델에 층 추가 : 입력층 784 --> 은닉층 512\n",
        "model3.add(Dense(512, input_dim = 784, activation='relu'))"
      ],
      "execution_count": 36,
      "outputs": []
    },
    {
      "cell_type": "code",
      "metadata": {
        "id": "lTwecupnhB8J"
      },
      "source": [
        "# 모델에 층 추가 : 은닉층 512 --> 출력층 10\n",
        "model3.add(Dense(10, activation='softmax'))"
      ],
      "execution_count": 37,
      "outputs": []
    },
    {
      "cell_type": "code",
      "metadata": {
        "id": "POfskAyIgVtk"
      },
      "source": [
        "# 작성한 모델 컴파일\n",
        "model3.compile(loss='categorical_crossentropy', \n",
        "               optimizer='adam', metrics=['accuracy'])"
      ],
      "execution_count": 38,
      "outputs": []
    },
    {
      "cell_type": "code",
      "metadata": {
        "id": "N1Q9CCKjETHU",
        "colab": {
          "base_uri": "https://localhost:8080/"
        },
        "outputId": "012eeca5-0ec3-4f58-b897-5345294a7b40"
      },
      "source": [
        "# 작성한 모델에 학습데이터를 넣어 학습 \n",
        "# 현재  X_train에는 정규화 처리된 데이터가 저장되어 있음\n",
        "model3.fit(X_train, Y_train, \n",
        "           epochs=10, batch_size=200, verbose=2)"
      ],
      "execution_count": 39,
      "outputs": [
        {
          "output_type": "stream",
          "text": [
            "Epoch 1/10\n",
            "300/300 - 3s - loss: 0.3011 - accuracy: 0.9154\n",
            "Epoch 2/10\n",
            "300/300 - 2s - loss: 0.1237 - accuracy: 0.9648\n",
            "Epoch 3/10\n",
            "300/300 - 2s - loss: 0.0826 - accuracy: 0.9762\n",
            "Epoch 4/10\n",
            "300/300 - 2s - loss: 0.0601 - accuracy: 0.9826\n",
            "Epoch 5/10\n",
            "300/300 - 2s - loss: 0.0453 - accuracy: 0.9875\n",
            "Epoch 6/10\n",
            "300/300 - 2s - loss: 0.0337 - accuracy: 0.9906\n",
            "Epoch 7/10\n",
            "300/300 - 2s - loss: 0.0265 - accuracy: 0.9928\n",
            "Epoch 8/10\n",
            "300/300 - 2s - loss: 0.0209 - accuracy: 0.9944\n",
            "Epoch 9/10\n",
            "300/300 - 2s - loss: 0.0160 - accuracy: 0.9961\n",
            "Epoch 10/10\n",
            "300/300 - 2s - loss: 0.0117 - accuracy: 0.9978\n"
          ],
          "name": "stdout"
        },
        {
          "output_type": "execute_result",
          "data": {
            "text/plain": [
              "<tensorflow.python.keras.callbacks.History at 0x7fa2c6354320>"
            ]
          },
          "metadata": {
            "tags": []
          },
          "execution_count": 39
        }
      ]
    },
    {
      "cell_type": "code",
      "metadata": {
        "id": "KAv1JeA69_nZ"
      },
      "source": [
        "predict3= model3.predict(X_test[:5])"
      ],
      "execution_count": 40,
      "outputs": []
    },
    {
      "cell_type": "code",
      "metadata": {
        "colab": {
          "base_uri": "https://localhost:8080/",
          "height": 1000
        },
        "id": "vnHAZaRA9_ni",
        "outputId": "e6c61f33-043a-4e3d-c4c7-16587bfd7a3b"
      },
      "source": [
        "for i in range(5) : \n",
        "    plt.imshow(X_test[i], cmap='gray')\n",
        "    plt.show()\n",
        "\n",
        "    print('softmax값 :', predict3[i])\n",
        "    print('softmax값 중 가장 큰 원소값 :',np.max(predict3[i]))\n",
        "    print('softmax값 중 가장 큰 원소값을 가진 index :',np.argmax(predict3[i]))"
      ],
      "execution_count": 41,
      "outputs": [
        {
          "output_type": "display_data",
          "data": {
            "image/png": "[encoded data removed]",
            "text/plain": [
              "<Figure size 432x288 with 1 Axes>"
            ]
          },
          "metadata": {
            "tags": [],
            "needs_background": "light"
          }
        },
        {
          "output_type": "stream",
          "text": [
            "softmax값 : [3.30112954e-07 1.06669233e-08 1.16729234e-06 1.85388213e-04\n",
            " 2.03729204e-11 6.98130398e-09 5.81076636e-13 9.99800742e-01\n",
            " 4.25378261e-07 1.19112765e-05]\n",
            "softmax값 중 가장 큰 원소값 : 0.99980074\n",
            "softmax값 중 가장 큰 원소값을 가진 index : 7\n"
          ],
          "name": "stdout"
        },
        {
          "output_type": "display_data",
          "data": {
            "image/png": "[encoded data removed]",
            "text/plain": [
              "<Figure size 432x288 with 1 Axes>"
            ]
          },
          "metadata": {
            "tags": [],
            "needs_background": "light"
          }
        },
        {
          "output_type": "stream",
          "text": [
            "softmax값 : [3.6025596e-10 8.6887127e-07 9.9999905e-01 6.7212504e-08 1.3628725e-18\n",
            " 2.0494237e-08 2.5995337e-09 2.4351179e-14 1.7337458e-08 5.9510063e-16]\n",
            "softmax값 중 가장 큰 원소값 : 0.99999905\n",
            "softmax값 중 가장 큰 원소값을 가진 index : 2\n"
          ],
          "name": "stdout"
        },
        {
          "output_type": "display_data",
          "data": {
            "image/png": "[encoded data removed]",
            "text/plain": [
              "<Figure size 432x288 with 1 Axes>"
            ]
          },
          "metadata": {
            "tags": [],
            "needs_background": "light"
          }
        },
        {
          "output_type": "stream",
          "text": [
            "softmax값 : [4.5682685e-07 9.9962187e-01 6.2629828e-05 7.6488345e-07 1.2735140e-05\n",
            " 2.5844943e-06 3.4446207e-06 1.6344644e-04 1.3139403e-04 6.4286542e-07]\n",
            "softmax값 중 가장 큰 원소값 : 0.99962187\n",
            "softmax값 중 가장 큰 원소값을 가진 index : 1\n"
          ],
          "name": "stdout"
        },
        {
          "output_type": "display_data",
          "data": {
            "image/png": "[encoded data removed]",
            "text/plain": [
              "<Figure size 432x288 with 1 Axes>"
            ]
          },
          "metadata": {
            "tags": [],
            "needs_background": "light"
          }
        },
        {
          "output_type": "stream",
          "text": [
            "softmax값 : [9.9999964e-01 2.2413004e-11 8.7449763e-08 9.9787456e-10 7.9016776e-12\n",
            " 1.0185019e-08 6.7650483e-08 2.7444602e-07 3.3391269e-11 2.2800887e-08]\n",
            "softmax값 중 가장 큰 원소값 : 0.99999964\n",
            "softmax값 중 가장 큰 원소값을 가진 index : 0\n"
          ],
          "name": "stdout"
        },
        {
          "output_type": "display_data",
          "data": {
            "image/png": "[encoded data removed]",
            "text/plain": [
              "<Figure size 432x288 with 1 Axes>"
            ]
          },
          "metadata": {
            "tags": [],
            "needs_background": "light"
          }
        },
        {
          "output_type": "stream",
          "text": [
            "softmax값 : [1.0905311e-06 7.0953341e-09 1.3220134e-07 5.6873994e-10 9.9745864e-01\n",
            " 2.0894959e-08 3.3491162e-07 7.3130605e-06 3.8086202e-07 2.5320631e-03]\n",
            "softmax값 중 가장 큰 원소값 : 0.99745864\n",
            "softmax값 중 가장 큰 원소값을 가진 index : 4\n"
          ],
          "name": "stdout"
        }
      ]
    },
    {
      "cell_type": "code",
      "metadata": {
        "id": "_9FwqcqZgsa4",
        "colab": {
          "base_uri": "https://localhost:8080/"
        },
        "outputId": "f49652ac-d303-4267-b6cc-feb289a1fd47"
      },
      "source": [
        "# 완성된 모델 평가하기\n",
        "score3 = model3.evaluate(X_test, Y_test, verbose =1)\n",
        "\n",
        "print(score3)      #[오차, 정확도]"
      ],
      "execution_count": 42,
      "outputs": [
        {
          "output_type": "stream",
          "text": [
            "313/313 [==============================] - 1s 1ms/step - loss: 0.0659 - accuracy: 0.9807\n",
            "[0.06593697518110275, 0.9807000160217285]\n"
          ],
          "name": "stdout"
        }
      ]
    },
    {
      "cell_type": "code",
      "metadata": {
        "id": "hB4uDv8hgsa8",
        "colab": {
          "base_uri": "https://localhost:8080/"
        },
        "outputId": "e636c04e-00da-4548-ef1b-847aa002f78f"
      },
      "source": [
        "# 최종 점수\n",
        "print(score3[1]*100)"
      ],
      "execution_count": 43,
      "outputs": [
        {
          "output_type": "stream",
          "text": [
            "98.07000160217285\n"
          ],
          "name": "stdout"
        }
      ]
    },
    {
      "cell_type": "markdown",
      "metadata": {
        "id": "rkkBMokkceMP"
      },
      "source": [
        "### 2-4. model4 : 이미지 처리 CNN\n",
        "\n",
        "#### 1) Convolutional Layer\n",
        "\n",
        "<img src='https://mlnotebook.github.io/img/CNN/convSobel.gif' width=600>\n",
        "\n",
        "#### 2) Maxpooling Layer\n",
        "\n",
        "<img src='https://developers.google.com/machine-learning/practica/image-classification/images/maxpool_animation.gif' width=600>\n",
        "\n",
        "<img src='https://media-exp1.licdn.com/dms/image/C5112AQFli1PZInreVg/article-inline_image-shrink_1000_1488/0/1582176329803?e=1614816000&v=beta&t=1DyGcZkoYEibME2E3uetZj__7maqMwDtpbiZuiDzpy0' width=600>"
      ]
    },
    {
      "cell_type": "code",
      "metadata": {
        "id": "L87AdXrJca6_"
      },
      "source": [
        "# Conv계층은 3차원 데이터를 입력으로 하기 때문에 1개 숫자를 3차원으로 구성해야 함\n",
        "X_train = X_train.reshape(X_train.shape[0], 28, 28, 1)\n",
        "X_test = X_test.reshape(X_test.shape[0], 28, 28, 1)"
      ],
      "execution_count": 44,
      "outputs": []
    },
    {
      "cell_type": "markdown",
      "metadata": {
        "id": "L-8VnOLHKvOZ"
      },
      "source": [
        "<img src='https://files.ai-pool.com/d/33f829e1a4fe45151fd45f15008fa133.png' width=300>\n",
        "\n",
        "<img src='https://nicholastsmith.files.wordpress.com/2017/04/cnnanim.gif?w=1100' width=600>"
      ]
    },
    {
      "cell_type": "markdown",
      "metadata": {
        "id": "ceX56cEqMBFT"
      },
      "source": [
        "> CNN 구조\n",
        "\n",
        "<img src='https://www.oreilly.com/library/view/deep-learning/9781491924570/assets/dpln_0415.png' width=800>"
      ]
    },
    {
      "cell_type": "code",
      "metadata": {
        "id": "UI3MSJZr-fdS"
      },
      "source": [
        "from tensorflow.keras.models import Sequential\n",
        "from tensorflow.keras.layers import Dense, Flatten, Conv2D, Dropout, MaxPooling2D\n",
        "\n",
        "# 딥러닝 층을 담을 수 있는 객체 생성\n",
        "model4 = Sequential()"
      ],
      "execution_count": 45,
      "outputs": []
    },
    {
      "cell_type": "code",
      "metadata": {
        "id": "XYSnz-ia-fdW"
      },
      "source": [
        "# Concolutional 계층 추가 - 3*3 사이즈의 필터 32개 적용\n",
        "# Conv계층에 flatten() 사용불가 - 필터를 적용하려면 2차원이여야 함\n",
        "model4.add(Conv2D(32, kernel_size=(3,3), input_shape=(28, 28, 1),\n",
        "                  activation ='relu'))"
      ],
      "execution_count": 46,
      "outputs": []
    },
    {
      "cell_type": "code",
      "metadata": {
        "id": "INfP1_sMCKmr"
      },
      "source": [
        "# Maxpooling 계층 추가\n",
        "model4.add(MaxPooling2D(pool_size=(2,2)))"
      ],
      "execution_count": 47,
      "outputs": []
    },
    {
      "cell_type": "code",
      "metadata": {
        "id": "4NezC43nCKrT"
      },
      "source": [
        "# 신경망 학습 적용\n",
        "model4.add(Flatten())\n",
        "model4.add(Dense(128, activation='relu'))\n",
        "model4.add(Dense(10, activation='softmax'))"
      ],
      "execution_count": 48,
      "outputs": []
    },
    {
      "cell_type": "code",
      "metadata": {
        "id": "HVyl5gFzCKtz"
      },
      "source": [
        "model4.compile(loss='categorical_crossentropy', \n",
        "               optimizer='adam', metrics=['accuracy'])"
      ],
      "execution_count": 49,
      "outputs": []
    },
    {
      "cell_type": "code",
      "metadata": {
        "colab": {
          "base_uri": "https://localhost:8080/"
        },
        "id": "ETwnUUWVCKw7",
        "outputId": "a0d8d579-69d6-43f6-f7c6-c10216193269"
      },
      "source": [
        "model4.summary()"
      ],
      "execution_count": 50,
      "outputs": [
        {
          "output_type": "stream",
          "text": [
            "Model: \"sequential_3\"\n",
            "_________________________________________________________________\n",
            "Layer (type)                 Output Shape              Param #   \n",
            "=================================================================\n",
            "conv2d (Conv2D)              (None, 26, 26, 32)        320       \n",
            "_________________________________________________________________\n",
            "max_pooling2d (MaxPooling2D) (None, 13, 13, 32)        0         \n",
            "_________________________________________________________________\n",
            "flatten_3 (Flatten)          (None, 5408)              0         \n",
            "_________________________________________________________________\n",
            "dense_5 (Dense)              (None, 128)               692352    \n",
            "_________________________________________________________________\n",
            "dense_6 (Dense)              (None, 10)                1290      \n",
            "=================================================================\n",
            "Total params: 693,962\n",
            "Trainable params: 693,962\n",
            "Non-trainable params: 0\n",
            "_________________________________________________________________\n"
          ],
          "name": "stdout"
        }
      ]
    },
    {
      "cell_type": "code",
      "metadata": {
        "colab": {
          "base_uri": "https://localhost:8080/"
        },
        "id": "R0-_UWTc-fdX",
        "outputId": "d0899c8f-4703-41d1-b26f-246fdaa0c762"
      },
      "source": [
        "# 작성한 모델에 학습데이터를 넣어 학습 \n",
        "# 현재  X_train에는 정규화 처리된 데이터가 저장되어 있음\n",
        "model4.fit(X_train, Y_train, \n",
        "           epochs=10, batch_size=200, verbose=2)"
      ],
      "execution_count": 51,
      "outputs": [
        {
          "output_type": "stream",
          "text": [
            "Epoch 1/10\n",
            "300/300 - 19s - loss: 0.2677 - accuracy: 0.9245\n",
            "Epoch 2/10\n",
            "300/300 - 19s - loss: 0.0804 - accuracy: 0.9763\n",
            "Epoch 3/10\n",
            "300/300 - 19s - loss: 0.0528 - accuracy: 0.9845\n",
            "Epoch 4/10\n",
            "300/300 - 19s - loss: 0.0413 - accuracy: 0.9879\n",
            "Epoch 5/10\n",
            "300/300 - 19s - loss: 0.0331 - accuracy: 0.9905\n",
            "Epoch 6/10\n",
            "300/300 - 18s - loss: 0.0245 - accuracy: 0.9928\n",
            "Epoch 7/10\n",
            "300/300 - 18s - loss: 0.0212 - accuracy: 0.9938\n",
            "Epoch 8/10\n",
            "300/300 - 18s - loss: 0.0170 - accuracy: 0.9949\n",
            "Epoch 9/10\n",
            "300/300 - 18s - loss: 0.0126 - accuracy: 0.9965\n",
            "Epoch 10/10\n",
            "300/300 - 19s - loss: 0.0102 - accuracy: 0.9969\n"
          ],
          "name": "stdout"
        },
        {
          "output_type": "execute_result",
          "data": {
            "text/plain": [
              "<tensorflow.python.keras.callbacks.History at 0x7fa2c6490208>"
            ]
          },
          "metadata": {
            "tags": []
          },
          "execution_count": 51
        }
      ]
    },
    {
      "cell_type": "code",
      "metadata": {
        "colab": {
          "base_uri": "https://localhost:8080/"
        },
        "id": "LxS3SBlX-fdY",
        "outputId": "da427d3a-a871-4b5b-b560-e1cceb459c5e"
      },
      "source": [
        "# 완성된 모델 평가하기\n",
        "score4 = model4.evaluate(X_test, Y_test, verbose =1)\n",
        "\n",
        "print(score4)      #[오차, 정확도]"
      ],
      "execution_count": 52,
      "outputs": [
        {
          "output_type": "stream",
          "text": [
            "313/313 [==============================] - 2s 6ms/step - loss: 0.0472 - accuracy: 0.9849\n",
            "[0.047183189541101456, 0.9848999977111816]\n"
          ],
          "name": "stdout"
        }
      ]
    },
    {
      "cell_type": "code",
      "metadata": {
        "colab": {
          "base_uri": "https://localhost:8080/"
        },
        "id": "R9ZMscSB-fdY",
        "outputId": "dddb857f-a31e-436f-ca3a-f7eca5d25fe7"
      },
      "source": [
        "# 최종 점수\n",
        "print(score4[1]*100)"
      ],
      "execution_count": 53,
      "outputs": [
        {
          "output_type": "stream",
          "text": [
            "98.48999977111816\n"
          ],
          "name": "stdout"
        }
      ]
    },
    {
      "cell_type": "markdown",
      "metadata": {
        "id": "xTuHgGjzQF5-"
      },
      "source": [
        "## 내 손글씨를 인식할 수 있을까?\n",
        "<img src = 'https://github.com/Ahnjihye/allinone_AI/blob/images/35_%EA%B7%B8%EB%A6%BC%ED%8C%90.png?raw=true' width=700>"
      ]
    },
    {
      "cell_type": "code",
      "metadata": {
        "id": "MaTEBxt2FiUf",
        "colab": {
          "resources": {
            "http://localhost:8080/nbextensions/google.colab/files.js": {
              "data": "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",
              "ok": true,
              "headers": [
                [
                  "content-type",
                  "application/javascript"
                ]
              ],
              "status": 200,
              "status_text": ""
            }
          },
          "base_uri": "https://localhost:8080/",
          "height": 73
        },
        "outputId": "7ca73923-8823-4404-c4f1-b5879491dce6"
      },
      "source": [
        "from google.colab import files\n",
        "uploaded = files.upload()"
      ],
      "execution_count": 121,
      "outputs": [
        {
          "output_type": "display_data",
          "data": {
            "text/html": [
              "\n",
              "     <input type=\"file\" id=\"files-d515b87e-1fc5-4b5e-a8a6-c4b5a9437250\" name=\"files[]\" multiple disabled\n",
              "        style=\"border:none\" />\n",
              "     <output id=\"result-d515b87e-1fc5-4b5e-a8a6-c4b5a9437250\">\n",
              "      Upload widget is only available when the cell has been executed in the\n",
              "      current browser session. Please rerun this cell to enable.\n",
              "      </output>\n",
              "      <script src=\"/nbextensions/google.colab/files.js\"></script> "
            ],
            "text/plain": [
              "<IPython.core.display.HTML object>"
            ]
          },
          "metadata": {
            "tags": []
          }
        },
        {
          "output_type": "stream",
          "text": [
            "Saving 8.png to 8.png\n"
          ],
          "name": "stdout"
        }
      ]
    },
    {
      "cell_type": "code",
      "metadata": {
        "id": "H1zOwZAOqi-7"
      },
      "source": [
        "from tensorflow.keras.preprocessing import image\n",
        "\n",
        "s = image.load_img('8.png', target_size=(28, 28), color_mode=\"grayscale\")\n",
        "img = image.img_to_array(s).astype('float32')\n"
      ],
      "execution_count": 124,
      "outputs": []
    },
    {
      "cell_type": "code",
      "metadata": {
        "colab": {
          "base_uri": "https://localhost:8080/"
        },
        "id": "DSL3VVd4Hzju",
        "outputId": "f9a921ac-dc05-44dc-fa37-0fd1953e534b"
      },
      "source": [
        "# model4에 넣고 예측\n",
        "print(np.argmax(model4.predict(img.reshape(-1, 28, 28, 1))))"
      ],
      "execution_count": 125,
      "outputs": [
        {
          "output_type": "stream",
          "text": [
            "8\n"
          ],
          "name": "stdout"
        }
      ]
    },
    {
      "cell_type": "code",
      "metadata": {
        "id": "U73bQhcmH77K"
      },
      "source": [
        ""
      ],
      "execution_count": null,
      "outputs": []
    }
  ]
}