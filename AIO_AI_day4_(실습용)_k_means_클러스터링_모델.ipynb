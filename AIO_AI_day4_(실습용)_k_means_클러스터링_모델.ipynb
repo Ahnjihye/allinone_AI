{
  "nbformat": 4,
  "nbformat_minor": 0,
  "metadata": {
    "colab": {
      "name": "AIO_AI_day4_(실습용)_k-means 클러스터링 모델.ipynb",
      "provenance": [],
      "collapsed_sections": [],
      "include_colab_link": true
    },
    "kernelspec": {
      "name": "python3",
      "display_name": "Python 3"
    }
  },
  "cells": [
    {
      "cell_type": "markdown",
      "metadata": {
        "id": "view-in-github",
        "colab_type": "text"
      },
      "source": [
        "<a href=\"https://colab.research.google.com/github/Ahnjihye/allinone_AI/blob/master/AIO_AI_day4_(%EC%8B%A4%EC%8A%B5%EC%9A%A9)_k_means_%ED%81%B4%EB%9F%AC%EC%8A%A4%ED%84%B0%EB%A7%81_%EB%AA%A8%EB%8D%B8.ipynb\" target=\"_parent\"><img src=\"https://colab.research.google.com/assets/colab-badge.svg\" alt=\"Open In Colab\"/></a>"
      ]
    },
    {
      "cell_type": "markdown",
      "metadata": {
        "id": "1Xa5Y5r1RYAG",
        "colab_type": "text"
      },
      "source": [
        "# **1. 데이터 불러오고 확인해보기**"
      ]
    },
    {
      "cell_type": "code",
      "metadata": {
        "id": "NyYYGakPOpEX",
        "colab_type": "code",
        "colab": {}
      },
      "source": [
        "# 방법1) 내 PC에 있는 파일 불러오기\n",
        "\n",
        "#from google.colab import files\n",
        "#uploaded = files.upload()"
      ],
      "execution_count": null,
      "outputs": []
    },
    {
      "cell_type": "code",
      "metadata": {
        "id": "QLOOMX_sUxJI",
        "colab_type": "code",
        "colab": {}
      },
      "source": [
        "# 방법2) 깃허브에 있는 파일 불러오기\n",
        "\n"
      ],
      "execution_count": null,
      "outputs": []
    },
    {
      "cell_type": "code",
      "metadata": {
        "id": "7MZgtCrNOwwZ",
        "colab_type": "code",
        "colab": {}
      },
      "source": [
        "import csv \n",
        " \n",
        "f = open('파일이름.csv')     # 파일 오픈\n",
        "data = csv.reader(f)         # 파일 읽기\n",
        "next(data)                   # 파일 헤더 건너뛰기 \n",
        "data = list(data)            # 파일 리스트로 바꾸기\n"
      ],
      "execution_count": null,
      "outputs": []
    },
    {
      "cell_type": "code",
      "metadata": {
        "id": "YnuTMEq2U7SF",
        "colab_type": "code",
        "colab": {}
      },
      "source": [
        "# 확인용\n"
      ],
      "execution_count": null,
      "outputs": []
    },
    {
      "cell_type": "code",
      "metadata": {
        "id": "Avq69yzbPROF",
        "colab_type": "code",
        "colab": {}
      },
      "source": [
        "# 꽃받침 길이/넓이 => 숫자(실수)로 변경\n",
        "\n",
        "\n",
        "\n",
        "# 확인용\n"
      ],
      "execution_count": null,
      "outputs": []
    },
    {
      "cell_type": "code",
      "metadata": {
        "id": "Kyq3wRemPQ55",
        "colab_type": "code",
        "colab": {}
      },
      "source": [
        "# 데이터 분포를 확인하기 위한 시각화 (품종을 나타내는 레이블이 없다고 가정)\n",
        "\n",
        "import matplotlib.pyplot as plt\n",
        "\n"
      ],
      "execution_count": null,
      "outputs": []
    },
    {
      "cell_type": "markdown",
      "metadata": {
        "id": "HKcQ0dfzR9l_",
        "colab_type": "text"
      },
      "source": [
        "# **2. k-means 알고리즘에 따라 구현해보기 (단계별)**"
      ]
    },
    {
      "cell_type": "code",
      "metadata": {
        "id": "PP9jHCW_K93I",
        "colab_type": "code",
        "colab": {}
      },
      "source": [
        "# [단계1] 변수 초기화, 두 개의 초기 중심을 랜덤으로 설정하기 \n",
        "\n"
      ],
      "execution_count": null,
      "outputs": []
    },
    {
      "cell_type": "code",
      "metadata": {
        "id": "vSU5BftYQr0y",
        "colab_type": "code",
        "colab": {}
      },
      "source": [
        "# 확인용\n",
        "\n"
      ],
      "execution_count": null,
      "outputs": []
    },
    {
      "cell_type": "code",
      "metadata": {
        "id": "-6Zn9OVhQzWT",
        "colab_type": "code",
        "colab": {}
      },
      "source": [
        "# 함수 정의(중심 두 개를 입력하면 => 원본 데이터와 중심을 시각화해주는 함수)\n",
        "\n",
        "\n"
      ],
      "execution_count": null,
      "outputs": []
    },
    {
      "cell_type": "code",
      "metadata": {
        "id": "PSaz2m0pREEc",
        "colab_type": "code",
        "colab": {}
      },
      "source": [
        "# [단계1.5] 초기 중심 설정 후의 모습을 시각화\n",
        "\n"
      ],
      "execution_count": null,
      "outputs": []
    },
    {
      "cell_type": "code",
      "metadata": {
        "id": "d12HB-v9RJ5t",
        "colab_type": "code",
        "colab": {}
      },
      "source": [
        "# 함수 만들기(두 점을 입력하면 => 거리를 리턴해주는 함수)\n",
        "\n"
      ],
      "execution_count": null,
      "outputs": []
    },
    {
      "cell_type": "code",
      "metadata": {
        "id": "yC7u2l_uZY3f",
        "colab_type": "code",
        "colab": {}
      },
      "source": [
        "# 함수 만들기(중심 두 개를 입력하면 => 각 중심까지의 거리에 따라 그룹을 배정한 뒤, 그 그룹을 리턴하는 함수)\n",
        "\n"
      ],
      "execution_count": null,
      "outputs": []
    },
    {
      "cell_type": "code",
      "metadata": {
        "id": "t1yps5ObCiM_",
        "colab_type": "code",
        "colab": {}
      },
      "source": [
        "# [단계2] 중심까지의 거리에 따라 그룹화 <- 반복 구조에 포함\n",
        "\n"
      ],
      "execution_count": null,
      "outputs": []
    },
    {
      "cell_type": "code",
      "metadata": {
        "id": "Jr1_RA75Q96B",
        "colab_type": "code",
        "colab": {}
      },
      "source": [
        "# 확인용\n",
        "\n"
      ],
      "execution_count": null,
      "outputs": []
    },
    {
      "cell_type": "code",
      "metadata": {
        "id": "n3dRA_MlcB8p",
        "colab_type": "code",
        "colab": {}
      },
      "source": [
        "# 함수 만들기(특정 그룹을 입력하면 => 그룹 내 데이터들의 평균을 계산해서 리턴해주는 함수)\n",
        "\n"
      ],
      "execution_count": null,
      "outputs": []
    },
    {
      "cell_type": "code",
      "metadata": {
        "id": "L5OyBdY6FpdA",
        "colab_type": "code",
        "colab": {}
      },
      "source": [
        "# [단계3] 중심 업데이트 <- 반복 구조에 포함\n",
        "\n"
      ],
      "execution_count": null,
      "outputs": []
    },
    {
      "cell_type": "code",
      "metadata": {
        "id": "03aMItZWPaVB",
        "colab_type": "code",
        "colab": {}
      },
      "source": [
        "# 확인용\n",
        "\n"
      ],
      "execution_count": null,
      "outputs": []
    },
    {
      "cell_type": "code",
      "metadata": {
        "id": "jhQtZPg73czc",
        "colab_type": "code",
        "colab": {}
      },
      "source": [
        "# 함수 만들기(그룹 두 개와 중심 두 개를 입력하면 => 그룹화 및 중심 업데이트 후의 모습을 시각화해주는 함수)\n",
        "\n"
      ],
      "execution_count": null,
      "outputs": []
    },
    {
      "cell_type": "code",
      "metadata": {
        "id": "D9nBZJbe6Ok5",
        "colab_type": "code",
        "colab": {}
      },
      "source": [
        "# [단계3.5] 그룹화 및 중심 업데이트 후의 모습을 시각화 <- 반복 구조에 포함\n",
        "\n"
      ],
      "execution_count": null,
      "outputs": []
    },
    {
      "cell_type": "markdown",
      "metadata": {
        "id": "deSfau-aS-0k",
        "colab_type": "text"
      },
      "source": [
        "# **3. 위 과정을 종합하여 k_means 함수로 만들기**"
      ]
    },
    {
      "cell_type": "code",
      "metadata": {
        "id": "lLg6kXt48mwf",
        "colab_type": "code",
        "colab": {}
      },
      "source": [
        "# 함수 만들기(주어진 학습 데이터를 k-means알고리즘으로 클러스터링해주는 함수)\n",
        "\n"
      ],
      "execution_count": null,
      "outputs": []
    },
    {
      "cell_type": "code",
      "metadata": {
        "id": "zEDe05j_bNaN",
        "colab_type": "code",
        "colab": {}
      },
      "source": [
        "# 최종 실행\n",
        "\n"
      ],
      "execution_count": null,
      "outputs": []
    },
    {
      "cell_type": "markdown",
      "metadata": {
        "id": "jilZGQteqxld",
        "colab_type": "text"
      },
      "source": [
        "# **4. 사이킷런 라이브러리를 활용한 k-means**"
      ]
    },
    {
      "cell_type": "code",
      "metadata": {
        "id": "9G_cDh1KsT8N",
        "colab_type": "code",
        "colab": {}
      },
      "source": [
        "# 랜덤 클러스터 생성 (샘플 수, 속성 수, 클러스터 수, 표준편차)\n",
        "\n",
        "from sklearn.datasets import make_blobs\n",
        "\n"
      ],
      "execution_count": null,
      "outputs": []
    },
    {
      "cell_type": "code",
      "metadata": {
        "id": "E5E-JeHDsgJn",
        "colab_type": "code",
        "colab": {}
      },
      "source": [
        "# 확인용\n",
        "\n"
      ],
      "execution_count": null,
      "outputs": []
    },
    {
      "cell_type": "code",
      "metadata": {
        "id": "e7zS4KZ9siKu",
        "colab_type": "code",
        "colab": {}
      },
      "source": [
        "# 확인용\n",
        "\n"
      ],
      "execution_count": null,
      "outputs": []
    },
    {
      "cell_type": "code",
      "metadata": {
        "id": "bc59E8posnjl",
        "colab_type": "code",
        "colab": {}
      },
      "source": [
        "# 생성된 데이터 시각화\n",
        "\n"
      ],
      "execution_count": null,
      "outputs": []
    },
    {
      "cell_type": "code",
      "metadata": {
        "id": "EXsckMgBs0Mt",
        "colab_type": "code",
        "colab": {}
      },
      "source": [
        "# KMeans 알고리즘으로 학습 진행\n",
        "\n",
        "from sklearn.cluster import KMeans\n",
        "\n"
      ],
      "execution_count": null,
      "outputs": []
    },
    {
      "cell_type": "code",
      "metadata": {
        "id": "nw8_3v7b08TU",
        "colab_type": "code",
        "colab": {}
      },
      "source": [
        "# 학습 후 부여된 레이블\n",
        "\n"
      ],
      "execution_count": null,
      "outputs": []
    },
    {
      "cell_type": "code",
      "metadata": {
        "id": "JXYJ196_WFUj",
        "colab_type": "code",
        "colab": {}
      },
      "source": [
        "# 확인용\n",
        "\n"
      ],
      "execution_count": null,
      "outputs": []
    },
    {
      "cell_type": "code",
      "metadata": {
        "id": "Y5ulJsretHuZ",
        "colab_type": "code",
        "colab": {}
      },
      "source": [
        "# KMeans 클러스터링 전/후 시각화\n",
        "\n"
      ],
      "execution_count": null,
      "outputs": []
    }
  ]
}