{
  "nbformat": 4,
  "nbformat_minor": 0,
  "metadata": {
    "colab": {
      "name": "AIO-AI day2. (실습용) 데이터 분석 맛보기.ipynb",
      "provenance": [],
      "collapsed_sections": [],
      "authorship_tag": "ABX9TyN5sFtqZmfsTAZR8beQbB0F",
      "include_colab_link": true
    },
    "kernelspec": {
      "name": "python3",
      "display_name": "Python 3"
    }
  },
  "cells": [
    {
      "cell_type": "markdown",
      "metadata": {
        "id": "view-in-github",
        "colab_type": "text"
      },
      "source": [
        "<a href=\"https://colab.research.google.com/github/Ahnjihye/allinone_AI/blob/master/AIO_AI_day2_(%EC%8B%A4%EC%8A%B5%EC%9A%A9)_%EB%8D%B0%EC%9D%B4%ED%84%B0_%EB%B6%84%EC%84%9D_%EB%A7%9B%EB%B3%B4%EA%B8%B0.ipynb\" target=\"_parent\"><img src=\"https://colab.research.google.com/assets/colab-badge.svg\" alt=\"Open In Colab\"/></a>"
      ]
    },
    {
      "cell_type": "markdown",
      "metadata": {
        "id": "oYkEGYI7uF50",
        "colab_type": "text"
      },
      "source": [
        "## 1. 그래프 그리기"
      ]
    },
    {
      "cell_type": "code",
      "metadata": {
        "id": "biyG6qVSTUnF",
        "colab_type": "code",
        "colab": {}
      },
      "source": [
        "\n"
      ],
      "execution_count": null,
      "outputs": []
    },
    {
      "cell_type": "code",
      "metadata": {
        "id": "Vehi9X7WuGG2",
        "colab_type": "code",
        "colab": {}
      },
      "source": [
        "\n"
      ],
      "execution_count": null,
      "outputs": []
    },
    {
      "cell_type": "code",
      "metadata": {
        "id": "3Stwfv6IuGJa",
        "colab_type": "code",
        "colab": {}
      },
      "source": [
        "\n"
      ],
      "execution_count": null,
      "outputs": []
    },
    {
      "cell_type": "code",
      "metadata": {
        "id": "NdQDSrMJuGLo",
        "colab_type": "code",
        "colab": {}
      },
      "source": [
        "\n",
        "\n",
        "# 매출그래프\n",
        "\n"
      ],
      "execution_count": null,
      "outputs": []
    },
    {
      "cell_type": "code",
      "metadata": {
        "id": "xxcnexay1W15",
        "colab_type": "code",
        "colab": {}
      },
      "source": [
        "# x축 추가\n",
        "\n",
        "\n",
        "\n",
        "# X축, y축\n",
        "\n"
      ],
      "execution_count": null,
      "outputs": []
    },
    {
      "cell_type": "code",
      "metadata": {
        "id": "GIpv8hFY1Zd3",
        "colab_type": "code",
        "colab": {}
      },
      "source": [
        "\n",
        "\n"
      ],
      "execution_count": null,
      "outputs": []
    },
    {
      "cell_type": "markdown",
      "metadata": {
        "id": "A9LD5PW_12OW",
        "colab_type": "text"
      },
      "source": [
        "#### 코랩에서 한글 폰트 설정\n",
        "1) 한글 폰트 코드 실행 \n",
        "\n",
        "2) 런타임 - 런타임 다시시작 \n",
        "\n",
        "3) 다시 한글폰트 실행\n",
        "\n",
        "\n",
        "\n",
        "```\n",
        "# 한글 폰트 설정\n",
        "import matplotlib.pyplot as plt\n",
        "import matplotlib as mpl\n",
        "import matplotlib.pyplot as plt\n",
        " \n",
        "%config InlineBackend.figure_format = 'retina'\n",
        "!apt -qq -y install fonts-nanum\n",
        "\n",
        "import matplotlib.font_manager as fm\n",
        "fontpath = '/usr/share/fonts/truetype/nanum/NanumBarunGothic.ttf'\n",
        "font = fm.FontProperties(fname=fontpath, size=9)\n",
        "plt.rc('font', family='NanumGothic') \n",
        "mpl.font_manager._rebuild()\n",
        "```\n",
        "\n"
      ]
    },
    {
      "cell_type": "code",
      "metadata": {
        "id": "z_Sl3Cpo1Zgn",
        "colab_type": "code",
        "colab": {}
      },
      "source": [
        "# 한글 폰트 설정\n",
        "\n"
      ],
      "execution_count": null,
      "outputs": []
    },
    {
      "cell_type": "code",
      "metadata": {
        "id": "CK5BxVMS1W4e",
        "colab_type": "code",
        "colab": {}
      },
      "source": [
        "\n",
        "\n",
        "# 그래프 제목\n",
        "\n",
        "\n"
      ],
      "execution_count": null,
      "outputs": []
    },
    {
      "cell_type": "code",
      "metadata": {
        "id": "X5oiodjF1W7N",
        "colab_type": "code",
        "colab": {}
      },
      "source": [
        "plt.title('월별 판매 실적')\n",
        "# 그래프 색상 변경\n",
        "----- 코드 -------\n",
        "plt.show()"
      ],
      "execution_count": null,
      "outputs": []
    },
    {
      "cell_type": "markdown",
      "metadata": {
        "id": "i7uniz-93Olm",
        "colab_type": "text"
      },
      "source": [
        "<img src = 'https://github.com/Ahnjihye/allinone_AI/blob/images/22_%EA%B7%B8%EB%9E%98%ED%94%84%20%EC%BB%AC%EB%9F%AC.png?raw=true' width = 500>"
      ]
    },
    {
      "cell_type": "code",
      "metadata": {
        "id": "SecipY6Q3R1k",
        "colab_type": "code",
        "colab": {}
      },
      "source": [
        "# 해상도 설정 dpi = dot per inch\n",
        "----- 코드 -------\n",
        "plt.title('월별 판매 실적')\n",
        "plt.plot(mon, sales, color ='b')\n",
        "plt.show()"
      ],
      "execution_count": null,
      "outputs": []
    },
    {
      "cell_type": "code",
      "metadata": {
        "id": "svj84rbv3R4O",
        "colab_type": "code",
        "colab": {}
      },
      "source": [
        "plt.figure(dpi=100)\n",
        "plt.title('월별 판매 실적')\n",
        "# 범례 label\n",
        "----- 코드 -------\n",
        "# 범례를 화면에 나타내는 legend()\n",
        "----- 코드 -------\n",
        "plt.show()\n"
      ],
      "execution_count": null,
      "outputs": []
    },
    {
      "cell_type": "markdown",
      "metadata": {
        "id": "eZjmElRi2y4T",
        "colab_type": "text"
      },
      "source": [
        "### 그래프 그리는 포맷\n",
        "\n",
        "\n",
        "```\n",
        "import matplotlib.pyplot as plt\n",
        "\n",
        "plt.title('그래프 제목')\n",
        "plt.plot(x축 데이터, y축 데이터)\n",
        "plt.show()\n",
        "```\n",
        "\n",
        "그래프 명령어 plt.plot()의 추가옵션\n",
        "\n",
        "\n",
        "```\n",
        "color = '색상이름'             \n",
        "label = '범례내용'\n",
        "```\n",
        "\n",
        "기타 사용가능한 명령어\n",
        "\n",
        "\n",
        "```\n",
        "plt.figure(dpi=150)     # 그래프 해상도 설정 \n",
        "plt.legend()            # 범례 나타내기\n",
        "```\n",
        "\n",
        "\n",
        "\n",
        "\n",
        "\n"
      ]
    },
    {
      "cell_type": "markdown",
      "metadata": {
        "id": "oHuXRLzd34dm",
        "colab_type": "text"
      },
      "source": [
        "## 다양한 그래프"
      ]
    },
    {
      "cell_type": "code",
      "metadata": {
        "id": "4cUyKl6d2UjY",
        "colab_type": "code",
        "colab": {}
      },
      "source": [
        "plt.title('월별 판매 실적 막대그래프')\n",
        "----- 코드 -------\n",
        "plt.show()"
      ],
      "execution_count": null,
      "outputs": []
    },
    {
      "cell_type": "code",
      "metadata": {
        "id": "qPXXo7Jr2Ulf",
        "colab_type": "code",
        "colab": {}
      },
      "source": [
        "plt.title('월별 판매 실적 가로형 막대그래프')\n",
        "----- 코드 -------\n",
        "plt.show()"
      ],
      "execution_count": null,
      "outputs": []
    },
    {
      "cell_type": "code",
      "metadata": {
        "id": "AqFlGEnV2UqC",
        "colab_type": "code",
        "colab": {}
      },
      "source": [
        "plt.title('판매 실적 히스토그램')\n",
        "----- 코드 -------\n",
        "plt.show()"
      ],
      "execution_count": null,
      "outputs": []
    },
    {
      "cell_type": "code",
      "metadata": {
        "id": "SAVRJcNY2T3j",
        "colab_type": "code",
        "colab": {}
      },
      "source": [
        "b_type = [25, 19, 37, 11]\n",
        "\n",
        "plt.title('혈액형 원 그래프')\n",
        "----- 코드 -------\n",
        "plt.show()"
      ],
      "execution_count": null,
      "outputs": []
    },
    {
      "cell_type": "code",
      "metadata": {
        "id": "ra2EFVAt1W9k",
        "colab_type": "code",
        "colab": {}
      },
      "source": [
        "b_type = [25, 19, 37, 11]\n",
        "b_name = ['A형', 'B형', 'O형', 'AB형']\n",
        "\n",
        "plt.title('혈액형 원 그래프')\n",
        "# 라벨 추가\n",
        "----- 코드 -------\n",
        "plt.show()"
      ],
      "execution_count": null,
      "outputs": []
    },
    {
      "cell_type": "code",
      "metadata": {
        "id": "B9NuAQi4uGOR",
        "colab_type": "code",
        "colab": {}
      },
      "source": [
        "b_type = [25, 19, 37, 11]\n",
        "b_name = ['A형', 'B형', 'O형', 'AB형']\n",
        "\n",
        "plt.title('혈액형 원 그래프')\n",
        "# 비율 나타내기\n",
        "----- 코드 -------\n",
        "plt.show()"
      ],
      "execution_count": null,
      "outputs": []
    },
    {
      "cell_type": "code",
      "metadata": {
        "id": "7M2BWKdu49qw",
        "colab_type": "code",
        "colab": {}
      },
      "source": [
        "kor =[80, 20, 50, 20, 10, 50, 60, 30, 60]\n",
        "eng =[90, 40, 60, 40, 10, 30, 50, 70, 90]\n",
        "\n",
        "plt.title('국어점수와 영어점수 산점도')\n",
        "----- 코드 -------\n",
        "plt.show()"
      ],
      "execution_count": null,
      "outputs": []
    },
    {
      "cell_type": "markdown",
      "metadata": {
        "id": "5WTso0tX1avg",
        "colab_type": "text"
      },
      "source": [
        "<img src = 'https://github.com/Ahnjihye/allinone_AI/blob/images/23_scatter.png?raw=true' width=800>"
      ]
    },
    {
      "cell_type": "code",
      "metadata": {
        "id": "o8txxthe5IKJ",
        "colab_type": "code",
        "colab": {}
      },
      "source": [
        "plt.title('국어점수와 영어점수 산점도')\n",
        "plt.scatter(kor, eng, c='indigo')\n",
        "# x축 이름, y축 이름 추가\n",
        "----- 코드 -------\n",
        "----- 코드 -------\n",
        "plt.show()"
      ],
      "execution_count": null,
      "outputs": []
    },
    {
      "cell_type": "markdown",
      "metadata": {
        "id": "RXK9-hoI5IQM",
        "colab_type": "text"
      },
      "source": [
        "### 정리 \n",
        "**그래프 그리는 포맷**\n",
        "```\n",
        "import matplotlib.pyplot as plt\n",
        "\n",
        "plt.title('그래프 제목')\n",
        "# --- 그래프 형태에 따라 알맞은 명령어 넣기 ---\n",
        "plt.show()\n",
        "```\n",
        "    \n",
        "\n",
        "**그래프 유형별 명령어**\n",
        "```\n",
        "# ---- 그래프 유형별 명령어\n",
        "# 꺾은선그래프\n",
        "plt.plot([x축 리스트], [y축 리스트])\n",
        "\n",
        "# 막대그래프 세로\n",
        "plt.bar([x축 리스트], [y축 리스트])\n",
        "\n",
        "# 막대그래프 가로\n",
        "plt.barh([x축 리스트], [y축 리스트])\n",
        "\n",
        "# 히스토그램 (x축, y축을 구분하지 않고 하나의 리스트만 넣음)\n",
        "plt.hist( [리스트], bins = 구간개수 )\n",
        "\n",
        "# 원 그래프 (x축, y축을 구분하지 않고 하나의 리스트만 넣음)\n",
        "plt.pie( [리스트], labels = [데이터 구간 이름])\n",
        "\n",
        "# 산점도\n",
        "plt.scatter([x축 리스트], [y축 리스트])\n",
        "```\n",
        "\n",
        "**그래프 명령어 내에 추가 가능한 옵션**\n",
        "\n",
        "```\n",
        "color = '색상이름' \n",
        "alpha = 투명도\n",
        "\n",
        "# plt.plot(), plt.bar(), plt.barh(), plt.scatter()는 label 사용\n",
        "label = '범례내용'\n",
        "\n",
        "# plt.pie(), plt.boxplot()은 labels 사용\n",
        "labels = [범례 리스트]\n",
        "\n",
        "# plt.pie()에 퍼센트 자동 표시\n",
        "autopct = ‘%1.1%%’\n",
        "```\n",
        "\n",
        "**기타 사용가능한 명령어**\n",
        "\n",
        "\n",
        "```\n",
        "plt.legend()            # 범례 나타내기\n",
        "plt.xlabel()            # x축 이름 붙이기\n",
        "plt.ylabel()            # y축 이름 붙이기\n",
        "```\n",
        "\n",
        "\n",
        "\n"
      ]
    },
    {
      "cell_type": "markdown",
      "metadata": {
        "id": "S-VVNZ_HujPs",
        "colab_type": "text"
      },
      "source": [
        "## 2. 이차원 리스트 \n",
        "<img src ='https://github.com/Ahnjihye/allinone_AI/blob/images/14_%EC%9D%B4%EC%B0%A8%EC%9B%90%20%EB%A6%AC%EC%8A%A4%ED%8A%B8.png?raw=true' width=500>"
      ]
    },
    {
      "cell_type": "code",
      "metadata": {
        "id": "4acOxb9Dul8O",
        "colab_type": "code",
        "colab": {}
      },
      "source": [
        "\n"
      ],
      "execution_count": null,
      "outputs": []
    },
    {
      "cell_type": "code",
      "metadata": {
        "id": "BQ0u3IM-yUd_",
        "colab_type": "code",
        "colab": {}
      },
      "source": [
        ""
      ],
      "execution_count": null,
      "outputs": []
    },
    {
      "cell_type": "code",
      "metadata": {
        "id": "gyt8s3mtpiTF",
        "colab_type": "code",
        "colab": {}
      },
      "source": [
        ""
      ],
      "execution_count": null,
      "outputs": []
    },
    {
      "cell_type": "code",
      "metadata": {
        "id": "smaYOq_bpiY8",
        "colab_type": "code",
        "colab": {}
      },
      "source": [
        ""
      ],
      "execution_count": null,
      "outputs": []
    },
    {
      "cell_type": "markdown",
      "metadata": {
        "id": "IROs-Ha0yUj2",
        "colab_type": "text"
      },
      "source": [
        "<img src = 'https://github.com/Ahnjihye/allinone_AI/blob/images/15_%EC%9D%B4%EC%B0%A8%EC%9B%90%20%EB%A6%AC%EC%8A%A4%ED%8A%B8%20%EC%9D%B8%EB%8D%B1%EC%8A%A4.png?raw=true' width = 500>"
      ]
    },
    {
      "cell_type": "code",
      "metadata": {
        "id": "1U_e8JPXul-I",
        "colab_type": "code",
        "colab": {}
      },
      "source": [
        "# 1 출력하기\n"
      ],
      "execution_count": null,
      "outputs": []
    },
    {
      "cell_type": "code",
      "metadata": {
        "id": "lhEJ64vTumAI",
        "colab_type": "code",
        "colab": {}
      },
      "source": [
        "# 6 출력하기\n"
      ],
      "execution_count": null,
      "outputs": []
    },
    {
      "cell_type": "code",
      "metadata": {
        "id": "8dolImUrumCS",
        "colab_type": "code",
        "colab": {}
      },
      "source": [
        "# 8 출력하기\n"
      ],
      "execution_count": null,
      "outputs": []
    },
    {
      "cell_type": "code",
      "metadata": {
        "id": "vIwkSkIuyYwV",
        "colab_type": "code",
        "colab": {}
      },
      "source": [
        "# 이차원 리스트 반복구조\n",
        "\n"
      ],
      "execution_count": null,
      "outputs": []
    },
    {
      "cell_type": "markdown",
      "metadata": {
        "id": "-bbMjsKVyY4B",
        "colab_type": "text"
      },
      "source": [
        "<img src = 'https://github.com/Ahnjihye/allinone_AI/blob/images/16_%EC%9D%B4%EC%B0%A8%EC%9B%90%20%EB%A6%AC%EC%8A%A4%ED%8A%B8%20%EB%B0%98%EB%B3%B5%EA%B5%AC%EC%A1%B0.png?raw=true' width=500>"
      ]
    },
    {
      "cell_type": "code",
      "metadata": {
        "id": "t4LqJgCdyh03",
        "colab_type": "code",
        "colab": {}
      },
      "source": [
        "# 모든 줄의 첫번째 데이터만 출력\n",
        "\n"
      ],
      "execution_count": null,
      "outputs": []
    },
    {
      "cell_type": "code",
      "metadata": {
        "id": "N3J7nAOrrTWs",
        "colab_type": "code",
        "colab": {}
      },
      "source": [
        "# 모든 줄의 마지막 데이터(세번째 열)만 출력\n",
        "\n"
      ],
      "execution_count": null,
      "outputs": []
    },
    {
      "cell_type": "markdown",
      "metadata": {
        "id": "HK1BfO5zyiHJ",
        "colab_type": "text"
      },
      "source": [
        "<img src= 'https://github.com/Ahnjihye/allinone_AI/blob/images/17_%EC%98%AC%EB%A6%BC%ED%94%BD.png?raw=true' width=500>"
      ]
    },
    {
      "cell_type": "code",
      "metadata": {
        "id": "zAmf-fO5yh3Q",
        "colab_type": "code",
        "colab": {}
      },
      "source": [
        "olympic =[\n",
        "          [1,'미국',46,37,38,121],\n",
        "          [2,'영국',27,23,17,67],\n",
        "          [3,'중국',26,18,26,70],\n",
        "          [4,'러시아',19,18,19,56],\n",
        "          [5,'독일',17,10,15,42],\n",
        "          [6,'일본',12,8,21,41],\n",
        "          [7,'프랑스',10,18,14,42],\n",
        "          [8,'대한민국',9,3,9,21] \n",
        "        ]"
      ],
      "execution_count": null,
      "outputs": []
    },
    {
      "cell_type": "code",
      "metadata": {
        "id": "-fwtxKmByh5a",
        "colab_type": "code",
        "colab": {}
      },
      "source": [
        "# 순위권에 든 모든 국가를 출력하시오\n",
        "\n"
      ],
      "execution_count": null,
      "outputs": []
    },
    {
      "cell_type": "code",
      "metadata": {
        "id": "GdqUzs-zyh-z",
        "colab_type": "code",
        "colab": {}
      },
      "source": [
        "# 금메달보다 은메달 개수가 많은 나라를 출력하시오\n",
        "\n",
        "\n"
      ],
      "execution_count": null,
      "outputs": []
    },
    {
      "cell_type": "code",
      "metadata": {
        "id": "dPMLi6p1ypp5",
        "colab_type": "code",
        "colab": {}
      },
      "source": [
        "# 금메달보다 동메달 개수가 많은 나라를 출력하시오\n",
        "\n",
        "\n"
      ],
      "execution_count": null,
      "outputs": []
    },
    {
      "cell_type": "code",
      "metadata": {
        "id": "wsrMSshJypsS",
        "colab_type": "code",
        "colab": {}
      },
      "source": [
        "# 모든 나라의 금메달 합을 구하시오\n",
        "\n",
        "\n"
      ],
      "execution_count": null,
      "outputs": []
    },
    {
      "cell_type": "code",
      "metadata": {
        "id": "2KVaXyeBypuj",
        "colab_type": "code",
        "colab": {}
      },
      "source": [
        ""
      ],
      "execution_count": null,
      "outputs": []
    },
    {
      "cell_type": "code",
      "metadata": {
        "id": "l4xLq5WFtEvo",
        "colab_type": "code",
        "colab": {}
      },
      "source": [
        "# 총 메달수가 홀수개인 나라를 출력하시오\n",
        "\n",
        "\n"
      ],
      "execution_count": null,
      "outputs": []
    },
    {
      "cell_type": "markdown",
      "metadata": {
        "id": "R032dHnvuLca",
        "colab_type": "text"
      },
      "source": [
        "## 3. 파일 업로드 & 데이터 분석\n",
        "\n",
        "#### csv 파일이란? \n",
        "comma seperated values의 약자로\n",
        "콤마(,)로 분리된 파일"
      ]
    },
    {
      "cell_type": "markdown",
      "metadata": {
        "id": "JhqABCphyq_v",
        "colab_type": "text"
      },
      "source": [
        "<img src='https://github.com/Ahnjihye/allinone_AI/blob/images/18_csv%ED%8C%8C%EC%9D%BC.png?raw=true' width=800>"
      ]
    },
    {
      "cell_type": "markdown",
      "metadata": {
        "id": "Bm_qq0kP-D1K",
        "colab_type": "text"
      },
      "source": [
        "\n",
        "\n",
        "```\n",
        "# 코랩에 파일 업로드하는 방법\n",
        " \n",
        "from google.colab import files\n",
        "uploaded = files.upload()\n",
        "```\n",
        "\n"
      ]
    },
    {
      "cell_type": "code",
      "metadata": {
        "id": "xMe9NjEmuO2o",
        "colab_type": "code",
        "colab": {}
      },
      "source": [
        "# 코랩에 파일 업로드하는 방법\n",
        "\n"
      ],
      "execution_count": null,
      "outputs": []
    },
    {
      "cell_type": "markdown",
      "metadata": {
        "id": "856yefHCuK2D",
        "colab_type": "text"
      },
      "source": [
        "### 3-2.   파일 오픈 \n",
        "\n",
        "\n",
        "\n",
        "1.   파일 open\n",
        "2.   파일 읽기 reader\n",
        "3.   파일 헤더 건너뛰기\n",
        "4.   파일을 리스트로 바꾸기\n",
        "\n",
        "\n",
        "\n",
        "```\n",
        "# csv 라이브러리 임포트\n",
        "import csv \n",
        "\n",
        "f = open('파일명.csv')       # 파일 오픈\n",
        "data = csv.reader(f)         # 파일 읽기 reader\n",
        "next(data)                   # 파일 헤더 건너뛰기 \n",
        "data = list(data)            # 파일 리스트로 바꾸기\n",
        "```\n",
        "\n"
      ]
    },
    {
      "cell_type": "code",
      "metadata": {
        "id": "--E-FxMCuRlC",
        "colab_type": "code",
        "colab": {}
      },
      "source": [
        "\n",
        "\n"
      ],
      "execution_count": null,
      "outputs": []
    },
    {
      "cell_type": "code",
      "metadata": {
        "id": "q3t86Z5LuRm7",
        "colab_type": "code",
        "colab": {}
      },
      "source": [
        ""
      ],
      "execution_count": null,
      "outputs": []
    },
    {
      "cell_type": "code",
      "metadata": {
        "id": "4bnAQFR9uRo7",
        "colab_type": "code",
        "colab": {}
      },
      "source": [
        ""
      ],
      "execution_count": null,
      "outputs": []
    },
    {
      "cell_type": "markdown",
      "metadata": {
        "id": "mCKJAnCsuO7z",
        "colab_type": "text"
      },
      "source": [
        "### 3-3.   데이터 분석"
      ]
    },
    {
      "cell_type": "markdown",
      "metadata": {
        "id": "89v0MUZ4y0uJ",
        "colab_type": "text"
      },
      "source": [
        "<img src ='https://github.com/Ahnjihye/allinone_AI/blob/images/19_%EB%8D%B0%EC%9D%B4%ED%84%B0%20%EA%B5%AC%EC%A1%B0.png?raw=true' width=600>"
      ]
    },
    {
      "cell_type": "code",
      "metadata": {
        "id": "0SSz-ZSvuRrV",
        "colab_type": "code",
        "colab": {}
      },
      "source": [
        "# 카드이용일자 모두 출력하기\n",
        "\n"
      ],
      "execution_count": null,
      "outputs": []
    },
    {
      "cell_type": "code",
      "metadata": {
        "id": "RIz2XBOey6wh",
        "colab_type": "code",
        "colab": {}
      },
      "source": [
        "# 카드 사용금액 모두 출력하기\n",
        "\n"
      ],
      "execution_count": null,
      "outputs": []
    },
    {
      "cell_type": "markdown",
      "metadata": {
        "id": "RzWt9ggxy7Ap",
        "colab_type": "text"
      },
      "source": [
        "<img src ='https://github.com/Ahnjihye/allinone_AI/blob/images/20_%EB%8D%B0%EC%9D%B4%ED%84%B0%EB%B6%84%EC%84%9D%20%EB%B0%98%EB%B3%B5%EB%AC%B8.png?raw=true' width=800>"
      ]
    },
    {
      "cell_type": "code",
      "metadata": {
        "id": "JdHc9hvCy6y7",
        "colab_type": "code",
        "colab": {}
      },
      "source": [
        "# 카드 사용처와 금액 모두 출력하기\n",
        "\n"
      ],
      "execution_count": null,
      "outputs": []
    },
    {
      "cell_type": "code",
      "metadata": {
        "id": "NgwKIIVszjfN",
        "colab_type": "code",
        "colab": {}
      },
      "source": [
        "# 카드 사용처와 금액 모두 출력하기\n",
        "\n",
        "\n"
      ],
      "execution_count": null,
      "outputs": []
    },
    {
      "cell_type": "markdown",
      "metadata": {
        "id": "1IpuG5Jvy7Vk",
        "colab_type": "text"
      },
      "source": [
        "<img src = 'https://github.com/Ahnjihye/allinone_AI/blob/images/21_%EB%8D%B0%EC%9D%B4%ED%84%B0%EB%B6%84%EC%84%9D_%EB%B0%98%EB%B3%B5%EB%AC%B82.png?raw=true' width=800>"
      ]
    },
    {
      "cell_type": "code",
      "metadata": {
        "id": "XDbYFvliy61T",
        "colab_type": "code",
        "colab": {}
      },
      "source": [
        "# 3개월간 사용한 총 금액은? ^_ㅠ??\n",
        "\n",
        "\n"
      ],
      "execution_count": null,
      "outputs": []
    },
    {
      "cell_type": "markdown",
      "metadata": {
        "id": "sk_9v2hLyrNk",
        "colab_type": "text"
      },
      "source": [
        "파일로 읽어들인 데이터는 모두 문자이다. "
      ]
    },
    {
      "cell_type": "code",
      "metadata": {
        "id": "Oaq__8xwyu7P",
        "colab_type": "code",
        "colab": {}
      },
      "source": [
        "# 3개월간 사용한 총 금액은? ^_ㅠ??\n",
        "\n",
        "\n",
        "\n",
        "\n",
        "\n",
        "print(total)"
      ],
      "execution_count": null,
      "outputs": []
    },
    {
      "cell_type": "code",
      "metadata": {
        "id": "-A7grbYry7JZ",
        "colab_type": "code",
        "colab": {}
      },
      "source": [
        "# 3개월간 사용한 \"진짜\" 총 금액은? ^_ㅠ??\n",
        "\n",
        "\n",
        "\n",
        "\n",
        "\n",
        "print(total)"
      ],
      "execution_count": null,
      "outputs": []
    },
    {
      "cell_type": "markdown",
      "metadata": {
        "id": "KKcsbWawz7_8",
        "colab_type": "text"
      },
      "source": [
        "## 3. 진짜! 데이터 분석!\n",
        "#### 첫 번째 도전 - 10월, 11월, 12월 지출액을 그래프로 그리기\n",
        "\n",
        "잠깐! 그래프로 그리려면?      plt.plot()안에 뭐가 필요할까?\n",
        "\n",
        "---\n",
        "\n",
        "<img src = 'https://github.com/Ahnjihye/allinone_AI/blob/images/24_%EC%B9%B4%EB%93%9C%20%EB%A6%AC%EC%8A%A4%ED%8A%B8.png?raw=true' width = 400>"
      ]
    },
    {
      "cell_type": "code",
      "metadata": {
        "id": "DRJXI5T-2EPT",
        "colab_type": "code",
        "colab": {}
      },
      "source": [
        ""
      ],
      "execution_count": null,
      "outputs": []
    },
    {
      "cell_type": "code",
      "metadata": {
        "id": "nzbtTm8H2Io6",
        "colab_type": "code",
        "colab": {}
      },
      "source": [
        ""
      ],
      "execution_count": null,
      "outputs": []
    },
    {
      "cell_type": "code",
      "metadata": {
        "id": "t2ja02zPy7L7",
        "colab_type": "code",
        "colab": {}
      },
      "source": [
        "# 10-12월 지출액 저장하는 리스트 \n",
        "# [0]에 10월, [1]에 11월, [2]에 12월 저장\n",
        "\n",
        "\n",
        "\n",
        "\n",
        "\n",
        "\n",
        "\n",
        "print(spend)"
      ],
      "execution_count": null,
      "outputs": []
    },
    {
      "cell_type": "code",
      "metadata": {
        "id": "HTNFp2EZy7OD",
        "colab_type": "code",
        "colab": {}
      },
      "source": [
        "# 10-12월 지출액 저장하는 리스트 \n",
        "# [0]에 10월, [1]에 11월, [2]에 12월 저장\n",
        "\n",
        "\n",
        "\n",
        "\n",
        "\n",
        "print(spend)"
      ],
      "execution_count": null,
      "outputs": []
    },
    {
      "cell_type": "code",
      "metadata": {
        "id": "i2-cuPNs2y9d",
        "colab_type": "code",
        "colab": {}
      },
      "source": [
        "# 초간단ver\n",
        "\n",
        "\n",
        "\n",
        "print(spend)"
      ],
      "execution_count": null,
      "outputs": []
    },
    {
      "cell_type": "code",
      "metadata": {
        "id": "VxmnUsvcy7Qq",
        "colab_type": "code",
        "colab": {}
      },
      "source": [
        "import matplotlib.pyplot as plt\n",
        "\n",
        "plt.title('10-12월 지출현황')\n",
        "plt.bar(------ 빈 칸 --------)\n",
        "plt.show()"
      ],
      "execution_count": null,
      "outputs": []
    },
    {
      "cell_type": "markdown",
      "metadata": {
        "id": "WqbXQ3Nc3vDM",
        "colab_type": "text"
      },
      "source": [
        "안지혜 선생님은 돈을 얼마나 낭비했을까?"
      ]
    },
    {
      "cell_type": "markdown",
      "metadata": {
        "id": "CJIzyZgU3nAD",
        "colab_type": "text"
      },
      "source": [
        "#### 두번째 도전! 월별 택시 이용 금액 구하기"
      ]
    },
    {
      "cell_type": "code",
      "metadata": {
        "id": "NAKsjo--zCXX",
        "colab_type": "code",
        "colab": {}
      },
      "source": [
        "\n",
        "\n",
        "\n",
        "\n",
        "\n",
        "\n",
        "print(taxi)"
      ],
      "execution_count": null,
      "outputs": []
    },
    {
      "cell_type": "code",
      "metadata": {
        "id": "k9rWiM2y31QN",
        "colab_type": "code",
        "colab": {}
      },
      "source": [
        "# 초간단 ver\n",
        "\n",
        "\n",
        "\n",
        "\n",
        "print(taxi)"
      ],
      "execution_count": null,
      "outputs": []
    },
    {
      "cell_type": "code",
      "metadata": {
        "id": "eC-54uUm31So",
        "colab_type": "code",
        "colab": {}
      },
      "source": [
        "plt.plot(------ 빈 칸 --------)\n",
        "plt.legend()\n",
        "plt.show()"
      ],
      "execution_count": null,
      "outputs": []
    },
    {
      "cell_type": "markdown",
      "metadata": {
        "id": "9yQp40sX31ar",
        "colab_type": "text"
      },
      "source": [
        "#### 세번째 도전! 월별 배달 이용 금액 구하기"
      ]
    },
    {
      "cell_type": "code",
      "metadata": {
        "id": "IU4xutnd31VM",
        "colab_type": "code",
        "colab": {}
      },
      "source": [
        "\n",
        "\n",
        "\n",
        "\n",
        "\n",
        "\n",
        "\n",
        "\n",
        "\n",
        "print(deli)"
      ],
      "execution_count": null,
      "outputs": []
    },
    {
      "cell_type": "code",
      "metadata": {
        "id": "nIoEOuNJ31fz",
        "colab_type": "code",
        "colab": {}
      },
      "source": [
        "plt.plot(------ 빈 칸 --------)\n",
        "plt.legend()\n",
        "plt.show()"
      ],
      "execution_count": null,
      "outputs": []
    },
    {
      "cell_type": "markdown",
      "metadata": {
        "id": "A2F6ROi_4Rix",
        "colab_type": "text"
      },
      "source": [
        "#### 비교하는 그래프 그리기"
      ]
    },
    {
      "cell_type": "code",
      "metadata": {
        "id": "EdQ0Poe431ik",
        "colab_type": "code",
        "colab": {}
      },
      "source": [
        "plt.title('10-12월 돈을 얼마나 낭비했지?')\n",
        "------ 빈 칸 --------\n",
        "------ 빈 칸 --------\n",
        "plt.legend()\n",
        "plt.show()"
      ],
      "execution_count": null,
      "outputs": []
    },
    {
      "cell_type": "markdown",
      "metadata": {
        "id": "nQGC9tRc4qis",
        "colab_type": "text"
      },
      "source": [
        "#### 네번째 도전! 3개월간 돈을 어디에 가장 많이 썼을까? 10개 가맹점 추려보기!\n",
        "\n",
        "잠깐) 가맹점별 금액을 어떻게 저장할 수 있을까? 리스트로 가능할까?\n",
        "\n",
        "---\n",
        "<img src='https://github.com/Ahnjihye/allinone_AI/blob/images/25_%EC%B9%B4%EB%93%9C%20%EB%94%95%EC%85%94%EB%84%88%EB%A6%AC.png?raw=true' width=600>\n",
        "\n"
      ]
    },
    {
      "cell_type": "markdown",
      "metadata": {
        "id": "x40-7_Hy5GfF",
        "colab_type": "text"
      },
      "source": [
        "**생각 정리하기**\n",
        "1. 빈 딕셔너리 만들기 (키 = 사용처, 값 = 금액)\n",
        "2. 카드내역을 한 줄씩 읽으면서 (반복문)\n",
        "3. 딕셔너리에 사용처가 있으면 금액을 더하고,\n",
        "4. 딕셔너리에 사용처가 없으면 키-값을 추가한다.\n",
        "5. 딕셔너리가 완성되면 값(금액)을 기준으로 내림차순 정렬 & 앞에서 10개 데이터만 뽑기\n",
        "6. 딕셔너리 키(사용처)와 값(사용금액)을 따로 분리\n",
        "7. 그래프 그리기\n"
      ]
    },
    {
      "cell_type": "code",
      "metadata": {
        "id": "ZxT20raz31lF",
        "colab_type": "code",
        "colab": {}
      },
      "source": [
        "# 1. 빈 딕셔너리 만들기\n",
        "\n",
        "\n",
        "\n",
        "        # 3. 딕셔너리 키에 store가 있으면 해당 값에 +금액\n",
        "        \n",
        "\n",
        "        # 4. 딕셔너리 키에 store가 없으면 새로운 키-값 추가\n",
        "       \n",
        "       \n",
        "        \n",
        "        print(dic)"
      ],
      "execution_count": null,
      "outputs": []
    },
    {
      "cell_type": "code",
      "metadata": {
        "id": "auLl91Xi5mEZ",
        "colab_type": "code",
        "colab": {}
      },
      "source": [
        "# 5. 딕셔너리가 완성되면 값(금액)을 기준으로 내림차순 정렬 \n",
        "# 앞에서 10개 데이터만 뽑기\n",
        "\n",
        "\n"
      ],
      "execution_count": null,
      "outputs": []
    },
    {
      "cell_type": "code",
      "metadata": {
        "id": "X-YEj7h431m9",
        "colab_type": "code",
        "colab": {}
      },
      "source": [
        "# 6. 딕셔너리 키(사용처)와 값(사용금액)을 따로 분리\n",
        "\n",
        "\n",
        "\n",
        "\n",
        "print(top10_store)\n",
        "print(top10_payment)"
      ],
      "execution_count": null,
      "outputs": []
    },
    {
      "cell_type": "code",
      "metadata": {
        "id": "OOlfOBdg7X4s",
        "colab_type": "code",
        "colab": {}
      },
      "source": [
        "# 7. 그래프 그리기\n",
        "plt.figure(dpi=100)\n",
        "plt.title('10-12월 지출 TOP 10')\n",
        "plt.barh(------ 빈 칸 -------- ,color = 'crimson')\n",
        "plt.show()"
      ],
      "execution_count": null,
      "outputs": []
    },
    {
      "cell_type": "code",
      "metadata": {
        "id": "eamU672F8Lsf",
        "colab_type": "code",
        "colab": {}
      },
      "source": [
        ""
      ],
      "execution_count": null,
      "outputs": []
    }
  ]
}