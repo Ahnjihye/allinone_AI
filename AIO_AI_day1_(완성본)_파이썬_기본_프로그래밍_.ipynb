{
  "nbformat": 4,
  "nbformat_minor": 0,
  "metadata": {
    "colab": {
      "name": "AIO-AI day1. (완성본) 파이썬 기본 프로그래밍 .ipynb",
      "provenance": [],
      "collapsed_sections": [],
      "authorship_tag": "ABX9TyOWuImoFOB+8QN9GxsU3ucb",
      "include_colab_link": true
    },
    "kernelspec": {
      "name": "python3",
      "display_name": "Python 3"
    }
  },
  "cells": [
    {
      "cell_type": "markdown",
      "metadata": {
        "id": "view-in-github",
        "colab_type": "text"
      },
      "source": [
        "<a href=\"https://colab.research.google.com/github/Ahnjihye/allinone_AI/blob/master/AIO_AI_day1_(%EC%99%84%EC%84%B1%EB%B3%B8)_%ED%8C%8C%EC%9D%B4%EC%8D%AC_%EA%B8%B0%EB%B3%B8_%ED%94%84%EB%A1%9C%EA%B7%B8%EB%9E%98%EB%B0%8D_.ipynb\" target=\"_parent\"><img src=\"https://colab.research.google.com/assets/colab-badge.svg\" alt=\"Open In Colab\"/></a>"
      ]
    },
    {
      "cell_type": "markdown",
      "metadata": {
        "id": "LJAHyqRXU_tN",
        "colab_type": "text"
      },
      "source": [
        "## 1. 출력명령어\n",
        "\n",
        "\n",
        "```\n",
        "print( 출력할 내용 )\n",
        "```\n",
        "\n"
      ]
    },
    {
      "cell_type": "code",
      "metadata": {
        "id": "fHog4iYYL-q4",
        "colab_type": "code",
        "colab": {
          "base_uri": "https://localhost:8080/",
          "height": 34
        },
        "outputId": "6c5255cd-7d81-47be-8123-d9eab9cc8742"
      },
      "source": [
        "# 숫자 출력 20200902\n",
        "print(20200902)"
      ],
      "execution_count": null,
      "outputs": [
        {
          "output_type": "stream",
          "text": [
            "20200902\n"
          ],
          "name": "stdout"
        }
      ]
    },
    {
      "cell_type": "code",
      "metadata": {
        "id": "-Mn2gKC1y2XL",
        "colab_type": "code",
        "colab": {
          "base_uri": "https://localhost:8080/",
          "height": 129
        },
        "outputId": "18e76f03-1881-48a7-cc0b-13333920ccaa"
      },
      "source": [
        "# 문자 출력 2020년 9월 2일\n",
        "print(2020년 9월 2일)"
      ],
      "execution_count": null,
      "outputs": [
        {
          "output_type": "error",
          "ename": "SyntaxError",
          "evalue": "ignored",
          "traceback": [
            "\u001b[0;36m  File \u001b[0;32m\"<ipython-input-1-a2e4462e1342>\"\u001b[0;36m, line \u001b[0;32m2\u001b[0m\n\u001b[0;31m    print(2020년 9월 2일)\u001b[0m\n\u001b[0m              ^\u001b[0m\n\u001b[0;31mSyntaxError\u001b[0m\u001b[0;31m:\u001b[0m invalid syntax\n"
          ]
        }
      ]
    },
    {
      "cell_type": "code",
      "metadata": {
        "id": "HndD3I4ybonQ",
        "colab_type": "code",
        "colab": {
          "base_uri": "https://localhost:8080/",
          "height": 34
        },
        "outputId": "aec0169c-5276-43bb-cb51-8adf7442c373"
      },
      "source": [
        "# 문자는 따옴표로 감싸주어야 함\n",
        "print('2020년 9월 2일')"
      ],
      "execution_count": null,
      "outputs": [
        {
          "output_type": "stream",
          "text": [
            "2020년 9월 2일\n"
          ],
          "name": "stdout"
        }
      ]
    },
    {
      "cell_type": "code",
      "metadata": {
        "id": "RqdNnVh2bopV",
        "colab_type": "code",
        "colab": {
          "base_uri": "https://localhost:8080/",
          "height": 84
        },
        "outputId": "298ab86f-e8d8-49d0-ddfe-2a628264836d"
      },
      "source": [
        "# 연산하여 출력하기\n",
        "print(12+34)\n",
        "print(12-34)\n",
        "print(12*34)\n",
        "print(12/34)"
      ],
      "execution_count": null,
      "outputs": [
        {
          "output_type": "stream",
          "text": [
            "46\n",
            "-22\n",
            "408\n",
            "0.35294117647058826\n"
          ],
          "name": "stdout"
        }
      ]
    },
    {
      "cell_type": "code",
      "metadata": {
        "id": "TrSY6KTBborq",
        "colab_type": "code",
        "colab": {
          "base_uri": "https://localhost:8080/",
          "height": 67
        },
        "outputId": "549b238d-0cab-472d-a1f1-faf95b1d5568"
      },
      "source": [
        "#** 제곱\n",
        "print(5**2)\n",
        "\n",
        "#몫\n",
        "print(5//2)\n",
        "#나머지\n",
        "print(5%2)"
      ],
      "execution_count": null,
      "outputs": [
        {
          "output_type": "stream",
          "text": [
            "25\n",
            "2\n",
            "1\n"
          ],
          "name": "stdout"
        }
      ]
    },
    {
      "cell_type": "code",
      "metadata": {
        "id": "iLHvTSGibouA",
        "colab_type": "code",
        "colab": {
          "base_uri": "https://localhost:8080/",
          "height": 34
        },
        "outputId": "34941310-7067-47fc-997a-45eff8d86ac0"
      },
      "source": [
        "# 문자 연결하여 츨력하기\n",
        "print('Pick'+'me')"
      ],
      "execution_count": null,
      "outputs": [
        {
          "output_type": "stream",
          "text": [
            "Pickme\n"
          ],
          "name": "stdout"
        }
      ]
    },
    {
      "cell_type": "code",
      "metadata": {
        "id": "7cPO3xrybowJ",
        "colab_type": "code",
        "colab": {
          "base_uri": "https://localhost:8080/",
          "height": 34
        },
        "outputId": "fe0d7ba5-c3ee-49ae-947e-d74f755a9f59"
      },
      "source": [
        "# 문자 연결하여 츨력하기\n",
        "print('Pick','me')"
      ],
      "execution_count": null,
      "outputs": [
        {
          "output_type": "stream",
          "text": [
            "Pick me\n"
          ],
          "name": "stdout"
        }
      ]
    },
    {
      "cell_type": "code",
      "metadata": {
        "id": "iAfPPqBuboyZ",
        "colab_type": "code",
        "colab": {
          "base_uri": "https://localhost:8080/",
          "height": 34
        },
        "outputId": "f3b4dc15-16ef-4512-ec00-fe68f0307f07"
      },
      "source": [
        "# 문자 * 숫자\n",
        "print('Pick me '*4)"
      ],
      "execution_count": null,
      "outputs": [
        {
          "output_type": "stream",
          "text": [
            "Pick me Pick me Pick me Pick me \n"
          ],
          "name": "stdout"
        }
      ]
    },
    {
      "cell_type": "markdown",
      "metadata": {
        "id": "v52XtOeCibk5",
        "colab_type": "text"
      },
      "source": [
        "## 2. 입력명령어\n",
        "\n",
        "\n",
        "```\n",
        "input()\n",
        "input('입력 안내문')\n",
        "```\n",
        "\n"
      ]
    },
    {
      "cell_type": "code",
      "metadata": {
        "id": "DaKrxT0hbo0i",
        "colab_type": "code",
        "colab": {
          "base_uri": "https://localhost:8080/",
          "height": 52
        },
        "outputId": "47560a24-b98e-4fc7-9f9f-b67e41b903ed"
      },
      "source": [
        "input()"
      ],
      "execution_count": null,
      "outputs": [
        {
          "output_type": "stream",
          "text": [
            "123\n"
          ],
          "name": "stdout"
        },
        {
          "output_type": "execute_result",
          "data": {
            "application/vnd.google.colaboratory.intrinsic+json": {
              "type": "string"
            },
            "text/plain": [
              "'123'"
            ]
          },
          "metadata": {
            "tags": []
          },
          "execution_count": 11
        }
      ]
    },
    {
      "cell_type": "code",
      "metadata": {
        "id": "A9I_oy-Zixhw",
        "colab_type": "code",
        "colab": {
          "base_uri": "https://localhost:8080/",
          "height": 52
        },
        "outputId": "6a33e006-7533-4b9b-fd7b-29bc24aad2da"
      },
      "source": [
        "input('아이디 : ')"
      ],
      "execution_count": null,
      "outputs": [
        {
          "output_type": "stream",
          "text": [
            "아이디 : let's getit\n"
          ],
          "name": "stdout"
        },
        {
          "output_type": "execute_result",
          "data": {
            "application/vnd.google.colaboratory.intrinsic+json": {
              "type": "string"
            },
            "text/plain": [
              "\"let's getit\""
            ]
          },
          "metadata": {
            "tags": []
          },
          "execution_count": 13
        }
      ]
    },
    {
      "cell_type": "markdown",
      "metadata": {
        "id": "5TT7S64piqF8",
        "colab_type": "text"
      },
      "source": [
        "입력된 데이터 양 옆의 작은 따옴표      \n",
        "-> input()으로 읽어들인 데이터는 모두 문자로 인식"
      ]
    },
    {
      "cell_type": "markdown",
      "metadata": {
        "id": "V1qdZa0ljBQz",
        "colab_type": "text"
      },
      "source": [
        "## 3. 변수\n",
        "\n",
        "\n",
        "```\n",
        "변수이름 = 저장할 데이터\n",
        "name = '안지혜'\n",
        "school = '관악고'\n",
        "```\n",
        "<img src = 'https://github.com/Ahnjihye/allinone_AI/blob/images/1_%EB%B3%80%EC%88%98.png?raw=true' width =500>\n",
        "\n",
        "\n"
      ]
    },
    {
      "cell_type": "code",
      "metadata": {
        "id": "qGjujI1abo3T",
        "colab_type": "code",
        "colab": {
          "base_uri": "https://localhost:8080/",
          "height": 34
        },
        "outputId": "cbc420fb-dddd-4c07-f310-60c9c656cf7c"
      },
      "source": [
        "a = '안녕'\n",
        "print(a)"
      ],
      "execution_count": null,
      "outputs": [
        {
          "output_type": "stream",
          "text": [
            "안녕\n"
          ],
          "name": "stdout"
        }
      ]
    },
    {
      "cell_type": "code",
      "metadata": {
        "id": "9d4QKvR6bo5d",
        "colab_type": "code",
        "colab": {
          "base_uri": "https://localhost:8080/",
          "height": 34
        },
        "outputId": "e53c7ae1-122c-4d3f-846b-b34f7ba492da"
      },
      "source": [
        "a = '안녕'\n",
        "print(a+'하세요')"
      ],
      "execution_count": null,
      "outputs": [
        {
          "output_type": "stream",
          "text": [
            "안녕하세요\n"
          ],
          "name": "stdout"
        }
      ]
    },
    {
      "cell_type": "code",
      "metadata": {
        "id": "WWHU2iswbo8G",
        "colab_type": "code",
        "colab": {
          "base_uri": "https://localhost:8080/",
          "height": 34
        },
        "outputId": "8a7e28f4-efca-409e-f94e-6aecaf10d3d0"
      },
      "source": [
        "print(a*4)"
      ],
      "execution_count": null,
      "outputs": [
        {
          "output_type": "stream",
          "text": [
            "안녕안녕안녕안녕\n"
          ],
          "name": "stdout"
        }
      ]
    },
    {
      "cell_type": "code",
      "metadata": {
        "id": "gN7pzv5jbo-B",
        "colab_type": "code",
        "colab": {}
      },
      "source": [
        "apple = 1200\n",
        "banana = 800\n",
        "kiwi = 1700"
      ],
      "execution_count": null,
      "outputs": []
    },
    {
      "cell_type": "code",
      "metadata": {
        "id": "YY_1rgwNbpAe",
        "colab_type": "code",
        "colab": {
          "base_uri": "https://localhost:8080/",
          "height": 34
        },
        "outputId": "a18e8e88-c5ea-422e-ccc1-1f3e9cf9b056"
      },
      "source": [
        "# 사과 3개, 바나나1개, 키위2개 구매한 가격은?\n",
        "apple*3 + banana*1 + kiwi*2"
      ],
      "execution_count": null,
      "outputs": [
        {
          "output_type": "execute_result",
          "data": {
            "text/plain": [
              "7800"
            ]
          },
          "metadata": {
            "tags": []
          },
          "execution_count": 19
        }
      ]
    },
    {
      "cell_type": "markdown",
      "metadata": {
        "id": "3iQgjH5g8Wby",
        "colab_type": "text"
      },
      "source": [
        "<img src='https://github.com/Ahnjihye/allinone_AI/blob/images/2_%EB%B3%80%EC%88%98%EC%97%B0%EC%82%B0.png?raw=true' width =300px>"
      ]
    },
    {
      "cell_type": "code",
      "metadata": {
        "id": "kAnHKPxlnUMO",
        "colab_type": "code",
        "colab": {
          "base_uri": "https://localhost:8080/",
          "height": 34
        },
        "outputId": "54af36b1-1439-4c8b-86fb-6726578802e3"
      },
      "source": [
        "# 위 가격은 변수에 저장이 되지 않았으므로 재사용이 안됨\n",
        "price = apple*3 + banana*1 + kiwi*2\n",
        "price"
      ],
      "execution_count": null,
      "outputs": [
        {
          "output_type": "execute_result",
          "data": {
            "text/plain": [
              "7800"
            ]
          },
          "metadata": {
            "tags": []
          },
          "execution_count": 25
        }
      ]
    },
    {
      "cell_type": "code",
      "metadata": {
        "id": "3yzsV8_7bpDS",
        "colab_type": "code",
        "colab": {
          "base_uri": "https://localhost:8080/",
          "height": 34
        },
        "outputId": "6834994f-35f2-44b7-c48a-38a12e0dd33e"
      },
      "source": [
        "# vip는 20% 할인\n",
        "vip = 0.8\n",
        "\n",
        "# vip가 동일한 가격을 구매했을 때 가격?\n",
        "price * vip"
      ],
      "execution_count": null,
      "outputs": [
        {
          "output_type": "execute_result",
          "data": {
            "text/plain": [
              "6240.0"
            ]
          },
          "metadata": {
            "tags": []
          },
          "execution_count": 26
        }
      ]
    },
    {
      "cell_type": "code",
      "metadata": {
        "id": "A7bhHZu-nnE_",
        "colab_type": "code",
        "colab": {}
      },
      "source": [
        "# 이 역시 변수에 저장되지 않았으므로 재사용이 불가\n",
        "vip_price = price * vip"
      ],
      "execution_count": null,
      "outputs": []
    },
    {
      "cell_type": "code",
      "metadata": {
        "id": "I5UtDtRgnwk8",
        "colab_type": "code",
        "colab": {
          "base_uri": "https://localhost:8080/",
          "height": 34
        },
        "outputId": "725be9e5-29fa-46ac-9696-f1a3d0d6b024"
      },
      "source": [
        "print('vip가 되시면',price,'원을',vip_price,'원에 구매 가능합니다! ')"
      ],
      "execution_count": null,
      "outputs": [
        {
          "output_type": "stream",
          "text": [
            "vip가 되시면 7800 원을 6240.0 원에 구매 가능합니다! \n"
          ],
          "name": "stdout"
        }
      ]
    },
    {
      "cell_type": "markdown",
      "metadata": {
        "id": "kv0LoMHqmyXE",
        "colab_type": "text"
      },
      "source": [
        "## 4. 데이터타입\n",
        "\n",
        "\n",
        "```\n",
        "정수 int\n",
        "실수 float\n",
        "문자 str\n",
        "```\n",
        "#### 데이터타입 변환 --> 변환하려는 타입으로 감싸주기\n"
      ]
    },
    {
      "cell_type": "code",
      "metadata": {
        "id": "Yh4EzMknbpFi",
        "colab_type": "code",
        "colab": {
          "base_uri": "https://localhost:8080/",
          "height": 34
        },
        "outputId": "8354c1e6-4fab-4224-8f65-2c4368ea7a96"
      },
      "source": [
        "type(apple)"
      ],
      "execution_count": null,
      "outputs": [
        {
          "output_type": "execute_result",
          "data": {
            "text/plain": [
              "int"
            ]
          },
          "metadata": {
            "tags": []
          },
          "execution_count": 21
        }
      ]
    },
    {
      "cell_type": "code",
      "metadata": {
        "id": "zyFQbxIlbpHu",
        "colab_type": "code",
        "colab": {
          "base_uri": "https://localhost:8080/",
          "height": 34
        },
        "outputId": "c4d14734-181f-4600-e259-b519b0cffc6a"
      },
      "source": [
        "type(banana)"
      ],
      "execution_count": null,
      "outputs": [
        {
          "output_type": "execute_result",
          "data": {
            "text/plain": [
              "int"
            ]
          },
          "metadata": {
            "tags": []
          },
          "execution_count": 22
        }
      ]
    },
    {
      "cell_type": "code",
      "metadata": {
        "id": "7frJWouPm-8e",
        "colab_type": "code",
        "colab": {
          "base_uri": "https://localhost:8080/",
          "height": 34
        },
        "outputId": "93347f8c-0787-4949-9adb-2f66dab494a6"
      },
      "source": [
        "type(vip)"
      ],
      "execution_count": null,
      "outputs": [
        {
          "output_type": "execute_result",
          "data": {
            "text/plain": [
              "float"
            ]
          },
          "metadata": {
            "tags": []
          },
          "execution_count": 30
        }
      ]
    },
    {
      "cell_type": "code",
      "metadata": {
        "id": "_m8OTfEln_Qn",
        "colab_type": "code",
        "colab": {
          "base_uri": "https://localhost:8080/",
          "height": 34
        },
        "outputId": "02512586-3a9d-448b-94cd-8d08445eddf6"
      },
      "source": [
        "type(a)"
      ],
      "execution_count": null,
      "outputs": [
        {
          "output_type": "execute_result",
          "data": {
            "text/plain": [
              "str"
            ]
          },
          "metadata": {
            "tags": []
          },
          "execution_count": 31
        }
      ]
    },
    {
      "cell_type": "code",
      "metadata": {
        "id": "m0Q-OfX8oAfP",
        "colab_type": "code",
        "colab": {
          "base_uri": "https://localhost:8080/",
          "height": 34
        },
        "outputId": "b296c02c-e8c8-4ddc-ea36-f64bc851827f"
      },
      "source": [
        "# 정수를 실수로 \n",
        "float(apple)"
      ],
      "execution_count": null,
      "outputs": [
        {
          "output_type": "execute_result",
          "data": {
            "text/plain": [
              "1200.0"
            ]
          },
          "metadata": {
            "tags": []
          },
          "execution_count": 33
        }
      ]
    },
    {
      "cell_type": "code",
      "metadata": {
        "id": "JMm4V8_RpJgf",
        "colab_type": "code",
        "colab": {
          "base_uri": "https://localhost:8080/",
          "height": 34
        },
        "outputId": "7cd0bd81-4065-4b89-e898-408ca72cf78a"
      },
      "source": [
        "# 실수를 정수로\n",
        "score = 99.99\n",
        "int(score)"
      ],
      "execution_count": null,
      "outputs": [
        {
          "output_type": "execute_result",
          "data": {
            "text/plain": [
              "99"
            ]
          },
          "metadata": {
            "tags": []
          },
          "execution_count": 34
        }
      ]
    },
    {
      "cell_type": "markdown",
      "metadata": {
        "id": "lwYK3RAi86NG",
        "colab_type": "text"
      },
      "source": [
        "<img src = 'https://github.com/Ahnjihye/allinone_AI/blob/images/3_%EC%9E%85%EB%A0%A5%EA%B0%92%20%EB%B3%80%EC%88%98.png?raw=true' width = 300>"
      ]
    },
    {
      "cell_type": "code",
      "metadata": {
        "id": "VYBYgR3tpU63",
        "colab_type": "code",
        "colab": {
          "base_uri": "https://localhost:8080/",
          "height": 50
        },
        "outputId": "6edeaa28-ea6d-45c4-ec57-e2aba626f605"
      },
      "source": [
        "# 문자를 정수로\n",
        "score = input('점수 입력 :')\n",
        "int(score)"
      ],
      "execution_count": null,
      "outputs": [
        {
          "output_type": "stream",
          "text": [
            "점수 입력 :44\n"
          ],
          "name": "stdout"
        },
        {
          "output_type": "execute_result",
          "data": {
            "text/plain": [
              "44"
            ]
          },
          "metadata": {
            "tags": []
          },
          "execution_count": 35
        }
      ]
    },
    {
      "cell_type": "code",
      "metadata": {
        "id": "TPoG6aS0paZ0",
        "colab_type": "code",
        "colab": {
          "base_uri": "https://localhost:8080/",
          "height": 34
        },
        "outputId": "ea9452fe-7ab9-43f5-9428-aa90b9d818d1"
      },
      "source": [
        "# 합쳐서 사용하기\n",
        "score = int(input('점수 입력 :'))"
      ],
      "execution_count": null,
      "outputs": [
        {
          "output_type": "stream",
          "text": [
            "점수 입력 :34\n"
          ],
          "name": "stdout"
        }
      ]
    },
    {
      "cell_type": "code",
      "metadata": {
        "id": "6SDgV2wIpi29",
        "colab_type": "code",
        "colab": {
          "base_uri": "https://localhost:8080/",
          "height": 34
        },
        "outputId": "3541edcb-b5b1-4f83-abe7-e7e33dd1099f"
      },
      "source": [
        "score"
      ],
      "execution_count": null,
      "outputs": [
        {
          "output_type": "execute_result",
          "data": {
            "text/plain": [
              "34"
            ]
          },
          "metadata": {
            "tags": []
          },
          "execution_count": 37
        }
      ]
    },
    {
      "cell_type": "markdown",
      "metadata": {
        "id": "6n9IjADZt4Z5",
        "colab_type": "text"
      },
      "source": [
        "## 5. 리스트\n",
        "\n",
        "<img src='https://github.com/Ahnjihye/allinone_AI/blob/images/6_%EB%A6%AC%EC%8A%A4%ED%8A%B8%EA%B0%9C%EB%85%90.png?raw=true' width=500>\n",
        "\n",
        "```\n",
        "리스트 여러 데이터를 한 번에 묶어서 표현\n",
        "리스트이름 = [데이터1, 데이터2, ..., 데이터n]\n",
        "```\n",
        "\n"
      ]
    },
    {
      "cell_type": "code",
      "metadata": {
        "id": "FAe8AhxFMRWQ",
        "colab_type": "code",
        "colab": {}
      },
      "source": [
        "# 가계부 프로그램 \n",
        "# 1월 지출부터 6월 지출까지 리스트로 만들기\n",
        "spend = [43, 12, 65, 67, 23, 12]"
      ],
      "execution_count": null,
      "outputs": []
    },
    {
      "cell_type": "code",
      "metadata": {
        "id": "AfL3S1RbMRZb",
        "colab_type": "code",
        "colab": {
          "base_uri": "https://localhost:8080/",
          "height": 34
        },
        "outputId": "dccec6f0-01fc-4dd4-ae2c-bffadd27d0e3"
      },
      "source": [
        "spend"
      ],
      "execution_count": null,
      "outputs": [
        {
          "output_type": "execute_result",
          "data": {
            "text/plain": [
              "[43, 12, 65, 67, 23, 12]"
            ]
          },
          "metadata": {
            "tags": []
          },
          "execution_count": 6
        }
      ]
    },
    {
      "cell_type": "code",
      "metadata": {
        "id": "pletqKwvMRcq",
        "colab_type": "code",
        "colab": {
          "base_uri": "https://localhost:8080/",
          "height": 34
        },
        "outputId": "1c45512b-645c-4d52-8f24-c9217dbafae8"
      },
      "source": [
        "type(spend)"
      ],
      "execution_count": null,
      "outputs": [
        {
          "output_type": "execute_result",
          "data": {
            "text/plain": [
              "list"
            ]
          },
          "metadata": {
            "tags": []
          },
          "execution_count": 7
        }
      ]
    },
    {
      "cell_type": "markdown",
      "metadata": {
        "id": "TKe3-L5lNYYN",
        "colab_type": "text"
      },
      "source": [
        "#### 리스트의 인덱스란\n",
        "<img src ='https://github.com/Ahnjihye/allinone_AI/blob/images/7_%EB%A6%AC%EC%8A%A4%ED%8A%B8%EC%9D%B8%EB%8D%B1%EC%8A%A4.png?raw=true' width =500>"
      ]
    },
    {
      "cell_type": "code",
      "metadata": {
        "id": "nDJdEgVpMlSm",
        "colab_type": "code",
        "colab": {
          "base_uri": "https://localhost:8080/",
          "height": 118
        },
        "outputId": "73ade901-1875-4d4c-b4f5-74176936d58b"
      },
      "source": [
        "# 리스트 내의 원소에 접근하기\n",
        "# 인덱스틑 0부터 \n",
        "print(spend[0])\n",
        "print(spend[1])\n",
        "print(spend[2])\n",
        "print(spend[3])\n",
        "print(spend[4])\n",
        "print(spend[5])"
      ],
      "execution_count": null,
      "outputs": [
        {
          "output_type": "stream",
          "text": [
            "43\n",
            "12\n",
            "65\n",
            "67\n",
            "23\n",
            "12\n"
          ],
          "name": "stdout"
        }
      ]
    },
    {
      "cell_type": "markdown",
      "metadata": {
        "id": "6GNtA_6rE1lY",
        "colab_type": "text"
      },
      "source": [
        "리스트 마이너스 인덱스\n",
        "<img src = 'https://github.com/Ahnjihye/allinone_AI/blob/images/8_%EB%A6%AC%EC%8A%A4%ED%8A%B8%20%EB%A7%88%EC%9D%B4%EB%84%88%EC%8A%A4%EC%9D%B8%EB%8D%B1%EC%8A%A4.png?raw=true' width=500>"
      ]
    },
    {
      "cell_type": "code",
      "metadata": {
        "id": "VYSsCWAuMlVF",
        "colab_type": "code",
        "colab": {
          "base_uri": "https://localhost:8080/",
          "height": 118
        },
        "outputId": "7b638e15-1642-4ccf-db77-e8ac2db7c54c"
      },
      "source": [
        "print(spend[-1])\n",
        "print(spend[-2])\n",
        "print(spend[-3])\n",
        "print(spend[-4])\n",
        "print(spend[-5])\n",
        "print(spend[-6])"
      ],
      "execution_count": null,
      "outputs": [
        {
          "output_type": "stream",
          "text": [
            "12\n",
            "23\n",
            "67\n",
            "65\n",
            "12\n",
            "43\n"
          ],
          "name": "stdout"
        }
      ]
    },
    {
      "cell_type": "code",
      "metadata": {
        "id": "l97FX7QOMlYm",
        "colab_type": "code",
        "colab": {
          "base_uri": "https://localhost:8080/",
          "height": 34
        },
        "outputId": "945932c9-128f-49d7-fda0-6081bd481a60"
      },
      "source": [
        "# 1월 지출은?\n",
        "print(spend[0])"
      ],
      "execution_count": null,
      "outputs": [
        {
          "output_type": "stream",
          "text": [
            "43\n"
          ],
          "name": "stdout"
        }
      ]
    },
    {
      "cell_type": "code",
      "metadata": {
        "id": "XQJ_ouroMlaz",
        "colab_type": "code",
        "colab": {
          "base_uri": "https://localhost:8080/",
          "height": 34
        },
        "outputId": "32640087-2611-4c81-cf26-bf2ec3aa1f57"
      },
      "source": [
        "# 6월 지출은?\n",
        "print(spend[-1])"
      ],
      "execution_count": null,
      "outputs": [
        {
          "output_type": "stream",
          "text": [
            "12\n"
          ],
          "name": "stdout"
        }
      ]
    },
    {
      "cell_type": "code",
      "metadata": {
        "id": "70ooJdGDMlh4",
        "colab_type": "code",
        "colab": {
          "base_uri": "https://localhost:8080/",
          "height": 34
        },
        "outputId": "5610af62-97cd-43a1-9cd2-b0de61ad27ac"
      },
      "source": [
        "# 3월 지출은?\n",
        "print(spend[2])"
      ],
      "execution_count": null,
      "outputs": [
        {
          "output_type": "stream",
          "text": [
            "65\n"
          ],
          "name": "stdout"
        }
      ]
    },
    {
      "cell_type": "code",
      "metadata": {
        "id": "tLt7P-A2Mlkq",
        "colab_type": "code",
        "colab": {
          "base_uri": "https://localhost:8080/",
          "height": 34
        },
        "outputId": "3099e94b-4b2b-4da4-bd3c-de29a12f39f0"
      },
      "source": [
        "# 알고보니 4월 지출이 10낮게 기록됐다.\n",
        "# 4월 지출에 10을 더하시오\n",
        "spend[3] += 10\n",
        "spend"
      ],
      "execution_count": null,
      "outputs": [
        {
          "output_type": "execute_result",
          "data": {
            "text/plain": [
              "[43, 12, 65, 77, 23, 12]"
            ]
          },
          "metadata": {
            "tags": []
          },
          "execution_count": 18
        }
      ]
    },
    {
      "cell_type": "code",
      "metadata": {
        "id": "UGAtSnXaNpy6",
        "colab_type": "code",
        "colab": {
          "base_uri": "https://localhost:8080/",
          "height": 34
        },
        "outputId": "fb601144-2e35-41b0-9e10-c91f4edf9bda"
      },
      "source": [
        "# 5월 지출을 2로 나누시오\n",
        "spend[4] /= 2\n",
        "spend"
      ],
      "execution_count": null,
      "outputs": [
        {
          "output_type": "execute_result",
          "data": {
            "text/plain": [
              "[43, 12, 65, 77, 11.5, 12]"
            ]
          },
          "metadata": {
            "tags": []
          },
          "execution_count": 19
        }
      ]
    },
    {
      "cell_type": "markdown",
      "metadata": {
        "id": "mcMUi8x-OEod",
        "colab_type": "text"
      },
      "source": [
        "#### 리스트의 다양한 명령어\n",
        "\n",
        "\n",
        "```\n",
        "len(리스트이름)            # 리스트 길이 확인\n",
        "리스트이름.append(데이터)    # 리스트에 데이터 추가\n",
        "리스트이름.sort()          # 리스트 원소 정렬하기\n",
        "```\n",
        "\n"
      ]
    },
    {
      "cell_type": "code",
      "metadata": {
        "id": "PVBaOrEONp4H",
        "colab_type": "code",
        "colab": {
          "base_uri": "https://localhost:8080/",
          "height": 34
        },
        "outputId": "9899d955-7e23-4947-80c5-4e43a7620eb3"
      },
      "source": [
        "len(spend)"
      ],
      "execution_count": null,
      "outputs": [
        {
          "output_type": "execute_result",
          "data": {
            "text/plain": [
              "6"
            ]
          },
          "metadata": {
            "tags": []
          },
          "execution_count": 21
        }
      ]
    },
    {
      "cell_type": "code",
      "metadata": {
        "id": "qAH4hzAwNp1s",
        "colab_type": "code",
        "colab": {
          "base_uri": "https://localhost:8080/",
          "height": 34
        },
        "outputId": "2971e790-441a-4ff0-e400-a681f13f2c5b"
      },
      "source": [
        "fruit = ['사과', '바나나', '키위']\n",
        "len(fruit)"
      ],
      "execution_count": null,
      "outputs": [
        {
          "output_type": "execute_result",
          "data": {
            "text/plain": [
              "3"
            ]
          },
          "metadata": {
            "tags": []
          },
          "execution_count": 24
        }
      ]
    },
    {
      "cell_type": "code",
      "metadata": {
        "id": "PYw7ooYGNp65",
        "colab_type": "code",
        "colab": {
          "base_uri": "https://localhost:8080/",
          "height": 34
        },
        "outputId": "9b32896a-1967-4942-9f65-a800dea41534"
      },
      "source": [
        "# 오렌지 추가\n",
        "fruit.append('오렌지')\n",
        "fruit"
      ],
      "execution_count": null,
      "outputs": [
        {
          "output_type": "execute_result",
          "data": {
            "text/plain": [
              "['사과', '바나나', '키위', '오렌지']"
            ]
          },
          "metadata": {
            "tags": []
          },
          "execution_count": 25
        }
      ]
    },
    {
      "cell_type": "code",
      "metadata": {
        "id": "EakP6OrBOry4",
        "colab_type": "code",
        "colab": {
          "base_uri": "https://localhost:8080/",
          "height": 34
        },
        "outputId": "46412dad-10a4-42d0-d128-ada3e9dd7779"
      },
      "source": [
        "# 참외 추가해보기\n",
        "fruit.append('참외')\n",
        "fruit"
      ],
      "execution_count": null,
      "outputs": [
        {
          "output_type": "execute_result",
          "data": {
            "text/plain": [
              "['사과', '바나나', '키위', '오렌지', '참외']"
            ]
          },
          "metadata": {
            "tags": []
          },
          "execution_count": 26
        }
      ]
    },
    {
      "cell_type": "code",
      "metadata": {
        "id": "Uv7fx6XBO3vN",
        "colab_type": "code",
        "colab": {
          "base_uri": "https://localhost:8080/",
          "height": 34
        },
        "outputId": "4ae85235-2419-4688-f6d0-99a8648d8538"
      },
      "source": [
        "# 정렬하기\n",
        "fruit.sort()\n",
        "fruit"
      ],
      "execution_count": null,
      "outputs": [
        {
          "output_type": "execute_result",
          "data": {
            "text/plain": [
              "['바나나', '사과', '오렌지', '참외', '키위']"
            ]
          },
          "metadata": {
            "tags": []
          },
          "execution_count": 28
        }
      ]
    },
    {
      "cell_type": "code",
      "metadata": {
        "id": "BuIfMu7uO3yO",
        "colab_type": "code",
        "colab": {
          "base_uri": "https://localhost:8080/",
          "height": 50
        },
        "outputId": "6b197cf6-8a07-4d3a-fa60-c23023ccb412"
      },
      "source": [
        "print('정렬 전 spend', spend)\n",
        "\n",
        "spend.sort()\n",
        "print('정렬 후 spend', spend)"
      ],
      "execution_count": null,
      "outputs": [
        {
          "output_type": "stream",
          "text": [
            "정렬 전 spend [43, 12, 65, 77, 11.5, 12]\n",
            "정렬 후 spend [11.5, 12, 12, 43, 65, 77]\n"
          ],
          "name": "stdout"
        }
      ]
    },
    {
      "cell_type": "markdown",
      "metadata": {
        "id": "VcinMKvjPO_n",
        "colab_type": "text"
      },
      "source": [
        "#### 리스트 슬라이싱\n",
        "\n",
        "<img src = 'https://github.com/Ahnjihye/allinone_AI/blob/images/9_%EB%A6%AC%EC%8A%A4%ED%8A%B8%EC%8A%AC%EB%9D%BC%EC%9D%B4%EC%8B%B1.png?raw=true' width=500>\n",
        "\n",
        "\n",
        "```\n",
        "리스트[시작숫자 : 종료숫자]\n",
        "```\n",
        "종료숫자까지 잘라내는 것 XXX\n",
        "종료숫자에서 탈출하는 것 OOO\n",
        "\n",
        "\n",
        "\n",
        "```\n",
        "abc[2:5]       # abc[2]~abc[4]까지 슬라이싱하고 abc[5]가 되면 탈출함\n",
        "abc[4:9]       # abc[4]~abc[9]까지 슬라이싱하고 abc[9]가 되면 탈출함\n",
        "```\n",
        "\n",
        "\n",
        "\n"
      ]
    },
    {
      "cell_type": "code",
      "metadata": {
        "id": "skKBPcWnO31V",
        "colab_type": "code",
        "colab": {
          "base_uri": "https://localhost:8080/",
          "height": 34
        },
        "outputId": "a91f6ae9-2d27-44b9-b433-eded4e02a0a5"
      },
      "source": [
        "fruit"
      ],
      "execution_count": null,
      "outputs": [
        {
          "output_type": "execute_result",
          "data": {
            "text/plain": [
              "['바나나', '사과', '오렌지', '참외', '키위']"
            ]
          },
          "metadata": {
            "tags": []
          },
          "execution_count": 30
        }
      ]
    },
    {
      "cell_type": "code",
      "metadata": {
        "id": "5T90E9u2PzQl",
        "colab_type": "code",
        "colab": {
          "base_uri": "https://localhost:8080/",
          "height": 34
        },
        "outputId": "c63990f3-78d8-4894-8db3-26bcf611a6ec"
      },
      "source": [
        "# 사과, 오렌지만 골라내기\n",
        "fruit[1:3]"
      ],
      "execution_count": null,
      "outputs": [
        {
          "output_type": "execute_result",
          "data": {
            "text/plain": [
              "['사과', '오렌지']"
            ]
          },
          "metadata": {
            "tags": []
          },
          "execution_count": 31
        }
      ]
    },
    {
      "cell_type": "code",
      "metadata": {
        "id": "u8_ZjYbVPzXv",
        "colab_type": "code",
        "colab": {
          "base_uri": "https://localhost:8080/",
          "height": 34
        },
        "outputId": "c1e38391-0eeb-4849-e16f-05cd934ba430"
      },
      "source": [
        "# 처음부터 [n]까지 골라내기\n",
        "fruit[:2]"
      ],
      "execution_count": null,
      "outputs": [
        {
          "output_type": "execute_result",
          "data": {
            "text/plain": [
              "['바나나', '사과']"
            ]
          },
          "metadata": {
            "tags": []
          },
          "execution_count": 32
        }
      ]
    },
    {
      "cell_type": "code",
      "metadata": {
        "id": "DGT1u07APzWH",
        "colab_type": "code",
        "colab": {}
      },
      "source": [
        "# 뒤에서 두 개 데이터 슬라이싱\n",
        "fruit[-2:]"
      ],
      "execution_count": null,
      "outputs": []
    },
    {
      "cell_type": "markdown",
      "metadata": {
        "id": "2GzeP7MRQ1BC",
        "colab_type": "text"
      },
      "source": [
        "#### 문자열 슬라이싱"
      ]
    },
    {
      "cell_type": "code",
      "metadata": {
        "id": "trbsdMEzQ38P",
        "colab_type": "code",
        "colab": {}
      },
      "source": [
        "name = 'Lets get it Python'"
      ],
      "execution_count": null,
      "outputs": []
    },
    {
      "cell_type": "code",
      "metadata": {
        "id": "uJp-ceSnQ3_b",
        "colab_type": "code",
        "colab": {
          "base_uri": "https://localhost:8080/",
          "height": 35
        },
        "outputId": "08e8f7ca-f831-4e9e-8625-0e77f51257e3"
      },
      "source": [
        "name[:4]"
      ],
      "execution_count": null,
      "outputs": [
        {
          "output_type": "execute_result",
          "data": {
            "application/vnd.google.colaboratory.intrinsic+json": {
              "type": "string"
            },
            "text/plain": [
              "'Lets'"
            ]
          },
          "metadata": {
            "tags": []
          },
          "execution_count": 34
        }
      ]
    },
    {
      "cell_type": "code",
      "metadata": {
        "id": "cUQ_6ORgQ4BE",
        "colab_type": "code",
        "colab": {
          "base_uri": "https://localhost:8080/",
          "height": 35
        },
        "outputId": "6651a9a7-6e96-4301-a348-2f8fd9f9f802"
      },
      "source": [
        "name[-6:]"
      ],
      "execution_count": null,
      "outputs": [
        {
          "output_type": "execute_result",
          "data": {
            "application/vnd.google.colaboratory.intrinsic+json": {
              "type": "string"
            },
            "text/plain": [
              "'Python'"
            ]
          },
          "metadata": {
            "tags": []
          },
          "execution_count": 35
        }
      ]
    },
    {
      "cell_type": "code",
      "metadata": {
        "id": "iAqVu3IjQ4D9",
        "colab_type": "code",
        "colab": {
          "base_uri": "https://localhost:8080/",
          "height": 35
        },
        "outputId": "2d672328-3063-46ca-e9ea-b46e93366b43"
      },
      "source": [
        "# get it만 슬라이싱해보기\n",
        "name[4:-6]"
      ],
      "execution_count": null,
      "outputs": [
        {
          "output_type": "execute_result",
          "data": {
            "application/vnd.google.colaboratory.intrinsic+json": {
              "type": "string"
            },
            "text/plain": [
              "' get it '"
            ]
          },
          "metadata": {
            "tags": []
          },
          "execution_count": 36
        }
      ]
    },
    {
      "cell_type": "markdown",
      "metadata": {
        "id": "o4prnRF_RRyN",
        "colab_type": "text"
      },
      "source": [
        "문자열 분리 명령어 .spilt()\n",
        "\n",
        "\n",
        "```\n",
        "문자열.split('분리할 기준')\n",
        "```\n",
        "\n"
      ]
    },
    {
      "cell_type": "code",
      "metadata": {
        "id": "CQ0-EObNRQKn",
        "colab_type": "code",
        "colab": {
          "base_uri": "https://localhost:8080/",
          "height": 34
        },
        "outputId": "637f105d-05b3-4599-eb5b-4cb2d86c3d55"
      },
      "source": [
        "name.split()"
      ],
      "execution_count": null,
      "outputs": [
        {
          "output_type": "execute_result",
          "data": {
            "text/plain": [
              "['Lets', 'get', 'it', 'Python']"
            ]
          },
          "metadata": {
            "tags": []
          },
          "execution_count": 37
        }
      ]
    },
    {
      "cell_type": "code",
      "metadata": {
        "id": "vt-TuP3rRQZF",
        "colab_type": "code",
        "colab": {
          "base_uri": "https://localhost:8080/",
          "height": 35
        },
        "outputId": "c8302d76-4938-47f1-a769-1e951ed54e0b"
      },
      "source": [
        "name.split()[0]"
      ],
      "execution_count": null,
      "outputs": [
        {
          "output_type": "execute_result",
          "data": {
            "application/vnd.google.colaboratory.intrinsic+json": {
              "type": "string"
            },
            "text/plain": [
              "'Lets'"
            ]
          },
          "metadata": {
            "tags": []
          },
          "execution_count": 38
        }
      ]
    },
    {
      "cell_type": "code",
      "metadata": {
        "id": "oijq-DXHRgwL",
        "colab_type": "code",
        "colab": {
          "base_uri": "https://localhost:8080/",
          "height": 34
        },
        "outputId": "fad3adf1-30e2-48a3-a33c-143d3ac3fdb9"
      },
      "source": [
        "name.split()[1:3]"
      ],
      "execution_count": null,
      "outputs": [
        {
          "output_type": "execute_result",
          "data": {
            "text/plain": [
              "['get', 'it']"
            ]
          },
          "metadata": {
            "tags": []
          },
          "execution_count": 39
        }
      ]
    },
    {
      "cell_type": "code",
      "metadata": {
        "id": "a7uoVb8kRgzE",
        "colab_type": "code",
        "colab": {
          "base_uri": "https://localhost:8080/",
          "height": 35
        },
        "outputId": "e255bfc1-460d-4e4d-b4a4-117a24745d1d"
      },
      "source": [
        "name.split()[-1]"
      ],
      "execution_count": null,
      "outputs": [
        {
          "output_type": "execute_result",
          "data": {
            "application/vnd.google.colaboratory.intrinsic+json": {
              "type": "string"
            },
            "text/plain": [
              "'Python'"
            ]
          },
          "metadata": {
            "tags": []
          },
          "execution_count": 40
        }
      ]
    },
    {
      "cell_type": "code",
      "metadata": {
        "id": "VZiERfJNRg4R",
        "colab_type": "code",
        "colab": {
          "base_uri": "https://localhost:8080/",
          "height": 34
        },
        "outputId": "6d4b127b-5d97-4640-a812-cf38d89d71a6"
      },
      "source": [
        "name.split('t')  # t가 사라짐"
      ],
      "execution_count": null,
      "outputs": [
        {
          "output_type": "execute_result",
          "data": {
            "text/plain": [
              "['Le', 's ge', ' i', ' Py', 'hon']"
            ]
          },
          "metadata": {
            "tags": []
          },
          "execution_count": 41
        }
      ]
    },
    {
      "cell_type": "code",
      "metadata": {
        "id": "RA-7dVzERg6x",
        "colab_type": "code",
        "colab": {
          "base_uri": "https://localhost:8080/",
          "height": 34
        },
        "outputId": "c3db0762-67e4-41a1-e12c-09c7937d2aaa"
      },
      "source": [
        "name.split('e')  # e가 사라짐"
      ],
      "execution_count": null,
      "outputs": [
        {
          "output_type": "execute_result",
          "data": {
            "text/plain": [
              "['L', 'ts g', 't it Python']"
            ]
          },
          "metadata": {
            "tags": []
          },
          "execution_count": 42
        }
      ]
    },
    {
      "cell_type": "code",
      "metadata": {
        "id": "9vbsDdAARg3d",
        "colab_type": "code",
        "colab": {}
      },
      "source": [
        "date = '2020-09-02'"
      ],
      "execution_count": null,
      "outputs": []
    },
    {
      "cell_type": "code",
      "metadata": {
        "id": "B3r_9wGLRzk7",
        "colab_type": "code",
        "colab": {
          "base_uri": "https://localhost:8080/",
          "height": 34
        },
        "outputId": "84b7f052-a695-4066-9406-9ef04a6e3522"
      },
      "source": [
        "# 년도만 골라내기\n",
        "date.split('-')[0]\n",
        "\n",
        "# 숫자로 아직 안바뀐 상태\n",
        "int(date.split('-')[0])"
      ],
      "execution_count": null,
      "outputs": [
        {
          "output_type": "execute_result",
          "data": {
            "text/plain": [
              "2020"
            ]
          },
          "metadata": {
            "tags": []
          },
          "execution_count": 47
        }
      ]
    },
    {
      "cell_type": "code",
      "metadata": {
        "id": "oi4InWd-R5hK",
        "colab_type": "code",
        "colab": {
          "base_uri": "https://localhost:8080/",
          "height": 35
        },
        "outputId": "d5e376c7-43b1-4b2c-ce63-b29101530e1d"
      },
      "source": [
        "# 월만 골라내기\n",
        "date.split('-')[1]"
      ],
      "execution_count": null,
      "outputs": [
        {
          "output_type": "execute_result",
          "data": {
            "application/vnd.google.colaboratory.intrinsic+json": {
              "type": "string"
            },
            "text/plain": [
              "'09'"
            ]
          },
          "metadata": {
            "tags": []
          },
          "execution_count": 46
        }
      ]
    },
    {
      "cell_type": "code",
      "metadata": {
        "id": "EV6_JAjDR5lz",
        "colab_type": "code",
        "colab": {
          "base_uri": "https://localhost:8080/",
          "height": 35
        },
        "outputId": "b4d59710-c021-4f08-efc4-5daa95bde8c0"
      },
      "source": [
        "# 일만 골라내기\n",
        "date.split('-')[-1]"
      ],
      "execution_count": null,
      "outputs": [
        {
          "output_type": "execute_result",
          "data": {
            "application/vnd.google.colaboratory.intrinsic+json": {
              "type": "string"
            },
            "text/plain": [
              "'02'"
            ]
          },
          "metadata": {
            "tags": []
          },
          "execution_count": 45
        }
      ]
    },
    {
      "cell_type": "markdown",
      "metadata": {
        "id": "IgU4y4cdCo3v",
        "colab_type": "text"
      },
      "source": [
        "## 6. 조건문 if\n",
        "\n",
        "만약 A라면 B해라      \n",
        "\n",
        "```\n",
        "if A :   \n",
        "    B    \n",
        "```\n",
        "<img src = 'https://github.com/Ahnjihye/allinone_AI/blob/images/10_%EC%84%A0%ED%83%9D%EA%B5%AC%EC%A1%B0.png?raw=true' width=500>\n",
        "\n"
      ]
    },
    {
      "cell_type": "code",
      "metadata": {
        "id": "MkpSM5DyCp78",
        "colab_type": "code",
        "colab": {}
      },
      "source": [
        "# 만약 미성년자라면 술을 구매할 수 없다고 출력\n",
        "age = int(input('나이 입력 : '))\n",
        "\n",
        "if age < 20 : \n",
        "    # 조건을 충족할 때만 실행\n",
        "    print('술을 구매할 수 없습니다.')"
      ],
      "execution_count": null,
      "outputs": []
    },
    {
      "cell_type": "code",
      "metadata": {
        "id": "jcoIcoKTCqB2",
        "colab_type": "code",
        "colab": {}
      },
      "source": [
        "age = int(input('나이 입력 : '))\n",
        "\n",
        "if age < 20 : \n",
        "    print('술을 구매할 수 없습니다.')\n",
        "# 항상 실행되는 명령어 -> 들여쓰기 중요\n",
        "print(20-age, '년 후에 다시 오세여!')"
      ],
      "execution_count": null,
      "outputs": []
    },
    {
      "cell_type": "markdown",
      "metadata": {
        "id": "NyCBjh41EVVn",
        "colab_type": "text"
      },
      "source": [
        "\n",
        "만약 A라면 B해라,      \n",
        "그렇지 않으면 C해라      \n",
        "(A가 아니라면)\n",
        "\n",
        "```\n",
        "if A : \n",
        "    B\n",
        "else : \n",
        "    C\n",
        "```\n",
        "<img src = 'https://github.com/Ahnjihye/allinone_AI/blob/images/11_%EC%84%A0%ED%83%9D%EA%B5%AC%EC%A1%B02.png?raw=true' width=500>\n"
      ]
    },
    {
      "cell_type": "code",
      "metadata": {
        "id": "9o7hV4p9CqE2",
        "colab_type": "code",
        "colab": {}
      },
      "source": [
        "if age < 20 : \n",
        "    print('술을 구매할 수 없습니다.')\n",
        "    print(20-age, '년 후에 다시 오세여!')\n",
        "else : \n",
        "    print('감사합니다. 안녕히 가세요.')"
      ],
      "execution_count": null,
      "outputs": []
    },
    {
      "cell_type": "markdown",
      "metadata": {
        "id": "vOm9lpO7HsTb",
        "colab_type": "text"
      },
      "source": [
        "조건을 만드는 비교 연산자\n",
        "\n",
        "\n",
        "```\n",
        "a > b    # a가 b보다 크다면\n",
        "a < b    # a가 b보다 작다면\n",
        "a >= b    # a가 b보다 크거나 같다면\n",
        "a <= b    # a가 b보다 작거나 같다면\n",
        "a == b    # a와 b가 같다면\n",
        "a != b    # a와 b가 틀리다면\n",
        "```\n",
        "\n"
      ]
    },
    {
      "cell_type": "markdown",
      "metadata": {
        "id": "vpkrmOpKIurV",
        "colab_type": "text"
      },
      "source": [
        "#### 실습 1) 물건 금액을 입력받고 물건이 오만원 미만일 경우 배송비 2500원을 더해서 결제금액을 안내하시오. "
      ]
    },
    {
      "cell_type": "code",
      "metadata": {
        "id": "F0zdyUHuCp_5",
        "colab_type": "code",
        "colab": {}
      },
      "source": [
        "price = int(input('물건 가격 입력 : '))\n",
        "\n",
        "if price < 50000 : \n",
        "    price += 2500\n",
        "\n",
        "print('총 결제금액은',price)"
      ],
      "execution_count": null,
      "outputs": []
    },
    {
      "cell_type": "code",
      "metadata": {
        "id": "IGkgKwYvJTYY",
        "colab_type": "code",
        "colab": {
          "base_uri": "https://localhost:8080/",
          "height": 84
        },
        "outputId": "f757fcdc-74c2-48d2-acef-9ceaf2cab318"
      },
      "source": [
        "# 계산 꿀팁! \n",
        "a = 10\n",
        "a += 1\n",
        "print(a)\n",
        "\n",
        "a -= 2\n",
        "print(a)\n",
        "\n",
        "a *= 3\n",
        "print(a)\n",
        "\n",
        "a /= 4\n",
        "print(a)"
      ],
      "execution_count": null,
      "outputs": [
        {
          "output_type": "stream",
          "text": [
            "11\n",
            "9\n",
            "27\n",
            "6.75\n"
          ],
          "name": "stdout"
        }
      ]
    },
    {
      "cell_type": "markdown",
      "metadata": {
        "id": "mKuAbk7uJ3-7",
        "colab_type": "text"
      },
      "source": [
        "#### 실습 2) 목욕탕에 무인정산기를 설치하려고 한다. 성인은 입장료가 15000원, 마성년자는 6000원이다. 나이를 입력받아 알맞은 가격을 안내해라. "
      ]
    },
    {
      "cell_type": "code",
      "metadata": {
        "id": "TGuUzR0HKOO0",
        "colab_type": "code",
        "colab": {}
      },
      "source": [
        "age = int(input('나이가 어떻게 되십니까? '))\n",
        "\n",
        "if age >= 20 : \n",
        "    print('성인은 15000원입니다.')\n",
        "else : \n",
        "    print('미성년자는 6000원입니다.')\n"
      ],
      "execution_count": null,
      "outputs": []
    },
    {
      "cell_type": "markdown",
      "metadata": {
        "id": "UCdFsLZvKa_C",
        "colab_type": "text"
      },
      "source": [
        "## 7. 반복문\n",
        "\n",
        "```\n",
        "for A in data : \n",
        "    B \n",
        "```\n",
        "<img src = 'https://github.com/Ahnjihye/allinone_AI/blob/images/4_%EB%B0%98%EB%B3%B5%EB%AC%B8.png?raw=true' width=500>\n",
        "\n"
      ]
    },
    {
      "cell_type": "code",
      "metadata": {
        "id": "HyLrFLZQt46j",
        "colab_type": "code",
        "colab": {
          "base_uri": "https://localhost:8080/",
          "height": 101
        },
        "outputId": "f5d0e7b0-f687-41d4-ae49-dfcdef3423c6"
      },
      "source": [
        "for a in [1,2,3,4,5] : \n",
        "    print('안녕하세요!')"
      ],
      "execution_count": null,
      "outputs": [
        {
          "output_type": "stream",
          "text": [
            "안녕하세요!\n",
            "안녕하세요!\n",
            "안녕하세요!\n",
            "안녕하세요!\n",
            "안녕하세요!\n"
          ],
          "name": "stdout"
        }
      ]
    },
    {
      "cell_type": "code",
      "metadata": {
        "id": "IQtiqCfit48u",
        "colab_type": "code",
        "colab": {
          "base_uri": "https://localhost:8080/",
          "height": 101
        },
        "outputId": "177c5812-f5b2-4ff0-ca0d-b7b85f70bff0"
      },
      "source": [
        "for a in [1,2,3,4,5] : \n",
        "    print(a, '안녕하세요!')"
      ],
      "execution_count": null,
      "outputs": [
        {
          "output_type": "stream",
          "text": [
            "1 안녕하세요!\n",
            "2 안녕하세요!\n",
            "3 안녕하세요!\n",
            "4 안녕하세요!\n",
            "5 안녕하세요!\n"
          ],
          "name": "stdout"
        }
      ]
    },
    {
      "cell_type": "markdown",
      "metadata": {
        "id": "oEfcTfzDFlqS",
        "colab_type": "text"
      },
      "source": [
        "<img src ='https://github.com/Ahnjihye/allinone_AI/blob/images/5_%EB%B0%98%EB%B3%B5%EB%AC%B8%20%EB%8F%99%EC%9E%91%EA%B5%AC%EC%A1%B0.png?raw=true' width=400>"
      ]
    },
    {
      "cell_type": "code",
      "metadata": {
        "id": "F2EVpvIMt4_R",
        "colab_type": "code",
        "colab": {
          "base_uri": "https://localhost:8080/",
          "height": 118
        },
        "outputId": "e4759671-8f8b-4bf4-cf0c-ddf317377ec5"
      },
      "source": [
        "spend = [43, 12, 65, 67, 23, 12]\n",
        "\n",
        "for s in spend : \n",
        "    print('지출은', s)"
      ],
      "execution_count": null,
      "outputs": [
        {
          "output_type": "stream",
          "text": [
            "지출은 43\n",
            "지출은 12\n",
            "지출은 65\n",
            "지출은 67\n",
            "지출은 23\n",
            "지출은 12\n"
          ],
          "name": "stdout"
        }
      ]
    },
    {
      "cell_type": "code",
      "metadata": {
        "id": "XP9lM2GHt5B0",
        "colab_type": "code",
        "colab": {
          "base_uri": "https://localhost:8080/",
          "height": 118
        },
        "outputId": "fe035277-b855-432f-be74-9b04205b9fab"
      },
      "source": [
        "# 인덱스를 활용하고 싶을 때 range()\n",
        "for i in range(0,6) : \n",
        "    print(i+1,'월 지출은', spend[i])"
      ],
      "execution_count": null,
      "outputs": [
        {
          "output_type": "stream",
          "text": [
            "1 월 지출은 43\n",
            "2 월 지출은 12\n",
            "3 월 지출은 65\n",
            "4 월 지출은 67\n",
            "5 월 지출은 23\n",
            "6 월 지출은 12\n"
          ],
          "name": "stdout"
        }
      ]
    },
    {
      "cell_type": "code",
      "metadata": {
        "id": "dx99LE7Xt5EO",
        "colab_type": "code",
        "colab": {
          "base_uri": "https://localhost:8080/",
          "height": 118
        },
        "outputId": "89658368-3633-4039-b6c0-67c0d771a6ac"
      },
      "source": [
        "# len() 활용하기\n",
        "for i in range(0,len(spend)) : \n",
        "    print(i+1,'월 지출은', spend[i])"
      ],
      "execution_count": null,
      "outputs": [
        {
          "output_type": "stream",
          "text": [
            "1 월 지출은 43\n",
            "2 월 지출은 12\n",
            "3 월 지출은 65\n",
            "4 월 지출은 67\n",
            "5 월 지출은 23\n",
            "6 월 지출은 12\n"
          ],
          "name": "stdout"
        }
      ]
    },
    {
      "cell_type": "code",
      "metadata": {
        "id": "YBNqt2c-t5Gk",
        "colab_type": "code",
        "colab": {
          "base_uri": "https://localhost:8080/",
          "height": 118
        },
        "outputId": "e885b66b-302d-442c-9f2a-78e7b25ec465"
      },
      "source": [
        "# range()가 0부터 시작하면 생략 가능\n",
        "for i in range(len(spend)) : \n",
        "    print(i+1,'월 지출은', spend[i])"
      ],
      "execution_count": null,
      "outputs": [
        {
          "output_type": "stream",
          "text": [
            "1 월 지출은 43\n",
            "2 월 지출은 12\n",
            "3 월 지출은 65\n",
            "4 월 지출은 67\n",
            "5 월 지출은 23\n",
            "6 월 지출은 12\n"
          ],
          "name": "stdout"
        }
      ]
    },
    {
      "cell_type": "markdown",
      "metadata": {
        "id": "G-bRbKPmU47N",
        "colab_type": "text"
      },
      "source": [
        "#### 리스트와 반복문, 조건문"
      ]
    },
    {
      "cell_type": "code",
      "metadata": {
        "id": "w8oyLMGlpklS",
        "colab_type": "code",
        "colab": {
          "base_uri": "https://localhost:8080/",
          "height": 50
        },
        "outputId": "98096aba-5d80-4d8a-f7f9-6dc9a0746cd2"
      },
      "source": [
        "# 50이상 쓴 달을 출력하시오\n",
        "for i in range(len(spend)) : \n",
        "    if spend[i] >= 50 : \n",
        "        print(i+1,'월 ',spend[i])"
      ],
      "execution_count": null,
      "outputs": [
        {
          "output_type": "stream",
          "text": [
            "3 월  65\n",
            "4 월  67\n"
          ],
          "name": "stdout"
        }
      ]
    },
    {
      "cell_type": "code",
      "metadata": {
        "id": "gSifnDWeVNPP",
        "colab_type": "code",
        "colab": {
          "base_uri": "https://localhost:8080/",
          "height": 50
        },
        "outputId": "8ba7cbb9-ff4f-445d-f4af-852cc96b0f39"
      },
      "source": [
        "# 지출이 12인 달을 출력하시오\n",
        "for i in range(len(spend)) : \n",
        "    if spend[i] == 12 : \n",
        "        print(i+1,'월 ',spend[i])"
      ],
      "execution_count": null,
      "outputs": [
        {
          "output_type": "stream",
          "text": [
            "2 월  12\n",
            "6 월  12\n"
          ],
          "name": "stdout"
        }
      ]
    },
    {
      "cell_type": "markdown",
      "metadata": {
        "id": "YUjUXo-VVr_i",
        "colab_type": "text"
      },
      "source": [
        "## 딕셔너리\n",
        "Key - Value 대응      \n",
        "키 - 값 대응\n",
        "\n",
        "```\n",
        "딕셔너리이름 = {키1 : 값1, 키2 : 값2, ... 키n : 값n}\n",
        "```\n",
        "<img src = 'https://github.com/Ahnjihye/allinone_AI/blob/images/12_%EB%94%95%EC%85%94%EB%84%88%EB%A6%AC.png?raw=true' width =500>\n"
      ]
    },
    {
      "cell_type": "code",
      "metadata": {
        "id": "muilZTAqVWSX",
        "colab_type": "code",
        "colab": {
          "base_uri": "https://localhost:8080/",
          "height": 34
        },
        "outputId": "20921319-00f6-4d75-c382-636689a622de"
      },
      "source": [
        "menu = {'김밥':2500, '참치김밥': 3500, '라면':3000, '치즈라면': 4000}\n",
        "menu"
      ],
      "execution_count": null,
      "outputs": [
        {
          "output_type": "execute_result",
          "data": {
            "text/plain": [
              "{'김밥': 2500, '라면': 3000, '참치김밥': 3500, '치즈라면': 4000}"
            ]
          },
          "metadata": {
            "tags": []
          },
          "execution_count": 1
        }
      ]
    },
    {
      "cell_type": "code",
      "metadata": {
        "id": "m_L_9MFXHE-q",
        "colab_type": "code",
        "colab": {
          "base_uri": "https://localhost:8080/",
          "height": 34
        },
        "outputId": "0a33e0c9-cbc8-4276-b547-023189f3dd1f"
      },
      "source": [
        "menu['참치김밥']"
      ],
      "execution_count": null,
      "outputs": [
        {
          "output_type": "execute_result",
          "data": {
            "text/plain": [
              "3500"
            ]
          },
          "metadata": {
            "tags": []
          },
          "execution_count": 2
        }
      ]
    },
    {
      "cell_type": "code",
      "metadata": {
        "id": "f8nsSOSgWiF_",
        "colab_type": "code",
        "colab": {
          "base_uri": "https://localhost:8080/",
          "height": 34
        },
        "outputId": "397ca7d5-24f3-4dbb-f7a2-930359ed76d6"
      },
      "source": [
        "menu['치즈라면']"
      ],
      "execution_count": null,
      "outputs": [
        {
          "output_type": "execute_result",
          "data": {
            "text/plain": [
              "4000"
            ]
          },
          "metadata": {
            "tags": []
          },
          "execution_count": 3
        }
      ]
    },
    {
      "cell_type": "code",
      "metadata": {
        "id": "ZD5r03fYWiIn",
        "colab_type": "code",
        "colab": {
          "base_uri": "https://localhost:8080/",
          "height": 52
        },
        "outputId": "12e2b3d5-d3a9-4e97-c3c2-2afee7f144ae"
      },
      "source": [
        "print(menu)\n",
        "\n",
        "# 참치김밥 인하 3000원\n",
        "menu['참치김밥'] = 3000\n",
        "\n",
        "print(menu)"
      ],
      "execution_count": null,
      "outputs": [
        {
          "output_type": "stream",
          "text": [
            "{'김밥': 2500, '참치김밥': 3500, '라면': 3000, '치즈라면': 4000}\n",
            "{'김밥': 2500, '참치김밥': 3000, '라면': 3000, '치즈라면': 4000}\n"
          ],
          "name": "stdout"
        }
      ]
    },
    {
      "cell_type": "code",
      "metadata": {
        "id": "dNCtUNpQWiC9",
        "colab_type": "code",
        "colab": {
          "base_uri": "https://localhost:8080/",
          "height": 52
        },
        "outputId": "b0b31a97-c3e0-48a7-c090-dac7aab18791"
      },
      "source": [
        "print(menu)\n",
        "\n",
        "# 라면가격 인상 3500\n",
        "menu['라면'] = 3500\n",
        "\n",
        "print(menu)"
      ],
      "execution_count": null,
      "outputs": [
        {
          "output_type": "stream",
          "text": [
            "{'김밥': 2500, '참치김밥': 3000, '라면': 3000, '치즈라면': 4000}\n",
            "{'김밥': 2500, '참치김밥': 3000, '라면': 3500, '치즈라면': 4000}\n"
          ],
          "name": "stdout"
        }
      ]
    },
    {
      "cell_type": "code",
      "metadata": {
        "id": "2fEMex4SHszU",
        "colab_type": "code",
        "colab": {
          "base_uri": "https://localhost:8080/",
          "height": 34
        },
        "outputId": "49158031-eadb-457a-bf81-10fa27c01d6f"
      },
      "source": [
        "# 돈가스 추가\n",
        "menu['돈가스']=6000\n",
        "print(menu)"
      ],
      "execution_count": null,
      "outputs": [
        {
          "output_type": "stream",
          "text": [
            "{'김밥': 2500, '참치김밥': 3000, '라면': 3500, '치즈라면': 4000, '돈가스': 6000}\n"
          ],
          "name": "stdout"
        }
      ]
    },
    {
      "cell_type": "markdown",
      "metadata": {
        "id": "xrO7GOZeF8-U",
        "colab_type": "text"
      },
      "source": [
        "<img src = 'https://github.com/Ahnjihye/allinone_AI/blob/images/13_%EB%94%95%EC%85%94%EB%84%88%EB%A6%AC2.png?raw=true' width=800>"
      ]
    },
    {
      "cell_type": "markdown",
      "metadata": {
        "id": "WU3kevp9H65l",
        "colab_type": "text"
      },
      "source": [
        "```\n",
        "# 딕셔너리의 키만 꺼내기 \n",
        "딕셔너리이름.keys()\n",
        "\n",
        "# 딕셔너리의 값(value)만 꺼내기 \n",
        "딕셔너리이름.values()\n",
        "\n",
        "# 딕셔너리의 키-값 모두 꺼내기 \n",
        "딕셔너리이름.items()\n",
        "```\n",
        "\n",
        "\n"
      ]
    },
    {
      "cell_type": "code",
      "metadata": {
        "id": "DXX_OvkAHwpZ",
        "colab_type": "code",
        "colab": {
          "base_uri": "https://localhost:8080/",
          "height": 34
        },
        "outputId": "a707b3a8-d280-4f33-d2cd-e08f2792684b"
      },
      "source": [
        "menu.keys()"
      ],
      "execution_count": null,
      "outputs": [
        {
          "output_type": "execute_result",
          "data": {
            "text/plain": [
              "dict_keys(['김밥', '참치김밥', '라면', '치즈라면', '돈가스'])"
            ]
          },
          "metadata": {
            "tags": []
          },
          "execution_count": 7
        }
      ]
    },
    {
      "cell_type": "code",
      "metadata": {
        "id": "0DV55KHaIWgw",
        "colab_type": "code",
        "colab": {
          "base_uri": "https://localhost:8080/",
          "height": 34
        },
        "outputId": "ef0cd333-f6f7-4b9c-e834-0118a071ef3a"
      },
      "source": [
        "menu.values()"
      ],
      "execution_count": null,
      "outputs": [
        {
          "output_type": "execute_result",
          "data": {
            "text/plain": [
              "dict_values([2500, 3000, 3500, 4000, 6000])"
            ]
          },
          "metadata": {
            "tags": []
          },
          "execution_count": 8
        }
      ]
    },
    {
      "cell_type": "code",
      "metadata": {
        "id": "TLymlSQpIWe8",
        "colab_type": "code",
        "colab": {
          "base_uri": "https://localhost:8080/",
          "height": 54
        },
        "outputId": "937bb179-a6ad-4881-fe9c-946c4bb04bbf"
      },
      "source": [
        "menu.items()"
      ],
      "execution_count": null,
      "outputs": [
        {
          "output_type": "execute_result",
          "data": {
            "text/plain": [
              "dict_items([('김밥', 2500), ('참치김밥', 3000), ('라면', 3500), ('치즈라면', 4000), ('돈가스', 6000)])"
            ]
          },
          "metadata": {
            "tags": []
          },
          "execution_count": 9
        }
      ]
    },
    {
      "cell_type": "code",
      "metadata": {
        "id": "hhowVdC3IWdJ",
        "colab_type": "code",
        "colab": {
          "base_uri": "https://localhost:8080/",
          "height": 34
        },
        "outputId": "cb5e89e8-f2c9-43a3-f185-d0adf08cbba3"
      },
      "source": [
        "# 딕셔너리의 키를 리스트로 변환하기\n",
        "list(menu.keys())"
      ],
      "execution_count": null,
      "outputs": [
        {
          "output_type": "execute_result",
          "data": {
            "text/plain": [
              "['김밥', '참치김밥', '라면', '치즈라면', '돈가스']"
            ]
          },
          "metadata": {
            "tags": []
          },
          "execution_count": 10
        }
      ]
    },
    {
      "cell_type": "code",
      "metadata": {
        "id": "2gzBfJX9IWbN",
        "colab_type": "code",
        "colab": {
          "base_uri": "https://localhost:8080/",
          "height": 34
        },
        "outputId": "362d1720-cf3d-44f0-cce4-96b9c3a8551e"
      },
      "source": [
        "# 딕셔너리의 값을 리스트로 변환하기\n",
        "list(menu.values())"
      ],
      "execution_count": null,
      "outputs": [
        {
          "output_type": "execute_result",
          "data": {
            "text/plain": [
              "[2500, 3000, 3500, 4000, 6000]"
            ]
          },
          "metadata": {
            "tags": []
          },
          "execution_count": 11
        }
      ]
    },
    {
      "cell_type": "markdown",
      "metadata": {
        "id": "mlwiPRL7I9EQ",
        "colab_type": "text"
      },
      "source": [
        "딕셔너리 정렬하기 \n",
        "```\n",
        "# 딕셔너리 키를 정렬\n",
        "sorted(딕셔너리.keys())\n",
        "\n",
        "# 딕셔너리 값을 정렬\n",
        "sorted(딕셔너리.values())\n",
        "\n",
        "# 딕셔너리 키-값을 정렬\n",
        "sorted(딕셔너리.items())\n",
        "```\n",
        "\n"
      ]
    },
    {
      "cell_type": "code",
      "metadata": {
        "id": "ETSdsoVgIWYO",
        "colab_type": "code",
        "colab": {
          "base_uri": "https://localhost:8080/",
          "height": 34
        },
        "outputId": "9e3ffdec-a9d5-4b28-da11-50afd98bc242"
      },
      "source": [
        "sorted(menu.keys())"
      ],
      "execution_count": null,
      "outputs": [
        {
          "output_type": "execute_result",
          "data": {
            "text/plain": [
              "['김밥', '돈가스', '라면', '참치김밥', '치즈라면']"
            ]
          },
          "metadata": {
            "tags": []
          },
          "execution_count": 15
        }
      ]
    },
    {
      "cell_type": "code",
      "metadata": {
        "id": "Pg_GLT2oLreA",
        "colab_type": "code",
        "colab": {
          "base_uri": "https://localhost:8080/",
          "height": 34
        },
        "outputId": "e4724eab-2b99-45a4-a22b-3c1cdb934dc4"
      },
      "source": [
        "sorted(menu.keys(), reverse = True)"
      ],
      "execution_count": null,
      "outputs": [
        {
          "output_type": "execute_result",
          "data": {
            "text/plain": [
              "['치즈라면', '참치김밥', '라면', '돈가스', '김밥']"
            ]
          },
          "metadata": {
            "tags": []
          },
          "execution_count": 22
        }
      ]
    },
    {
      "cell_type": "code",
      "metadata": {
        "id": "bjpDRS6SJgF6",
        "colab_type": "code",
        "colab": {
          "base_uri": "https://localhost:8080/",
          "height": 34
        },
        "outputId": "b294e1b1-2179-4003-f97d-eb7c8525bfac"
      },
      "source": [
        "sorted(menu.values())"
      ],
      "execution_count": null,
      "outputs": [
        {
          "output_type": "execute_result",
          "data": {
            "text/plain": [
              "[2500, 3000, 3500, 4000, 6000]"
            ]
          },
          "metadata": {
            "tags": []
          },
          "execution_count": 16
        }
      ]
    },
    {
      "cell_type": "code",
      "metadata": {
        "id": "bncTr6GMLOaM",
        "colab_type": "code",
        "colab": {
          "base_uri": "https://localhost:8080/",
          "height": 34
        },
        "outputId": "6f669a1f-960f-4b8b-e3c7-d9c13034eb5f"
      },
      "source": [
        "# 가장 싼 음식의 가격은?\n",
        "sorted(menu.values())[0]"
      ],
      "execution_count": null,
      "outputs": [
        {
          "output_type": "execute_result",
          "data": {
            "text/plain": [
              "2500"
            ]
          },
          "metadata": {
            "tags": []
          },
          "execution_count": 18
        }
      ]
    },
    {
      "cell_type": "code",
      "metadata": {
        "id": "PPt8AS0HLUIo",
        "colab_type": "code",
        "colab": {
          "base_uri": "https://localhost:8080/",
          "height": 34
        },
        "outputId": "84a26664-e9c2-4fe8-e4e5-f3f3a683bcdb"
      },
      "source": [
        "# 가장 싼 음식 두 개의 가격은?\n",
        "sorted(menu.values())[:2]"
      ],
      "execution_count": null,
      "outputs": [
        {
          "output_type": "execute_result",
          "data": {
            "text/plain": [
              "[2500, 3000]"
            ]
          },
          "metadata": {
            "tags": []
          },
          "execution_count": 19
        }
      ]
    },
    {
      "cell_type": "code",
      "metadata": {
        "id": "7iD_SBBBLXlL",
        "colab_type": "code",
        "colab": {
          "base_uri": "https://localhost:8080/",
          "height": 34
        },
        "outputId": "0c223058-d672-488f-9015-60bc08cda648"
      },
      "source": [
        "# 가장 비싼 음식의 두 개의 가격은?\n",
        "sorted(menu.values())[-2:]"
      ],
      "execution_count": null,
      "outputs": [
        {
          "output_type": "execute_result",
          "data": {
            "text/plain": [
              "[4000, 6000]"
            ]
          },
          "metadata": {
            "tags": []
          },
          "execution_count": 20
        }
      ]
    },
    {
      "cell_type": "code",
      "metadata": {
        "id": "o4sYzkMzLuD4",
        "colab_type": "code",
        "colab": {
          "base_uri": "https://localhost:8080/",
          "height": 34
        },
        "outputId": "c22eada3-d3f1-4ac7-a3ff-6839137984b5"
      },
      "source": [
        "sorted(menu.values(), reverse = True)"
      ],
      "execution_count": null,
      "outputs": [
        {
          "output_type": "execute_result",
          "data": {
            "text/plain": [
              "[6000, 4000, 3500, 3000, 2500]"
            ]
          },
          "metadata": {
            "tags": []
          },
          "execution_count": 23
        }
      ]
    },
    {
      "cell_type": "code",
      "metadata": {
        "id": "Jrp5KKgfJgNb",
        "colab_type": "code",
        "colab": {
          "base_uri": "https://localhost:8080/",
          "height": 54
        },
        "outputId": "100d67b9-7301-48fb-baab-9eca31bdbac4"
      },
      "source": [
        "sorted(menu.items())"
      ],
      "execution_count": null,
      "outputs": [
        {
          "output_type": "execute_result",
          "data": {
            "text/plain": [
              "[('김밥', 2500), ('돈가스', 6000), ('라면', 3500), ('참치김밥', 3000), ('치즈라면', 4000)]"
            ]
          },
          "metadata": {
            "tags": []
          },
          "execution_count": 21
        }
      ]
    },
    {
      "cell_type": "markdown",
      "metadata": {
        "id": "PTYAzHvFLHUk",
        "colab_type": "text"
      },
      "source": [
        "\n",
        "\n",
        "```\n",
        "# 딕셔너리 키-값은 자동으로 키를 기준으로 정렬됨\n",
        "sorted(딕셔너리.items())\n",
        "```\n",
        "\n"
      ]
    },
    {
      "cell_type": "code",
      "metadata": {
        "id": "wrsd9v3_JgK8",
        "colab_type": "code",
        "colab": {
          "base_uri": "https://localhost:8080/",
          "height": 54
        },
        "outputId": "fc0ff2e8-47cd-4499-8a6d-f0999fa980f0"
      },
      "source": [
        "# 딕셔너리 키-값 정렬시 값을 기준으로 정렬하ㅣ\n",
        "import operator \n",
        "\n",
        "sorted(menu.items(), key=operator.itemgetter(1))"
      ],
      "execution_count": null,
      "outputs": [
        {
          "output_type": "execute_result",
          "data": {
            "text/plain": [
              "[('김밥', 2500), ('참치김밥', 3000), ('라면', 3500), ('치즈라면', 4000), ('돈가스', 6000)]"
            ]
          },
          "metadata": {
            "tags": []
          },
          "execution_count": 24
        }
      ]
    },
    {
      "cell_type": "code",
      "metadata": {
        "id": "PLFvCYtvJgA9",
        "colab_type": "code",
        "colab": {
          "base_uri": "https://localhost:8080/",
          "height": 34
        },
        "outputId": "58f0714a-cb40-48c8-a5c7-1b78293d5cf7"
      },
      "source": [
        "# 가장 싼 음식은 무엇인가?\n",
        "sorted(menu.items(), key=operator.itemgetter(1))[0]"
      ],
      "execution_count": null,
      "outputs": [
        {
          "output_type": "execute_result",
          "data": {
            "text/plain": [
              "('김밥', 2500)"
            ]
          },
          "metadata": {
            "tags": []
          },
          "execution_count": 25
        }
      ]
    },
    {
      "cell_type": "code",
      "metadata": {
        "id": "hykiPb9gIVPy",
        "colab_type": "code",
        "colab": {
          "base_uri": "https://localhost:8080/",
          "height": 34
        },
        "outputId": "2a12680d-a4e6-4e3e-fb60-3bd89b13cedd"
      },
      "source": [
        "# 가장 싼 음식 두 개는 무엇인가?\n",
        "sorted(menu.items(), key=operator.itemgetter(1))[:2]"
      ],
      "execution_count": null,
      "outputs": [
        {
          "output_type": "execute_result",
          "data": {
            "text/plain": [
              "[('김밥', 2500), ('참치김밥', 3000)]"
            ]
          },
          "metadata": {
            "tags": []
          },
          "execution_count": 27
        }
      ]
    },
    {
      "cell_type": "code",
      "metadata": {
        "id": "w-ALYJpJNPPJ",
        "colab_type": "code",
        "colab": {
          "base_uri": "https://localhost:8080/",
          "height": 34
        },
        "outputId": "6b1cf1d4-f284-4693-bad1-f645ec527304"
      },
      "source": [
        "# 역순 정렬\n",
        "sorted(menu.items(), key=operator.itemgetter(1), reverse = True)"
      ],
      "execution_count": null,
      "outputs": [
        {
          "output_type": "execute_result",
          "data": {
            "text/plain": [
              "[('돈가스', 6000), ('치즈라면', 4000), ('라면', 3500), ('참치김밥', 3000), ('김밥', 2500)]"
            ]
          },
          "metadata": {
            "tags": []
          },
          "execution_count": 29
        }
      ]
    },
    {
      "cell_type": "code",
      "metadata": {
        "id": "iDhLDbC3NVcX",
        "colab_type": "code",
        "colab": {
          "base_uri": "https://localhost:8080/",
          "height": 34
        },
        "outputId": "5ca69f07-dc27-4e56-9407-718bd4421872"
      },
      "source": [
        "# 가장 비싼 음식 두 개는? \n",
        "sorted(menu.items(), key=operator.itemgetter(1), reverse = True)[:2]"
      ],
      "execution_count": null,
      "outputs": [
        {
          "output_type": "execute_result",
          "data": {
            "text/plain": [
              "[('돈가스', 6000), ('치즈라면', 4000)]"
            ]
          },
          "metadata": {
            "tags": []
          },
          "execution_count": 30
        }
      ]
    },
    {
      "cell_type": "code",
      "metadata": {
        "id": "SoUfiUCfNe1I",
        "colab_type": "code",
        "colab": {}
      },
      "source": [
        ""
      ],
      "execution_count": null,
      "outputs": []
    }
  ]
}