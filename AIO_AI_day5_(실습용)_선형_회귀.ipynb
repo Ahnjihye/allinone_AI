{
  "nbformat": 4,
  "nbformat_minor": 0,
  "metadata": {
    "colab": {
      "name": "AIO_AI_day5_(실습용)_선형 회귀.ipynb",
      "provenance": [],
      "collapsed_sections": [],
      "mount_file_id": "18Rq3fhM3Erhi-tfLD2ujVavvkEo6GoxB",
      "authorship_tag": "ABX9TyMrXG/HAVNmwSAd9MXB/rMz",
      "include_colab_link": true
    },
    "kernelspec": {
      "name": "python3",
      "display_name": "Python 3"
    }
  },
  "cells": [
    {
      "cell_type": "markdown",
      "metadata": {
        "id": "view-in-github",
        "colab_type": "text"
      },
      "source": [
        "<a href=\"https://colab.research.google.com/github/Ahnjihye/allinone_AI/blob/master/AIO_AI_day5_(%EC%8B%A4%EC%8A%B5%EC%9A%A9)_%EC%84%A0%ED%98%95_%ED%9A%8C%EA%B7%80.ipynb\" target=\"_parent\"><img src=\"https://colab.research.google.com/assets/colab-badge.svg\" alt=\"Open In Colab\"/></a>"
      ]
    },
    {
      "cell_type": "markdown",
      "metadata": {
        "id": "PUWJ5F7mAb33",
        "colab_type": "text"
      },
      "source": [
        "<img src= 'https://github.com/Ahnjihye/allinone_AI/blob/images/27_%EC%9D%B8%EA%B3%B5%EC%A7%80%EB%8A%A5%20%EA%B0%9C%EC%9A%94.png?raw=true' width=700>"
      ]
    },
    {
      "cell_type": "markdown",
      "metadata": {
        "id": "zK_EGpmCPXsS",
        "colab_type": "text"
      },
      "source": [
        "## 클래스와 객체"
      ]
    },
    {
      "cell_type": "code",
      "metadata": {
        "id": "oOkQrK1OPfMj",
        "colab_type": "code",
        "colab": {}
      },
      "source": [
        "class human : \n",
        "    def sayhello(self) : \n",
        "        print('hello')\n",
        "    def introduce(self, name, job) : \n",
        "        print('my name is',name,'and I am',job) "
      ],
      "execution_count": null,
      "outputs": []
    },
    {
      "cell_type": "code",
      "metadata": {
        "id": "Jeji25zWPfO2",
        "colab_type": "code",
        "colab": {}
      },
      "source": [
        "# 준일이라는 객체를 만든 것\n"
      ],
      "execution_count": null,
      "outputs": []
    },
    {
      "cell_type": "code",
      "metadata": {
        "id": "MpKVNhcoPfRX",
        "colab_type": "code",
        "colab": {}
      },
      "source": [
        "\n"
      ],
      "execution_count": null,
      "outputs": []
    },
    {
      "cell_type": "code",
      "metadata": {
        "id": "m8HRWkg-Y0DV",
        "colab_type": "code",
        "colab": {}
      },
      "source": [
        "\n"
      ],
      "execution_count": null,
      "outputs": []
    },
    {
      "cell_type": "markdown",
      "metadata": {
        "id": "uCA22gH8Zk8O",
        "colab_type": "text"
      },
      "source": [
        "## numpy\n",
        "#### 여러 숫자의 계산을 한방에 처리해주는 numpy\n",
        "\n",
        "\n",
        "\n"
      ]
    },
    {
      "cell_type": "code",
      "metadata": {
        "id": "roVFUNIMZkLV",
        "colab_type": "code",
        "colab": {}
      },
      "source": [
        "# 모든 리스트 원소에 숫자 더하기\n",
        "a = [1,2,3,4,5]\n"
      ],
      "execution_count": null,
      "outputs": []
    },
    {
      "cell_type": "code",
      "metadata": {
        "id": "NRnQxlyeZ4L3",
        "colab_type": "code",
        "colab": {}
      },
      "source": [
        "# 모든 리스트 원소에 숫자 곱하기\n",
        "a = [1,2,3,4,5]\n"
      ],
      "execution_count": null,
      "outputs": []
    },
    {
      "cell_type": "code",
      "metadata": {
        "id": "pqTKlMlxZ4Px",
        "colab_type": "code",
        "colab": {}
      },
      "source": [
        "# 리스트를 넘파이로 변경해 처리해보자\n",
        "import numpy as np\n",
        "\n",
        "# 리스트타입 -> 넘파이 타입\n",
        "\n"
      ],
      "execution_count": null,
      "outputs": []
    },
    {
      "cell_type": "code",
      "metadata": {
        "id": "uvmbi1-DZ4Tc",
        "colab_type": "code",
        "colab": {}
      },
      "source": [
        "\n"
      ],
      "execution_count": null,
      "outputs": []
    },
    {
      "cell_type": "code",
      "metadata": {
        "id": "LMeUzk9NaRK0",
        "colab_type": "code",
        "colab": {}
      },
      "source": [
        "\n"
      ],
      "execution_count": null,
      "outputs": []
    },
    {
      "cell_type": "markdown",
      "metadata": {
        "id": "isLP8HQqYe7n",
        "colab_type": "text"
      },
      "source": [
        "<img src='https://github.com/Ahnjihye/allinone_AI/blob/images/%EC%8A%AC%EB%9D%BC%EC%9D%B4%EB%93%9C2.PNG?raw=true' width = 700>"
      ]
    },
    {
      "cell_type": "markdown",
      "metadata": {
        "colab_type": "text",
        "id": "_yijdHHFYtDu"
      },
      "source": [
        "<img src='https://github.com/Ahnjihye/allinone_AI/blob/images/%EC%8A%AC%EB%9D%BC%EC%9D%B4%EB%93%9C3.PNG?raw=true' width = 700>"
      ]
    },
    {
      "cell_type": "markdown",
      "metadata": {
        "colab_type": "text",
        "id": "rB_kK_ZrYtQF"
      },
      "source": [
        "<img src='https://github.com/Ahnjihye/allinone_AI/blob/images/%EC%8A%AC%EB%9D%BC%EC%9D%B4%EB%93%9C4.PNG?raw=true' width = 700>"
      ]
    },
    {
      "cell_type": "markdown",
      "metadata": {
        "id": "mKhle165bjGg",
        "colab_type": "text"
      },
      "source": [
        "# sklearn으로 일단 한번 머신러닝 모델 작성해보기"
      ]
    },
    {
      "cell_type": "markdown",
      "metadata": {
        "id": "F_TfRKuRArKg",
        "colab_type": "text"
      },
      "source": [
        "<img src ='https://github.com/Ahnjihye/allinone_AI/blob/images/28_%EB%8F%85%EB%A6%BD%EC%A2%85%EC%86%8D%EB%B3%80%EC%88%98.png?raw=true' width=700>"
      ]
    },
    {
      "cell_type": "code",
      "metadata": {
        "id": "O2Pq9lSab3gZ",
        "colab_type": "code",
        "colab": {}
      },
      "source": [
        "# 스몰 데이터\n",
        "data = [[4, 16], [12, 42], [18, 50], [22, 75], [28, 70]]\n",
        "\n",
        "# x 데이터와 y 데이터 분리\n",
        "x, y = [], []\n",
        "for d in data : \n",
        "    ------ 빈 칸 ------\n",
        "\n",
        "print(x)\n",
        "print(y)"
      ],
      "execution_count": null,
      "outputs": []
    },
    {
      "cell_type": "code",
      "metadata": {
        "id": "ZgZHbixdbpQn",
        "colab_type": "code",
        "colab": {}
      },
      "source": [
        "# 사이킷런의 선형회귀 패키지 포함시키기\n",
        "------ 빈 칸 ------\n",
        "\n",
        "# 선형 회귀 객체 생성\n",
        "------ 빈 칸 ------"
      ],
      "execution_count": null,
      "outputs": []
    },
    {
      "cell_type": "code",
      "metadata": {
        "id": "Rl7OBnMwbpTJ",
        "colab_type": "code",
        "colab": {}
      },
      "source": [
        "# 학습시키기\n",
        "------ 빈 칸 ------"
      ],
      "execution_count": null,
      "outputs": []
    },
    {
      "cell_type": "code",
      "metadata": {
        "id": "Y8_dW7J7y1cL",
        "colab_type": "code",
        "colab": {}
      },
      "source": [
        "x2 = []\n",
        "for a in x : \n",
        "    ------ 빈 칸 ------\n",
        "print(x2)"
      ],
      "execution_count": null,
      "outputs": []
    },
    {
      "cell_type": "code",
      "metadata": {
        "id": "m6Y1DViSbpVh",
        "colab_type": "code",
        "colab": {}
      },
      "source": [
        "# sklearn의 독립변수는 항상 이차원 리스트\n",
        "------ 빈 칸 ------"
      ],
      "execution_count": null,
      "outputs": []
    },
    {
      "cell_type": "code",
      "metadata": {
        "id": "zOoF11u7bpX7",
        "colab_type": "code",
        "colab": {}
      },
      "source": [
        "# 예측선 기울기\n",
        "------ 빈 칸 ------"
      ],
      "execution_count": null,
      "outputs": []
    },
    {
      "cell_type": "code",
      "metadata": {
        "id": "5uP1dU6AzpmQ",
        "colab_type": "code",
        "colab": {}
      },
      "source": [
        "# 예측선의 y절편\n",
        "------ 빈 칸 ------"
      ],
      "execution_count": null,
      "outputs": []
    },
    {
      "cell_type": "markdown",
      "metadata": {
        "id": "_RXA_N4W0lQw",
        "colab_type": "text"
      },
      "source": [
        "# 왜 이렇게 되는 거죠????"
      ]
    },
    {
      "cell_type": "markdown",
      "metadata": {
        "id": "oKWKgaCKaVSp",
        "colab_type": "text"
      },
      "source": [
        "## 1. 산점도를 그리는 함수 draw_graph() 만들기\n",
        "\n",
        "\n"
      ]
    },
    {
      "cell_type": "code",
      "metadata": {
        "id": "gN-JS7Y2a4Hq",
        "colab_type": "code",
        "colab": {}
      },
      "source": [
        "import matplotlib.pyplot as plt\n",
        "\n",
        "# 그래프 폰트 설정  --> 런타임 다시 시작\n",
        "import matplotlib as mpl\n",
        "import matplotlib.pyplot as plt\n",
        " \n",
        "%config InlineBackend.figure_format = 'retina'\n",
        " \n",
        "!apt -qq -y install fonts-nanum\n",
        " \n",
        "import matplotlib.font_manager as fm\n",
        "fontpath = '/usr/share/fonts/truetype/nanum/NanumGothic.ttf'\n",
        "font = fm.FontProperties(fname=fontpath, size=9)\n",
        "plt.rc('font', family='NanumGothic') \n",
        "mpl.font_manager._rebuild()"
      ],
      "execution_count": null,
      "outputs": []
    },
    {
      "cell_type": "code",
      "metadata": {
        "id": "61o1nPG5a4EM",
        "colab_type": "code",
        "colab": {}
      },
      "source": [
        "# 선형 회귀를 학습할 스몰 데이터\n",
        "data = [[4, 16], [12, 42], [18, 50], [22, 75], [28, 70]]\n",
        "x, y = [], []\n",
        "\n",
        "# 독립변수와 종속변수 분리\n",
        "for d in data : \n",
        "    x.append(d[0])\n",
        "    y.append(d[1])\n",
        "\n",
        "print(x)\n",
        "print(y)"
      ],
      "execution_count": null,
      "outputs": []
    },
    {
      "cell_type": "code",
      "metadata": {
        "id": "2sXo10X2ieBQ",
        "colab_type": "code",
        "colab": {}
      },
      "source": [
        "import matplotlib\n",
        "import matplotlib.pyplot as plt\n",
        "matplotlib.rcParams['axes.unicode_minus'] = False     # 마이너스 기호\n",
        " \n",
        "def draw_graph(x_data, y_data, x_name, y_name) :     \n",
        "    ------ 빈 칸 ------\n",
        "    ------ 빈 칸 ------\n",
        "    ------ 빈 칸 ------\n",
        "    plt.grid(True)\n",
        "    plt.show()"
      ],
      "execution_count": null,
      "outputs": []
    },
    {
      "cell_type": "code",
      "metadata": {
        "id": "xNCfMwJaYrV2",
        "colab_type": "code",
        "colab": {}
      },
      "source": [
        "draw_graph(------ 빈 칸 ------)"
      ],
      "execution_count": null,
      "outputs": []
    },
    {
      "cell_type": "markdown",
      "metadata": {
        "colab_type": "text",
        "id": "BwUPIGkeYtWd"
      },
      "source": [
        "<img src='https://github.com/Ahnjihye/allinone_AI/blob/images/%EC%8A%AC%EB%9D%BC%EC%9D%B4%EB%93%9C5.PNG?raw=true' width = 700>"
      ]
    },
    {
      "cell_type": "markdown",
      "metadata": {
        "id": "HOG943Ria45u",
        "colab_type": "text"
      },
      "source": [
        "## 2. 데이터를 관통하는 선 긋기"
      ]
    },
    {
      "cell_type": "code",
      "metadata": {
        "id": "tP_whSCXa_Ed",
        "colab_type": "code",
        "colab": {}
      },
      "source": [
        "import numpy as np\n",
        "\n",
        "def draw_graph_line(x_data, y_data, a, b, x_name, y_name) : \n",
        "    plt.scatter(x_data, y_data, color= 'r', alpha = 0.7)\n",
        "    plt.xlabel(x_name)\n",
        "    plt.ylabel(y_name)\n",
        "\n",
        "    # 직선 추가\n",
        "    # 리스트를 사칙연산이 되는 numpy로 바꿔줌\n",
        "    x_data = ------ 빈 칸 ------\n",
        "    y_line = ------ 빈 칸 ------\n",
        "    plt.plot(------ 빈 칸 ------)\n",
        "\n",
        "    plt.grid(True)\n",
        "    plt.show()"
      ],
      "execution_count": null,
      "outputs": []
    },
    {
      "cell_type": "code",
      "metadata": {
        "id": "UPbetIeabDc9",
        "colab_type": "code",
        "colab": {}
      },
      "source": [
        "# y = 3x + 6\n",
        "draw_graph_line(------ 빈 칸 ------)"
      ],
      "execution_count": null,
      "outputs": []
    },
    {
      "cell_type": "code",
      "metadata": {
        "id": "hQ9mXScDbDf8",
        "colab_type": "code",
        "colab": {}
      },
      "source": [
        "# y = 2x + 16\n",
        "draw_graph_line(------ 빈 칸 ------)"
      ],
      "execution_count": null,
      "outputs": []
    },
    {
      "cell_type": "markdown",
      "metadata": {
        "id": "xSk4RZmObD2F",
        "colab_type": "text"
      },
      "source": [
        "## 3. 오차 계산하기 - 평균 제곱 오차 MSE"
      ]
    },
    {
      "cell_type": "markdown",
      "metadata": {
        "colab_type": "text",
        "id": "54X6dj5jbEnW"
      },
      "source": [
        "<img src='https://github.com/Ahnjihye/allinone_AI/blob/images/%EC%8A%AC%EB%9D%BC%EC%9D%B4%EB%93%9C8.PNG?raw=true' width = 700>"
      ]
    },
    {
      "cell_type": "markdown",
      "metadata": {
        "id": "WGEooijAbNSO",
        "colab_type": "text"
      },
      "source": [
        "<img src='https://github.com/Ahnjihye/allinone_AI/blob/images/%EC%8A%AC%EB%9D%BC%EC%9D%B4%EB%93%9C9.PNG?raw=true' width = 700>\n",
        "\n",
        "<img src='https://github.com/Ahnjihye/allinone_AI/blob/images/%EC%8A%AC%EB%9D%BC%EC%9D%B4%EB%93%9C10.PNG?raw=true' width = 700>\n",
        "\n",
        "<img src='https://github.com/Ahnjihye/allinone_AI/blob/images/%EC%8A%AC%EB%9D%BC%EC%9D%B4%EB%93%9C11.PNG?raw=true' width = 700>\n",
        "\n",
        "<img src='https://github.com/Ahnjihye/allinone_AI/blob/images/%EC%8A%AC%EB%9D%BC%EC%9D%B4%EB%93%9C12.PNG?raw=true' width = 700>\n",
        "\n",
        "<img src = 'https://github.com/Ahnjihye/allinone_AI/blob/images/%EC%8A%AC%EB%9D%BC%EC%9D%B4%EB%93%9C13.PNG?raw=true' width = 700>\n",
        "\n",
        "<img src = 'https://github.com/Ahnjihye/allinone_AI/blob/images/26_MSE%EC%88%98%EC%8B%9D.png?raw=true' width = 500>"
      ]
    },
    {
      "cell_type": "code",
      "metadata": {
        "id": "D_JguX_3bGOT",
        "colab_type": "code",
        "colab": {}
      },
      "source": [
        "def mse(x_data, y_data, a, b) : \n",
        "    # 편리한 계산을 위해 리스트 --> numpy\n",
        "    x_data = ------ 빈 칸 ------\n",
        "    y_data = ------ 빈 칸 ------\n",
        "    \n",
        "    # 예측값 y_predict\n",
        "    y_predict = ------ 빈 칸 ------\n",
        "\n",
        "    # 오차 = 실제값 - 예측값\n",
        "    error = ------ 빈 칸 ------\n",
        "\n",
        "    # 오차의 제곱\n",
        "    square_error = ------ 빈 칸 ------\n",
        "\n",
        "    # 평균 제곱 오차 : 오차제곱합 / n\n",
        "    mean_square_error = ------ 빈 칸 ------\n",
        "    print(a,'x+', b,'의 평균제곱오차 =', mean_square_error)\n",
        "    \n",
        "    return mean_square_error"
      ],
      "execution_count": null,
      "outputs": []
    },
    {
      "cell_type": "code",
      "metadata": {
        "id": "PDPvxhS_bHMI",
        "colab_type": "code",
        "colab": {}
      },
      "source": [
        "# f(x) = 3x+6의 평균 제곱 오차\n",
        "mse(------ 빈 칸 ------)\n",
        "\n",
        "# g(x) = 2x + 16의 평균 제곱 오차\n",
        "mse(------ 빈 칸 ------)"
      ],
      "execution_count": null,
      "outputs": []
    },
    {
      "cell_type": "code",
      "metadata": {
        "id": "GzVZA0xJ-8_F",
        "colab_type": "code",
        "colab": {}
      },
      "source": [
        "mse(------ 빈 칸 ------)\n",
        "mse(------ 빈 칸 ------)\n",
        "mse(------ 빈 칸 ------)\n",
        "mse(------ 빈 칸 ------)\n",
        "mse(------ 빈 칸 ------)"
      ],
      "execution_count": null,
      "outputs": []
    },
    {
      "cell_type": "markdown",
      "metadata": {
        "id": "FSY-ma9vbHf0",
        "colab_type": "text"
      },
      "source": [
        "# g(x) = 2x+16 보다 오차가 더 작은 예측선은 없을까??? \n",
        "#### 있다면 어떻게 알 수 있을까?\n",
        "## 4. 손실함수(오차그래프) \n",
        "#### 오차가 가장 적은 기울기값은? y절편은? \n",
        "      \n",
        "오차 그래프 그려 오차를 최소화하는 지점 찾기"
      ]
    },
    {
      "cell_type": "markdown",
      "metadata": {
        "id": "Ejyd0PEs4O9t",
        "colab_type": "text"
      },
      "source": [
        "<img src = 'https://github.com/Ahnjihye/allinone_AI/blob/images/29_a_list.png?raw=true' width = 700>"
      ]
    },
    {
      "cell_type": "code",
      "metadata": {
        "id": "xir0QDjybWSP",
        "colab_type": "code",
        "colab": {}
      },
      "source": [
        "# 기울기와 y절편을 각각 리스트 인자로 받는 함수\n",
        "def loss_function(x_data, y_data, a_list, b_list) : \n",
        "    # 기울기 리스트 a_list 원소별 오차를 저장할 리스트 \n",
        "    loss_list = []\n",
        "    \n",
        "    for i in range(len(a_list)) : \n",
        "        loss_list.append(------ 빈 칸 ------)\n",
        "\n",
        "    return loss_list"
      ],
      "execution_count": null,
      "outputs": []
    },
    {
      "cell_type": "code",
      "metadata": {
        "id": "57X9nlWFbqBg",
        "colab_type": "code",
        "colab": {}
      },
      "source": [
        "# -10부터 10까지 -0.5간격으로 기울기 리스트 만들기\n",
        "a = np.arange(-10, 10, 0.5)\n",
        "\n",
        "# 기울기 리스트 a와 같은 개수만큼 0을 채우기\n",
        "b = np.full_like(a, 0)\n",
        "\n",
        "loss_list = ------ 빈 칸 ------\n",
        "draw_graph(------ 빈 칸 ------)"
      ],
      "execution_count": null,
      "outputs": []
    },
    {
      "cell_type": "markdown",
      "metadata": {
        "id": "96AEFTjJ4Unx",
        "colab_type": "text"
      },
      "source": [
        "그림 \n",
        "<img src = 'https://github.com/Ahnjihye/allinone_AI/blob/images/30_b_list.png?raw=true' width=700>"
      ]
    },
    {
      "cell_type": "code",
      "metadata": {
        "id": "d1X2uWi3bqFA",
        "colab_type": "code",
        "colab": {}
      },
      "source": [
        "# -10부터 10까지 -0.5간격으로 y절편 리스트 만들기\n",
        "b = np.arange(-10, 10, 0.5)\n",
        "\n",
        "# y절편 리스트 b와 같은 개수만큼 0을 채우기\n",
        "a = np.full_like(b, 3)\n",
        "\n",
        "loss_list = ------ 빈 칸 ------\n",
        "draw_graph(------ 빈 칸 ------)"
      ],
      "execution_count": null,
      "outputs": []
    },
    {
      "cell_type": "markdown",
      "metadata": {
        "id": "_XFnBsWKbqeT",
        "colab_type": "text"
      },
      "source": [
        "## 5. 경사 하강시키기"
      ]
    },
    {
      "cell_type": "markdown",
      "metadata": {
        "id": "eezzCsR17Oew",
        "colab_type": "text"
      },
      "source": [
        "#### 5-1. 현재 기울기 구하기\n",
        "\n",
        "\n",
        "1.   기울기 a에 대한 미분값 구하기\n",
        "<img src = 'https://github.com/Ahnjihye/allinone_AI/blob/images/31_a%EB%AF%B8%EB%B6%84.png?raw=true' width =700>\n",
        "\n",
        "2.   y절편 b에 대한 미분값 구하기\n",
        "<img src='https://github.com/Ahnjihye/allinone_AI/blob/images/32_b%EB%AF%B8%EB%B6%84.png?raw=true' width=700 >"
      ]
    },
    {
      "cell_type": "code",
      "metadata": {
        "id": "XCr51Gt-b0Ts",
        "colab_type": "code",
        "colab": {}
      },
      "source": [
        "def gradient(x_data, y_data, a, b) : \n",
        "    # 리스트 --> 넘파이\n",
        "    x_data = ------ 빈 칸 ------\n",
        "    y_data = ------ 빈 칸 ------\n",
        "\n",
        "    # 예측 y값 (y^)\n",
        "    y_predict = ------ 빈 칸 ------\n",
        "\n",
        "    # 오차 (y^-y)\n",
        "    loss = ------ 빈 칸 ------\n",
        "\n",
        "    # 현재 손실함수에서 a의 기울기\n",
        "    a_gradient = ------ 빈 칸 ------\n",
        "\n",
        "    # 현재 손실함수에서 b의 기울기\n",
        "    b_gradient = ------ 빈 칸 ------\n",
        "    \n",
        "    # 수정된 기울기와 y절편\n",
        "    a = ------ 빈 칸 ------\n",
        "    b = ------ 빈 칸 ------\n",
        "    return a, b"
      ],
      "execution_count": null,
      "outputs": []
    },
    {
      "cell_type": "markdown",
      "metadata": {
        "id": "naRnFc1b-B2m",
        "colab_type": "text"
      },
      "source": [
        "#### 5-2. 현재 기울기의 반대방향으로 움직이자\n",
        "\n",
        "<img src = 'https://github.com/Ahnjihye/allinone_AI/blob/images/33_%EC%98%A4%EC%B0%A8%EA%B7%B8%EB%9E%98%ED%94%84.png?raw=true' width=400>\n",
        "    \n",
        "#### 5-3. 한번 움직일 때 얼마나 이동할 지 비율을 정하자 (학습률)\n",
        "    \n",
        "#### 5-4. 현재 기울기에서 -학습률*미분값 만큼 빼주기 (반대방향)"
      ]
    },
    {
      "cell_type": "markdown",
      "metadata": {
        "id": "e6BBn_9L_i6a",
        "colab_type": "text"
      },
      "source": [
        "#### 경사 하강을 반복하기 -> 오차가 가장 적을 때까지"
      ]
    },
    {
      "cell_type": "code",
      "metadata": {
        "id": "g9CYtiS2b0xV",
        "colab_type": "code",
        "colab": {}
      },
      "source": [
        "epochs = ------ 빈 칸 ------   \n",
        "lr     = ------ 빈 칸 ------ \n",
        "a, b   = 0, 0     # 기울기, y절편 \n",
        "\n",
        "for i in range(------ 빈 칸 ------) : \n",
        "    ------ 빈 칸 ------\n",
        "\n",
        "    if i % 100 == 0 :\n",
        "        print('학습 횟수', i, '기울기', a, 'y절편', b)"
      ],
      "execution_count": null,
      "outputs": []
    },
    {
      "cell_type": "code",
      "metadata": {
        "id": "w7XQt0DvchcS",
        "colab_type": "code",
        "colab": {}
      },
      "source": [
        "draw_graph_line(------ 빈 칸 ------)\n",
        "print(a,'x+',b)"
      ],
      "execution_count": null,
      "outputs": []
    },
    {
      "cell_type": "markdown",
      "metadata": {
        "id": "9OQsFj9Lb2S0",
        "colab_type": "text"
      },
      "source": [
        "## 6. 데이터 개수 늘려보기\n",
        "\n",
        "참고\n",
        "\n",
        "\n",
        "```\n",
        "# 깃허브 레파지토리 클론\n",
        "!git clone ~~\n",
        "\n",
        "# 클론한 깃허브 레파지토리 삭제\n",
        "rm -rd allinone_AI\n",
        "\n",
        "# 클론되었는지 확인\n",
        "ls\n",
        "```\n",
        "\n"
      ]
    },
    {
      "cell_type": "code",
      "metadata": {
        "id": "S0PP0PkSb7fU",
        "colab_type": "code",
        "colab": {}
      },
      "source": [
        "!git clone https://github.com/Ahnjihye/allinone_AI.git"
      ],
      "execution_count": null,
      "outputs": []
    },
    {
      "cell_type": "code",
      "metadata": {
        "id": "l_aHqD8zDCue",
        "colab_type": "code",
        "colab": {}
      },
      "source": [
        "import csv\n",
        "\n",
        "f = open('allinone_AI/shoes and height.csv', encoding='cp949')\n",
        "data = csv.reader(f)\n",
        "next(data)\n",
        "data=list(data)"
      ],
      "execution_count": null,
      "outputs": []
    },
    {
      "cell_type": "code",
      "metadata": {
        "id": "ctsFjvvMbXRA",
        "colab_type": "code",
        "colab": {}
      },
      "source": [
        "# 독립변수와 종속변수의 분리\n",
        "X, y =[], []\n",
        "for row in data : \n",
        "    X.append(------ 빈 칸 ------)     # 신발 크기\n",
        "    y.append(------ 빈 칸 ------)     # 키"
      ],
      "execution_count": null,
      "outputs": []
    },
    {
      "cell_type": "code",
      "metadata": {
        "id": "kKgjzxgGb8OS",
        "colab_type": "code",
        "colab": {}
      },
      "source": [
        "epochs = ------ 빈 칸 ------   \n",
        "lr     = ------ 빈 칸 ------ \n",
        "a, b   = 0, 0     # 기울기, y절편 \n",
        "\n",
        "for i in range(------ 빈 칸 ------) : \n",
        "    ------ 빈 칸 ------\n",
        "\n",
        "    if i % 100 == 0 :\n",
        "        print('학습 횟수', i, '기울기', a, 'y절편', b)"
      ],
      "execution_count": null,
      "outputs": []
    },
    {
      "cell_type": "code",
      "metadata": {
        "id": "zyEVOsIPfAPR",
        "colab_type": "code",
        "colab": {}
      },
      "source": [
        "draw_graph_line(------ 빈 칸 ------)\n",
        "print(a,'x+',b)"
      ],
      "execution_count": null,
      "outputs": []
    },
    {
      "cell_type": "markdown",
      "metadata": {
        "id": "zrrENYenZotJ",
        "colab_type": "text"
      },
      "source": [
        "## 3차원 데이터"
      ]
    },
    {
      "cell_type": "code",
      "metadata": {
        "id": "ZPvGf3cGG9sr",
        "colab_type": "code",
        "colab": {}
      },
      "source": [
        "import matplotlib.pyplot as plt\n",
        "import numpy as np\n",
        "from mpl_toolkits.mplot3d import Axes3D\n",
        "import matplotlib\n",
        "matplotlib.rcParams['axes.unicode_minus'] = False   \n",
        "\n",
        "def draw_3D_graph(x1_data, x2_data, y_data, a, b, c, x1_name, x2_name, y_name) : \n",
        "    x1_data = np.array(x1_data, dtype=np.float64)\n",
        "    x2_data = np.array(x2_data, dtype=np.float64)\n",
        "    y_data = np.array(y_data, dtype=np.float64)\n",
        "    \n",
        "    fig = plt.figure(figsize=(10, 5))\n",
        "    ax = fig.add_subplot(111, projection='3d') # Axe3D object\n",
        "    ax.scatter(x1_data, x2_data, y_data, alpha=0.7)\n",
        "    ax.set_xlabel(x1_name)\n",
        "    ax.set_ylabel(x2_name)\n",
        "    ax.set_zlabel(y_name)  \n",
        "\n",
        "    x1_data, x2_data = np.meshgrid(x1_data, x2_data)\n",
        "    z = a*x1_data + b*x2_data + c\n",
        "\n",
        "    ax.contour3D(x1_data, x2_data, z, 80)\n",
        "    plt.show()"
      ],
      "execution_count": null,
      "outputs": []
    },
    {
      "cell_type": "code",
      "metadata": {
        "id": "CtajQSlLZsTw",
        "colab_type": "code",
        "colab": {}
      },
      "source": [
        "f = open('allinone_AI/stress, junkfood, illness.csv')\n",
        "data = csv.reader(f)\n",
        "next(data)\n",
        "data=list(data)"
      ],
      "execution_count": null,
      "outputs": []
    },
    {
      "cell_type": "code",
      "metadata": {
        "id": "oYIuX5JKaH9V",
        "colab_type": "code",
        "colab": {}
      },
      "source": [
        "X, y = [],[]\n",
        "for row in data : \n",
        "    X.append(------ 빈 칸 ------)\n",
        "    y.append(------ 빈 칸 ------)"
      ],
      "execution_count": null,
      "outputs": []
    },
    {
      "cell_type": "code",
      "metadata": {
        "id": "yYgQTshQcG9y",
        "colab_type": "code",
        "colab": {}
      },
      "source": [
        "from sklearn.linear_model import LinearRegression\n",
        "\n",
        "# 사이킷런 선형회귀 객체 생성\n",
        "------ 빈 칸 ------\n",
        "\n",
        "# 선형회귀 학습시키기\n",
        "------ 빈 칸 ------"
      ],
      "execution_count": null,
      "outputs": []
    },
    {
      "cell_type": "code",
      "metadata": {
        "id": "_bTrbFTlcNw5",
        "colab_type": "code",
        "colab": {}
      },
      "source": [
        "# 기울기\n",
        "------ 빈 칸 ------"
      ],
      "execution_count": null,
      "outputs": []
    },
    {
      "cell_type": "code",
      "metadata": {
        "id": "L29w9HPEcS7V",
        "colab_type": "code",
        "colab": {}
      },
      "source": [
        "# y절편\n",
        "------ 빈 칸 ------"
      ],
      "execution_count": null,
      "outputs": []
    },
    {
      "cell_type": "code",
      "metadata": {
        "id": "7N536lwHcVQE",
        "colab_type": "code",
        "colab": {}
      },
      "source": [
        "x1, x2 = [], []\n",
        "for row in x : \n",
        "    x1.append(------ 빈 칸 ------)\n",
        "    x2.append(------ 빈 칸 ------)\n",
        "\n",
        "draw_3D_graph(------ 빈 칸 ------)"
      ],
      "execution_count": null,
      "outputs": []
    },
    {
      "cell_type": "code",
      "metadata": {
        "id": "YpJ37atNcvgy",
        "colab_type": "code",
        "colab": {}
      },
      "source": [
        ""
      ],
      "execution_count": null,
      "outputs": []
    }
  ]
}