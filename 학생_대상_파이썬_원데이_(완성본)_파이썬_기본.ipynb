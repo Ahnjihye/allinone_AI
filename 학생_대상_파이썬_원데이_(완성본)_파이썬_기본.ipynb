{
  "nbformat": 4,
  "nbformat_minor": 0,
  "metadata": {
    "colab": {
      "name": "학생 대상 파이썬 원데이-(완성본) 파이썬 기본.ipynb",
      "provenance": [],
      "collapsed_sections": [],
      "authorship_tag": "ABX9TyNWr5ar/v9fvkZrZXp02ZEf",
      "include_colab_link": true
    },
    "kernelspec": {
      "name": "python3",
      "display_name": "Python 3"
    }
  },
  "cells": [
    {
      "cell_type": "markdown",
      "metadata": {
        "id": "view-in-github",
        "colab_type": "text"
      },
      "source": [
        "<a href=\"https://colab.research.google.com/github/Ahnjihye/allinone_AI/blob/students-oneday-class/%ED%95%99%EC%83%9D_%EB%8C%80%EC%83%81_%ED%8C%8C%EC%9D%B4%EC%8D%AC_%EC%9B%90%EB%8D%B0%EC%9D%B4_(%EC%99%84%EC%84%B1%EB%B3%B8)_%ED%8C%8C%EC%9D%B4%EC%8D%AC_%EA%B8%B0%EB%B3%B8.ipynb\" target=\"_parent\"><img src=\"https://colab.research.google.com/assets/colab-badge.svg\" alt=\"Open In Colab\"/></a>"
      ]
    },
    {
      "cell_type": "markdown",
      "metadata": {
        "id": "NlGVkdyrZt4D"
      },
      "source": [
        "# 1. 들어가기 전에 - 우리들의 최종목표"
      ]
    },
    {
      "cell_type": "markdown",
      "metadata": {
        "id": "SqoabyOvPa09"
      },
      "source": [
        "<img src=\"https://github.com/Ahnjihye/allinone_AI/blob/images/AI%20intro-001.png?raw=true\" width=700>\n",
        "\n",
        "<img src=\"https://github.com/Ahnjihye/allinone_AI/blob/images/AI%20intro-002.png?raw=true\" width=700>\n",
        "\n",
        "<img src=\"https://github.com/Ahnjihye/allinone_AI/blob/images/AI%20intro-003.png?raw=true\" width=700>\n",
        "\n",
        "<img src=\"https://github.com/Ahnjihye/allinone_AI/blob/images/AI%20intro-004.png?raw=true\" width=700>"
      ]
    },
    {
      "cell_type": "markdown",
      "metadata": {
        "id": "wFjCLgoRPeVQ"
      },
      "source": [
        "### 인공지능을 직접 만들려면 무엇을 알아야 하나요? \n",
        "\n",
        "> 1. 파이썬 기초 </br>\n",
        "> 2. 데이터 분석 </br>\n",
        "> 3. 머신러닝 </br>\n",
        "> 4. 딥러닝 </br>\n"
      ]
    },
    {
      "cell_type": "markdown",
      "metadata": {
        "id": "j67UJvqWZ6mE"
      },
      "source": [
        "# 2. STEP1 - 파이썬 기초 배우기"
      ]
    },
    {
      "cell_type": "markdown",
      "metadata": {
        "id": "6VICvDDuPykk"
      },
      "source": [
        "\n",
        "### 주제 1. 파이썬의 명령어 형식\n",
        "<img src='https://github.com/Ahnjihye/allinone_AI/blob/images/0_%EB%AA%85%EB%A0%B9%EC%96%B4.png?raw=true' width=400>"
      ]
    },
    {
      "cell_type": "markdown",
      "metadata": {
        "id": "LJAHyqRXU_tN"
      },
      "source": [
        "### 주제 2. 출력명령어 \n",
        "\n",
        "\n",
        "```\n",
        "print( 출력할 내용 )\n",
        "```\n",
        "\n"
      ]
    },
    {
      "cell_type": "code",
      "metadata": {
        "id": "fHog4iYYL-q4",
        "colab": {
          "base_uri": "https://localhost:8080/",
          "height": 34
        },
        "outputId": "6c5255cd-7d81-47be-8123-d9eab9cc8742"
      },
      "source": [
        "# 숫자 출력 20200902\n",
        "print(20200902)"
      ],
      "execution_count": null,
      "outputs": [
        {
          "output_type": "stream",
          "text": [
            "20200902\n"
          ],
          "name": "stdout"
        }
      ]
    },
    {
      "cell_type": "code",
      "metadata": {
        "id": "-Mn2gKC1y2XL",
        "colab": {
          "base_uri": "https://localhost:8080/",
          "height": 129
        },
        "outputId": "18e76f03-1881-48a7-cc0b-13333920ccaa"
      },
      "source": [
        "# 문자 출력 2020년 9월 2일\n",
        "print(2020년 9월 2일)"
      ],
      "execution_count": null,
      "outputs": [
        {
          "output_type": "error",
          "ename": "SyntaxError",
          "evalue": "ignored",
          "traceback": [
            "\u001b[0;36m  File \u001b[0;32m\"<ipython-input-1-a2e4462e1342>\"\u001b[0;36m, line \u001b[0;32m2\u001b[0m\n\u001b[0;31m    print(2020년 9월 2일)\u001b[0m\n\u001b[0m              ^\u001b[0m\n\u001b[0;31mSyntaxError\u001b[0m\u001b[0;31m:\u001b[0m invalid syntax\n"
          ]
        }
      ]
    },
    {
      "cell_type": "code",
      "metadata": {
        "id": "HndD3I4ybonQ",
        "colab": {
          "base_uri": "https://localhost:8080/",
          "height": 34
        },
        "outputId": "aec0169c-5276-43bb-cb51-8adf7442c373"
      },
      "source": [
        "# 문자는 따옴표로 감싸주어야 함\n",
        "print('2020년 9월 2일')"
      ],
      "execution_count": null,
      "outputs": [
        {
          "output_type": "stream",
          "text": [
            "2020년 9월 2일\n"
          ],
          "name": "stdout"
        }
      ]
    },
    {
      "cell_type": "code",
      "metadata": {
        "id": "RqdNnVh2bopV",
        "colab": {
          "base_uri": "https://localhost:8080/",
          "height": 84
        },
        "outputId": "298ab86f-e8d8-49d0-ddfe-2a628264836d"
      },
      "source": [
        "# 연산하여 출력하기\n",
        "print(12+34)\n",
        "print(12-34)\n",
        "print(12*34)\n",
        "print(12/34)"
      ],
      "execution_count": null,
      "outputs": [
        {
          "output_type": "stream",
          "text": [
            "46\n",
            "-22\n",
            "408\n",
            "0.35294117647058826\n"
          ],
          "name": "stdout"
        }
      ]
    },
    {
      "cell_type": "code",
      "metadata": {
        "id": "TrSY6KTBborq",
        "colab": {
          "base_uri": "https://localhost:8080/",
          "height": 67
        },
        "outputId": "549b238d-0cab-472d-a1f1-faf95b1d5568"
      },
      "source": [
        "#** 제곱\n",
        "print(5**2)\n",
        "\n",
        "#몫\n",
        "print(5//2)\n",
        "#나머지\n",
        "print(5%2)"
      ],
      "execution_count": null,
      "outputs": [
        {
          "output_type": "stream",
          "text": [
            "25\n",
            "2\n",
            "1\n"
          ],
          "name": "stdout"
        }
      ]
    },
    {
      "cell_type": "code",
      "metadata": {
        "id": "7cPO3xrybowJ",
        "colab": {
          "base_uri": "https://localhost:8080/",
          "height": 34
        },
        "outputId": "fe0d7ba5-c3ee-49ae-947e-d74f755a9f59"
      },
      "source": [
        "# 문자 연결하여 출력하기\n",
        "print('Pick','me')"
      ],
      "execution_count": null,
      "outputs": [
        {
          "output_type": "stream",
          "text": [
            "Pick me\n"
          ],
          "name": "stdout"
        }
      ]
    },
    {
      "cell_type": "markdown",
      "metadata": {
        "id": "tG2ndPCdh5vO"
      },
      "source": [
        "#### 실습 1 : 본인 학번, 이름 한줄로 출력하기"
      ]
    },
    {
      "cell_type": "code",
      "metadata": {
        "id": "4eHHGDD2QxVp"
      },
      "source": [
        "# 본인 학번, 이름을 한 줄로 출력해보기!\n"
      ],
      "execution_count": null,
      "outputs": []
    },
    {
      "cell_type": "markdown",
      "metadata": {
        "id": "v52XtOeCibk5"
      },
      "source": [
        "### 주제 3. 입력명령어\n",
        "\n",
        "\n",
        "```\n",
        "input('입력 안내문')\n",
        "```\n",
        "\n"
      ]
    },
    {
      "cell_type": "code",
      "metadata": {
        "id": "A9I_oy-Zixhw",
        "colab": {
          "base_uri": "https://localhost:8080/",
          "height": 52
        },
        "outputId": "6a33e006-7533-4b9b-fd7b-29bc24aad2da"
      },
      "source": [
        "input('아이디 : ')"
      ],
      "execution_count": null,
      "outputs": [
        {
          "output_type": "stream",
          "text": [
            "아이디 : let's getit\n"
          ],
          "name": "stdout"
        },
        {
          "output_type": "execute_result",
          "data": {
            "application/vnd.google.colaboratory.intrinsic+json": {
              "type": "string"
            },
            "text/plain": [
              "\"let's getit\""
            ]
          },
          "metadata": {
            "tags": []
          },
          "execution_count": 13
        }
      ]
    },
    {
      "cell_type": "markdown",
      "metadata": {
        "id": "NyiDx22aiB9S"
      },
      "source": [
        "#### 실습 2 : 아이디 입력받는 칸과 비밀번호 입력받는 칸, 총 두 개를 만들어보기\n"
      ]
    },
    {
      "cell_type": "code",
      "metadata": {
        "id": "_iMdu4IzQ4vX"
      },
      "source": [
        "input('아이디 -->')\n",
        "input('비밀번호 -->')"
      ],
      "execution_count": null,
      "outputs": []
    },
    {
      "cell_type": "markdown",
      "metadata": {
        "id": "5TT7S64piqF8"
      },
      "source": [
        "결과 확인해보기\n",
        "> 입력된 데이터 양 옆의 작은 따옴표      \n",
        "> input()으로 읽어들인 데이터는 모두 문자로 인식"
      ]
    },
    {
      "cell_type": "markdown",
      "metadata": {
        "id": "V1qdZa0ljBQz"
      },
      "source": [
        "### 주제 4. 변수\n",
        "\n",
        "\n",
        "```\n",
        "변수이름 = 저장할 데이터\n",
        "```\n",
        "<img src = 'https://github.com/Ahnjihye/allinone_AI/blob/images/1_%EB%B3%80%EC%88%98.png?raw=true' width =500>\n",
        "\n",
        "\n"
      ]
    },
    {
      "cell_type": "code",
      "metadata": {
        "id": "qGjujI1abo3T",
        "colab": {
          "base_uri": "https://localhost:8080/",
          "height": 34
        },
        "outputId": "cbc420fb-dddd-4c07-f310-60c9c656cf7c"
      },
      "source": [
        "a = '안녕'\n",
        "print(a)"
      ],
      "execution_count": null,
      "outputs": [
        {
          "output_type": "stream",
          "text": [
            "안녕\n"
          ],
          "name": "stdout"
        }
      ]
    },
    {
      "cell_type": "code",
      "metadata": {
        "id": "9d4QKvR6bo5d",
        "colab": {
          "base_uri": "https://localhost:8080/",
          "height": 34
        },
        "outputId": "e53c7ae1-122c-4d3f-846b-b34f7ba492da"
      },
      "source": [
        "a = '안녕'\n",
        "print(a,'하세요')"
      ],
      "execution_count": null,
      "outputs": [
        {
          "output_type": "stream",
          "text": [
            "안녕하세요\n"
          ],
          "name": "stdout"
        }
      ]
    },
    {
      "cell_type": "code",
      "metadata": {
        "id": "gN7pzv5jbo-B"
      },
      "source": [
        "apple = 1200\n",
        "banana = 800\n",
        "kiwi = 1700"
      ],
      "execution_count": null,
      "outputs": []
    },
    {
      "cell_type": "code",
      "metadata": {
        "id": "YY_1rgwNbpAe",
        "colab": {
          "base_uri": "https://localhost:8080/",
          "height": 34
        },
        "outputId": "a18e8e88-c5ea-422e-ccc1-1f3e9cf9b056"
      },
      "source": [
        "# 사과 3개, 바나나1개, 키위2개 구매한 가격은?\n",
        "apple*3 + banana*1 + kiwi*2"
      ],
      "execution_count": null,
      "outputs": [
        {
          "output_type": "execute_result",
          "data": {
            "text/plain": [
              "7800"
            ]
          },
          "metadata": {
            "tags": []
          },
          "execution_count": 19
        }
      ]
    },
    {
      "cell_type": "markdown",
      "metadata": {
        "id": "3iQgjH5g8Wby"
      },
      "source": [
        "<img src='https://github.com/Ahnjihye/allinone_AI/blob/images/2_%EB%B3%80%EC%88%98%EC%97%B0%EC%82%B0.png?raw=true' width =300px>"
      ]
    },
    {
      "cell_type": "markdown",
      "metadata": {
        "id": "ELgncLmGigNo"
      },
      "source": [
        "#### 실습 3 : 사과 3개, 바나나 1개, 키위 2개 구매한 가격을 새로운 변수에 저장하여 출력하기"
      ]
    },
    {
      "cell_type": "code",
      "metadata": {
        "id": "kAnHKPxlnUMO",
        "colab": {
          "base_uri": "https://localhost:8080/",
          "height": 34
        },
        "outputId": "54af36b1-1439-4c8b-86fb-6726578802e3"
      },
      "source": [
        "# 위 가격은 변수에 저장이 되지 않았으므로 컴퓨터가 기억하지 못함\n",
        "price = apple*3 + banana*1 + kiwi*2\n",
        "price"
      ],
      "execution_count": null,
      "outputs": [
        {
          "output_type": "execute_result",
          "data": {
            "text/plain": [
              "7800"
            ]
          },
          "metadata": {
            "tags": []
          },
          "execution_count": 25
        }
      ]
    },
    {
      "cell_type": "markdown",
      "metadata": {
        "id": "XTITfZwoisIu"
      },
      "source": [
        "#### 실습 4 : vip는 20% 할인된다. 동일한 물건을 구매했을 때 vip가 내는 가격을 새로운 변수에 저장하여 출력하기"
      ]
    },
    {
      "cell_type": "code",
      "metadata": {
        "id": "3yzsV8_7bpDS",
        "colab": {
          "base_uri": "https://localhost:8080/",
          "height": 34
        },
        "outputId": "6834994f-35f2-44b7-c48a-38a12e0dd33e"
      },
      "source": [
        "# vip가 동일한 가격을 구매했을 때 가격?\n",
        "price * 0.2"
      ],
      "execution_count": null,
      "outputs": [
        {
          "output_type": "execute_result",
          "data": {
            "text/plain": [
              "6240.0"
            ]
          },
          "metadata": {
            "tags": []
          },
          "execution_count": 26
        }
      ]
    },
    {
      "cell_type": "code",
      "metadata": {
        "id": "A7bhHZu-nnE_"
      },
      "source": [
        "# 이 역시 변수에 저장되지 않았으므로 재사용이 불가\n",
        "vip_price = price * 0.2"
      ],
      "execution_count": null,
      "outputs": []
    },
    {
      "cell_type": "code",
      "metadata": {
        "id": "I5UtDtRgnwk8",
        "colab": {
          "base_uri": "https://localhost:8080/",
          "height": 34
        },
        "outputId": "725be9e5-29fa-46ac-9696-f1a3d0d6b024"
      },
      "source": [
        "print('vip가 되시면',price,'원을',vip_price,'원에 구매 가능합니다! ')"
      ],
      "execution_count": null,
      "outputs": [
        {
          "output_type": "stream",
          "text": [
            "vip가 되시면 7800 원을 6240.0 원에 구매 가능합니다! \n"
          ],
          "name": "stdout"
        }
      ]
    },
    {
      "cell_type": "markdown",
      "metadata": {
        "id": "21qJASF5RfLe"
      },
      "source": [
        "### 주제 5. 동일한 변수를 증가/감소시킬 때\n",
        "\n",
        "```\n",
        "# a에 3을 더하시오\n",
        "a = a+3\n",
        "```\n",
        "\n",
        "```\n",
        "# 간략하게 표현\n",
        "a += 3\n",
        "```\n",
        "\n",
        "\n",
        "\n"
      ]
    },
    {
      "cell_type": "markdown",
      "metadata": {
        "id": "lydAq9O5i_9w"
      },
      "source": [
        "#### 실습 5 : 다음처럼 가격을 변동시키시오."
      ]
    },
    {
      "cell_type": "code",
      "metadata": {
        "id": "L-p7E3DERdi6"
      },
      "source": [
        "# apple 가격을 500원 인상시키시오\n"
      ],
      "execution_count": null,
      "outputs": []
    },
    {
      "cell_type": "code",
      "metadata": {
        "id": "2CKJbhKQR5m-"
      },
      "source": [
        "# banana 가격을 500원 인하시키시오\n"
      ],
      "execution_count": null,
      "outputs": []
    },
    {
      "cell_type": "code",
      "metadata": {
        "id": "k0titOTPR-kM"
      },
      "source": [
        "# kiwi 가격을 두배로 곱하시오\n"
      ],
      "execution_count": null,
      "outputs": []
    },
    {
      "cell_type": "markdown",
      "metadata": {
        "id": "kv0LoMHqmyXE"
      },
      "source": [
        "###  주제 6. 데이터타입\n",
        "\n",
        "\n",
        "```\n",
        "정수 int\n",
        "실수 float\n",
        "문자 str\n",
        "```\n"
      ]
    },
    {
      "cell_type": "code",
      "metadata": {
        "id": "Yh4EzMknbpFi",
        "colab": {
          "base_uri": "https://localhost:8080/",
          "height": 34
        },
        "outputId": "8354c1e6-4fab-4224-8f65-2c4368ea7a96"
      },
      "source": [
        "type(apple)"
      ],
      "execution_count": null,
      "outputs": [
        {
          "output_type": "execute_result",
          "data": {
            "text/plain": [
              "int"
            ]
          },
          "metadata": {
            "tags": []
          },
          "execution_count": 21
        }
      ]
    },
    {
      "cell_type": "code",
      "metadata": {
        "id": "zyFQbxIlbpHu",
        "colab": {
          "base_uri": "https://localhost:8080/",
          "height": 34
        },
        "outputId": "c4d14734-181f-4600-e259-b519b0cffc6a"
      },
      "source": [
        "type(banana)"
      ],
      "execution_count": null,
      "outputs": [
        {
          "output_type": "execute_result",
          "data": {
            "text/plain": [
              "int"
            ]
          },
          "metadata": {
            "tags": []
          },
          "execution_count": 22
        }
      ]
    },
    {
      "cell_type": "code",
      "metadata": {
        "id": "7frJWouPm-8e",
        "colab": {
          "base_uri": "https://localhost:8080/",
          "height": 34
        },
        "outputId": "93347f8c-0787-4949-9adb-2f66dab494a6"
      },
      "source": [
        "type(vip)"
      ],
      "execution_count": null,
      "outputs": [
        {
          "output_type": "execute_result",
          "data": {
            "text/plain": [
              "float"
            ]
          },
          "metadata": {
            "tags": []
          },
          "execution_count": 30
        }
      ]
    },
    {
      "cell_type": "code",
      "metadata": {
        "id": "_m8OTfEln_Qn",
        "colab": {
          "base_uri": "https://localhost:8080/",
          "height": 34
        },
        "outputId": "02512586-3a9d-448b-94cd-8d08445eddf6"
      },
      "source": [
        "type(a)"
      ],
      "execution_count": null,
      "outputs": [
        {
          "output_type": "execute_result",
          "data": {
            "text/plain": [
              "str"
            ]
          },
          "metadata": {
            "tags": []
          },
          "execution_count": 31
        }
      ]
    },
    {
      "cell_type": "markdown",
      "metadata": {
        "id": "iE7vQvAqSLQJ"
      },
      "source": [
        "###  주제 7. 데이터타입 변경하기\n",
        "변경하려는 데이터타입으로 감싸주기\n",
        "\n",
        "\n",
        "```\n",
        "# 정수로 변경하기\n",
        "int(변수)\n",
        "\n",
        "# 실수로 변경하기\n",
        "float(변수)\n",
        "\n",
        "# 문자로 변경하기\n",
        "str(변수)\n",
        "```\n",
        "\n"
      ]
    },
    {
      "cell_type": "code",
      "metadata": {
        "id": "m0Q-OfX8oAfP",
        "colab": {
          "base_uri": "https://localhost:8080/",
          "height": 34
        },
        "outputId": "b296c02c-e8c8-4ddc-ea36-f64bc851827f"
      },
      "source": [
        "# 정수를 실수로 \n",
        "float(apple)"
      ],
      "execution_count": null,
      "outputs": [
        {
          "output_type": "execute_result",
          "data": {
            "text/plain": [
              "1200.0"
            ]
          },
          "metadata": {
            "tags": []
          },
          "execution_count": 33
        }
      ]
    },
    {
      "cell_type": "code",
      "metadata": {
        "id": "JMm4V8_RpJgf",
        "colab": {
          "base_uri": "https://localhost:8080/",
          "height": 34
        },
        "outputId": "7cd0bd81-4065-4b89-e898-408ca72cf78a"
      },
      "source": [
        "# 실수를 정수로\n",
        "score = 99.99\n",
        "int(score)"
      ],
      "execution_count": null,
      "outputs": [
        {
          "output_type": "execute_result",
          "data": {
            "text/plain": [
              "99"
            ]
          },
          "metadata": {
            "tags": []
          },
          "execution_count": 34
        }
      ]
    },
    {
      "cell_type": "markdown",
      "metadata": {
        "id": "lwYK3RAi86NG"
      },
      "source": [
        "<img src = 'https://github.com/Ahnjihye/allinone_AI/blob/images/3_%EC%9E%85%EB%A0%A5%EA%B0%92%20%EB%B3%80%EC%88%98.png?raw=true' width = 300>"
      ]
    },
    {
      "cell_type": "markdown",
      "metadata": {
        "id": "qu7qxPSFjMM8"
      },
      "source": [
        "#### 실습 6 : 점수를 입력받아(input) 변수 score에 저장한 후, score의 타입을 확인하시오"
      ]
    },
    {
      "cell_type": "code",
      "metadata": {
        "id": "VYBYgR3tpU63",
        "colab": {
          "base_uri": "https://localhost:8080/",
          "height": 50
        },
        "outputId": "6edeaa28-ea6d-45c4-ec57-e2aba626f605"
      },
      "source": [
        "score = input('점수 입력 :')\n",
        "type(score)"
      ],
      "execution_count": null,
      "outputs": [
        {
          "output_type": "stream",
          "text": [
            "점수 입력 :44\n"
          ],
          "name": "stdout"
        },
        {
          "output_type": "execute_result",
          "data": {
            "text/plain": [
              "44"
            ]
          },
          "metadata": {
            "tags": []
          },
          "execution_count": 35
        }
      ]
    },
    {
      "cell_type": "markdown",
      "metadata": {
        "id": "m8Cu4unrjWBh"
      },
      "source": [
        "#### 실습 7 : score를 정수로 변경하시오"
      ]
    },
    {
      "cell_type": "code",
      "metadata": {
        "id": "6SDgV2wIpi29",
        "colab": {
          "base_uri": "https://localhost:8080/",
          "height": 34
        },
        "outputId": "3541edcb-b5b1-4f83-abe7-e7e33dd1099f"
      },
      "source": [
        "# 문자를 정수로\n",
        "score = input('점수 입력 :')\n",
        "int(score)"
      ],
      "execution_count": null,
      "outputs": [
        {
          "output_type": "execute_result",
          "data": {
            "text/plain": [
              "34"
            ]
          },
          "metadata": {
            "tags": []
          },
          "execution_count": 37
        }
      ]
    },
    {
      "cell_type": "markdown",
      "metadata": {
        "id": "6n9IjADZt4Z5"
      },
      "source": [
        "###  주제 8. 리스트\n",
        "> 실생활의 리스트 \n",
        "    \n",
        "<img src='https://github.com/Ahnjihye/allinone_AI/blob/images/56_%EC%82%AC%EC%95%BC%ED%95%A0%20%EB%A6%AC%EC%8A%A4%ED%8A%B8.png?raw=true' width=150>\n",
        "\n",
        "</br>\n",
        "</br>\n",
        "\n",
        "> 파이썬의 리스트\n",
        "\n",
        "<img src='https://github.com/Ahnjihye/allinone_AI/blob/images/6_%EB%A6%AC%EC%8A%A4%ED%8A%B8%EA%B0%9C%EB%85%90.png?raw=true' width=600>\n",
        "\n",
        "```\n",
        "리스트 여러 데이터를 한 번에 묶어서 표현\n",
        "리스트이름 = [데이터1, 데이터2, ..., 데이터n]\n",
        "```\n",
        "\n"
      ]
    },
    {
      "cell_type": "code",
      "metadata": {
        "id": "FAe8AhxFMRWQ"
      },
      "source": [
        "# 가계부 프로그램 \n",
        "# 1월 지출부터 6월 지출까지 리스트로 만들기\n",
        "spend = [43, 12, 65, 67, 23, 12]"
      ],
      "execution_count": null,
      "outputs": []
    },
    {
      "cell_type": "code",
      "metadata": {
        "id": "AfL3S1RbMRZb",
        "colab": {
          "base_uri": "https://localhost:8080/",
          "height": 34
        },
        "outputId": "dccec6f0-01fc-4dd4-ae2c-bffadd27d0e3"
      },
      "source": [
        "spend"
      ],
      "execution_count": null,
      "outputs": [
        {
          "output_type": "execute_result",
          "data": {
            "text/plain": [
              "[43, 12, 65, 67, 23, 12]"
            ]
          },
          "metadata": {
            "tags": []
          },
          "execution_count": 6
        }
      ]
    },
    {
      "cell_type": "code",
      "metadata": {
        "id": "pletqKwvMRcq",
        "colab": {
          "base_uri": "https://localhost:8080/",
          "height": 34
        },
        "outputId": "1c45512b-645c-4d52-8f24-c9217dbafae8"
      },
      "source": [
        "type(spend)"
      ],
      "execution_count": null,
      "outputs": [
        {
          "output_type": "execute_result",
          "data": {
            "text/plain": [
              "list"
            ]
          },
          "metadata": {
            "tags": []
          },
          "execution_count": 7
        }
      ]
    },
    {
      "cell_type": "markdown",
      "metadata": {
        "id": "TKe3-L5lNYYN"
      },
      "source": [
        "###  주제 9. 리스트와 인덱스\n",
        "<img src ='https://github.com/Ahnjihye/allinone_AI/blob/images/7_%EB%A6%AC%EC%8A%A4%ED%8A%B8%EC%9D%B8%EB%8D%B1%EC%8A%A4.png?raw=true' width =700>"
      ]
    },
    {
      "cell_type": "code",
      "metadata": {
        "id": "nDJdEgVpMlSm",
        "colab": {
          "base_uri": "https://localhost:8080/",
          "height": 118
        },
        "outputId": "73ade901-1875-4d4c-b4f5-74176936d58b"
      },
      "source": [
        "# 리스트 내의 원소에 접근하기\n",
        "# 인덱스는 0부터 \n",
        "print(spend[0])\n",
        "print(spend[1])\n",
        "print(spend[2])\n",
        "print(spend[3])\n",
        "print(spend[4])\n",
        "print(spend[5])"
      ],
      "execution_count": null,
      "outputs": [
        {
          "output_type": "stream",
          "text": [
            "43\n",
            "12\n",
            "65\n",
            "67\n",
            "23\n",
            "12\n"
          ],
          "name": "stdout"
        }
      ]
    },
    {
      "cell_type": "code",
      "metadata": {
        "id": "l97FX7QOMlYm",
        "colab": {
          "base_uri": "https://localhost:8080/",
          "height": 34
        },
        "outputId": "945932c9-128f-49d7-fda0-6081bd481a60"
      },
      "source": [
        "# 1월 지출은?\n",
        "print(spend[0])"
      ],
      "execution_count": null,
      "outputs": [
        {
          "output_type": "stream",
          "text": [
            "43\n"
          ],
          "name": "stdout"
        }
      ]
    },
    {
      "cell_type": "code",
      "metadata": {
        "id": "XQJ_ouroMlaz",
        "colab": {
          "base_uri": "https://localhost:8080/",
          "height": 34
        },
        "outputId": "32640087-2611-4c81-cf26-bf2ec3aa1f57"
      },
      "source": [
        "# 6월 지출은?\n",
        "print(spend[-1])"
      ],
      "execution_count": null,
      "outputs": [
        {
          "output_type": "stream",
          "text": [
            "12\n"
          ],
          "name": "stdout"
        }
      ]
    },
    {
      "cell_type": "code",
      "metadata": {
        "id": "70ooJdGDMlh4",
        "colab": {
          "base_uri": "https://localhost:8080/",
          "height": 34
        },
        "outputId": "5610af62-97cd-43a1-9cd2-b0de61ad27ac"
      },
      "source": [
        "# 3월 지출은?\n",
        "print(spend[2])"
      ],
      "execution_count": null,
      "outputs": [
        {
          "output_type": "stream",
          "text": [
            "65\n"
          ],
          "name": "stdout"
        }
      ]
    },
    {
      "cell_type": "markdown",
      "metadata": {
        "id": "Er1EdCA3jfx3"
      },
      "source": [
        "#### 실습 8 :  알고보니 4월 지출이 10낮게 기록됐다. 4월 지출에 10을 더하시오"
      ]
    },
    {
      "cell_type": "code",
      "metadata": {
        "id": "tLt7P-A2Mlkq",
        "colab": {
          "base_uri": "https://localhost:8080/",
          "height": 34
        },
        "outputId": "3099e94b-4b2b-4da4-bd3c-de29a12f39f0"
      },
      "source": [
        "# 4월 지출에 10을 더하시오\n",
        "spend[3] += 10\n",
        "spend"
      ],
      "execution_count": null,
      "outputs": [
        {
          "output_type": "execute_result",
          "data": {
            "text/plain": [
              "[43, 12, 65, 77, 23, 12]"
            ]
          },
          "metadata": {
            "tags": []
          },
          "execution_count": 18
        }
      ]
    },
    {
      "cell_type": "markdown",
      "metadata": {
        "id": "BZTdPe8Bjk_p"
      },
      "source": [
        "#### 실습 9 :  5월 지출을 2로 나누시오"
      ]
    },
    {
      "cell_type": "code",
      "metadata": {
        "id": "UGAtSnXaNpy6",
        "colab": {
          "base_uri": "https://localhost:8080/",
          "height": 34
        },
        "outputId": "fb601144-2e35-41b0-9e10-c91f4edf9bda"
      },
      "source": [
        "# 5월 지출을 2로 나누시오\n",
        "spend[4] /= 2\n",
        "spend"
      ],
      "execution_count": null,
      "outputs": [
        {
          "output_type": "execute_result",
          "data": {
            "text/plain": [
              "[43, 12, 65, 77, 11.5, 12]"
            ]
          },
          "metadata": {
            "tags": []
          },
          "execution_count": 19
        }
      ]
    },
    {
      "cell_type": "markdown",
      "metadata": {
        "id": "6GNtA_6rE1lY"
      },
      "source": [
        "###  주제 10. 마이너스 인덱스\n",
        "\n",
        "<img src = 'https://github.com/Ahnjihye/allinone_AI/blob/images/8_%EB%A6%AC%EC%8A%A4%ED%8A%B8%20%EB%A7%88%EC%9D%B4%EB%84%88%EC%8A%A4%EC%9D%B8%EB%8D%B1%EC%8A%A4.png?raw=true' width=500>"
      ]
    },
    {
      "cell_type": "code",
      "metadata": {
        "id": "VYSsCWAuMlVF",
        "colab": {
          "base_uri": "https://localhost:8080/",
          "height": 118
        },
        "outputId": "7b638e15-1642-4ccf-db77-e8ac2db7c54c"
      },
      "source": [
        "print(spend[-1])\n",
        "print(spend[-2])\n",
        "print(spend[-3])\n",
        "print(spend[-4])\n",
        "print(spend[-5])\n",
        "print(spend[-6])"
      ],
      "execution_count": null,
      "outputs": [
        {
          "output_type": "stream",
          "text": [
            "12\n",
            "23\n",
            "67\n",
            "65\n",
            "12\n",
            "43\n"
          ],
          "name": "stdout"
        }
      ]
    },
    {
      "cell_type": "markdown",
      "metadata": {
        "id": "mcMUi8x-OEod"
      },
      "source": [
        "###  주제 11.  리스트의 다양한 명령어\n",
        "\n",
        "```\n",
        "len(리스트이름)            # 리스트 길이 확인\n",
        "```\n",
        "\n"
      ]
    },
    {
      "cell_type": "code",
      "metadata": {
        "id": "PVBaOrEONp4H",
        "colab": {
          "base_uri": "https://localhost:8080/",
          "height": 34
        },
        "outputId": "9899d955-7e23-4947-80c5-4e43a7620eb3"
      },
      "source": [
        "len(spend)"
      ],
      "execution_count": null,
      "outputs": [
        {
          "output_type": "execute_result",
          "data": {
            "text/plain": [
              "6"
            ]
          },
          "metadata": {
            "tags": []
          },
          "execution_count": 21
        }
      ]
    },
    {
      "cell_type": "code",
      "metadata": {
        "id": "qAH4hzAwNp1s",
        "colab": {
          "base_uri": "https://localhost:8080/",
          "height": 34
        },
        "outputId": "2971e790-441a-4ff0-e400-a681f13f2c5b"
      },
      "source": [
        "fruit = ['사과', '바나나', '키위']\n",
        "len(fruit)"
      ],
      "execution_count": null,
      "outputs": [
        {
          "output_type": "execute_result",
          "data": {
            "text/plain": [
              "3"
            ]
          },
          "metadata": {
            "tags": []
          },
          "execution_count": 24
        }
      ]
    },
    {
      "cell_type": "markdown",
      "metadata": {
        "id": "E_Y7AFD0TFIB"
      },
      "source": [
        "###  주제 12. 리스트에 데이터 추가하기\n",
        "\n",
        "```\n",
        "리스트이름.append(데이터)    # 리스트에 데이터 추가\n",
        "```\n",
        "\n"
      ]
    },
    {
      "cell_type": "code",
      "metadata": {
        "id": "PYw7ooYGNp65",
        "colab": {
          "base_uri": "https://localhost:8080/",
          "height": 34
        },
        "outputId": "9b32896a-1967-4942-9f65-a800dea41534"
      },
      "source": [
        "# 오렌지 추가\n",
        "fruit.append('오렌지')\n",
        "fruit"
      ],
      "execution_count": null,
      "outputs": [
        {
          "output_type": "execute_result",
          "data": {
            "text/plain": [
              "['사과', '바나나', '키위', '오렌지']"
            ]
          },
          "metadata": {
            "tags": []
          },
          "execution_count": 25
        }
      ]
    },
    {
      "cell_type": "markdown",
      "metadata": {
        "id": "gTwIhK76jycp"
      },
      "source": [
        "#### 실습 10 :  리스트 fruit에 참외를 추가한후, 본인이 좋아하는 과일 하나 더 추가해보기"
      ]
    },
    {
      "cell_type": "code",
      "metadata": {
        "id": "EakP6OrBOry4",
        "colab": {
          "base_uri": "https://localhost:8080/",
          "height": 34
        },
        "outputId": "46412dad-10a4-42d0-d128-ada3e9dd7779"
      },
      "source": [
        "# 참외 추가해보기\n",
        "fruit.append('참외')\n",
        "fruit"
      ],
      "execution_count": null,
      "outputs": [
        {
          "output_type": "execute_result",
          "data": {
            "text/plain": [
              "['사과', '바나나', '키위', '오렌지', '참외']"
            ]
          },
          "metadata": {
            "tags": []
          },
          "execution_count": 26
        }
      ]
    },
    {
      "cell_type": "markdown",
      "metadata": {
        "id": "lnbcQImwTKI3"
      },
      "source": [
        "\n",
        "### 주제 13. 리스트 원소 정렬하기\n",
        "```\n",
        "리스트이름.sort()          # 리스트 원소 정렬하기\n",
        "```\n",
        "\n"
      ]
    },
    {
      "cell_type": "code",
      "metadata": {
        "id": "Uv7fx6XBO3vN",
        "colab": {
          "base_uri": "https://localhost:8080/",
          "height": 34
        },
        "outputId": "4ae85235-2419-4688-f6d0-99a8648d8538"
      },
      "source": [
        "# 정렬하기\n",
        "fruit.sort()\n",
        "fruit"
      ],
      "execution_count": null,
      "outputs": [
        {
          "output_type": "execute_result",
          "data": {
            "text/plain": [
              "['바나나', '사과', '오렌지', '참외', '키위']"
            ]
          },
          "metadata": {
            "tags": []
          },
          "execution_count": 28
        }
      ]
    },
    {
      "cell_type": "code",
      "metadata": {
        "id": "BuIfMu7uO3yO",
        "colab": {
          "base_uri": "https://localhost:8080/",
          "height": 50
        },
        "outputId": "6b197cf6-8a07-4d3a-fa60-c23023ccb412"
      },
      "source": [
        "print('정렬 전 spend', spend)\n",
        "\n",
        "spend.sort()\n",
        "print('정렬 후 spend', spend)"
      ],
      "execution_count": null,
      "outputs": [
        {
          "output_type": "stream",
          "text": [
            "정렬 전 spend [43, 12, 65, 77, 11.5, 12]\n",
            "정렬 후 spend [11.5, 12, 12, 43, 65, 77]\n"
          ],
          "name": "stdout"
        }
      ]
    },
    {
      "cell_type": "markdown",
      "metadata": {
        "id": "o4prnRF_RRyN"
      },
      "source": [
        "###  주제 14. 문자열 분리 명령어 .spilt()\n",
        "\n",
        "\n",
        "```\n",
        "문자열.split('분리할 기준')\n",
        "```\n",
        "\n"
      ]
    },
    {
      "cell_type": "code",
      "metadata": {
        "id": "CQ0-EObNRQKn",
        "colab": {
          "base_uri": "https://localhost:8080/",
          "height": 34
        },
        "outputId": "637f105d-05b3-4599-eb5b-4cb2d86c3d55"
      },
      "source": [
        "name = 'Lets get it Python'\n",
        "name.split()"
      ],
      "execution_count": null,
      "outputs": [
        {
          "output_type": "execute_result",
          "data": {
            "text/plain": [
              "['Lets', 'get', 'it', 'Python']"
            ]
          },
          "metadata": {
            "tags": []
          },
          "execution_count": 37
        }
      ]
    },
    {
      "cell_type": "code",
      "metadata": {
        "id": "vt-TuP3rRQZF",
        "colab": {
          "base_uri": "https://localhost:8080/",
          "height": 35
        },
        "outputId": "c8302d76-4938-47f1-a769-1e951ed54e0b"
      },
      "source": [
        "name.split()[0]"
      ],
      "execution_count": null,
      "outputs": [
        {
          "output_type": "execute_result",
          "data": {
            "application/vnd.google.colaboratory.intrinsic+json": {
              "type": "string"
            },
            "text/plain": [
              "'Lets'"
            ]
          },
          "metadata": {
            "tags": []
          },
          "execution_count": 38
        }
      ]
    },
    {
      "cell_type": "code",
      "metadata": {
        "id": "a7uoVb8kRgzE",
        "colab": {
          "base_uri": "https://localhost:8080/",
          "height": 35
        },
        "outputId": "e255bfc1-460d-4e4d-b4a4-117a24745d1d"
      },
      "source": [
        "name.split()[-1]"
      ],
      "execution_count": null,
      "outputs": [
        {
          "output_type": "execute_result",
          "data": {
            "application/vnd.google.colaboratory.intrinsic+json": {
              "type": "string"
            },
            "text/plain": [
              "'Python'"
            ]
          },
          "metadata": {
            "tags": []
          },
          "execution_count": 40
        }
      ]
    },
    {
      "cell_type": "code",
      "metadata": {
        "id": "VZiERfJNRg4R",
        "colab": {
          "base_uri": "https://localhost:8080/",
          "height": 34
        },
        "outputId": "6d4b127b-5d97-4640-a812-cf38d89d71a6"
      },
      "source": [
        "name.split('t')  # t가 사라짐"
      ],
      "execution_count": null,
      "outputs": [
        {
          "output_type": "execute_result",
          "data": {
            "text/plain": [
              "['Le', 's ge', ' i', ' Py', 'hon']"
            ]
          },
          "metadata": {
            "tags": []
          },
          "execution_count": 41
        }
      ]
    },
    {
      "cell_type": "code",
      "metadata": {
        "id": "RA-7dVzERg6x",
        "colab": {
          "base_uri": "https://localhost:8080/",
          "height": 34
        },
        "outputId": "c3db0762-67e4-41a1-e12c-09c7937d2aaa"
      },
      "source": [
        "name.split('e')  # e가 사라짐"
      ],
      "execution_count": null,
      "outputs": [
        {
          "output_type": "execute_result",
          "data": {
            "text/plain": [
              "['L', 'ts g', 't it Python']"
            ]
          },
          "metadata": {
            "tags": []
          },
          "execution_count": 42
        }
      ]
    },
    {
      "cell_type": "code",
      "metadata": {
        "id": "9vbsDdAARg3d"
      },
      "source": [
        "date = '2020-09-02'"
      ],
      "execution_count": null,
      "outputs": []
    },
    {
      "cell_type": "code",
      "metadata": {
        "id": "B3r_9wGLRzk7",
        "colab": {
          "base_uri": "https://localhost:8080/",
          "height": 34
        },
        "outputId": "84b7f052-a695-4066-9406-9ef04a6e3522"
      },
      "source": [
        "# 년도만 골라내기\n",
        "date.split('-')[0]"
      ],
      "execution_count": null,
      "outputs": [
        {
          "output_type": "execute_result",
          "data": {
            "text/plain": [
              "2020"
            ]
          },
          "metadata": {
            "tags": []
          },
          "execution_count": 47
        }
      ]
    },
    {
      "cell_type": "code",
      "metadata": {
        "id": "bajZrHkskCq5"
      },
      "source": [
        "# 숫자로 아직 안바뀐 상태\n",
        "int(date.split('-')[0])"
      ],
      "execution_count": null,
      "outputs": []
    },
    {
      "cell_type": "markdown",
      "metadata": {
        "id": "ci8lL5bpkDqH"
      },
      "source": [
        "#### 실습 11 : 위 date에서 월(month)만 골라내 변수에 저장하시오."
      ]
    },
    {
      "cell_type": "code",
      "metadata": {
        "id": "oi4InWd-R5hK",
        "colab": {
          "base_uri": "https://localhost:8080/",
          "height": 35
        },
        "outputId": "d5e376c7-43b1-4b2c-ce63-b29101530e1d"
      },
      "source": [
        "# 월만 골라내기\n",
        "date.split('-')[1]"
      ],
      "execution_count": null,
      "outputs": [
        {
          "output_type": "execute_result",
          "data": {
            "application/vnd.google.colaboratory.intrinsic+json": {
              "type": "string"
            },
            "text/plain": [
              "'09'"
            ]
          },
          "metadata": {
            "tags": []
          },
          "execution_count": 46
        }
      ]
    },
    {
      "cell_type": "markdown",
      "metadata": {
        "id": "1SNURQRPkLjp"
      },
      "source": [
        "#### 실습 12 : 위 date에서 일(day)만 골라내 변수에 저장하시오."
      ]
    },
    {
      "cell_type": "code",
      "metadata": {
        "id": "EV6_JAjDR5lz",
        "colab": {
          "base_uri": "https://localhost:8080/",
          "height": 35
        },
        "outputId": "b4d59710-c021-4f08-efc4-5daa95bde8c0"
      },
      "source": [
        "# 일만 골라내기\n",
        "date.split('-')[-1]"
      ],
      "execution_count": null,
      "outputs": [
        {
          "output_type": "execute_result",
          "data": {
            "application/vnd.google.colaboratory.intrinsic+json": {
              "type": "string"
            },
            "text/plain": [
              "'02'"
            ]
          },
          "metadata": {
            "tags": []
          },
          "execution_count": 45
        }
      ]
    },
    {
      "cell_type": "markdown",
      "metadata": {
        "id": "IgU4y4cdCo3v"
      },
      "source": [
        "###  주제 15. 조건문 if\n",
        "\n",
        "지금까지의 명령어는 항상 실행되는 명령어 \n",
        "</br>\n",
        "\n",
        "조건을 충족할 때만 실행되거나/ 실행되지 않는 명령어\n",
        "</br>\n",
        "</br>\n",
        "<img src='https://github.com/Ahnjihye/allinone_AI/blob/images/10_%EC%84%A0%ED%83%9D%EA%B5%AC%EC%A1%B0%20%EC%98%88%EC%8B%9C%20png.png?raw=true' width=500>\n",
        "\n",
        "**선택구조 : 조건을 충족할 때에만 선택적으로 실행되는 명령어**\n",
        "</br>\n",
        "**=조건문 이라고도 함**\n",
        "\n",
        "<img src = 'https://github.com/Ahnjihye/allinone_AI/blob/images/10_%EC%84%A0%ED%83%9D%EA%B5%AC%EC%A1%B0.png?raw=true' width=500>\n",
        "\n"
      ]
    },
    {
      "cell_type": "code",
      "metadata": {
        "id": "MkpSM5DyCp78"
      },
      "source": [
        "# 만약 미성년자라면 술을 구매할 수 없다고 출력\n",
        "age = 20\n",
        "\n",
        "if age < 20 : \n",
        "    # 조건을 충족할 때만 실행\n",
        "    print('술을 구매할 수 없습니다.')"
      ],
      "execution_count": null,
      "outputs": []
    },
    {
      "cell_type": "markdown",
      "metadata": {
        "id": "fn3FlsHEYSiA"
      },
      "source": [
        "<img src = 'https://github.com/Ahnjihye/allinone_AI/blob/images/10_%EC%84%A0%ED%83%9D%EA%B5%AC%EC%A1%B0%20%EB%8F%99%EC%9E%91%EC%9B%90%EB%A6%AC.png?raw=true' width =800>"
      ]
    },
    {
      "cell_type": "markdown",
      "metadata": {
        "id": "iIllPy22YGxI"
      },
      "source": [
        "> 조건문에서는 들여쓰기를 조심하세요!\n",
        "</br>\n",
        "<img src ='https://github.com/Ahnjihye/allinone_AI/blob/images/10_%EC%84%A0%ED%83%9D%EA%B5%AC%EC%A1%B0%20%EB%93%A4%EC%97%AC%EC%93%B0%EA%B8%B0%20png.png?raw=true' width=200>"
      ]
    },
    {
      "cell_type": "markdown",
      "metadata": {
        "id": "OdkiQ2CBkY3i"
      },
      "source": [
        "#### 실습 13 : 나이를 입력받고, 입력받은 나이가 20 미만이면 술을 구매할 수 없다고 출력하기"
      ]
    },
    {
      "cell_type": "code",
      "metadata": {
        "id": "jcoIcoKTCqB2"
      },
      "source": [
        "age = input('나이 입력 : ')\n",
        "age = int(age)\n",
        "\n",
        "if age < 20 : \n",
        "    print('술을 구매할 수 없습니다.')\n",
        "print(20-age, '년 후에 다시 오세여!')"
      ],
      "execution_count": null,
      "outputs": []
    },
    {
      "cell_type": "markdown",
      "metadata": {
        "id": "vpkrmOpKIurV"
      },
      "source": [
        "#### 실습 14 : 물건 금액을 입력받고 물건이 오만원 미만일 경우 배송비 2500원을 더해서 결제금액을 안내하시오. "
      ]
    },
    {
      "cell_type": "code",
      "metadata": {
        "id": "F0zdyUHuCp_5"
      },
      "source": [
        "price = int(input('물건 가격 입력 : '))\n",
        "\n",
        "if price < 50000 : \n",
        "    price += 2500\n",
        "\n",
        "print('총 결제금액은',price)"
      ],
      "execution_count": null,
      "outputs": []
    },
    {
      "cell_type": "markdown",
      "metadata": {
        "id": "A5d31d8QYY3s"
      },
      "source": [
        "###  주제 16. 조건을 만드는 비교연산자\n",
        "\n",
        "a와 b가 같다면\n",
        "> if a == b :      \n",
        "\n",
        "</br>\n",
        "\n",
        "a와 b가 같지 않다면\n",
        "\n",
        "> if a != b :   \n",
        "\n",
        "</br>\n",
        "</br>\n",
        "\n",
        "a가 b보다 크다면\n",
        "> if a > b :     \n",
        "\n",
        "a가 b보다 크거나 같다면 \n",
        "> if a >= b :      \n",
        "\n",
        "a가 b보다 작다면\n",
        "> if a < b :        \n",
        "\n",
        "a가 b보다 작거나 같다면\n",
        "> if a <= b :      \n"
      ]
    },
    {
      "cell_type": "markdown",
      "metadata": {
        "id": "pC042qGEkl4T"
      },
      "source": [
        "#### 실습 15 : 출석 혹은 결석 둘 중 하나를 입력받고, 출석을 입력받았을 경우 O를 출력하기"
      ]
    },
    {
      "cell_type": "code",
      "metadata": {
        "id": "MkSuyWQ5eFKC"
      },
      "source": [
        "# 복습 2 : 자동 출석 시스템 \n",
        "check = input('출석 혹은 결석을 입력하세요 ')\n",
        "if check == '출석' : \n",
        "    print('0')"
      ],
      "execution_count": null,
      "outputs": []
    },
    {
      "cell_type": "markdown",
      "metadata": {
        "id": "NyCBjh41EVVn"
      },
      "source": [
        "### 주제 17. 조건을 충족하지 않을 때 실행하는 명령어 if-else \n",
        "\n",
        "\n",
        "<img src = 'https://github.com/Ahnjihye/allinone_AI/blob/images/11_%EC%84%A0%ED%83%9D%EA%B5%AC%EC%A1%B02%20-%20%EC%98%88%EC%8B%9C.png?raw=true' width = 300>\n",
        "<img src = 'https://github.com/Ahnjihye/allinone_AI/blob/images/11_%EC%84%A0%ED%83%9D%EA%B5%AC%EC%A1%B02.png?raw=true' width=400>\n",
        "\n",
        "</br>\n",
        "</br>\n",
        "</br>\n",
        "\n",
        "> 실생활 if-else 예시\n",
        "\n",
        "</br>\n",
        "\n",
        "<img src='https://github.com/Ahnjihye/allinone_AI/blob/images/42_if-else.png?raw=true' >\n"
      ]
    },
    {
      "cell_type": "code",
      "metadata": {
        "id": "9o7hV4p9CqE2"
      },
      "source": [
        "if age < 20 : \n",
        "    print('술을 구매할 수 없습니다.')\n",
        "    print(20-age, '년 후에 다시 오세여!')\n",
        "else : \n",
        "    print('감사합니다. 안녕히 가세요.')"
      ],
      "execution_count": null,
      "outputs": []
    },
    {
      "cell_type": "markdown",
      "metadata": {
        "id": "kLlhbmxaU5Br"
      },
      "source": [
        "#### 실습 16: 자동 출석 시스템 \n",
        "```\n",
        "출석 혹은 결석을 입력받아 출석이면 O을 출력, 결석이면 X를 출력하기\n",
        "입력안내문 : 출석 혹은 결석을 입력하세요\n",
        "```\n",
        "\n"
      ]
    },
    {
      "cell_type": "code",
      "metadata": {
        "id": "7TAwKdmcTpUu"
      },
      "source": [
        "# 복습 2 : 자동 출석 시스템 \n",
        "check = input('출석 혹은 결석을 입력하세요 ')\n",
        "if check == '출석' : \n",
        "    print('0')\n",
        "else : \n",
        "    print('X')"
      ],
      "execution_count": null,
      "outputs": []
    },
    {
      "cell_type": "markdown",
      "metadata": {
        "id": "4aNNRA40U-_H"
      },
      "source": [
        "\n",
        "#### 실습 17 : 스마트 에어컨\n",
        "```\n",
        "온도를 입력받고, 입력받은 온도가 26.5미만이면 설정 온도를 +2하시오.\n",
        "입력받은 온도가 26.5 이상이라면 설정 온도를 -1 하시오.\n",
        "\n",
        "입력 안내문 : 현재 온도는? \n",
        "최종 온도 출력 : 새롭게 설정된 온도 26.5\n",
        "```\n",
        "\n"
      ]
    },
    {
      "cell_type": "code",
      "metadata": {
        "id": "vXNeYzazS2cw",
        "colab": {
          "base_uri": "https://localhost:8080/"
        },
        "outputId": "f9658fab-80a0-485e-e5ca-e37789158e80"
      },
      "source": [
        "# 복습 3 : 스마트 에어컨\n",
        "temp = input('현재 온도는? ')\n",
        "temp = float(temp)\n",
        "\n",
        "if temp < 26.5 : \n",
        "    temp += 2\n",
        "else :\n",
        "    temp -= 1\n",
        "print('새롭게 설정된 온도', temp)"
      ],
      "execution_count": null,
      "outputs": [
        {
          "output_type": "stream",
          "text": [
            "현재 온도는? 28.5\n",
            "새롭게 설정된 온도 27.5\n"
          ],
          "name": "stdout"
        }
      ]
    },
    {
      "cell_type": "markdown",
      "metadata": {
        "id": "UCdFsLZvKa_C"
      },
      "source": [
        "###  주제 18. 반복문\n",
        "<img src = 'https://github.com/Ahnjihye/allinone_AI/blob/images/4_%EB%B0%98%EB%B3%B5%EB%AC%B8.png?raw=true' width=500>\n",
        "\n"
      ]
    },
    {
      "cell_type": "code",
      "metadata": {
        "id": "HyLrFLZQt46j",
        "colab": {
          "base_uri": "https://localhost:8080/",
          "height": 101
        },
        "outputId": "f5d0e7b0-f687-41d4-ae49-dfcdef3423c6"
      },
      "source": [
        "for a in [1,2,3,4,5] : \n",
        "    print('안녕하세요!')"
      ],
      "execution_count": null,
      "outputs": [
        {
          "output_type": "stream",
          "text": [
            "안녕하세요!\n",
            "안녕하세요!\n",
            "안녕하세요!\n",
            "안녕하세요!\n",
            "안녕하세요!\n"
          ],
          "name": "stdout"
        }
      ]
    },
    {
      "cell_type": "code",
      "metadata": {
        "id": "IQtiqCfit48u",
        "colab": {
          "base_uri": "https://localhost:8080/",
          "height": 101
        },
        "outputId": "177c5812-f5b2-4ff0-ca0d-b7b85f70bff0"
      },
      "source": [
        "for a in [1,2,3,4,5] : \n",
        "    print(a, '안녕하세요!')"
      ],
      "execution_count": null,
      "outputs": [
        {
          "output_type": "stream",
          "text": [
            "1 안녕하세요!\n",
            "2 안녕하세요!\n",
            "3 안녕하세요!\n",
            "4 안녕하세요!\n",
            "5 안녕하세요!\n"
          ],
          "name": "stdout"
        }
      ]
    },
    {
      "cell_type": "markdown",
      "metadata": {
        "id": "oEfcTfzDFlqS"
      },
      "source": [
        "<img src ='https://github.com/Ahnjihye/allinone_AI/blob/images/5_%EB%B0%98%EB%B3%B5%EB%AC%B8%20%EB%8F%99%EC%9E%91%EA%B5%AC%EC%A1%B0.png?raw=true' width=500>"
      ]
    },
    {
      "cell_type": "markdown",
      "metadata": {
        "id": "FAq15VaRk9Ai"
      },
      "source": [
        "#### 실습 18 : 다음 spend의 모든 원소를 차례대로 출력하시오 \n",
        "\n",
        "\n",
        "```\n",
        "spend = [43, 12, 65, 67, 23, 12]\n",
        "```\n",
        "\n"
      ]
    },
    {
      "cell_type": "code",
      "metadata": {
        "id": "F2EVpvIMt4_R",
        "colab": {
          "base_uri": "https://localhost:8080/",
          "height": 118
        },
        "outputId": "e4759671-8f8b-4bf4-cf0c-ddf317377ec5"
      },
      "source": [
        "spend = [43, 12, 65, 67, 23, 12]\n",
        "\n",
        "for s in spend : \n",
        "    print('지출은', s)"
      ],
      "execution_count": null,
      "outputs": [
        {
          "output_type": "stream",
          "text": [
            "지출은 43\n",
            "지출은 12\n",
            "지출은 65\n",
            "지출은 67\n",
            "지출은 23\n",
            "지출은 12\n"
          ],
          "name": "stdout"
        }
      ]
    },
    {
      "cell_type": "markdown",
      "metadata": {
        "id": "G-bRbKPmU47N"
      },
      "source": [
        "### 주제 19. 리스트와 반복문, 조건문"
      ]
    },
    {
      "cell_type": "code",
      "metadata": {
        "id": "w8oyLMGlpklS",
        "colab": {
          "base_uri": "https://localhost:8080/",
          "height": 50
        },
        "outputId": "98096aba-5d80-4d8a-f7f9-6dc9a0746cd2"
      },
      "source": [
        "# 50이상 쓴 금액을 출력하시오\n",
        "for i in range(len(spend)) : \n",
        "    if spend[i] >= 50 : \n",
        "        print(i+1,'월 ',spend[i])"
      ],
      "execution_count": null,
      "outputs": [
        {
          "output_type": "stream",
          "text": [
            "3 월  65\n",
            "4 월  67\n"
          ],
          "name": "stdout"
        }
      ]
    },
    {
      "cell_type": "markdown",
      "metadata": {
        "id": "kMYYgPrklSmm"
      },
      "source": [
        "#### 실습 19 : 지출이 20이하인 금액을 출력하시오\n"
      ]
    },
    {
      "cell_type": "code",
      "metadata": {
        "id": "gSifnDWeVNPP",
        "colab": {
          "base_uri": "https://localhost:8080/",
          "height": 50
        },
        "outputId": "8ba7cbb9-ff4f-445d-f4af-852cc96b0f39"
      },
      "source": [
        "# 지출이 20 이하인 금액을 출력하시오\n",
        "for i in range(len(spend)) : \n",
        "    if spend[i] == 12 : \n",
        "        print(i+1,'월 ',spend[i])"
      ],
      "execution_count": null,
      "outputs": [
        {
          "output_type": "stream",
          "text": [
            "2 월  12\n",
            "6 월  12\n"
          ],
          "name": "stdout"
        }
      ]
    },
    {
      "cell_type": "markdown",
      "metadata": {
        "id": "Mliij-AiZr4_"
      },
      "source": [
        "###  주제 20. 이차원 리스트\n",
        "\n",
        "<img src ='https://github.com/Ahnjihye/allinone_AI/blob/images/14_%EC%9D%B4%EC%B0%A8%EC%9B%90%20%EB%A6%AC%EC%8A%A4%ED%8A%B8.png?raw=true' width = 700>"
      ]
    },
    {
      "cell_type": "code",
      "metadata": {
        "id": "4acOxb9Dul8O",
        "colab": {
          "base_uri": "https://localhost:8080/",
          "height": 36
        },
        "outputId": "0da6153e-f319-4bbb-a6e8-c1af9d991b9b"
      },
      "source": [
        "abc = [[1,2,3], [4,5,6], [7,8,9]]\n",
        "abc"
      ],
      "execution_count": null,
      "outputs": [
        {
          "output_type": "execute_result",
          "data": {
            "text/plain": [
              "[[1, 2, 3], [4, 5, 6], [7, 8, 9]]"
            ]
          },
          "metadata": {
            "tags": []
          },
          "execution_count": 1
        }
      ]
    },
    {
      "cell_type": "code",
      "metadata": {
        "id": "BQ0u3IM-yUd_",
        "colab": {
          "base_uri": "https://localhost:8080/",
          "height": 36
        },
        "outputId": "1041c3f8-dbe3-4e3c-fd91-725a2363224a"
      },
      "source": [
        "abc[0]"
      ],
      "execution_count": null,
      "outputs": [
        {
          "output_type": "execute_result",
          "data": {
            "text/plain": [
              "[1, 2, 3]"
            ]
          },
          "metadata": {
            "tags": []
          },
          "execution_count": 2
        }
      ]
    },
    {
      "cell_type": "code",
      "metadata": {
        "id": "gyt8s3mtpiTF",
        "colab": {
          "base_uri": "https://localhost:8080/",
          "height": 36
        },
        "outputId": "33059a7d-e53a-4a39-e2cd-8d66b698b836"
      },
      "source": [
        "abc[1]"
      ],
      "execution_count": null,
      "outputs": [
        {
          "output_type": "execute_result",
          "data": {
            "text/plain": [
              "[4, 5, 6]"
            ]
          },
          "metadata": {
            "tags": []
          },
          "execution_count": 3
        }
      ]
    },
    {
      "cell_type": "code",
      "metadata": {
        "id": "smaYOq_bpiY8",
        "colab": {
          "base_uri": "https://localhost:8080/",
          "height": 36
        },
        "outputId": "6a222a2c-d996-4d6e-b08a-f4944614df4b"
      },
      "source": [
        "abc[-1]"
      ],
      "execution_count": null,
      "outputs": [
        {
          "output_type": "execute_result",
          "data": {
            "text/plain": [
              "[7, 8, 9]"
            ]
          },
          "metadata": {
            "tags": []
          },
          "execution_count": 4
        }
      ]
    },
    {
      "cell_type": "markdown",
      "metadata": {
        "id": "IROs-Ha0yUj2"
      },
      "source": [
        "###  주제 21. 이차원 리스트의 인덱스\n",
        "\n",
        "<img src = 'https://github.com/Ahnjihye/allinone_AI/blob/images/15_%EC%9D%B4%EC%B0%A8%EC%9B%90%20%EB%A6%AC%EC%8A%A4%ED%8A%B8%20%EC%9D%B8%EB%8D%B1%EC%8A%A4.png?raw=true' width = 700>"
      ]
    },
    {
      "cell_type": "code",
      "metadata": {
        "id": "1U_e8JPXul-I",
        "colab": {
          "base_uri": "https://localhost:8080/",
          "height": 36
        },
        "outputId": "3d5062e3-03c0-4ea8-936e-cb7e026df9ad"
      },
      "source": [
        "# 1 출력하기\n",
        "abc[0][0]"
      ],
      "execution_count": null,
      "outputs": [
        {
          "output_type": "execute_result",
          "data": {
            "text/plain": [
              "1"
            ]
          },
          "metadata": {
            "tags": []
          },
          "execution_count": 5
        }
      ]
    },
    {
      "cell_type": "markdown",
      "metadata": {
        "id": "-bcfTuieldf0"
      },
      "source": [
        "#### 실습 20 : 이차원 리스트 abd에서 인덱스를 활용해 다음 숫자를 출력하시오"
      ]
    },
    {
      "cell_type": "code",
      "metadata": {
        "id": "lhEJ64vTumAI",
        "colab": {
          "base_uri": "https://localhost:8080/",
          "height": 36
        },
        "outputId": "999afc4b-7464-4698-a6a8-fd8ebb6b44e7"
      },
      "source": [
        "# 6 출력하기\n",
        "abc[1][2]"
      ],
      "execution_count": null,
      "outputs": [
        {
          "output_type": "execute_result",
          "data": {
            "text/plain": [
              "6"
            ]
          },
          "metadata": {
            "tags": []
          },
          "execution_count": 6
        }
      ]
    },
    {
      "cell_type": "code",
      "metadata": {
        "id": "8dolImUrumCS",
        "colab": {
          "base_uri": "https://localhost:8080/",
          "height": 36
        },
        "outputId": "53b3e1ad-e8e6-4e44-abb0-40f3901716c5"
      },
      "source": [
        "# 8 출력하기\n",
        "abc[2][1]"
      ],
      "execution_count": null,
      "outputs": [
        {
          "output_type": "execute_result",
          "data": {
            "text/plain": [
              "8"
            ]
          },
          "metadata": {
            "tags": []
          },
          "execution_count": 7
        }
      ]
    },
    {
      "cell_type": "markdown",
      "metadata": {
        "id": "2YUUytTsftU5"
      },
      "source": [
        "###  주제 22. 반복문과 이차원 리스트"
      ]
    },
    {
      "cell_type": "code",
      "metadata": {
        "id": "vIwkSkIuyYwV",
        "colab": {
          "base_uri": "https://localhost:8080/",
          "height": 73
        },
        "outputId": "a8696087-3f30-4a86-8db3-1ebdfa5661de"
      },
      "source": [
        "for row in abc : \n",
        "    print(row)"
      ],
      "execution_count": null,
      "outputs": [
        {
          "output_type": "stream",
          "text": [
            "[1, 2, 3]\n",
            "[4, 5, 6]\n",
            "[7, 8, 9]\n"
          ],
          "name": "stdout"
        }
      ]
    },
    {
      "cell_type": "markdown",
      "metadata": {
        "id": "-bbMjsKVyY4B"
      },
      "source": [
        "> 이차원리스트 반복 원리\n",
        "\n",
        "<img src = 'https://github.com/Ahnjihye/allinone_AI/blob/images/16_%EC%9D%B4%EC%B0%A8%EC%9B%90%20%EB%A6%AC%EC%8A%A4%ED%8A%B8%20%EB%B0%98%EB%B3%B5%EA%B5%AC%EC%A1%B0.png?raw=true' width=800>"
      ]
    },
    {
      "cell_type": "code",
      "metadata": {
        "id": "t4LqJgCdyh03",
        "colab": {
          "base_uri": "https://localhost:8080/",
          "height": 73
        },
        "outputId": "17ea743c-c13d-4ff6-a887-591f192c9ac5"
      },
      "source": [
        "# 모든 줄의 첫번째 데이터만 출력\n",
        "for row in abc : \n",
        "    print(row[0])"
      ],
      "execution_count": null,
      "outputs": [
        {
          "output_type": "stream",
          "text": [
            "1\n",
            "4\n",
            "7\n"
          ],
          "name": "stdout"
        }
      ]
    },
    {
      "cell_type": "code",
      "metadata": {
        "id": "N3J7nAOrrTWs",
        "colab": {
          "base_uri": "https://localhost:8080/",
          "height": 73
        },
        "outputId": "461b8b6a-bdac-4385-847c-2e82003a767e"
      },
      "source": [
        "# 모든 줄의 마지막 데이터(세번째 열)만 출력\n",
        "for row in abc : \n",
        "    print(row[-1])"
      ],
      "execution_count": null,
      "outputs": [
        {
          "output_type": "stream",
          "text": [
            "3\n",
            "6\n",
            "9\n"
          ],
          "name": "stdout"
        }
      ]
    },
    {
      "cell_type": "markdown",
      "metadata": {
        "id": "gKl6ITBVf4dN"
      },
      "source": [
        "### 주제 23. 이차원 리스트와 제어구조"
      ]
    },
    {
      "cell_type": "markdown",
      "metadata": {
        "id": "HK1BfO5zyiHJ"
      },
      "source": [
        "<img src= 'https://github.com/Ahnjihye/allinone_AI/blob/images/17_%EC%98%AC%EB%A6%BC%ED%94%BD.png?raw=true' width=500>"
      ]
    },
    {
      "cell_type": "code",
      "metadata": {
        "id": "zAmf-fO5yh3Q"
      },
      "source": [
        "olympic =[\n",
        "          [1,'미국',46,37,38,121],\n",
        "          [2,'영국',27,23,17,67],\n",
        "          [3,'중국',26,18,26,70],\n",
        "          [4,'러시아',19,18,19,56],\n",
        "          [5,'독일',17,10,15,42],\n",
        "          [6,'일본',12,8,21,41],\n",
        "          [7,'프랑스',10,18,14,42],\n",
        "          [8,'대한민국',9,3,9,21] \n",
        "        ]"
      ],
      "execution_count": null,
      "outputs": []
    },
    {
      "cell_type": "code",
      "metadata": {
        "id": "-fwtxKmByh5a",
        "colab": {
          "base_uri": "https://localhost:8080/",
          "height": 167
        },
        "outputId": "4869e88b-a861-4cc0-ab16-00424c07328c"
      },
      "source": [
        "# 순위권에 든 모든 국가를 출력하시오\n",
        "for row in olympic :\n",
        "    print(row[1])"
      ],
      "execution_count": null,
      "outputs": [
        {
          "output_type": "stream",
          "text": [
            "미국\n",
            "영국\n",
            "중국\n",
            "러시아\n",
            "독일\n",
            "일본\n",
            "프랑스\n",
            "대한민국\n"
          ],
          "name": "stdout"
        }
      ]
    },
    {
      "cell_type": "code",
      "metadata": {
        "id": "GdqUzs-zyh-z",
        "colab": {
          "base_uri": "https://localhost:8080/",
          "height": 36
        },
        "outputId": "92c103b3-1610-4e59-b56c-a51f918326d4"
      },
      "source": [
        "# 금메달보다 은메달 개수가 많은 나라를 출력하시오\n",
        "for row in olympic : \n",
        "    if row[2] < row[3] : \n",
        "        print(row[1])"
      ],
      "execution_count": null,
      "outputs": [
        {
          "output_type": "stream",
          "text": [
            "프랑스\n"
          ],
          "name": "stdout"
        }
      ]
    },
    {
      "cell_type": "code",
      "metadata": {
        "id": "dPMLi6p1ypp5",
        "colab": {
          "base_uri": "https://localhost:8080/",
          "height": 55
        },
        "outputId": "78574520-6308-4559-b862-3e85ad869437"
      },
      "source": [
        "# 금메달보다 동메달 개수가 많은 나라를 출력하시오\n",
        "for row in olympic : \n",
        "    if row[2] < row[4] : \n",
        "        print(row[1])"
      ],
      "execution_count": null,
      "outputs": [
        {
          "output_type": "stream",
          "text": [
            "일본\n",
            "프랑스\n"
          ],
          "name": "stdout"
        }
      ]
    },
    {
      "cell_type": "code",
      "metadata": {
        "id": "wsrMSshJypsS"
      },
      "source": [
        "# 모든 나라의 금메달 합을 구하시오\n",
        "gold = 0\n",
        "\n",
        "for row in olympic : \n",
        "    gold += row[2]"
      ],
      "execution_count": null,
      "outputs": []
    },
    {
      "cell_type": "code",
      "metadata": {
        "id": "2KVaXyeBypuj",
        "colab": {
          "base_uri": "https://localhost:8080/",
          "height": 36
        },
        "outputId": "945057ed-2b42-4a8f-f2dd-e52051891b9e"
      },
      "source": [
        "gold"
      ],
      "execution_count": null,
      "outputs": [
        {
          "output_type": "execute_result",
          "data": {
            "text/plain": [
              "166"
            ]
          },
          "metadata": {
            "tags": []
          },
          "execution_count": 22
        }
      ]
    },
    {
      "cell_type": "code",
      "metadata": {
        "id": "l4xLq5WFtEvo",
        "colab": {
          "base_uri": "https://localhost:8080/",
          "height": 92
        },
        "outputId": "2a18a845-ffa8-4f3a-f561-12a1b0b7ca3b"
      },
      "source": [
        "# 총 메달수가 홀수개인 나라를 출력하시오\n",
        "for row in olympic : \n",
        "    if row[-1] %2 == 1 : \n",
        "        print(row[1], row[-1])"
      ],
      "execution_count": null,
      "outputs": [
        {
          "output_type": "stream",
          "text": [
            "미국 121\n",
            "영국 67\n",
            "일본 41\n",
            "대한민국 21\n"
          ],
          "name": "stdout"
        }
      ]
    },
    {
      "cell_type": "code",
      "metadata": {
        "id": "P_jKYPScez91"
      },
      "source": [
        ""
      ],
      "execution_count": null,
      "outputs": []
    },
    {
      "cell_type": "markdown",
      "metadata": {
        "id": "YUjUXo-VVr_i"
      },
      "source": [
        "###  주제 24. 딕셔너리\n",
        "Key - Value 대응      \n",
        "키 - 값 대응\n",
        "\n",
        "```\n",
        "딕셔너리이름 = {키1 : 값1, 키2 : 값2, ... 키n : 값n}\n",
        "```\n",
        "<img src = 'https://github.com/Ahnjihye/allinone_AI/blob/images/12_%EB%94%95%EC%85%94%EB%84%88%EB%A6%AC.png?raw=true' width =500>\n"
      ]
    },
    {
      "cell_type": "code",
      "metadata": {
        "id": "muilZTAqVWSX",
        "colab": {
          "base_uri": "https://localhost:8080/",
          "height": 34
        },
        "outputId": "20921319-00f6-4d75-c382-636689a622de"
      },
      "source": [
        "menu = {'김밥':2500, '참치김밥': 3500, '라면':3000, '치즈라면': 4000}\n",
        "menu"
      ],
      "execution_count": null,
      "outputs": [
        {
          "output_type": "execute_result",
          "data": {
            "text/plain": [
              "{'김밥': 2500, '라면': 3000, '참치김밥': 3500, '치즈라면': 4000}"
            ]
          },
          "metadata": {
            "tags": []
          },
          "execution_count": 1
        }
      ]
    },
    {
      "cell_type": "code",
      "metadata": {
        "id": "m_L_9MFXHE-q",
        "colab": {
          "base_uri": "https://localhost:8080/",
          "height": 34
        },
        "outputId": "0a33e0c9-cbc8-4276-b547-023189f3dd1f"
      },
      "source": [
        "menu['참치김밥']"
      ],
      "execution_count": null,
      "outputs": [
        {
          "output_type": "execute_result",
          "data": {
            "text/plain": [
              "3500"
            ]
          },
          "metadata": {
            "tags": []
          },
          "execution_count": 2
        }
      ]
    },
    {
      "cell_type": "code",
      "metadata": {
        "id": "f8nsSOSgWiF_",
        "colab": {
          "base_uri": "https://localhost:8080/",
          "height": 34
        },
        "outputId": "397ca7d5-24f3-4dbb-f7a2-930359ed76d6"
      },
      "source": [
        "menu['치즈라면']"
      ],
      "execution_count": null,
      "outputs": [
        {
          "output_type": "execute_result",
          "data": {
            "text/plain": [
              "4000"
            ]
          },
          "metadata": {
            "tags": []
          },
          "execution_count": 3
        }
      ]
    },
    {
      "cell_type": "code",
      "metadata": {
        "id": "ZD5r03fYWiIn",
        "colab": {
          "base_uri": "https://localhost:8080/",
          "height": 52
        },
        "outputId": "12e2b3d5-d3a9-4e97-c3c2-2afee7f144ae"
      },
      "source": [
        "print(menu)\n",
        "\n",
        "# 참치김밥 인하 3000원\n",
        "menu['참치김밥'] = 3000\n",
        "\n",
        "print(menu)"
      ],
      "execution_count": null,
      "outputs": [
        {
          "output_type": "stream",
          "text": [
            "{'김밥': 2500, '참치김밥': 3500, '라면': 3000, '치즈라면': 4000}\n",
            "{'김밥': 2500, '참치김밥': 3000, '라면': 3000, '치즈라면': 4000}\n"
          ],
          "name": "stdout"
        }
      ]
    },
    {
      "cell_type": "code",
      "metadata": {
        "id": "dNCtUNpQWiC9",
        "colab": {
          "base_uri": "https://localhost:8080/",
          "height": 52
        },
        "outputId": "b0b31a97-c3e0-48a7-c090-dac7aab18791"
      },
      "source": [
        "print(menu)\n",
        "\n",
        "# 라면가격 인상 3500\n",
        "menu['라면'] = 3500\n",
        "\n",
        "print(menu)"
      ],
      "execution_count": null,
      "outputs": [
        {
          "output_type": "stream",
          "text": [
            "{'김밥': 2500, '참치김밥': 3000, '라면': 3000, '치즈라면': 4000}\n",
            "{'김밥': 2500, '참치김밥': 3000, '라면': 3500, '치즈라면': 4000}\n"
          ],
          "name": "stdout"
        }
      ]
    },
    {
      "cell_type": "code",
      "metadata": {
        "id": "2fEMex4SHszU",
        "colab": {
          "base_uri": "https://localhost:8080/",
          "height": 34
        },
        "outputId": "49158031-eadb-457a-bf81-10fa27c01d6f"
      },
      "source": [
        "# 돈가스 추가\n",
        "menu['돈가스']=6000\n",
        "print(menu)"
      ],
      "execution_count": null,
      "outputs": [
        {
          "output_type": "stream",
          "text": [
            "{'김밥': 2500, '참치김밥': 3000, '라면': 3500, '치즈라면': 4000, '돈가스': 6000}\n"
          ],
          "name": "stdout"
        }
      ]
    },
    {
      "cell_type": "markdown",
      "metadata": {
        "id": "xrO7GOZeF8-U"
      },
      "source": [
        "<img src = 'https://github.com/Ahnjihye/allinone_AI/blob/images/13_%EB%94%95%EC%85%94%EB%84%88%EB%A6%AC2.png?raw=true' width=800>"
      ]
    },
    {
      "cell_type": "markdown",
      "metadata": {
        "id": "WU3kevp9H65l"
      },
      "source": [
        "```\n",
        "# 딕셔너리의 키만 꺼내기 \n",
        "딕셔너리이름.keys()\n",
        "\n",
        "# 딕셔너리의 값(value)만 꺼내기 \n",
        "딕셔너리이름.values()\n",
        "\n",
        "# 딕셔너리의 키-값 모두 꺼내기 \n",
        "딕셔너리이름.items()\n",
        "```\n",
        "\n",
        "\n"
      ]
    },
    {
      "cell_type": "code",
      "metadata": {
        "id": "DXX_OvkAHwpZ",
        "colab": {
          "base_uri": "https://localhost:8080/",
          "height": 34
        },
        "outputId": "a707b3a8-d280-4f33-d2cd-e08f2792684b"
      },
      "source": [
        "menu.keys()"
      ],
      "execution_count": null,
      "outputs": [
        {
          "output_type": "execute_result",
          "data": {
            "text/plain": [
              "dict_keys(['김밥', '참치김밥', '라면', '치즈라면', '돈가스'])"
            ]
          },
          "metadata": {
            "tags": []
          },
          "execution_count": 7
        }
      ]
    },
    {
      "cell_type": "code",
      "metadata": {
        "id": "0DV55KHaIWgw",
        "colab": {
          "base_uri": "https://localhost:8080/",
          "height": 34
        },
        "outputId": "ef0cd333-f6f7-4b9c-e834-0118a071ef3a"
      },
      "source": [
        "menu.values()"
      ],
      "execution_count": null,
      "outputs": [
        {
          "output_type": "execute_result",
          "data": {
            "text/plain": [
              "dict_values([2500, 3000, 3500, 4000, 6000])"
            ]
          },
          "metadata": {
            "tags": []
          },
          "execution_count": 8
        }
      ]
    },
    {
      "cell_type": "code",
      "metadata": {
        "id": "TLymlSQpIWe8",
        "colab": {
          "base_uri": "https://localhost:8080/",
          "height": 54
        },
        "outputId": "937bb179-a6ad-4881-fe9c-946c4bb04bbf"
      },
      "source": [
        "menu.items()"
      ],
      "execution_count": null,
      "outputs": [
        {
          "output_type": "execute_result",
          "data": {
            "text/plain": [
              "dict_items([('김밥', 2500), ('참치김밥', 3000), ('라면', 3500), ('치즈라면', 4000), ('돈가스', 6000)])"
            ]
          },
          "metadata": {
            "tags": []
          },
          "execution_count": 9
        }
      ]
    },
    {
      "cell_type": "code",
      "metadata": {
        "id": "hhowVdC3IWdJ",
        "colab": {
          "base_uri": "https://localhost:8080/",
          "height": 34
        },
        "outputId": "cb5e89e8-f2c9-43a3-f185-d0adf08cbba3"
      },
      "source": [
        "# 딕셔너리의 키를 리스트로 변환하기\n",
        "list(menu.keys())"
      ],
      "execution_count": null,
      "outputs": [
        {
          "output_type": "execute_result",
          "data": {
            "text/plain": [
              "['김밥', '참치김밥', '라면', '치즈라면', '돈가스']"
            ]
          },
          "metadata": {
            "tags": []
          },
          "execution_count": 10
        }
      ]
    },
    {
      "cell_type": "code",
      "metadata": {
        "id": "2gzBfJX9IWbN",
        "colab": {
          "base_uri": "https://localhost:8080/",
          "height": 34
        },
        "outputId": "362d1720-cf3d-44f0-cce4-96b9c3a8551e"
      },
      "source": [
        "# 딕셔너리의 값을 리스트로 변환하기\n",
        "list(menu.values())"
      ],
      "execution_count": null,
      "outputs": [
        {
          "output_type": "execute_result",
          "data": {
            "text/plain": [
              "[2500, 3000, 3500, 4000, 6000]"
            ]
          },
          "metadata": {
            "tags": []
          },
          "execution_count": 11
        }
      ]
    },
    {
      "cell_type": "markdown",
      "metadata": {
        "id": "mlwiPRL7I9EQ"
      },
      "source": [
        "딕셔너리 정렬하기 \n",
        "```\n",
        "# 딕셔너리 키를 정렬\n",
        "sorted(딕셔너리.keys())\n",
        "\n",
        "# 딕셔너리 값을 정렬\n",
        "sorted(딕셔너리.values())\n",
        "\n",
        "# 딕셔너리 키-값을 정렬\n",
        "sorted(딕셔너리.items())\n",
        "```\n",
        "\n"
      ]
    },
    {
      "cell_type": "code",
      "metadata": {
        "id": "ETSdsoVgIWYO",
        "colab": {
          "base_uri": "https://localhost:8080/",
          "height": 34
        },
        "outputId": "9e3ffdec-a9d5-4b28-da11-50afd98bc242"
      },
      "source": [
        "sorted(menu.keys())"
      ],
      "execution_count": null,
      "outputs": [
        {
          "output_type": "execute_result",
          "data": {
            "text/plain": [
              "['김밥', '돈가스', '라면', '참치김밥', '치즈라면']"
            ]
          },
          "metadata": {
            "tags": []
          },
          "execution_count": 15
        }
      ]
    },
    {
      "cell_type": "code",
      "metadata": {
        "id": "Pg_GLT2oLreA",
        "colab": {
          "base_uri": "https://localhost:8080/",
          "height": 34
        },
        "outputId": "e4724eab-2b99-45a4-a22b-3c1cdb934dc4"
      },
      "source": [
        "sorted(menu.keys(), reverse = True)"
      ],
      "execution_count": null,
      "outputs": [
        {
          "output_type": "execute_result",
          "data": {
            "text/plain": [
              "['치즈라면', '참치김밥', '라면', '돈가스', '김밥']"
            ]
          },
          "metadata": {
            "tags": []
          },
          "execution_count": 22
        }
      ]
    },
    {
      "cell_type": "code",
      "metadata": {
        "id": "bjpDRS6SJgF6",
        "colab": {
          "base_uri": "https://localhost:8080/",
          "height": 34
        },
        "outputId": "b294e1b1-2179-4003-f97d-eb7c8525bfac"
      },
      "source": [
        "sorted(menu.values())"
      ],
      "execution_count": null,
      "outputs": [
        {
          "output_type": "execute_result",
          "data": {
            "text/plain": [
              "[2500, 3000, 3500, 4000, 6000]"
            ]
          },
          "metadata": {
            "tags": []
          },
          "execution_count": 16
        }
      ]
    },
    {
      "cell_type": "code",
      "metadata": {
        "id": "bncTr6GMLOaM",
        "colab": {
          "base_uri": "https://localhost:8080/",
          "height": 34
        },
        "outputId": "6f669a1f-960f-4b8b-e3c7-d9c13034eb5f"
      },
      "source": [
        "# 가장 싼 음식의 가격은?\n",
        "sorted(menu.values())[0]"
      ],
      "execution_count": null,
      "outputs": [
        {
          "output_type": "execute_result",
          "data": {
            "text/plain": [
              "2500"
            ]
          },
          "metadata": {
            "tags": []
          },
          "execution_count": 18
        }
      ]
    },
    {
      "cell_type": "code",
      "metadata": {
        "id": "PPt8AS0HLUIo",
        "colab": {
          "base_uri": "https://localhost:8080/",
          "height": 34
        },
        "outputId": "84a26664-e9c2-4fe8-e4e5-f3f3a683bcdb"
      },
      "source": [
        "# 가장 싼 음식 두 개의 가격은?\n",
        "sorted(menu.values())[:2]"
      ],
      "execution_count": null,
      "outputs": [
        {
          "output_type": "execute_result",
          "data": {
            "text/plain": [
              "[2500, 3000]"
            ]
          },
          "metadata": {
            "tags": []
          },
          "execution_count": 19
        }
      ]
    },
    {
      "cell_type": "code",
      "metadata": {
        "id": "7iD_SBBBLXlL",
        "colab": {
          "base_uri": "https://localhost:8080/",
          "height": 34
        },
        "outputId": "0c223058-d672-488f-9015-60bc08cda648"
      },
      "source": [
        "# 가장 비싼 음식의 두 개의 가격은?\n",
        "sorted(menu.values())[-2:]"
      ],
      "execution_count": null,
      "outputs": [
        {
          "output_type": "execute_result",
          "data": {
            "text/plain": [
              "[4000, 6000]"
            ]
          },
          "metadata": {
            "tags": []
          },
          "execution_count": 20
        }
      ]
    },
    {
      "cell_type": "code",
      "metadata": {
        "id": "o4sYzkMzLuD4",
        "colab": {
          "base_uri": "https://localhost:8080/",
          "height": 34
        },
        "outputId": "c22eada3-d3f1-4ac7-a3ff-6839137984b5"
      },
      "source": [
        "sorted(menu.values(), reverse = True)"
      ],
      "execution_count": null,
      "outputs": [
        {
          "output_type": "execute_result",
          "data": {
            "text/plain": [
              "[6000, 4000, 3500, 3000, 2500]"
            ]
          },
          "metadata": {
            "tags": []
          },
          "execution_count": 23
        }
      ]
    },
    {
      "cell_type": "code",
      "metadata": {
        "id": "Jrp5KKgfJgNb",
        "colab": {
          "base_uri": "https://localhost:8080/",
          "height": 54
        },
        "outputId": "100d67b9-7301-48fb-baab-9eca31bdbac4"
      },
      "source": [
        "sorted(menu.items())"
      ],
      "execution_count": null,
      "outputs": [
        {
          "output_type": "execute_result",
          "data": {
            "text/plain": [
              "[('김밥', 2500), ('돈가스', 6000), ('라면', 3500), ('참치김밥', 3000), ('치즈라면', 4000)]"
            ]
          },
          "metadata": {
            "tags": []
          },
          "execution_count": 21
        }
      ]
    },
    {
      "cell_type": "markdown",
      "metadata": {
        "id": "PTYAzHvFLHUk"
      },
      "source": [
        "\n",
        "\n",
        "```\n",
        "# 딕셔너리 키-값은 자동으로 키를 기준으로 정렬됨\n",
        "sorted(딕셔너리.items())\n",
        "```\n",
        "\n"
      ]
    },
    {
      "cell_type": "code",
      "metadata": {
        "id": "wrsd9v3_JgK8",
        "colab": {
          "base_uri": "https://localhost:8080/",
          "height": 54
        },
        "outputId": "fc0ff2e8-47cd-4499-8a6d-f0999fa980f0"
      },
      "source": [
        "# 딕셔너리 키-값 정렬시 값을 기준으로 정렬하ㅣ\n",
        "import operator \n",
        "\n",
        "sorted(menu.items(), key=operator.itemgetter(1))"
      ],
      "execution_count": null,
      "outputs": [
        {
          "output_type": "execute_result",
          "data": {
            "text/plain": [
              "[('김밥', 2500), ('참치김밥', 3000), ('라면', 3500), ('치즈라면', 4000), ('돈가스', 6000)]"
            ]
          },
          "metadata": {
            "tags": []
          },
          "execution_count": 24
        }
      ]
    },
    {
      "cell_type": "code",
      "metadata": {
        "id": "PLFvCYtvJgA9",
        "colab": {
          "base_uri": "https://localhost:8080/",
          "height": 34
        },
        "outputId": "58f0714a-cb40-48c8-a5c7-1b78293d5cf7"
      },
      "source": [
        "# 가장 싼 음식은 무엇인가?\n",
        "sorted(menu.items(), key=operator.itemgetter(1))[0]"
      ],
      "execution_count": null,
      "outputs": [
        {
          "output_type": "execute_result",
          "data": {
            "text/plain": [
              "('김밥', 2500)"
            ]
          },
          "metadata": {
            "tags": []
          },
          "execution_count": 25
        }
      ]
    },
    {
      "cell_type": "code",
      "metadata": {
        "id": "hykiPb9gIVPy",
        "colab": {
          "base_uri": "https://localhost:8080/",
          "height": 34
        },
        "outputId": "2a12680d-a4e6-4e3e-fb60-3bd89b13cedd"
      },
      "source": [
        "# 가장 싼 음식 두 개는 무엇인가?\n",
        "sorted(menu.items(), key=operator.itemgetter(1))[:2]"
      ],
      "execution_count": null,
      "outputs": [
        {
          "output_type": "execute_result",
          "data": {
            "text/plain": [
              "[('김밥', 2500), ('참치김밥', 3000)]"
            ]
          },
          "metadata": {
            "tags": []
          },
          "execution_count": 27
        }
      ]
    },
    {
      "cell_type": "code",
      "metadata": {
        "id": "w-ALYJpJNPPJ",
        "colab": {
          "base_uri": "https://localhost:8080/",
          "height": 34
        },
        "outputId": "6b1cf1d4-f284-4693-bad1-f645ec527304"
      },
      "source": [
        "# 역순 정렬\n",
        "sorted(menu.items(), key=operator.itemgetter(1), reverse = True)"
      ],
      "execution_count": null,
      "outputs": [
        {
          "output_type": "execute_result",
          "data": {
            "text/plain": [
              "[('돈가스', 6000), ('치즈라면', 4000), ('라면', 3500), ('참치김밥', 3000), ('김밥', 2500)]"
            ]
          },
          "metadata": {
            "tags": []
          },
          "execution_count": 29
        }
      ]
    },
    {
      "cell_type": "code",
      "metadata": {
        "id": "iDhLDbC3NVcX",
        "colab": {
          "base_uri": "https://localhost:8080/",
          "height": 34
        },
        "outputId": "5ca69f07-dc27-4e56-9407-718bd4421872"
      },
      "source": [
        "# 가장 비싼 음식 두 개는? \n",
        "sorted(menu.items(), key=operator.itemgetter(1), reverse = True)[:2]"
      ],
      "execution_count": null,
      "outputs": [
        {
          "output_type": "execute_result",
          "data": {
            "text/plain": [
              "[('돈가스', 6000), ('치즈라면', 4000)]"
            ]
          },
          "metadata": {
            "tags": []
          },
          "execution_count": 30
        }
      ]
    },
    {
      "cell_type": "code",
      "metadata": {
        "id": "SoUfiUCfNe1I"
      },
      "source": [
        ""
      ],
      "execution_count": null,
      "outputs": []
    }
  ]
}