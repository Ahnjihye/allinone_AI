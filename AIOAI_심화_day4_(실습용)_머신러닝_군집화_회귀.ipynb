{
  "nbformat": 4,
  "nbformat_minor": 0,
  "metadata": {
    "colab": {
      "name": "AIOAI_심화_day4_(실습용)_머신러닝 군집화/회귀.ipynb",
      "provenance": [],
      "collapsed_sections": [],
      "authorship_tag": "ABX9TyPXdfrj+1fQ7Kc4IDby8+3Z",
      "include_colab_link": true
    },
    "kernelspec": {
      "name": "python3",
      "display_name": "Python 3"
    }
  },
  "cells": [
    {
      "cell_type": "markdown",
      "metadata": {
        "id": "view-in-github",
        "colab_type": "text"
      },
      "source": [
        "<a href=\"https://colab.research.google.com/github/Ahnjihye/allinone_AI/blob/master/AIOAI_%EC%8B%AC%ED%99%94_day4_(%EC%8B%A4%EC%8A%B5%EC%9A%A9)_%EB%A8%B8%EC%8B%A0%EB%9F%AC%EB%8B%9D_%EA%B5%B0%EC%A7%91%ED%99%94_%ED%9A%8C%EA%B7%80.ipynb\" target=\"_parent\"><img src=\"https://colab.research.google.com/assets/colab-badge.svg\" alt=\"Open In Colab\"/></a>"
      ]
    },
    {
      "cell_type": "markdown",
      "metadata": {
        "id": "XwTgh3TEopqp"
      },
      "source": [
        "# 1. K-means\n",
        "\n",
        "군집의 개수는 정하기 나름 \n",
        "\n",
        "<img src='https://github.com/Ahnjihye/allinone_AI/blob/images/65_clustering.png?raw=true' width=600>\n"
      ]
    },
    {
      "cell_type": "markdown",
      "metadata": {
        "id": "x_qgKcGLanNH"
      },
      "source": [
        "### Kmeans 군집 결정 알고리즘\n",
        "\n",
        "<img src='https://ichi.pro/assets/images/max/724/1*b2sO2f--yfZiJazc5rYSpg.gif' width=500>\n",
        "\n",
        "<img src='https://img1.daumcdn.net/thumb/R800x0/?scode=mtistory2&fname=https%3A%2F%2Fblog.kakaocdn.net%2Fdn%2FIzYb3%2FbtqyWWJ6pRR%2FfLbSvEKc7ncHp18dMLtcIK%2Fimg.png' width=600>\n",
        "\n",
        "<img src='https://img1.daumcdn.net/thumb/R1280x0/?scode=mtistory2&fname=https%3A%2F%2Fblog.kakaocdn.net%2Fdn%2Fdl53k5%2FbtqySsYwtNv%2F6Yd5kpKS4KN7FO6h95AJn0%2Fimg.png' width=600>\n",
        "\n",
        "<img src='https://img1.daumcdn.net/thumb/R1280x0/?scode=mtistory2&fname=https%3A%2F%2Fblog.kakaocdn.net%2Fdn%2FKZwKX%2FbtqyUK49PIv%2Fpz8uFW6TxKPYLkTTAc4IkK%2Fimg.png' width=600>\n",
        "\n",
        "<img src='https://img1.daumcdn.net/thumb/R1280x0/?scode=mtistory2&fname=https%3A%2F%2Fblog.kakaocdn.net%2Fdn%2FbOdu7N%2FbtqyTk0hrsL%2FOTet3D6KqHb6W00N8xX3J0%2Fimg.png' width=600>\n"
      ]
    },
    {
      "cell_type": "markdown",
      "metadata": {
        "id": "S4pWuWkQm1tV"
      },
      "source": [
        "#### 코딩하기 전에 K-means를 시뮬레이션해보자\n",
        "\n",
        "\n",
        "[K-means Clustering Visualization](https://www.naftaliharris.com/blog/visualizing-k-means-clustering/)\n"
      ]
    },
    {
      "cell_type": "code",
      "metadata": {
        "id": "CgoTlM3ak2a-"
      },
      "source": [
        "# 한글 폰트 설정\n",
        "import matplotlib.pyplot as plt\n",
        "import matplotlib as mpl\n",
        "import matplotlib.pyplot as plt\n",
        " \n",
        "%config InlineBackend.figure_format = 'retina'\n",
        " \n",
        "!apt -qq -y install fonts-nanum\n",
        " \n",
        "import matplotlib.font_manager as fm\n",
        "fontpath = '/usr/share/fonts/truetype/nanum/NanumBarunGothic.ttf'\n",
        "font = fm.FontProperties(fname=fontpath, size=9)\n",
        "plt.rc('font', family='NanumGothic') \n",
        "mpl.font_manager._rebuild()"
      ],
      "execution_count": null,
      "outputs": []
    },
    {
      "cell_type": "markdown",
      "metadata": {
        "id": "SJDuPzmzhpHy"
      },
      "source": [
        "## 여러 개의 과일 구분하기\n",
        "\n",
        "(1) 데이터 업로드 및 숫자 변환"
      ]
    },
    {
      "cell_type": "code",
      "metadata": {
        "id": "MZWShwUMfbT6"
      },
      "source": [
        "from google.colab import files\n",
        "uploaded = files.upload()"
      ],
      "execution_count": null,
      "outputs": []
    },
    {
      "cell_type": "code",
      "metadata": {
        "id": "LPnnw-scKfls"
      },
      "source": [
        "\r\n"
      ],
      "execution_count": null,
      "outputs": []
    },
    {
      "cell_type": "code",
      "metadata": {
        "id": "bANq5gPIh28V"
      },
      "source": [
        ""
      ],
      "execution_count": null,
      "outputs": []
    },
    {
      "cell_type": "code",
      "metadata": {
        "id": "aQkPSRBLh6_i"
      },
      "source": [
        ""
      ],
      "execution_count": null,
      "outputs": []
    },
    {
      "cell_type": "code",
      "metadata": {
        "id": "zd1tN50TiMfT"
      },
      "source": [
        ""
      ],
      "execution_count": null,
      "outputs": []
    },
    {
      "cell_type": "code",
      "metadata": {
        "id": "5D_1rEn3iNp0"
      },
      "source": [
        ""
      ],
      "execution_count": null,
      "outputs": []
    },
    {
      "cell_type": "markdown",
      "metadata": {
        "id": "PbwTEaOdi3Qk"
      },
      "source": [
        "(2) 데이터 시각화 \n",
        "\n"
      ]
    },
    {
      "cell_type": "code",
      "metadata": {
        "id": "q1MGG7XhiOp8"
      },
      "source": [
        "# 가로축이 width(너비), 세로축이 height(길이)인 산점도 + 색상구분 \n",
        "\n",
        "\n"
      ],
      "execution_count": null,
      "outputs": []
    },
    {
      "cell_type": "code",
      "metadata": {
        "id": "nXMte8kUj5cQ"
      },
      "source": [
        "# 가로축이 mass(무게), 세로축이 color_score(색상)인 산점도 + 색상구분 \n",
        "\n",
        "\n"
      ],
      "execution_count": null,
      "outputs": []
    },
    {
      "cell_type": "code",
      "metadata": {
        "id": "aish6kaemo6C"
      },
      "source": [
        "\n",
        "\n",
        "# K-means 모델 생성\n"
      ],
      "execution_count": null,
      "outputs": []
    },
    {
      "cell_type": "code",
      "metadata": {
        "id": "TEnxRytimo8-"
      },
      "source": [
        "\n",
        "# K-means 군집화 결과가 저장된 변수 labels 확인\n"
      ],
      "execution_count": null,
      "outputs": []
    },
    {
      "cell_type": "code",
      "metadata": {
        "id": "P6ayiJ7_mo_b"
      },
      "source": [
        "# data[i]의 결과는 label[i]에 저장되어 있음\n",
        "# label[i]의 값(0, 1, 2)에 따라 색상을 달리하여 \n",
        "# 과일의 너비와 길이로 구성된 산점도 그리기\n",
        "\n",
        "\n"
      ],
      "execution_count": null,
      "outputs": []
    },
    {
      "cell_type": "code",
      "metadata": {
        "id": "0l72kz2EmpB5"
      },
      "source": [
        "# data[i]의 결과는 label[i]에 저장되어 있음\n",
        "# label[i]의 값(0, 1, 2)에 따라 색상을 달리하여 \n",
        "# 과일의 무게와 색상으로 구성된 산점도 그리기\n",
        "\n",
        "\n"
      ],
      "execution_count": null,
      "outputs": []
    },
    {
      "cell_type": "code",
      "metadata": {
        "id": "SqcVPWlRmpE5"
      },
      "source": [
        "\n",
        "# K-means 모델 생성\n",
        "\n",
        "# K-means 군집화 결과가 저장된 변수 labels 확인\n"
      ],
      "execution_count": null,
      "outputs": []
    },
    {
      "cell_type": "code",
      "metadata": {
        "id": "-Nsj8irRpCXj"
      },
      "source": [
        "# data[i]의 결과는 label[i]에 저장되어 있음\n",
        "# label[i]의 값(0~4)에 따라 색상을 달리하여 \n",
        "# 과일의 너비와 길이로 구성된 산점도 그리기\n",
        "\n"
      ],
      "execution_count": null,
      "outputs": []
    },
    {
      "cell_type": "code",
      "metadata": {
        "id": "FDt7x56mpMRA"
      },
      "source": [
        "# data[i]의 결과는 label[i]에 저장되어 있음\n",
        "# label[i]의 값(0, 1, 2)에 따라 색상을 달리하여 \n",
        "# 과일의 무게와 색상으로 구성된 산점도 그리기\n",
        "\n"
      ],
      "execution_count": null,
      "outputs": []
    },
    {
      "cell_type": "markdown",
      "metadata": {
        "id": "Mjv9WZlE2gio"
      },
      "source": [
        "#### 지난 연수때 배웠던 K-means 코드를 복습해보자\n",
        "\n",
        "[K-means 라이브러리 없이 직접 작성해보는 코드 복습해보기](https://github.com/Ahnjihye/allinone_AI/blob/master/AIO_AI_day4_(%EC%99%84%EC%84%B1%EB%B3%B8)_k_means_%ED%81%B4%EB%9F%AC%EC%8A%A4%ED%84%B0%EB%A7%81_%EB%AA%A8%EB%8D%B8.ipynb)\n"
      ]
    },
    {
      "cell_type": "markdown",
      "metadata": {
        "id": "Rm8LjtrVphji"
      },
      "source": [
        "# 선형 회귀\n",
        "\n",
        "가장 훌륭한 예측선을 찾아가는 과정\n",
        "\n",
        "<img src='https://i.stack.imgur.com/onf2z.gif' width=400>\n",
        "\n",
        "#### 평균 제곱 오차 (MSE) - 가장 정확한 예측선은 오차가 가장 적을 것이다!\n",
        "\n",
        "<img src='https://cdn-media-1.freecodecamp.org/images/MNskFmGPKuQfMLdmpkT-X7-8w2cJXulP3683' width=500>"
      ]
    },
    {
      "cell_type": "code",
      "metadata": {
        "id": "UlegyYgtpYlW"
      },
      "source": [
        "from google.colab import files\n",
        "uploaded = files.upload()"
      ],
      "execution_count": null,
      "outputs": []
    },
    {
      "cell_type": "code",
      "metadata": {
        "id": "s3vpsHZs4Qgt"
      },
      "source": [
        "\n"
      ],
      "execution_count": null,
      "outputs": []
    },
    {
      "cell_type": "code",
      "metadata": {
        "id": "D12OBeOU5hUB"
      },
      "source": [
        "\n"
      ],
      "execution_count": null,
      "outputs": []
    },
    {
      "cell_type": "code",
      "metadata": {
        "id": "pBLjnw6i4QjT"
      },
      "source": [
        "\n"
      ],
      "execution_count": null,
      "outputs": []
    },
    {
      "cell_type": "code",
      "metadata": {
        "id": "jAAEdlRY4Ql6"
      },
      "source": [
        "\n"
      ],
      "execution_count": null,
      "outputs": []
    },
    {
      "cell_type": "code",
      "metadata": {
        "id": "KMj20nXo4Qo9"
      },
      "source": [
        "\n"
      ],
      "execution_count": null,
      "outputs": []
    },
    {
      "cell_type": "code",
      "metadata": {
        "id": "Y5TV-8Fw84Ee"
      },
      "source": [
        ""
      ],
      "execution_count": null,
      "outputs": []
    },
    {
      "cell_type": "code",
      "metadata": {
        "id": "nIX4VoBB9Uae"
      },
      "source": [
        "# y = 3/4x -25 의 평균제곱오차\n"
      ],
      "execution_count": null,
      "outputs": []
    },
    {
      "cell_type": "code",
      "metadata": {
        "id": "HAhuTKW59Uez"
      },
      "source": [
        ""
      ],
      "execution_count": null,
      "outputs": []
    },
    {
      "cell_type": "code",
      "metadata": {
        "id": "X70J26cW84Hw"
      },
      "source": [
        ""
      ],
      "execution_count": null,
      "outputs": []
    },
    {
      "cell_type": "code",
      "metadata": {
        "id": "Qm9fM_pp-F8K"
      },
      "source": [
        ""
      ],
      "execution_count": null,
      "outputs": []
    },
    {
      "cell_type": "code",
      "metadata": {
        "id": "eZPn4OjX-pft"
      },
      "source": [
        ""
      ],
      "execution_count": null,
      "outputs": []
    },
    {
      "cell_type": "code",
      "metadata": {
        "id": "BOt7171y-rg8"
      },
      "source": [
        ""
      ],
      "execution_count": null,
      "outputs": []
    },
    {
      "cell_type": "markdown",
      "metadata": {
        "id": "FQL92tSJ198H"
      },
      "source": [
        "#### 지난 연수때 배웠던 선형회귀 코드를 복습해보자\n",
        "\n",
        "[선형회귀 라이브러리 없이 직접 작성해보는 코드 복습해보기](https://github.com/Ahnjihye/allinone_AI/blob/master/AIO_AI_day5_(%EC%99%84%EC%84%B1%EB%B3%B8)_%EC%84%A0%ED%98%95_%ED%9A%8C%EA%B7%80.ipynb)\n"
      ]
    },
    {
      "cell_type": "code",
      "metadata": {
        "id": "XiwpaHdD2B3i"
      },
      "source": [
        ""
      ],
      "execution_count": null,
      "outputs": []
    }
  ]
}