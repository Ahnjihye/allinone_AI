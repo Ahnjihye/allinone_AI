{
  "nbformat": 4,
  "nbformat_minor": 0,
  "metadata": {
    "colab": {
      "name": "AIO-AI day1. (실습용) 파이썬 기본 프로그래밍 .ipynb",
      "provenance": [],
      "collapsed_sections": [],
      "authorship_tag": "ABX9TyPkuiR5DhL9JYYuM+rkWW8X",
      "include_colab_link": true
    },
    "kernelspec": {
      "name": "python3",
      "display_name": "Python 3"
    }
  },
  "cells": [
    {
      "cell_type": "markdown",
      "metadata": {
        "id": "view-in-github",
        "colab_type": "text"
      },
      "source": [
        "<a href=\"https://colab.research.google.com/github/Ahnjihye/allinone_AI/blob/master/AIO_AI_day1_(%EC%8B%A4%EC%8A%B5%EC%9A%A9)_%ED%8C%8C%EC%9D%B4%EC%8D%AC_%EA%B8%B0%EB%B3%B8_%ED%94%84%EB%A1%9C%EA%B7%B8%EB%9E%98%EB%B0%8D_.ipynb\" target=\"_parent\"><img src=\"https://colab.research.google.com/assets/colab-badge.svg\" alt=\"Open In Colab\"/></a>"
      ]
    },
    {
      "cell_type": "markdown",
      "metadata": {
        "id": "LJAHyqRXU_tN",
        "colab_type": "text"
      },
      "source": [
        "## 1. 출력명령어\n",
        "\n",
        "\n",
        "```\n",
        "print( 출력할 내용 )\n",
        "```\n",
        "\n"
      ]
    },
    {
      "cell_type": "code",
      "metadata": {
        "id": "fHog4iYYL-q4",
        "colab_type": "code",
        "colab": {}
      },
      "source": [
        "# 숫자 출력 20200902\n"
      ],
      "execution_count": null,
      "outputs": []
    },
    {
      "cell_type": "code",
      "metadata": {
        "id": "-Mn2gKC1y2XL",
        "colab_type": "code",
        "colab": {}
      },
      "source": [
        "# 문자 출력 2020년 9월 2일\n"
      ],
      "execution_count": null,
      "outputs": []
    },
    {
      "cell_type": "code",
      "metadata": {
        "id": "HndD3I4ybonQ",
        "colab_type": "code",
        "colab": {}
      },
      "source": [
        "# 문자는 따옴표로 감싸주어야 함\n"
      ],
      "execution_count": null,
      "outputs": []
    },
    {
      "cell_type": "code",
      "metadata": {
        "id": "RqdNnVh2bopV",
        "colab_type": "code",
        "colab": {}
      },
      "source": [
        "# 연산하여 출력하기\n",
        "\n",
        "\n",
        "\n"
      ],
      "execution_count": null,
      "outputs": []
    },
    {
      "cell_type": "code",
      "metadata": {
        "id": "TrSY6KTBborq",
        "colab_type": "code",
        "colab": {}
      },
      "source": [
        "#** 제곱\n",
        "\n",
        "\n",
        "#몫\n",
        "\n",
        "\n",
        "#나머지\n",
        "\n"
      ],
      "execution_count": null,
      "outputs": []
    },
    {
      "cell_type": "code",
      "metadata": {
        "id": "iLHvTSGibouA",
        "colab_type": "code",
        "colab": {}
      },
      "source": [
        "# 문자 연결하여 츨력하기\n",
        "\n"
      ],
      "execution_count": null,
      "outputs": []
    },
    {
      "cell_type": "code",
      "metadata": {
        "id": "7cPO3xrybowJ",
        "colab_type": "code",
        "colab": {}
      },
      "source": [
        "# 문자 연결하여 츨력하기\n",
        "\n"
      ],
      "execution_count": null,
      "outputs": []
    },
    {
      "cell_type": "code",
      "metadata": {
        "id": "iAfPPqBuboyZ",
        "colab_type": "code",
        "colab": {}
      },
      "source": [
        "# 문자 * 숫자\n",
        "\n"
      ],
      "execution_count": null,
      "outputs": []
    },
    {
      "cell_type": "markdown",
      "metadata": {
        "id": "v52XtOeCibk5",
        "colab_type": "text"
      },
      "source": [
        "## 2. 입력명령어\n",
        "\n",
        "\n",
        "```\n",
        "input()\n",
        "input('입력 안내문')\n",
        "```\n",
        "\n"
      ]
    },
    {
      "cell_type": "code",
      "metadata": {
        "id": "DaKrxT0hbo0i",
        "colab_type": "code",
        "colab": {}
      },
      "source": [
        ""
      ],
      "execution_count": null,
      "outputs": []
    },
    {
      "cell_type": "code",
      "metadata": {
        "id": "A9I_oy-Zixhw",
        "colab_type": "code",
        "colab": {}
      },
      "source": [
        ""
      ],
      "execution_count": null,
      "outputs": []
    },
    {
      "cell_type": "markdown",
      "metadata": {
        "id": "5TT7S64piqF8",
        "colab_type": "text"
      },
      "source": [
        "입력된 데이터 양 옆의 작은 따옴표      \n",
        "-> input()으로 읽어들인 데이터는 모두 문자로 인식"
      ]
    },
    {
      "cell_type": "markdown",
      "metadata": {
        "id": "V1qdZa0ljBQz",
        "colab_type": "text"
      },
      "source": [
        "## 3. 변수\n",
        "\n",
        "\n",
        "```\n",
        "변수이름 = 저장할 데이터\n",
        "name = '안지혜'\n",
        "school = '관악고'\n",
        "```\n",
        "<img src = 'https://github.com/Ahnjihye/allinone_AI/blob/images/1_%EB%B3%80%EC%88%98.png?raw=true' width =500>\n",
        "\n",
        "\n"
      ]
    },
    {
      "cell_type": "code",
      "metadata": {
        "id": "qGjujI1abo3T",
        "colab_type": "code",
        "colab": {}
      },
      "source": [
        "\n"
      ],
      "execution_count": null,
      "outputs": []
    },
    {
      "cell_type": "code",
      "metadata": {
        "id": "9d4QKvR6bo5d",
        "colab_type": "code",
        "colab": {}
      },
      "source": [
        "\n"
      ],
      "execution_count": null,
      "outputs": []
    },
    {
      "cell_type": "code",
      "metadata": {
        "id": "WWHU2iswbo8G",
        "colab_type": "code",
        "colab": {}
      },
      "source": [
        ""
      ],
      "execution_count": null,
      "outputs": []
    },
    {
      "cell_type": "code",
      "metadata": {
        "id": "gN7pzv5jbo-B",
        "colab_type": "code",
        "colab": {}
      },
      "source": [
        "\n"
      ],
      "execution_count": null,
      "outputs": []
    },
    {
      "cell_type": "code",
      "metadata": {
        "id": "YY_1rgwNbpAe",
        "colab_type": "code",
        "colab": {}
      },
      "source": [
        "# 사과 3개, 바나나1개, 키위2개 구매한 가격은?\n"
      ],
      "execution_count": null,
      "outputs": []
    },
    {
      "cell_type": "markdown",
      "metadata": {
        "id": "3iQgjH5g8Wby",
        "colab_type": "text"
      },
      "source": [
        "<img src='https://github.com/Ahnjihye/allinone_AI/blob/images/2_%EB%B3%80%EC%88%98%EC%97%B0%EC%82%B0.png?raw=true' width =300px>"
      ]
    },
    {
      "cell_type": "code",
      "metadata": {
        "id": "kAnHKPxlnUMO",
        "colab_type": "code",
        "colab": {}
      },
      "source": [
        "# 위 가격은 변수에 저장이 되지 않았으므로 재사용이 안됨\n"
      ],
      "execution_count": null,
      "outputs": []
    },
    {
      "cell_type": "code",
      "metadata": {
        "id": "3yzsV8_7bpDS",
        "colab_type": "code",
        "colab": {}
      },
      "source": [
        "# vip는 20% 할인\n",
        "\n",
        "\n",
        "# vip가 동일한 가격을 구매했을 때 가격?\n"
      ],
      "execution_count": null,
      "outputs": []
    },
    {
      "cell_type": "code",
      "metadata": {
        "id": "A7bhHZu-nnE_",
        "colab_type": "code",
        "colab": {}
      },
      "source": [
        "# 이 역시 변수에 저장되지 않았으므로 재사용이 불가\n"
      ],
      "execution_count": null,
      "outputs": []
    },
    {
      "cell_type": "code",
      "metadata": {
        "id": "I5UtDtRgnwk8",
        "colab_type": "code",
        "colab": {}
      },
      "source": [
        "print('vip가 되시면',price,'원을',vip_price,'원에 구매 가능합니다! ')"
      ],
      "execution_count": null,
      "outputs": []
    },
    {
      "cell_type": "markdown",
      "metadata": {
        "id": "kv0LoMHqmyXE",
        "colab_type": "text"
      },
      "source": [
        "## 4. 데이터타입\n",
        "\n",
        "\n",
        "```\n",
        "정수 int\n",
        "실수 float\n",
        "문자 str\n",
        "```\n",
        "#### 데이터타입 변환 --> 변환하려는 타입으로 감싸주기\n"
      ]
    },
    {
      "cell_type": "code",
      "metadata": {
        "id": "Yh4EzMknbpFi",
        "colab_type": "code",
        "colab": {}
      },
      "source": [
        ""
      ],
      "execution_count": null,
      "outputs": []
    },
    {
      "cell_type": "code",
      "metadata": {
        "id": "zyFQbxIlbpHu",
        "colab_type": "code",
        "colab": {}
      },
      "source": [
        ""
      ],
      "execution_count": null,
      "outputs": []
    },
    {
      "cell_type": "code",
      "metadata": {
        "id": "7frJWouPm-8e",
        "colab_type": "code",
        "colab": {}
      },
      "source": [
        ""
      ],
      "execution_count": null,
      "outputs": []
    },
    {
      "cell_type": "code",
      "metadata": {
        "id": "_m8OTfEln_Qn",
        "colab_type": "code",
        "colab": {}
      },
      "source": [
        ""
      ],
      "execution_count": null,
      "outputs": []
    },
    {
      "cell_type": "code",
      "metadata": {
        "id": "m0Q-OfX8oAfP",
        "colab_type": "code",
        "colab": {}
      },
      "source": [
        "# 정수를 실수로 \n"
      ],
      "execution_count": null,
      "outputs": []
    },
    {
      "cell_type": "code",
      "metadata": {
        "id": "JMm4V8_RpJgf",
        "colab_type": "code",
        "colab": {}
      },
      "source": [
        "# 실수를 정수로\n",
        "\n"
      ],
      "execution_count": null,
      "outputs": []
    },
    {
      "cell_type": "markdown",
      "metadata": {
        "id": "lwYK3RAi86NG",
        "colab_type": "text"
      },
      "source": [
        "<img src = 'https://github.com/Ahnjihye/allinone_AI/blob/images/3_%EC%9E%85%EB%A0%A5%EA%B0%92%20%EB%B3%80%EC%88%98.png?raw=true' width = 300>"
      ]
    },
    {
      "cell_type": "code",
      "metadata": {
        "id": "VYBYgR3tpU63",
        "colab_type": "code",
        "colab": {}
      },
      "source": [
        "# 문자를 정수로\n",
        "\n"
      ],
      "execution_count": null,
      "outputs": []
    },
    {
      "cell_type": "code",
      "metadata": {
        "id": "TPoG6aS0paZ0",
        "colab_type": "code",
        "colab": {}
      },
      "source": [
        "# 합쳐서 사용하기\n"
      ],
      "execution_count": null,
      "outputs": []
    },
    {
      "cell_type": "code",
      "metadata": {
        "id": "6SDgV2wIpi29",
        "colab_type": "code",
        "colab": {}
      },
      "source": [
        ""
      ],
      "execution_count": null,
      "outputs": []
    },
    {
      "cell_type": "markdown",
      "metadata": {
        "id": "6n9IjADZt4Z5",
        "colab_type": "text"
      },
      "source": [
        "## 5. 리스트\n",
        "\n",
        "<img src='https://github.com/Ahnjihye/allinone_AI/blob/images/6_%EB%A6%AC%EC%8A%A4%ED%8A%B8%EA%B0%9C%EB%85%90.png?raw=true' width=500>\n",
        "\n",
        "```\n",
        "리스트 여러 데이터를 한 번에 묶어서 표현\n",
        "리스트이름 = [데이터1, 데이터2, ..., 데이터n]\n",
        "```\n",
        "\n"
      ]
    },
    {
      "cell_type": "code",
      "metadata": {
        "id": "FAe8AhxFMRWQ",
        "colab_type": "code",
        "colab": {}
      },
      "source": [
        "# 가계부 프로그램 \n",
        "# 1월 지출부터 6월 지출까지 리스트로 만들기\n"
      ],
      "execution_count": null,
      "outputs": []
    },
    {
      "cell_type": "code",
      "metadata": {
        "id": "AfL3S1RbMRZb",
        "colab_type": "code",
        "colab": {}
      },
      "source": [
        ""
      ],
      "execution_count": null,
      "outputs": []
    },
    {
      "cell_type": "code",
      "metadata": {
        "id": "pletqKwvMRcq",
        "colab_type": "code",
        "colab": {}
      },
      "source": [
        ""
      ],
      "execution_count": null,
      "outputs": []
    },
    {
      "cell_type": "markdown",
      "metadata": {
        "id": "TKe3-L5lNYYN",
        "colab_type": "text"
      },
      "source": [
        "#### 리스트의 인덱스란\n",
        "<img src ='https://github.com/Ahnjihye/allinone_AI/blob/images/7_%EB%A6%AC%EC%8A%A4%ED%8A%B8%EC%9D%B8%EB%8D%B1%EC%8A%A4.png?raw=true' width =500>"
      ]
    },
    {
      "cell_type": "code",
      "metadata": {
        "id": "nDJdEgVpMlSm",
        "colab_type": "code",
        "colab": {}
      },
      "source": [
        "# 리스트 내의 원소에 접근하기\n",
        "# 인덱스틑 0부터 \n"
      ],
      "execution_count": null,
      "outputs": []
    },
    {
      "cell_type": "markdown",
      "metadata": {
        "id": "6GNtA_6rE1lY",
        "colab_type": "text"
      },
      "source": [
        "리스트 마이너스 인덱스\n",
        "<img src = 'https://github.com/Ahnjihye/allinone_AI/blob/images/8_%EB%A6%AC%EC%8A%A4%ED%8A%B8%20%EB%A7%88%EC%9D%B4%EB%84%88%EC%8A%A4%EC%9D%B8%EB%8D%B1%EC%8A%A4.png?raw=true' width=500>"
      ]
    },
    {
      "cell_type": "code",
      "metadata": {
        "id": "VYSsCWAuMlVF",
        "colab_type": "code",
        "colab": {}
      },
      "source": [
        ""
      ],
      "execution_count": null,
      "outputs": []
    },
    {
      "cell_type": "code",
      "metadata": {
        "id": "l97FX7QOMlYm",
        "colab_type": "code",
        "colab": {}
      },
      "source": [
        "# 1월 지출은?\n"
      ],
      "execution_count": null,
      "outputs": []
    },
    {
      "cell_type": "code",
      "metadata": {
        "id": "XQJ_ouroMlaz",
        "colab_type": "code",
        "colab": {}
      },
      "source": [
        "# 6월 지출은?\n"
      ],
      "execution_count": null,
      "outputs": []
    },
    {
      "cell_type": "code",
      "metadata": {
        "id": "70ooJdGDMlh4",
        "colab_type": "code",
        "colab": {}
      },
      "source": [
        "# 3월 지출은?\n"
      ],
      "execution_count": null,
      "outputs": []
    },
    {
      "cell_type": "code",
      "metadata": {
        "id": "tLt7P-A2Mlkq",
        "colab_type": "code",
        "colab": {}
      },
      "source": [
        "# 알고보니 4월 지출이 10낮게 기록됐다.\n",
        "# 4월 지출에 10을 더하시오\n",
        "\n"
      ],
      "execution_count": null,
      "outputs": []
    },
    {
      "cell_type": "code",
      "metadata": {
        "id": "UGAtSnXaNpy6",
        "colab_type": "code",
        "colab": {}
      },
      "source": [
        "# 5월 지출을 2로 나누시오\n",
        "\n"
      ],
      "execution_count": null,
      "outputs": []
    },
    {
      "cell_type": "markdown",
      "metadata": {
        "id": "mcMUi8x-OEod",
        "colab_type": "text"
      },
      "source": [
        "#### 리스트의 다양한 명령어\n",
        "\n",
        "\n",
        "```\n",
        "len(리스트이름)            # 리스트 길이 확인\n",
        "리스트이름.append(데이터)    # 리스트에 데이터 추가\n",
        "리스트이름.sort()          # 리스트 원소 정렬하기\n",
        "```\n",
        "\n"
      ]
    },
    {
      "cell_type": "code",
      "metadata": {
        "id": "PVBaOrEONp4H",
        "colab_type": "code",
        "colab": {}
      },
      "source": [
        ""
      ],
      "execution_count": null,
      "outputs": []
    },
    {
      "cell_type": "code",
      "metadata": {
        "id": "qAH4hzAwNp1s",
        "colab_type": "code",
        "colab": {}
      },
      "source": [
        ""
      ],
      "execution_count": null,
      "outputs": []
    },
    {
      "cell_type": "code",
      "metadata": {
        "id": "PYw7ooYGNp65",
        "colab_type": "code",
        "colab": {}
      },
      "source": [
        "# 오렌지 추가\n",
        "\n"
      ],
      "execution_count": null,
      "outputs": []
    },
    {
      "cell_type": "code",
      "metadata": {
        "id": "EakP6OrBOry4",
        "colab_type": "code",
        "colab": {}
      },
      "source": [
        "# 참외 추가해보기\n",
        "\n"
      ],
      "execution_count": null,
      "outputs": []
    },
    {
      "cell_type": "code",
      "metadata": {
        "id": "Uv7fx6XBO3vN",
        "colab_type": "code",
        "colab": {}
      },
      "source": [
        "# 정렬하기\n",
        "\n"
      ],
      "execution_count": null,
      "outputs": []
    },
    {
      "cell_type": "code",
      "metadata": {
        "id": "BuIfMu7uO3yO",
        "colab_type": "code",
        "colab": {}
      },
      "source": [
        "print('정렬 전 spend', spend)\n",
        "\n",
        "\n",
        "print('정렬 후 spend', spend)"
      ],
      "execution_count": null,
      "outputs": []
    },
    {
      "cell_type": "markdown",
      "metadata": {
        "id": "VcinMKvjPO_n",
        "colab_type": "text"
      },
      "source": [
        "#### 리스트 슬라이싱\n",
        "\n",
        "<img src = 'https://github.com/Ahnjihye/allinone_AI/blob/images/9_%EB%A6%AC%EC%8A%A4%ED%8A%B8%EC%8A%AC%EB%9D%BC%EC%9D%B4%EC%8B%B1.png?raw=true' width=500>\n",
        "\n",
        "\n",
        "```\n",
        "리스트[시작숫자 : 종료숫자]\n",
        "```\n",
        "종료숫자까지 잘라내는 것 XXX\n",
        "종료숫자에서 탈출하는 것 OOO\n",
        "\n",
        "\n",
        "\n",
        "```\n",
        "abc[2:5]       # abc[2]~abc[4]까지 슬라이싱하고 abc[5]가 되면 탈출함\n",
        "abc[4:9]       # abc[4]~abc[9]까지 슬라이싱하고 abc[9]가 되면 탈출함\n",
        "```\n",
        "\n",
        "\n",
        "\n"
      ]
    },
    {
      "cell_type": "code",
      "metadata": {
        "id": "skKBPcWnO31V",
        "colab_type": "code",
        "colab": {}
      },
      "source": [
        ""
      ],
      "execution_count": null,
      "outputs": []
    },
    {
      "cell_type": "code",
      "metadata": {
        "id": "5T90E9u2PzQl",
        "colab_type": "code",
        "colab": {}
      },
      "source": [
        "# 사과, 오렌지만 골라내기\n"
      ],
      "execution_count": null,
      "outputs": []
    },
    {
      "cell_type": "code",
      "metadata": {
        "id": "u8_ZjYbVPzXv",
        "colab_type": "code",
        "colab": {}
      },
      "source": [
        "# 처음부터 [n]까지 골라내기\n"
      ],
      "execution_count": null,
      "outputs": []
    },
    {
      "cell_type": "code",
      "metadata": {
        "id": "DGT1u07APzWH",
        "colab_type": "code",
        "colab": {}
      },
      "source": [
        "# 뒤에서 두 개 데이터 슬라이싱\n"
      ],
      "execution_count": null,
      "outputs": []
    },
    {
      "cell_type": "markdown",
      "metadata": {
        "id": "2GzeP7MRQ1BC",
        "colab_type": "text"
      },
      "source": [
        "#### 문자열 슬라이싱"
      ]
    },
    {
      "cell_type": "code",
      "metadata": {
        "id": "trbsdMEzQ38P",
        "colab_type": "code",
        "colab": {}
      },
      "source": [
        ""
      ],
      "execution_count": null,
      "outputs": []
    },
    {
      "cell_type": "code",
      "metadata": {
        "id": "uJp-ceSnQ3_b",
        "colab_type": "code",
        "colab": {}
      },
      "source": [
        ""
      ],
      "execution_count": null,
      "outputs": []
    },
    {
      "cell_type": "code",
      "metadata": {
        "id": "cUQ_6ORgQ4BE",
        "colab_type": "code",
        "colab": {}
      },
      "source": [
        ""
      ],
      "execution_count": null,
      "outputs": []
    },
    {
      "cell_type": "code",
      "metadata": {
        "id": "iAqVu3IjQ4D9",
        "colab_type": "code",
        "colab": {}
      },
      "source": [
        "# get it만 슬라이싱해보기\n"
      ],
      "execution_count": null,
      "outputs": []
    },
    {
      "cell_type": "markdown",
      "metadata": {
        "id": "o4prnRF_RRyN",
        "colab_type": "text"
      },
      "source": [
        "문자열 분리 명령어 .spilt()\n",
        "\n",
        "\n",
        "```\n",
        "문자열.split('분리할 기준')\n",
        "```\n",
        "\n"
      ]
    },
    {
      "cell_type": "code",
      "metadata": {
        "id": "CQ0-EObNRQKn",
        "colab_type": "code",
        "colab": {}
      },
      "source": [
        ""
      ],
      "execution_count": null,
      "outputs": []
    },
    {
      "cell_type": "code",
      "metadata": {
        "id": "vt-TuP3rRQZF",
        "colab_type": "code",
        "colab": {}
      },
      "source": [
        ""
      ],
      "execution_count": null,
      "outputs": []
    },
    {
      "cell_type": "code",
      "metadata": {
        "id": "oijq-DXHRgwL",
        "colab_type": "code",
        "colab": {}
      },
      "source": [
        ""
      ],
      "execution_count": null,
      "outputs": []
    },
    {
      "cell_type": "code",
      "metadata": {
        "id": "a7uoVb8kRgzE",
        "colab_type": "code",
        "colab": {}
      },
      "source": [
        ""
      ],
      "execution_count": null,
      "outputs": []
    },
    {
      "cell_type": "code",
      "metadata": {
        "id": "VZiERfJNRg4R",
        "colab_type": "code",
        "colab": {}
      },
      "source": [
        ""
      ],
      "execution_count": null,
      "outputs": []
    },
    {
      "cell_type": "code",
      "metadata": {
        "id": "RA-7dVzERg6x",
        "colab_type": "code",
        "colab": {}
      },
      "source": [
        ""
      ],
      "execution_count": null,
      "outputs": []
    },
    {
      "cell_type": "code",
      "metadata": {
        "id": "9vbsDdAARg3d",
        "colab_type": "code",
        "colab": {}
      },
      "source": [
        ""
      ],
      "execution_count": null,
      "outputs": []
    },
    {
      "cell_type": "code",
      "metadata": {
        "id": "B3r_9wGLRzk7",
        "colab_type": "code",
        "colab": {}
      },
      "source": [
        "# 년도만 골라내기\n",
        "\n",
        "\n",
        "# 숫자로 아직 안바뀐 상태\n"
      ],
      "execution_count": null,
      "outputs": []
    },
    {
      "cell_type": "code",
      "metadata": {
        "id": "oi4InWd-R5hK",
        "colab_type": "code",
        "colab": {}
      },
      "source": [
        "# 월만 골라내기\n"
      ],
      "execution_count": null,
      "outputs": []
    },
    {
      "cell_type": "code",
      "metadata": {
        "id": "EV6_JAjDR5lz",
        "colab_type": "code",
        "colab": {}
      },
      "source": [
        "# 일만 골라내기\n"
      ],
      "execution_count": null,
      "outputs": []
    },
    {
      "cell_type": "markdown",
      "metadata": {
        "id": "IgU4y4cdCo3v",
        "colab_type": "text"
      },
      "source": [
        "## 6. 조건문 if\n",
        "\n",
        "만약 A라면 B해라      \n",
        "\n",
        "```\n",
        "if A :   \n",
        "    B    \n",
        "```\n",
        "<img src = 'https://github.com/Ahnjihye/allinone_AI/blob/images/10_%EC%84%A0%ED%83%9D%EA%B5%AC%EC%A1%B0.png?raw=true' width=500>\n",
        "\n"
      ]
    },
    {
      "cell_type": "code",
      "metadata": {
        "id": "MkpSM5DyCp78",
        "colab_type": "code",
        "colab": {}
      },
      "source": [
        "# 만약 미성년자라면 술을 구매할 수 없다고 출력\n",
        "\n",
        "\n"
      ],
      "execution_count": null,
      "outputs": []
    },
    {
      "cell_type": "code",
      "metadata": {
        "id": "jcoIcoKTCqB2",
        "colab_type": "code",
        "colab": {}
      },
      "source": [
        ""
      ],
      "execution_count": null,
      "outputs": []
    },
    {
      "cell_type": "markdown",
      "metadata": {
        "id": "NyCBjh41EVVn",
        "colab_type": "text"
      },
      "source": [
        "\n",
        "만약 A라면 B해라,      \n",
        "그렇지 않으면 C해라      \n",
        "(A가 아니라면)\n",
        "\n",
        "```\n",
        "if A : \n",
        "    B\n",
        "else : \n",
        "    C\n",
        "```\n",
        "<img src = 'https://github.com/Ahnjihye/allinone_AI/blob/images/11_%EC%84%A0%ED%83%9D%EA%B5%AC%EC%A1%B02.png?raw=true' width=500>\n"
      ]
    },
    {
      "cell_type": "code",
      "metadata": {
        "id": "9o7hV4p9CqE2",
        "colab_type": "code",
        "colab": {}
      },
      "source": [
        "\n"
      ],
      "execution_count": null,
      "outputs": []
    },
    {
      "cell_type": "markdown",
      "metadata": {
        "id": "vOm9lpO7HsTb",
        "colab_type": "text"
      },
      "source": [
        "조건을 만드는 비교 연산자\n",
        "\n",
        "\n",
        "```\n",
        "a > b    # a가 b보다 크다면\n",
        "a < b    # a가 b보다 작다면\n",
        "a >= b    # a가 b보다 크거나 같다면\n",
        "a <= b    # a가 b보다 작거나 같다면\n",
        "a == b    # a와 b가 같다면\n",
        "a != b    # a와 b가 틀리다면\n",
        "```\n",
        "\n"
      ]
    },
    {
      "cell_type": "markdown",
      "metadata": {
        "id": "vpkrmOpKIurV",
        "colab_type": "text"
      },
      "source": [
        "#### 실습 1) 물건 금액을 입력받고 물건이 오만원 미만일 경우 배송비 2500원을 더해서 결제금액을 안내하시오. "
      ]
    },
    {
      "cell_type": "code",
      "metadata": {
        "id": "F0zdyUHuCp_5",
        "colab_type": "code",
        "colab": {}
      },
      "source": [
        ""
      ],
      "execution_count": null,
      "outputs": []
    },
    {
      "cell_type": "code",
      "metadata": {
        "id": "IGkgKwYvJTYY",
        "colab_type": "code",
        "colab": {}
      },
      "source": [
        "\n",
        "\n",
        "\n",
        "\n"
      ],
      "execution_count": null,
      "outputs": []
    },
    {
      "cell_type": "markdown",
      "metadata": {
        "id": "mKuAbk7uJ3-7",
        "colab_type": "text"
      },
      "source": [
        "#### 실습 2) 목욕탕에 무인정산기를 설치하려고 한다. 성인은 입장료가 15000원, 마성년자는 6000원이다. 나이를 입력받아 알맞은 가격을 안내해라. "
      ]
    },
    {
      "cell_type": "code",
      "metadata": {
        "id": "TGuUzR0HKOO0",
        "colab_type": "code",
        "colab": {}
      },
      "source": [
        "\n",
        "\n"
      ],
      "execution_count": null,
      "outputs": []
    },
    {
      "cell_type": "markdown",
      "metadata": {
        "id": "UCdFsLZvKa_C",
        "colab_type": "text"
      },
      "source": [
        "## 7. 반복문\n",
        "\n",
        "```\n",
        "for A in data : \n",
        "    B \n",
        "```\n",
        "<img src = 'https://github.com/Ahnjihye/allinone_AI/blob/images/4_%EB%B0%98%EB%B3%B5%EB%AC%B8.png?raw=true' width=500>\n",
        "\n"
      ]
    },
    {
      "cell_type": "code",
      "metadata": {
        "id": "HyLrFLZQt46j",
        "colab_type": "code",
        "colab": {}
      },
      "source": [
        "\n"
      ],
      "execution_count": null,
      "outputs": []
    },
    {
      "cell_type": "code",
      "metadata": {
        "id": "IQtiqCfit48u",
        "colab_type": "code",
        "colab": {}
      },
      "source": [
        "\n"
      ],
      "execution_count": null,
      "outputs": []
    },
    {
      "cell_type": "markdown",
      "metadata": {
        "id": "oEfcTfzDFlqS",
        "colab_type": "text"
      },
      "source": [
        "<img src ='https://github.com/Ahnjihye/allinone_AI/blob/images/5_%EB%B0%98%EB%B3%B5%EB%AC%B8%20%EB%8F%99%EC%9E%91%EA%B5%AC%EC%A1%B0.png?raw=true' width=400>"
      ]
    },
    {
      "cell_type": "code",
      "metadata": {
        "id": "F2EVpvIMt4_R",
        "colab_type": "code",
        "colab": {}
      },
      "source": [
        "\n"
      ],
      "execution_count": null,
      "outputs": []
    },
    {
      "cell_type": "code",
      "metadata": {
        "id": "XP9lM2GHt5B0",
        "colab_type": "code",
        "colab": {}
      },
      "source": [
        "# 인덱스를 활용하고 싶을 때 range()\n",
        "\n"
      ],
      "execution_count": null,
      "outputs": []
    },
    {
      "cell_type": "code",
      "metadata": {
        "id": "dx99LE7Xt5EO",
        "colab_type": "code",
        "colab": {}
      },
      "source": [
        "# len() 활용하기\n",
        "\n"
      ],
      "execution_count": null,
      "outputs": []
    },
    {
      "cell_type": "code",
      "metadata": {
        "id": "YBNqt2c-t5Gk",
        "colab_type": "code",
        "colab": {}
      },
      "source": [
        "# range()가 0부터 시작하면 생략 가능\n",
        "\n"
      ],
      "execution_count": null,
      "outputs": []
    },
    {
      "cell_type": "markdown",
      "metadata": {
        "id": "G-bRbKPmU47N",
        "colab_type": "text"
      },
      "source": [
        "#### 리스트와 반복문, 조건문"
      ]
    },
    {
      "cell_type": "code",
      "metadata": {
        "id": "w8oyLMGlpklS",
        "colab_type": "code",
        "colab": {}
      },
      "source": [
        "# 50이상 쓴 달을 출력하시오\n",
        "\n"
      ],
      "execution_count": null,
      "outputs": []
    },
    {
      "cell_type": "code",
      "metadata": {
        "id": "gSifnDWeVNPP",
        "colab_type": "code",
        "colab": {}
      },
      "source": [
        "# 지출이 12인 달을 출력하시오\n",
        "\n"
      ],
      "execution_count": null,
      "outputs": []
    },
    {
      "cell_type": "markdown",
      "metadata": {
        "id": "YUjUXo-VVr_i",
        "colab_type": "text"
      },
      "source": [
        "## 딕셔너리\n",
        "Key - Value 대응      \n",
        "키 - 값 대응\n",
        "\n",
        "```\n",
        "딕셔너리이름 = {키1 : 값1, 키2 : 값2, ... 키n : 값n}\n",
        "```\n",
        "<img src = 'https://github.com/Ahnjihye/allinone_AI/blob/images/12_%EB%94%95%EC%85%94%EB%84%88%EB%A6%AC.png?raw=true' width =500>\n"
      ]
    },
    {
      "cell_type": "code",
      "metadata": {
        "id": "muilZTAqVWSX",
        "colab_type": "code",
        "colab": {}
      },
      "source": [
        "\n"
      ],
      "execution_count": null,
      "outputs": []
    },
    {
      "cell_type": "code",
      "metadata": {
        "id": "m_L_9MFXHE-q",
        "colab_type": "code",
        "colab": {}
      },
      "source": [
        ""
      ],
      "execution_count": null,
      "outputs": []
    },
    {
      "cell_type": "code",
      "metadata": {
        "id": "f8nsSOSgWiF_",
        "colab_type": "code",
        "colab": {}
      },
      "source": [
        ""
      ],
      "execution_count": null,
      "outputs": []
    },
    {
      "cell_type": "code",
      "metadata": {
        "id": "ZD5r03fYWiIn",
        "colab_type": "code",
        "colab": {}
      },
      "source": [
        "print(menu)\n",
        "\n",
        "# 참치김밥 인하 3000원\n",
        "\n",
        "\n",
        "print(menu)"
      ],
      "execution_count": null,
      "outputs": []
    },
    {
      "cell_type": "code",
      "metadata": {
        "id": "dNCtUNpQWiC9",
        "colab_type": "code",
        "colab": {}
      },
      "source": [
        "print(menu)\n",
        "\n",
        "# 라면가격 인상 3500\n",
        "\n",
        "\n",
        "print(menu)"
      ],
      "execution_count": null,
      "outputs": []
    },
    {
      "cell_type": "code",
      "metadata": {
        "id": "2fEMex4SHszU",
        "colab_type": "code",
        "colab": {}
      },
      "source": [
        "# 돈가스 추가\n",
        "\n",
        "print(menu)"
      ],
      "execution_count": null,
      "outputs": []
    },
    {
      "cell_type": "markdown",
      "metadata": {
        "id": "xrO7GOZeF8-U",
        "colab_type": "text"
      },
      "source": [
        "<img src = 'https://github.com/Ahnjihye/allinone_AI/blob/images/13_%EB%94%95%EC%85%94%EB%84%88%EB%A6%AC2.png?raw=true' width=800>"
      ]
    },
    {
      "cell_type": "markdown",
      "metadata": {
        "id": "WU3kevp9H65l",
        "colab_type": "text"
      },
      "source": [
        "```\n",
        "# 딕셔너리의 키만 꺼내기 \n",
        "딕셔너리이름.keys()\n",
        "\n",
        "# 딕셔너리의 값(value)만 꺼내기 \n",
        "딕셔너리이름.values()\n",
        "\n",
        "# 딕셔너리의 키-값 모두 꺼내기 \n",
        "딕셔너리이름.items()\n",
        "```\n",
        "\n",
        "\n"
      ]
    },
    {
      "cell_type": "code",
      "metadata": {
        "id": "DXX_OvkAHwpZ",
        "colab_type": "code",
        "colab": {}
      },
      "source": [
        ""
      ],
      "execution_count": null,
      "outputs": []
    },
    {
      "cell_type": "code",
      "metadata": {
        "id": "0DV55KHaIWgw",
        "colab_type": "code",
        "colab": {}
      },
      "source": [
        ""
      ],
      "execution_count": null,
      "outputs": []
    },
    {
      "cell_type": "code",
      "metadata": {
        "id": "TLymlSQpIWe8",
        "colab_type": "code",
        "colab": {}
      },
      "source": [
        ""
      ],
      "execution_count": null,
      "outputs": []
    },
    {
      "cell_type": "code",
      "metadata": {
        "id": "hhowVdC3IWdJ",
        "colab_type": "code",
        "colab": {}
      },
      "source": [
        "# 딕셔너리의 키를 리스트로 변환하기\n"
      ],
      "execution_count": null,
      "outputs": []
    },
    {
      "cell_type": "code",
      "metadata": {
        "id": "2gzBfJX9IWbN",
        "colab_type": "code",
        "colab": {}
      },
      "source": [
        "# 딕셔너리의 값을 리스트로 변환하기\n"
      ],
      "execution_count": null,
      "outputs": []
    },
    {
      "cell_type": "markdown",
      "metadata": {
        "id": "mlwiPRL7I9EQ",
        "colab_type": "text"
      },
      "source": [
        "딕셔너리 정렬하기 \n",
        "```\n",
        "# 딕셔너리 키를 정렬\n",
        "sorted(딕셔너리.keys())\n",
        "\n",
        "# 딕셔너리 값을 정렬\n",
        "sorted(딕셔너리.values())\n",
        "\n",
        "# 딕셔너리 키-값을 정렬\n",
        "sorted(딕셔너리.items())\n",
        "```\n",
        "\n"
      ]
    },
    {
      "cell_type": "code",
      "metadata": {
        "id": "ETSdsoVgIWYO",
        "colab_type": "code",
        "colab": {}
      },
      "source": [
        ""
      ],
      "execution_count": null,
      "outputs": []
    },
    {
      "cell_type": "code",
      "metadata": {
        "id": "Pg_GLT2oLreA",
        "colab_type": "code",
        "colab": {}
      },
      "source": [
        ""
      ],
      "execution_count": null,
      "outputs": []
    },
    {
      "cell_type": "code",
      "metadata": {
        "id": "bjpDRS6SJgF6",
        "colab_type": "code",
        "colab": {}
      },
      "source": [
        ""
      ],
      "execution_count": null,
      "outputs": []
    },
    {
      "cell_type": "code",
      "metadata": {
        "id": "bncTr6GMLOaM",
        "colab_type": "code",
        "colab": {}
      },
      "source": [
        "# 가장 싼 음식의 가격은?\n"
      ],
      "execution_count": null,
      "outputs": []
    },
    {
      "cell_type": "code",
      "metadata": {
        "id": "PPt8AS0HLUIo",
        "colab_type": "code",
        "colab": {}
      },
      "source": [
        "# 가장 싼 음식 두 개의 가격은?\n"
      ],
      "execution_count": null,
      "outputs": []
    },
    {
      "cell_type": "code",
      "metadata": {
        "id": "7iD_SBBBLXlL",
        "colab_type": "code",
        "colab": {}
      },
      "source": [
        "# 가장 비싼 음식의 두 개의 가격은?\n"
      ],
      "execution_count": null,
      "outputs": []
    },
    {
      "cell_type": "code",
      "metadata": {
        "id": "o4sYzkMzLuD4",
        "colab_type": "code",
        "colab": {}
      },
      "source": [
        ""
      ],
      "execution_count": null,
      "outputs": []
    },
    {
      "cell_type": "code",
      "metadata": {
        "id": "Jrp5KKgfJgNb",
        "colab_type": "code",
        "colab": {}
      },
      "source": [
        ""
      ],
      "execution_count": null,
      "outputs": []
    },
    {
      "cell_type": "markdown",
      "metadata": {
        "id": "PTYAzHvFLHUk",
        "colab_type": "text"
      },
      "source": [
        "\n",
        "\n",
        "```\n",
        "# 딕셔너리 키-값은 자동으로 키를 기준으로 정렬됨\n",
        "sorted(딕셔너리.items())\n",
        "```\n",
        "\n"
      ]
    },
    {
      "cell_type": "code",
      "metadata": {
        "id": "wrsd9v3_JgK8",
        "colab_type": "code",
        "colab": {}
      },
      "source": [
        "# 딕셔너리 키-값 정렬시 값을 기준으로 정렬하ㅣ\n"
      ],
      "execution_count": null,
      "outputs": []
    },
    {
      "cell_type": "code",
      "metadata": {
        "id": "PLFvCYtvJgA9",
        "colab_type": "code",
        "colab": {}
      },
      "source": [
        "# 가장 싼 음식은 무엇인가?\n"
      ],
      "execution_count": null,
      "outputs": []
    },
    {
      "cell_type": "code",
      "metadata": {
        "id": "hykiPb9gIVPy",
        "colab_type": "code",
        "colab": {}
      },
      "source": [
        "# 가장 싼 음식 두 개는 무엇인가?\n"
      ],
      "execution_count": null,
      "outputs": []
    },
    {
      "cell_type": "code",
      "metadata": {
        "id": "w-ALYJpJNPPJ",
        "colab_type": "code",
        "colab": {}
      },
      "source": [
        "# 역순 정렬\n"
      ],
      "execution_count": null,
      "outputs": []
    },
    {
      "cell_type": "code",
      "metadata": {
        "id": "iDhLDbC3NVcX",
        "colab_type": "code",
        "colab": {}
      },
      "source": [
        "# 가장 비싼 음식 두 개는? \n"
      ],
      "execution_count": null,
      "outputs": []
    },
    {
      "cell_type": "code",
      "metadata": {
        "id": "SoUfiUCfNe1I",
        "colab_type": "code",
        "colab": {}
      },
      "source": [
        ""
      ],
      "execution_count": null,
      "outputs": []
    }
  ]
}