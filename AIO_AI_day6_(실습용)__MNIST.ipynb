{
  "nbformat": 4,
  "nbformat_minor": 0,
  "metadata": {
    "colab": {
      "name": "AIO_AI_day6_(실습용)_ MNIST.ipynb",
      "provenance": [],
      "collapsed_sections": [],
      "authorship_tag": "ABX9TyNXKG9HrZqA74NyAlZrD/KU",
      "include_colab_link": true
    },
    "kernelspec": {
      "name": "python3",
      "display_name": "Python 3"
    }
  },
  "cells": [
    {
      "cell_type": "markdown",
      "metadata": {
        "id": "view-in-github",
        "colab_type": "text"
      },
      "source": [
        "<a href=\"https://colab.research.google.com/github/Ahnjihye/allinone_AI/blob/master/AIO_AI_day6_(%EC%8B%A4%EC%8A%B5%EC%9A%A9)__MNIST.ipynb\" target=\"_parent\"><img src=\"https://colab.research.google.com/assets/colab-badge.svg\" alt=\"Open In Colab\"/></a>"
      ]
    },
    {
      "cell_type": "code",
      "metadata": {
        "id": "le9DlOe3Xtau",
        "colab_type": "code",
        "colab": {}
      },
      "source": [
        "import matplotlib.pyplot as plt\n",
        "\n",
        "# 그래프 폰트 설정  --> 런타임 다시 시작\n",
        "import matplotlib as mpl\n",
        "import matplotlib.pyplot as plt\n",
        " \n",
        "%config InlineBackend.figure_format = 'retina'\n",
        " \n",
        "!apt -qq -y install fonts-nanum\n",
        " \n",
        "import matplotlib.font_manager as fm\n",
        "fontpath = '/usr/share/fonts/truetype/nanum/NanumGothic.ttf'\n",
        "font = fm.FontProperties(fname=fontpath, size=9)\n",
        "plt.rc('font', family='NanumGothic') \n",
        "mpl.font_manager._rebuild()"
      ],
      "execution_count": null,
      "outputs": []
    },
    {
      "cell_type": "markdown",
      "metadata": {
        "id": "o_6YA7KN93Fh",
        "colab_type": "text"
      },
      "source": [
        "# 손글씨 이미지 구성 - MNIST \n",
        "- 손글씨 이미지 0부터 9까지 총10개 \n",
        "<img src=\"https://learnmachinelearning.files.wordpress.com/2017/08/mnist.png?w=638\" height=\"150px\">\n",
        "\n",
        "- 각 숫자 이미지는 28 pixel * 28 pixel   \n",
        "\n",
        "![대체 텍스트](https://encrypted-tbn0.gstatic.com/images?q=tbn%3AANd9GcRiYU_Wf8GiLoaAXWiCdJHm87IWjpOfTClkwg&usqp=CAU)\n",
        "\n",
        "\n",
        "- 손글씨 0~9 = 총 10개 * 각 600개 = 총 60000개\n",
        "- 학습 데이터 60000개, 테스트 데이터 10000개로 구성\n",
        "\n",
        "<img src = \"https://korchris.github.io/images/overview_mnist.png\">"
      ]
    },
    {
      "cell_type": "markdown",
      "metadata": {
        "id": "A7XPNrUy_AQS",
        "colab_type": "text"
      },
      "source": [
        "## 1. 데이터 로드"
      ]
    },
    {
      "cell_type": "code",
      "metadata": {
        "id": "X9Fuap8m9M_I",
        "colab_type": "code",
        "colab": {}
      },
      "source": [
        "from keras.datasets import mnist\n",
        "\n",
        "------ 빈 칸 ------"
      ],
      "execution_count": null,
      "outputs": []
    },
    {
      "cell_type": "code",
      "metadata": {
        "id": "bP-Ionzd-_su",
        "colab_type": "code",
        "colab": {}
      },
      "source": [
        "print(\"학습셋 이미지 수 :\", ------ 빈 칸 ------)\n",
        "print(\"테스트셋 이미지 수:\", ------ 빈 칸 ------)"
      ],
      "execution_count": null,
      "outputs": []
    },
    {
      "cell_type": "code",
      "metadata": {
        "id": "5vcaL3VM_GVD",
        "colab_type": "code",
        "colab": {}
      },
      "source": [
        "# 첫번째 숫자 살펴보기\n",
        "------ 빈 칸 ------"
      ],
      "execution_count": null,
      "outputs": []
    },
    {
      "cell_type": "code",
      "metadata": {
        "id": "8PpG31ZJM8Y1",
        "colab_type": "code",
        "colab": {}
      },
      "source": [
        "# 조금 더 예쁘게 출력해보자!\n",
        "import sys\n",
        "\n",
        "for x in ------ 빈 칸 ------:\n",
        "    for i in x:\n",
        "        sys.stdout.write('%d\\t' % i)\n",
        "    sys.stdout.write('\\n')"
      ],
      "execution_count": null,
      "outputs": []
    },
    {
      "cell_type": "code",
      "metadata": {
        "id": "VVhEH_TZ_IMK",
        "colab_type": "code",
        "colab": {}
      },
      "source": [
        "import matplotlib.pyplot as plt\n",
        "\n",
        "# 이미지로 출력해보기  \n",
        "------ 빈 칸 ------\n",
        "plt.show()\n",
        "\n",
        "# 해당 결과값은 ? \n",
        "print(------ 빈 칸 ------)"
      ],
      "execution_count": null,
      "outputs": []
    },
    {
      "cell_type": "code",
      "metadata": {
        "id": "ZDtsDwE_O-gJ",
        "colab_type": "code",
        "colab": {}
      },
      "source": [
        "# 숫자 10개 출력\n",
        "\n"
      ],
      "execution_count": null,
      "outputs": []
    },
    {
      "cell_type": "markdown",
      "metadata": {
        "id": "9I2onhXB_jMo",
        "colab_type": "text"
      },
      "source": [
        "#### 데이터 주물러보기"
      ]
    },
    {
      "cell_type": "code",
      "metadata": {
        "id": "soOSYOej_Vfr",
        "colab_type": "code",
        "colab": {}
      },
      "source": [
        "# 이미지 주무르기\n",
        "\n"
      ],
      "execution_count": null,
      "outputs": []
    },
    {
      "cell_type": "code",
      "metadata": {
        "id": "xCUo3E6O_nKe",
        "colab_type": "code",
        "colab": {}
      },
      "source": [
        "# 1을 7로 만들기\n",
        "\n"
      ],
      "execution_count": null,
      "outputs": []
    },
    {
      "cell_type": "code",
      "metadata": {
        "id": "r89yiwvG_6GP",
        "colab_type": "code",
        "colab": {}
      },
      "source": [
        "# 7을 2로 만들기\n",
        "\n"
      ],
      "execution_count": null,
      "outputs": []
    },
    {
      "cell_type": "code",
      "metadata": {
        "id": "VEyDqdbhABVO",
        "colab_type": "code",
        "colab": {}
      },
      "source": [
        "plt.imshow(------ 빈 칸 ------, cmap='gray')"
      ],
      "execution_count": null,
      "outputs": []
    },
    {
      "cell_type": "markdown",
      "metadata": {
        "id": "pEqbKQbiR_Xr",
        "colab_type": "text"
      },
      "source": [
        "## 2. 출력을 원 핫 인코딩 처리"
      ]
    },
    {
      "cell_type": "code",
      "metadata": {
        "id": "nILRVNmDSNTv",
        "colab_type": "code",
        "colab": {}
      },
      "source": [
        "\n"
      ],
      "execution_count": null,
      "outputs": []
    },
    {
      "cell_type": "code",
      "metadata": {
        "id": "OPGv5WAiAEZj",
        "colab_type": "code",
        "colab": {}
      },
      "source": [
        "import ------ 빈 칸 ------\n",
        "\n",
        "print('인코딩 전 학습/테스트 데이터', Y_train.shape, Y_test.shape)\n",
        "\n",
        "# 학습데이터의 Y를 원 핫 인코딩 처리\n",
        "Y_train = ------ 빈 칸 ------\n",
        "\n",
        "# 테스트 데이터의 Y를 원 핫 인코딩 처리\n",
        "Y_test = ------ 빈 칸 ------\n",
        "\n",
        "print('인코딩 후 학습/테스트 데이터',Y_train.shape, Y_test.shape)"
      ],
      "execution_count": null,
      "outputs": []
    },
    {
      "cell_type": "code",
      "metadata": {
        "id": "nQSZdeUAA6pD",
        "colab_type": "code",
        "colab": {}
      },
      "source": [
        ""
      ],
      "execution_count": null,
      "outputs": []
    },
    {
      "cell_type": "markdown",
      "metadata": {
        "id": "cGP2qLKCAGFF",
        "colab_type": "text"
      },
      "source": [
        "## 2. 딥러닝 모델 구성하기"
      ]
    },
    {
      "cell_type": "markdown",
      "metadata": {
        "id": "TdjgQ3g3Bp8z",
        "colab_type": "text"
      },
      "source": [
        "## Q. 손글씨 딥러닝 모델의 입력층 개수는?\n",
        "## Q. 출력층의 개수는?\n",
        "\n",
        "<img src = 'https://github.com/Ahnjihye/allinone_AI/blob/images/34_mnist%20%EA%B5%AC%EC%A1%B0.png?raw=true' width =700>"
      ]
    },
    {
      "cell_type": "markdown",
      "metadata": {
        "id": "VzeVcFhNBiKb",
        "colab_type": "text"
      },
      "source": [
        "### 2-1. model1 : 은닉층 없이 돌려보자"
      ]
    },
    {
      "cell_type": "code",
      "metadata": {
        "id": "LprbUis6BKtu",
        "colab_type": "code",
        "colab": {}
      },
      "source": [
        "from tensorflow.keras.models ------ 빈 칸 ------\n",
        "from tensorflow.keras.layers ------ 빈 칸 ------\n",
        "\n",
        "# 층을 쌓을 수 있는 Sequential의 객체 생성\n"
      ],
      "execution_count": null,
      "outputs": []
    },
    {
      "cell_type": "code",
      "metadata": {
        "id": "szHM8lz2WupW",
        "colab_type": "code",
        "colab": {}
      },
      "source": [
        "# 입력층에서 입력되는 이차원 리스트를 한 줄로 만들어주는 작업\n",
        "# 28*28 --> 784\n"
      ],
      "execution_count": null,
      "outputs": []
    },
    {
      "cell_type": "code",
      "metadata": {
        "id": "sZktWsScWwVt",
        "colab_type": "code",
        "colab": {}
      },
      "source": [
        "# 모델에 층 추가\n",
        "# 층은 Dense(노드개수, activation =활성화함수), \n",
        "# 입력층을 추가할 때만 input_dim 옵션\n"
      ],
      "execution_count": null,
      "outputs": []
    },
    {
      "cell_type": "code",
      "metadata": {
        "id": "4lCASE-DWxsf",
        "colab_type": "code",
        "colab": {}
      },
      "source": [
        "# 만든 딥러닝 구조를 컴파일\n"
      ],
      "execution_count": null,
      "outputs": []
    },
    {
      "cell_type": "code",
      "metadata": {
        "id": "pmVMTHC4B0kL",
        "colab_type": "code",
        "colab": {}
      },
      "source": [
        "# 딥러닝 구조에 데이터를 넣어 학습시키기\n"
      ],
      "execution_count": null,
      "outputs": []
    },
    {
      "cell_type": "code",
      "metadata": {
        "id": "C4CJsxV0CEDc",
        "colab_type": "code",
        "colab": {}
      },
      "source": [
        "def loss_graph(history):\n",
        "  # 손실값 그래프 그리기\n",
        "  plt.figure(figsize=[8,6])\n",
        "  plt.plot(history.history['loss'],'r',linewidth=3.0)\n",
        "  plt.plot(history.history['val_loss'],'b',linewidth=3.0)\n",
        "  plt.legend(['학습데이터 오차', '테스트 데이터 오차'],fontsize=18)\n",
        "  plt.xlabel('학습횟수 ',fontsize=16)\n",
        "  plt.ylabel('오차',fontsize=16)\n",
        "  plt.title('오차 그래프',fontsize=16)"
      ],
      "execution_count": null,
      "outputs": []
    },
    {
      "cell_type": "code",
      "metadata": {
        "id": "YBEqQgqLD4MQ",
        "colab_type": "code",
        "colab": {}
      },
      "source": [
        "loss_graph(------ 빈 칸 ------)"
      ],
      "execution_count": null,
      "outputs": []
    },
    {
      "cell_type": "code",
      "metadata": {
        "id": "5J7FvoavEBIv",
        "colab_type": "code",
        "colab": {}
      },
      "source": [
        "# 완성된 모델 평가하기\n",
        "\n",
        "\n",
        "print(score1)      #[오차, 정확도]"
      ],
      "execution_count": null,
      "outputs": []
    },
    {
      "cell_type": "code",
      "metadata": {
        "id": "McjUHF29a5lz",
        "colab_type": "code",
        "colab": {}
      },
      "source": [
        "# 최종 점수\n",
        "print(------ 빈 칸 ------)"
      ],
      "execution_count": null,
      "outputs": []
    },
    {
      "cell_type": "markdown",
      "metadata": {
        "id": "Pg1WftKBEP45",
        "colab_type": "text"
      },
      "source": [
        "### 2-2. model2 : 은닉층을 추가하여 돌려보자"
      ]
    },
    {
      "cell_type": "code",
      "metadata": {
        "id": "Y04OaBOSE82G",
        "colab_type": "code",
        "colab": {}
      },
      "source": [
        "from tensorflow.keras.models import Sequential\n",
        "from tensorflow.keras.layers import Dense, Flatten\n",
        "\n",
        "# 딥러닝 구조를 담을 수 있는 객체 생성하기\n"
      ],
      "execution_count": null,
      "outputs": []
    },
    {
      "cell_type": "code",
      "metadata": {
        "id": "HsnyAdQ_eBmb",
        "colab_type": "code",
        "colab": {}
      },
      "source": [
        "# 입력데이터 이차원 리스트를 한 줄로 flatten\n"
      ],
      "execution_count": null,
      "outputs": []
    },
    {
      "cell_type": "code",
      "metadata": {
        "id": "pVuOKKEaeBo5",
        "colab_type": "code",
        "colab": {}
      },
      "source": [
        "# 모델에 층 추가 : 입력층 784 --> 은닉층 512\n"
      ],
      "execution_count": null,
      "outputs": []
    },
    {
      "cell_type": "code",
      "metadata": {
        "id": "p7dOUqU7eBrh",
        "colab_type": "code",
        "colab": {}
      },
      "source": [
        "# 모델에 층 추가 : 은닉층 512 -> 출력층 10\n"
      ],
      "execution_count": null,
      "outputs": []
    },
    {
      "cell_type": "code",
      "metadata": {
        "id": "GScpg-IPeBt1",
        "colab_type": "code",
        "colab": {}
      },
      "source": [
        "# 만든 딥러닝 구조를 컴파일\n",
        "\n"
      ],
      "execution_count": null,
      "outputs": []
    },
    {
      "cell_type": "code",
      "metadata": {
        "id": "RDGETBFAFQg-",
        "colab_type": "code",
        "colab": {}
      },
      "source": [
        "# 작성한 딥러닝 구조에 데이터를 넣어 학습\n"
      ],
      "execution_count": null,
      "outputs": []
    },
    {
      "cell_type": "code",
      "metadata": {
        "id": "8KXN_LrjFV9A",
        "colab_type": "code",
        "colab": {}
      },
      "source": [
        "loss_graph(------ 빈 칸 ------)"
      ],
      "execution_count": null,
      "outputs": []
    },
    {
      "cell_type": "code",
      "metadata": {
        "id": "IErWpcZrFdwU",
        "colab_type": "code",
        "colab": {}
      },
      "source": [
        "# 완성된 모델 평가하기\n",
        "score2 = \n",
        "\n",
        "print(score2)      #[오차, 정확도]"
      ],
      "execution_count": null,
      "outputs": []
    },
    {
      "cell_type": "code",
      "metadata": {
        "id": "DcZjsbH8fI96",
        "colab_type": "code",
        "colab": {}
      },
      "source": [
        "# 최종 점수\n",
        "print(------ 빈 칸 ------)"
      ],
      "execution_count": null,
      "outputs": []
    },
    {
      "cell_type": "markdown",
      "metadata": {
        "id": "asoxygKpfiTO",
        "colab_type": "text"
      },
      "source": [
        "### 2-3. model3 : 입력데이터를 정규화하여 넣어보자"
      ]
    },
    {
      "cell_type": "code",
      "metadata": {
        "id": "FAAcV7iWEDRA",
        "colab_type": "code",
        "colab": {}
      },
      "source": [
        ""
      ],
      "execution_count": null,
      "outputs": []
    },
    {
      "cell_type": "markdown",
      "metadata": {
        "id": "MMXlkm7ZcjyW",
        "colab_type": "text"
      },
      "source": [
        "#### 정규화를 하는 이유 \n",
        "\n",
        "\n",
        "<img src = 'https://www.agilent.com/cs/promotions/images/before-after-normalization.png' width=700>\n",
        "\n",
        "[출처](https://www.agilent.com/en/products/cell-analysis/seahorse-xf-imaging-normalization-solution)\n",
        "\n",
        "<img src='https://i1.wp.com/hleecaster.com/wp-content/uploads/2019/12/outlier.png?w=1280' width =700>\n",
        "\n",
        "\n",
        "[참고 읽을거리](http://hleecaster.com/ml-normalization-concept/)"
      ]
    },
    {
      "cell_type": "code",
      "metadata": {
        "id": "nHO1vQrAEM2z",
        "colab_type": "code",
        "colab": {}
      },
      "source": [
        "# 픽셀값 0 ~ 255 를 0 ~ 1 사이의 값으로 정규화\n",
        "\n"
      ],
      "execution_count": null,
      "outputs": []
    },
    {
      "cell_type": "code",
      "metadata": {
        "id": "VrXVTJ7wEtJk",
        "colab_type": "code",
        "colab": {}
      },
      "source": [
        ""
      ],
      "execution_count": null,
      "outputs": []
    },
    {
      "cell_type": "code",
      "metadata": {
        "id": "T0cQLoyrEShm",
        "colab_type": "code",
        "colab": {}
      },
      "source": [
        "from tensorflow.keras.models import Sequential\n",
        "from tensorflow.keras.layers import Dense, Flatten\n",
        "\n",
        "# 딥러닝 층을 담을 수 있는 객체 생성\n"
      ],
      "execution_count": null,
      "outputs": []
    },
    {
      "cell_type": "code",
      "metadata": {
        "id": "7vYcHKBXgVoZ",
        "colab_type": "code",
        "colab": {}
      },
      "source": [
        "# 28*28을 한 줄로 만들어주는 작업\n"
      ],
      "execution_count": null,
      "outputs": []
    },
    {
      "cell_type": "code",
      "metadata": {
        "id": "FmHabnHVgVrB",
        "colab_type": "code",
        "colab": {}
      },
      "source": [
        "# 모델에 층 추가 : 입력층 784 --> 은닉층 512\n"
      ],
      "execution_count": null,
      "outputs": []
    },
    {
      "cell_type": "code",
      "metadata": {
        "id": "lTwecupnhB8J",
        "colab_type": "code",
        "colab": {}
      },
      "source": [
        "# 모델에 층 추가 : 은닉층 512 --> 출력층 10\n"
      ],
      "execution_count": null,
      "outputs": []
    },
    {
      "cell_type": "code",
      "metadata": {
        "id": "POfskAyIgVtk",
        "colab_type": "code",
        "colab": {}
      },
      "source": [
        "# 작성한 모델 컴파일\n",
        "\n"
      ],
      "execution_count": null,
      "outputs": []
    },
    {
      "cell_type": "code",
      "metadata": {
        "id": "N1Q9CCKjETHU",
        "colab_type": "code",
        "colab": {}
      },
      "source": [
        "# 작성한 모델에 학습데이터를 넣어 학습 \n",
        "# 현재  X_train에는 정규화 처리된 데이터가 저장되어 있음\n",
        "\n"
      ],
      "execution_count": null,
      "outputs": []
    },
    {
      "cell_type": "code",
      "metadata": {
        "id": "Ak62xgdiEoy1",
        "colab_type": "code",
        "colab": {}
      },
      "source": [
        "loss_graph(model3_result)"
      ],
      "execution_count": null,
      "outputs": []
    },
    {
      "cell_type": "code",
      "metadata": {
        "colab_type": "code",
        "id": "_9FwqcqZgsa4",
        "colab": {}
      },
      "source": [
        "# 완성된 모델 평가하기\n",
        "score3 = ------ 빈 칸 ------\n",
        "\n",
        "print(score3)      #[오차, 정확도]"
      ],
      "execution_count": null,
      "outputs": []
    },
    {
      "cell_type": "code",
      "metadata": {
        "colab_type": "code",
        "id": "hB4uDv8hgsa8",
        "colab": {}
      },
      "source": [
        "# 최종 점수\n",
        "print(------ 빈 칸 ------)"
      ],
      "execution_count": null,
      "outputs": []
    },
    {
      "cell_type": "markdown",
      "metadata": {
        "id": "xTuHgGjzQF5-",
        "colab_type": "text"
      },
      "source": [
        "## 내 손글씨를 인식할 수 있을까?\n",
        "\n",
        "<img src = 'https://github.com/Ahnjihye/allinone_AI/blob/images/35_%EA%B7%B8%EB%A6%BC%ED%8C%90.png?raw=true' width=700>"
      ]
    },
    {
      "cell_type": "code",
      "metadata": {
        "id": "MaTEBxt2FiUf",
        "colab_type": "code",
        "colab": {}
      },
      "source": [
        "from google.colab import files\n",
        "uploaded = files.upload()"
      ],
      "execution_count": null,
      "outputs": []
    },
    {
      "cell_type": "code",
      "metadata": {
        "id": "2C7jRh4WnpA7",
        "colab_type": "code",
        "colab": {}
      },
      "source": [
        "# 그림 파일 로드 및 사이즈 변경\n",
        "s = image.load_img('파일 이름', target_size=(28, 28), color_mode=\"grayscale\")\n",
        "s"
      ],
      "execution_count": null,
      "outputs": []
    },
    {
      "cell_type": "code",
      "metadata": {
        "id": "slV7aY6xn62l",
        "colab_type": "code",
        "colab": {}
      },
      "source": [
        "# 이미지를 넘파이로 바꾸기\n",
        "img = image.img_to_array(s).astype('float32')\n",
        "\n",
        "# 모델에 넣고 결과 확인해보기\n",
        "print(np.argmax(model3.predict(img.reshape(-1, 28, 28, 1))))"
      ],
      "execution_count": null,
      "outputs": []
    },
    {
      "cell_type": "code",
      "metadata": {
        "id": "yvVhsig3pSea",
        "colab_type": "code",
        "colab": {}
      },
      "source": [
        "from google.colab import files\n",
        "uploaded = files.upload()"
      ],
      "execution_count": null,
      "outputs": []
    },
    {
      "cell_type": "code",
      "metadata": {
        "id": "tCxoYW1voA7D",
        "colab_type": "code",
        "colab": {}
      },
      "source": [
        "# samples 변수에 손글씨 파일명 입력하기\n",
        "samples = ['1.png', '2.png', '3.png', '4.png', '5.png',\n",
        "           '6.png', '7.png', '8.png', '9.png', '0.png']\n",
        "\n",
        "# 내 손글씨 예측하기\n",
        "for f_name in samples:\n",
        "  s = image.load_img(f_name, target_size=(28, 28), color_mode=\"grayscale\")\n",
        "  img = image.img_to_array(s).astype('float32')\n",
        "  print(np.argmax(model3.predict(img.reshape(-1, 28, 28, 1))))"
      ],
      "execution_count": null,
      "outputs": []
    },
    {
      "cell_type": "code",
      "metadata": {
        "id": "cdKDAMw8pmZG",
        "colab_type": "code",
        "colab": {}
      },
      "source": [
        ""
      ],
      "execution_count": null,
      "outputs": []
    }
  ]
}