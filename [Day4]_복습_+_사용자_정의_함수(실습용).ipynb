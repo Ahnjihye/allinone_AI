{
  "nbformat": 4,
  "nbformat_minor": 0,
  "metadata": {
    "colab": {
      "name": "[Day4] 복습 + 사용자 정의 함수(실습용).ipynb",
      "provenance": [],
      "collapsed_sections": [],
      "include_colab_link": true
    },
    "kernelspec": {
      "name": "python3",
      "display_name": "Python 3"
    }
  },
  "cells": [
    {
      "cell_type": "markdown",
      "metadata": {
        "id": "view-in-github",
        "colab_type": "text"
      },
      "source": [
        "<a href=\"https://colab.research.google.com/github/Ahnjihye/allinone_AI/blob/master/%5BDay4%5D_%EB%B3%B5%EC%8A%B5_%2B_%EC%82%AC%EC%9A%A9%EC%9E%90_%EC%A0%95%EC%9D%98_%ED%95%A8%EC%88%98(%EC%8B%A4%EC%8A%B5%EC%9A%A9).ipynb\" target=\"_parent\"><img src=\"https://colab.research.google.com/assets/colab-badge.svg\" alt=\"Open In Colab\"/></a>"
      ]
    },
    {
      "cell_type": "markdown",
      "metadata": {
        "id": "bi4PMnN_vOrV",
        "colab_type": "text"
      },
      "source": [
        "# **복습**"
      ]
    },
    {
      "cell_type": "code",
      "metadata": {
        "id": "9vhXjaW63j-M",
        "colab_type": "code",
        "colab": {}
      },
      "source": [
        "# 리스트 슬라이싱\n",
        "\n",
        "data = [10, 20, 30, 40, 50]\n",
        "\n"
      ],
      "execution_count": null,
      "outputs": []
    },
    {
      "cell_type": "code",
      "metadata": {
        "id": "ywwvka9Q2TcK",
        "colab_type": "code",
        "colab": {}
      },
      "source": [
        "# 리스트에 데이터 추가\n",
        "\n",
        "data = [1,2,3]\n",
        "\n"
      ],
      "execution_count": null,
      "outputs": []
    },
    {
      "cell_type": "code",
      "metadata": {
        "id": "cMLxSY0hsQxu",
        "colab_type": "code",
        "colab": {}
      },
      "source": [
        "# 2차원리스트를 구성하는 각각의 1차원리스트에 접근 (데이터 추가)\n",
        "\n",
        "data = [[1,1], [2,2], [3,3]]\n",
        "\n"
      ],
      "execution_count": null,
      "outputs": []
    },
    {
      "cell_type": "code",
      "metadata": {
        "id": "eZSl_wqsupjO",
        "colab_type": "code",
        "colab": {}
      },
      "source": [
        "# 2차원리스트를 구성하는 각각의 1차원리스트에 접근 (데이터 변경)\n",
        "\n"
      ],
      "execution_count": null,
      "outputs": []
    },
    {
      "cell_type": "code",
      "metadata": {
        "id": "Jn8WNFkltfhD",
        "colab_type": "code",
        "colab": {}
      },
      "source": [
        "# 리스트 정렬\n",
        "\n",
        "data = [[7,2], [4,8], [1,5], [9,4], [2,7]]\n",
        "\n"
      ],
      "execution_count": null,
      "outputs": []
    },
    {
      "cell_type": "code",
      "metadata": {
        "id": "pFPAhcdHt2GT",
        "colab_type": "code",
        "colab": {}
      },
      "source": [
        "# 원하는 기준으로 리스트 정렬\n",
        "\n",
        "import operator\n",
        "\n"
      ],
      "execution_count": null,
      "outputs": []
    },
    {
      "cell_type": "code",
      "metadata": {
        "id": "d4h3BPwvvfGw",
        "colab_type": "code",
        "colab": {}
      },
      "source": [
        "# 데이터 시각화 (산점도 그리기)\n",
        "\n",
        "import matplotlib.pyplot as plt\n",
        "\n",
        "X = [2, 4, 6, 8, 10]\n",
        "Y = [6, 4, 8, 2, 3]\n",
        "\n"
      ],
      "execution_count": null,
      "outputs": []
    },
    {
      "cell_type": "code",
      "metadata": {
        "id": "Y8tuZlDV5Jfj",
        "colab_type": "code",
        "colab": {}
      },
      "source": [
        "data = [[2, 6], [4, 4], [6, 8], [8, 2], [10,3]]\n",
        "\n"
      ],
      "execution_count": null,
      "outputs": []
    },
    {
      "cell_type": "markdown",
      "metadata": {
        "id": "LXWMVTZdvJn6",
        "colab_type": "text"
      },
      "source": [
        "# **사용자 정의 함수**"
      ]
    },
    {
      "cell_type": "code",
      "metadata": {
        "id": "P5pp2mHfTjP9",
        "colab_type": "code",
        "colab": {}
      },
      "source": [
        "# 간단한 함수\n",
        "\n"
      ],
      "execution_count": null,
      "outputs": []
    },
    {
      "cell_type": "code",
      "metadata": {
        "id": "1b0Xvj76TKus",
        "colab_type": "code",
        "colab": {}
      },
      "source": [
        "# 매개변수가 있는 함수 (어떤 값을 전달하느냐에 따라 결과가 달라지기를 바랄 때)\n",
        "\n",
        "adult = 10000\n",
        "student = 8000\n",
        "\n",
        "def cal_total(x,y) :\n",
        "    total = adult*x + student*y\n",
        "    print('지불할 금액은', total, '원입니다.')\n",
        "\n"
      ],
      "execution_count": null,
      "outputs": []
    },
    {
      "cell_type": "code",
      "metadata": {
        "id": "Kp7OHXqR7-wn",
        "colab_type": "code",
        "colab": {}
      },
      "source": [
        "# 리턴값이 있는 함수 (함수 실행을 통해 얻은 결과값을 활용하고 싶을 때)\n",
        "\n",
        "def cal_cost(x,y) :\n",
        "    total = adult*x + student*y\n",
        "    return total\n",
        "\n"
      ],
      "execution_count": null,
      "outputs": []
    },
    {
      "cell_type": "code",
      "metadata": {
        "id": "nG-Mt3V1FBAJ",
        "colab_type": "code",
        "colab": {}
      },
      "source": [
        "# 파이썬에서는 여러 개의 리턴값을 한 번에 받을 수 있음 \n",
        "\n",
        "def calculate(x,y) :\n",
        "    result1 = x+y\n",
        "    result2 = x-y\n",
        "    return result1, result2\n",
        "\n"
      ],
      "execution_count": null,
      "outputs": []
    },
    {
      "cell_type": "markdown",
      "metadata": {
        "id": "F-t3cigHzrDg",
        "colab_type": "text"
      },
      "source": [
        "# **지역변수 전역변수**"
      ]
    },
    {
      "cell_type": "code",
      "metadata": {
        "id": "zwPPyjwvNung",
        "colab_type": "code",
        "colab": {}
      },
      "source": [
        "# 함수 밖에서 만들어진 변수에 접근(읽기) 가능\n",
        "\n",
        "a = 5\n",
        "\n",
        "def read() :\n",
        "    print(a)\n",
        "    b = a+5\n",
        "    print(b)\n",
        "\n"
      ],
      "execution_count": null,
      "outputs": []
    },
    {
      "cell_type": "code",
      "metadata": {
        "id": "ESuONHSigITK",
        "colab_type": "code",
        "colab": {}
      },
      "source": [
        "# 함수 내에서 [변수명 = 값] => 함수 내에서만 사용 가능한 새로운 변수 생성\n",
        "\n",
        "def change() :\n",
        "    a = 10\n",
        "    print(a)\n",
        "\n"
      ],
      "execution_count": null,
      "outputs": []
    },
    {
      "cell_type": "code",
      "metadata": {
        "id": "m_GmimlATf5M",
        "colab_type": "code",
        "colab": {}
      },
      "source": [
        ""
      ],
      "execution_count": null,
      "outputs": []
    },
    {
      "cell_type": "code",
      "metadata": {
        "id": "hcPMuTgak5w3",
        "colab_type": "code",
        "colab": {}
      },
      "source": [
        "# 변수를 공동으로 사용(읽기+쓰기)하고자 할 경우, 전역변수임을 명시\n",
        "\n",
        "def change2() :\n",
        "    a = 10\n",
        "    print(a)\n",
        "\n"
      ],
      "execution_count": null,
      "outputs": []
    },
    {
      "cell_type": "code",
      "metadata": {
        "id": "cKNkKofETkXS",
        "colab_type": "code",
        "colab": {}
      },
      "source": [
        ""
      ],
      "execution_count": null,
      "outputs": []
    },
    {
      "cell_type": "code",
      "metadata": {
        "id": "0F-YPkpSmJ_b",
        "colab_type": "code",
        "colab": {}
      },
      "source": [
        "# 함수 밖에 없는 변수도 전역변수로 지정 가능\n",
        "\n",
        "def change3() :\n",
        "    b = 0\n",
        "    print(b)\n",
        "\n"
      ],
      "execution_count": null,
      "outputs": []
    },
    {
      "cell_type": "code",
      "metadata": {
        "id": "RM3DRcTcCS-G",
        "colab_type": "code",
        "colab": {}
      },
      "source": [
        ""
      ],
      "execution_count": null,
      "outputs": []
    },
    {
      "cell_type": "code",
      "metadata": {
        "id": "MCDEQNk6oO-F",
        "colab_type": "code",
        "colab": {}
      },
      "source": [
        "# 다른 함수에서 생성된 전역변수 사용(읽기+쓰기)\n",
        "\n",
        "def change4() :\n",
        "    print(b+100)\n",
        "\n"
      ],
      "execution_count": null,
      "outputs": []
    },
    {
      "cell_type": "code",
      "metadata": {
        "id": "zkSSsf9ijztj",
        "colab_type": "code",
        "colab": {}
      },
      "source": [
        ""
      ],
      "execution_count": null,
      "outputs": []
    },
    {
      "cell_type": "code",
      "metadata": {
        "id": "7uXlWqkmktTX",
        "colab_type": "code",
        "colab": {}
      },
      "source": [
        "# 리스트 타입 : 함수 내에서 [변수명 = 값] => 함수 내에서만 사용 가능한 새로운 변수 생성  \n",
        "\n",
        "data = [4,5,6]\n",
        "\n",
        "def change5() :\n",
        "    data = [1,2,3]\n",
        "    print(data)\n",
        "\n"
      ],
      "execution_count": null,
      "outputs": []
    },
    {
      "cell_type": "code",
      "metadata": {
        "id": "NkPuouzFmdEc",
        "colab_type": "code",
        "colab": {}
      },
      "source": [
        "# 리스트 타입 : 변수를 공동으로 사용하고자 할 경우, 전역변수임을 명시  \n",
        "\n",
        "def change6() :\n",
        "    data = [1,2,3]\n",
        "    print(data)\n",
        "\n"
      ],
      "execution_count": null,
      "outputs": []
    },
    {
      "cell_type": "code",
      "metadata": {
        "id": "UHr3c-TAqYwS",
        "colab_type": "code",
        "colab": {}
      },
      "source": [
        "# 리스트 타입 : [변수명 = 값]이 아닌 다른 형태로는 수정 가능\n",
        "\n",
        "def change7() :\n",
        "    data.append(4)\n",
        "\n"
      ],
      "execution_count": null,
      "outputs": []
    }
  ]
}