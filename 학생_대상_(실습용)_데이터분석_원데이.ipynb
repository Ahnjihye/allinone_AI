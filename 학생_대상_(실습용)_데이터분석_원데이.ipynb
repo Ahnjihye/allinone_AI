{
  "nbformat": 4,
  "nbformat_minor": 0,
  "metadata": {
    "colab": {
      "name": "학생 대상 (실습용) 데이터분석 원데이.ipynb",
      "provenance": [],
      "collapsed_sections": [],
      "authorship_tag": "ABX9TyOLFxXZS8N6pakwXB6m3UzU",
      "include_colab_link": true
    },
    "kernelspec": {
      "name": "python3",
      "display_name": "Python 3"
    }
  },
  "cells": [
    {
      "cell_type": "markdown",
      "metadata": {
        "id": "view-in-github",
        "colab_type": "text"
      },
      "source": [
        "<a href=\"https://colab.research.google.com/github/Ahnjihye/allinone_AI/blob/students-oneday-class/%ED%95%99%EC%83%9D_%EB%8C%80%EC%83%81_(%EC%8B%A4%EC%8A%B5%EC%9A%A9)_%EB%8D%B0%EC%9D%B4%ED%84%B0%EB%B6%84%EC%84%9D_%EC%9B%90%EB%8D%B0%EC%9D%B4.ipynb\" target=\"_parent\"><img src=\"https://colab.research.google.com/assets/colab-badge.svg\" alt=\"Open In Colab\"/></a>"
      ]
    },
    {
      "cell_type": "markdown",
      "metadata": {
        "id": "oYkEGYI7uF50"
      },
      "source": [
        "# 1. 그래프 그리기"
      ]
    },
    {
      "cell_type": "markdown",
      "metadata": {
        "id": "jCz-YaTWWfDS"
      },
      "source": [
        "### 그래프를 그려주는 라이브러리 \n",
        "<img src='https://github.com/Ahnjihye/allinone_AI/blob/images/47_%EB%9D%BC%EC%9D%B4%EB%B8%8C%EB%9F%AC%EB%A6%AC.png?raw=true' width=500>\n",
        "\n",
        "</br>\n",
        "</br>\n",
        "</br>\n",
        "\n",
        "> 라이브러리는 다양한 명령어를 포함하고 있다. </br>\n",
        "> ex. operator 라이브러리 : 각종 연산자 명령어들 집합</br>\n",
        "> ex. tkinter 라이브러리 : 화면을 구성하는 다양한 명령어들 집합 (텍스트, 버튼, 콤보박스, 체크박스 등)</br>\n",
        "\n",
        "</br>\n",
        "</br>\n",
        "\n",
        "\n",
        "<img src='https://github.com/Ahnjihye/allinone_AI/blob/images/63_%EB%9D%BC%EC%9D%B4%EB%B8%8C%EB%9F%AC%EB%A6%AC%20matplotlib.png?raw=true' width = 500>\n",
        "\n",
        "</br>\n",
        "</br>\n",
        "</br>\n",
        "\n",
        "> 라이브러리 포함하는 방법 </br></br>\n",
        "> import 라이브러리명 as 닉네임</br></br>\n",
        "> 닉네임.명령어A()</br>\n",
        "> 닉네임.명령어B()</br>"
      ]
    },
    {
      "cell_type": "code",
      "metadata": {
        "id": "biyG6qVSTUnF"
      },
      "source": [
        "\n"
      ],
      "execution_count": null,
      "outputs": []
    },
    {
      "cell_type": "code",
      "metadata": {
        "id": "Vehi9X7WuGG2"
      },
      "source": [
        "\n"
      ],
      "execution_count": null,
      "outputs": []
    },
    {
      "cell_type": "code",
      "metadata": {
        "id": "3Stwfv6IuGJa"
      },
      "source": [
        "\n"
      ],
      "execution_count": null,
      "outputs": []
    },
    {
      "cell_type": "markdown",
      "metadata": {
        "id": "v7z3sy5wZZl1"
      },
      "source": [
        "#### 실습 1 : 매출그래프 그리기 \n",
        "\n",
        "```\n",
        "1-5월 매출이 다음과 같을 때, sales 변수에 넣어 매출 그래프를 그려보시오\n",
        "\n",
        "1월 = 1\n",
        "2월 = 5\n",
        "3월 = 7\n",
        "4월 = 3\n",
        "5월 = 7\n",
        "```\n",
        "\n"
      ]
    },
    {
      "cell_type": "code",
      "metadata": {
        "id": "NdQDSrMJuGLo"
      },
      "source": [
        "\n"
      ],
      "execution_count": null,
      "outputs": []
    },
    {
      "cell_type": "markdown",
      "metadata": {
        "id": "RcA4Ybc8akoE"
      },
      "source": [
        "### x축 추가하기\n",
        "\n",
        "\n",
        "```\n",
        "plt.plot(x축, y축)\n",
        "plt.show()\n",
        "```\n",
        "\n"
      ]
    },
    {
      "cell_type": "code",
      "metadata": {
        "id": "xxcnexay1W15"
      },
      "source": [
        "\n"
      ],
      "execution_count": null,
      "outputs": []
    },
    {
      "cell_type": "markdown",
      "metadata": {
        "id": "phhY2mTxa-vI"
      },
      "source": [
        "### 그래프 제목 추가하기\n",
        "\n",
        "\n",
        "```\n",
        "plt.title('제목')\n",
        "plt.plot(x축, y축)\n",
        "plt.show()\n",
        "```\n",
        "\n"
      ]
    },
    {
      "cell_type": "code",
      "metadata": {
        "id": "4a2tllq2bHqv"
      },
      "source": [
        "\n"
      ],
      "execution_count": null,
      "outputs": []
    },
    {
      "cell_type": "code",
      "metadata": {
        "id": "GIpv8hFY1Zd3"
      },
      "source": [
        "\n"
      ],
      "execution_count": null,
      "outputs": []
    },
    {
      "cell_type": "markdown",
      "metadata": {
        "id": "A9LD5PW_12OW"
      },
      "source": [
        "### 코랩에서 한글 폰트 설정\n",
        "1) 한글 폰트 코드 실행 \n",
        "\n",
        "2) 런타임 - 런타임 다시시작 \n",
        "\n",
        "3) 다시 한글폰트 실행\n",
        "\n",
        "\n",
        "\n",
        "```\n",
        "# 한글 폰트 설정\n",
        "import matplotlib.pyplot as plt\n",
        "import matplotlib as mpl\n",
        "import matplotlib.pyplot as plt\n",
        " \n",
        "%config InlineBackend.figure_format = 'retina'\n",
        " \n",
        "!apt -qq -y install fonts-nanum\n",
        " \n",
        "import matplotlib.font_manager as fm\n",
        "fontpath = '/usr/share/fonts/truetype/nanum/NanumBarunGothic.ttf'\n",
        "font = fm.FontProperties(fname=fontpath, size=9)\n",
        "plt.rc('font', family='NanumGothic') \n",
        "mpl.font_manager._rebuild()\n",
        "```\n",
        "\n"
      ]
    },
    {
      "cell_type": "code",
      "metadata": {
        "id": "z_Sl3Cpo1Zgn"
      },
      "source": [
        "# 한글 폰트 설정 코드 -> 런타임 다시 시작 -> 재실행 \n",
        "\n"
      ],
      "execution_count": null,
      "outputs": []
    },
    {
      "cell_type": "code",
      "metadata": {
        "id": "CK5BxVMS1W4e"
      },
      "source": [
        "\n"
      ],
      "execution_count": null,
      "outputs": []
    },
    {
      "cell_type": "markdown",
      "metadata": {
        "id": "wqsdr57tbizJ"
      },
      "source": [
        "### 그래프 색상 변경\n",
        "\n",
        "\n",
        "```\n",
        "# 그래프 그리는 명령어에 color 옵션 추가\n",
        "plt.plot(x축, y축, color = 'r')\n",
        "```\n",
        "\n"
      ]
    },
    {
      "cell_type": "code",
      "metadata": {
        "id": "X5oiodjF1W7N"
      },
      "source": [
        "\n"
      ],
      "execution_count": null,
      "outputs": []
    },
    {
      "cell_type": "markdown",
      "metadata": {
        "id": "i7uniz-93Olm"
      },
      "source": [
        "<img src = 'https://github.com/Ahnjihye/allinone_AI/blob/images/22_%EA%B7%B8%EB%9E%98%ED%94%84%20%EC%BB%AC%EB%9F%AC.png?raw=true' width = 500>"
      ]
    },
    {
      "cell_type": "markdown",
      "metadata": {
        "id": "G9AbfhrAb3FP"
      },
      "source": [
        "#### 실습 2 : 원하는 색상으로 매출그래프 변경해보기"
      ]
    },
    {
      "cell_type": "code",
      "metadata": {
        "id": "8hH3aomub79-"
      },
      "source": [
        ""
      ],
      "execution_count": null,
      "outputs": []
    },
    {
      "cell_type": "markdown",
      "metadata": {
        "id": "R3AjOkBIb8ni"
      },
      "source": [
        "### 해상도 설정 : 그래프를 선명하게 \n",
        "\n",
        "\n",
        "```\n",
        "plt.figure(dpi=해상도)\n",
        "plt.title('제목')\n",
        "plt.plot(x축, y축, color = '')\n",
        "plt.show()\n",
        "```\n",
        "cf. dpi = dot per inch (1인치에 얼마나 많은 dot이 있는가) </br>\n",
        "<img src='https://y001224.cdn3.cafe24.com/dpi_explain_1.png' width = 200>\n",
        "<img src='https://www.pixtastock.com/blog/wp-content/uploads/2014/10/64' width = 300>\n",
        "<img src='https://files.cdn.printful.com/o/upload/file-upload/3f/3fb15e31bbc20b71c1241ecbcc564f88_l?v=cbdca71537087c51d8a806016f13c7d4' width=400>\n",
        "</br>\n",
        " resolution = 해상도\n"
      ]
    },
    {
      "cell_type": "code",
      "metadata": {
        "id": "SecipY6Q3R1k"
      },
      "source": [
        "\n"
      ],
      "execution_count": null,
      "outputs": []
    },
    {
      "cell_type": "markdown",
      "metadata": {
        "id": "JMWi-VCudaDM"
      },
      "source": [
        "### 범례 나타내기 \n",
        "\n",
        "\n",
        "```\n",
        "plt.plot(x축, y축, label = '범례 내용')\n",
        "plt.legend()      # 범례를 화면에 나타내기\n",
        "plt.show()\n",
        "```\n",
        "\n"
      ]
    },
    {
      "cell_type": "code",
      "metadata": {
        "id": "svj84rbv3R4O"
      },
      "source": [
        "\n",
        "\n"
      ],
      "execution_count": null,
      "outputs": []
    },
    {
      "cell_type": "markdown",
      "metadata": {
        "id": "eZjmElRi2y4T"
      },
      "source": [
        "## 그래프 그리는 포맷\n",
        "\n",
        "\n",
        "```\n",
        "import matplotlib.pyplot as plt\n",
        "\n",
        "plt.title('그래프 제목')\n",
        "plt.plot(x축 데이터, y축 데이터)\n",
        "plt.show()\n",
        "```\n",
        "\n",
        "그래프 명령어 plt.plot()의 추가옵션\n",
        "\n",
        "\n",
        "```\n",
        "color = '색상이름'             \n",
        "label = '범례내용'\n",
        "```\n",
        "\n",
        "기타 사용가능한 명령어\n",
        "\n",
        "\n",
        "```\n",
        "plt.figure(dpi=150)     # 그래프 해상도 설정 \n",
        "plt.legend()            # 범례 나타내기\n",
        "```\n",
        "\n",
        "\n",
        "\n",
        "\n",
        "\n"
      ]
    },
    {
      "cell_type": "markdown",
      "metadata": {
        "id": "oHuXRLzd34dm"
      },
      "source": [
        "# 2. 다양한 그래프\n",
        "### plt.bar() : 막대그래프 - 세로형"
      ]
    },
    {
      "cell_type": "code",
      "metadata": {
        "id": "4cUyKl6d2UjY"
      },
      "source": [
        "\n"
      ],
      "execution_count": null,
      "outputs": []
    },
    {
      "cell_type": "markdown",
      "metadata": {
        "id": "_q8F5leMfFmr"
      },
      "source": [
        "### plt.barh() : 막대그래프 - 가로형"
      ]
    },
    {
      "cell_type": "code",
      "metadata": {
        "id": "qPXXo7Jr2Ulf"
      },
      "source": [
        "\n"
      ],
      "execution_count": null,
      "outputs": []
    },
    {
      "cell_type": "code",
      "metadata": {
        "id": "vaeAA1M_eUGI"
      },
      "source": [
        "\n"
      ],
      "execution_count": null,
      "outputs": []
    },
    {
      "cell_type": "code",
      "metadata": {
        "id": "qK7I4gDTegLb"
      },
      "source": [
        "\n"
      ],
      "execution_count": null,
      "outputs": []
    },
    {
      "cell_type": "markdown",
      "metadata": {
        "id": "uIJ-1Ky3e1MD"
      },
      "source": [
        "plt.bar(), plt.barh()는 x축 리스트, y축 리스트 두 개 모두 넣어야 한다."
      ]
    },
    {
      "cell_type": "markdown",
      "metadata": {
        "id": "TJAcLdaFfLZs"
      },
      "source": [
        "### plt.hist() : 히스토그램 \n"
      ]
    },
    {
      "cell_type": "code",
      "metadata": {
        "id": "toqwyoVFgG1C"
      },
      "source": [
        "\n"
      ],
      "execution_count": null,
      "outputs": []
    },
    {
      "cell_type": "code",
      "metadata": {
        "id": "AqFlGEnV2UqC"
      },
      "source": [
        "\n"
      ],
      "execution_count": null,
      "outputs": []
    },
    {
      "cell_type": "markdown",
      "metadata": {
        "id": "wNPD_4QmiK3S"
      },
      "source": [
        "### plt.scatter() : 산점도 \n",
        "\n",
        "> 국어를 잘하는 친구가 영어도 잘할까? 같은 언어과목이긴 한데 과연 그럴까? \n",
        "\n",
        "\n",
        "```\n",
        "국어점수와 영어점수의 상관관계 알아보기\n",
        "\n",
        "kor =[80, 20, 50, 20, 10, 50, 60, 30, 60]\n",
        "eng =[90, 40, 60, 40, 10, 30, 50, 70, 90]\n",
        "```\n"
      ]
    },
    {
      "cell_type": "code",
      "metadata": {
        "id": "7M2BWKdu49qw"
      },
      "source": [
        "\n"
      ],
      "execution_count": null,
      "outputs": []
    },
    {
      "cell_type": "markdown",
      "metadata": {
        "id": "5WTso0tX1avg"
      },
      "source": [
        "<img src = 'https://github.com/Ahnjihye/allinone_AI/blob/images/23_scatter.png?raw=true' width=800>"
      ]
    },
    {
      "cell_type": "markdown",
      "metadata": {
        "id": "UW5kHmlPi4SM"
      },
      "source": [
        "#### x축 이름, y축 이름 붙이기\n",
        "\n",
        "\n",
        "```\n",
        "plt.xlabel('x축 이름')\n",
        "plt.ylabel('y축 이름')\n",
        "```\n",
        "\n"
      ]
    },
    {
      "cell_type": "code",
      "metadata": {
        "id": "o8txxthe5IKJ"
      },
      "source": [
        "\n"
      ],
      "execution_count": null,
      "outputs": []
    },
    {
      "cell_type": "markdown",
      "metadata": {
        "id": "RXK9-hoI5IQM"
      },
      "source": [
        "# 그래프 명령어 정리 \n",
        "**그래프 그리는 포맷**\n",
        "```\n",
        "import matplotlib.pyplot as plt\n",
        "\n",
        "plt.title('그래프 제목')\n",
        "# --- 그래프 형태에 따라 알맞은 명령어 넣기 ---\n",
        "plt.show()\n",
        "```\n",
        "    \n",
        "\n",
        "**그래프 유형별 명령어**\n",
        "```\n",
        "# ---- 그래프 유형별 명령어\n",
        "# 꺾은선그래프\n",
        "plt.plot([x축 리스트], [y축 리스트])\n",
        "\n",
        "# 막대그래프 세로\n",
        "plt.bar([x축 리스트], [y축 리스트])\n",
        "\n",
        "# 막대그래프 가로\n",
        "plt.barh([x축 리스트], [y축 리스트])\n",
        "\n",
        "# 히스토그램 (x축, y축을 구분하지 않고 하나의 리스트만 넣음)\n",
        "plt.hist( [리스트], bins = 구간개수 )\n",
        "\n",
        "# 원 그래프 (x축, y축을 구분하지 않고 하나의 리스트만 넣음)\n",
        "plt.pie( [리스트], labels = [데이터 구간 이름])\n",
        "\n",
        "# 산점도\n",
        "plt.scatter([x축 리스트], [y축 리스트])\n",
        "```\n",
        "\n",
        "**그래프 명령어 내에 추가 가능한 옵션**\n",
        "\n",
        "```\n",
        "color = '색상이름' \n",
        "alpha = 투명도\n",
        "\n",
        "# plt.plot(), plt.bar(), plt.barh(), plt.scatter()는 label 사용\n",
        "label = '범례내용'\n",
        "\n",
        "# plt.pie(), plt.boxplot()은 labels 사용\n",
        "labels = [범례 리스트]\n",
        "\n",
        "# plt.pie()에 퍼센트 자동 표시\n",
        "autopct = ‘%1.1%%’\n",
        "```\n",
        "\n",
        "**기타 사용가능한 명령어**\n",
        "\n",
        "\n",
        "```\n",
        "plt.legend()            # 범례 나타내기\n",
        "plt.xlabel()            # x축 이름 붙이기\n",
        "plt.ylabel()            # y축 이름 붙이기\n",
        "```\n",
        "\n",
        "\n",
        "\n"
      ]
    },
    {
      "cell_type": "markdown",
      "metadata": {
        "id": "S-VVNZ_HujPs"
      },
      "source": [
        "# 3. 이차원 리스트 \n",
        "<img src ='https://github.com/Ahnjihye/allinone_AI/blob/images/14_%EC%9D%B4%EC%B0%A8%EC%9B%90%20%EB%A6%AC%EC%8A%A4%ED%8A%B8.png?raw=true' width=500>"
      ]
    },
    {
      "cell_type": "code",
      "metadata": {
        "id": "4acOxb9Dul8O"
      },
      "source": [
        "\n"
      ],
      "execution_count": null,
      "outputs": []
    },
    {
      "cell_type": "code",
      "metadata": {
        "id": "BQ0u3IM-yUd_"
      },
      "source": [
        ""
      ],
      "execution_count": null,
      "outputs": []
    },
    {
      "cell_type": "code",
      "metadata": {
        "id": "gyt8s3mtpiTF"
      },
      "source": [
        ""
      ],
      "execution_count": null,
      "outputs": []
    },
    {
      "cell_type": "code",
      "metadata": {
        "id": "vIwkSkIuyYwV"
      },
      "source": [
        "\n"
      ],
      "execution_count": null,
      "outputs": []
    },
    {
      "cell_type": "markdown",
      "metadata": {
        "id": "-bbMjsKVyY4B"
      },
      "source": [
        "<img src = 'https://github.com/Ahnjihye/allinone_AI/blob/images/16_%EC%9D%B4%EC%B0%A8%EC%9B%90%20%EB%A6%AC%EC%8A%A4%ED%8A%B8%20%EB%B0%98%EB%B3%B5%EA%B5%AC%EC%A1%B0.png?raw=true' width=700>"
      ]
    },
    {
      "cell_type": "markdown",
      "metadata": {
        "id": "IROs-Ha0yUj2"
      },
      "source": [
        "<img src = 'https://github.com/Ahnjihye/allinone_AI/blob/images/15_%EC%9D%B4%EC%B0%A8%EC%9B%90%20%EB%A6%AC%EC%8A%A4%ED%8A%B8%20%EC%9D%B8%EB%8D%B1%EC%8A%A4.png?raw=true' width = 500>"
      ]
    },
    {
      "cell_type": "code",
      "metadata": {
        "id": "1U_e8JPXul-I"
      },
      "source": [
        "# 5 출력하기\n"
      ],
      "execution_count": null,
      "outputs": []
    },
    {
      "cell_type": "code",
      "metadata": {
        "id": "lhEJ64vTumAI"
      },
      "source": [
        "# 7 출력하기\n"
      ],
      "execution_count": null,
      "outputs": []
    },
    {
      "cell_type": "markdown",
      "metadata": {
        "id": "boLtg1jl1NMj"
      },
      "source": [
        "#### 실습 3 : 반복문을 활용하여 이차원 리스트 abc의 첫번째 데이터(1, 4, 7)만 출력\n",
        "\n"
      ]
    },
    {
      "cell_type": "code",
      "metadata": {
        "id": "t4LqJgCdyh03"
      },
      "source": [
        "\n"
      ],
      "execution_count": null,
      "outputs": []
    },
    {
      "cell_type": "markdown",
      "metadata": {
        "id": "UyHq-fQ71akY"
      },
      "source": [
        "#### 실습 4 : 반복문을 활용하여 이차원 리스트 abc의 마지막 데이터(3, 6, 9)만 출력"
      ]
    },
    {
      "cell_type": "code",
      "metadata": {
        "id": "N3J7nAOrrTWs"
      },
      "source": [
        "\n"
      ],
      "execution_count": null,
      "outputs": []
    },
    {
      "cell_type": "markdown",
      "metadata": {
        "id": "HK1BfO5zyiHJ"
      },
      "source": [
        "<img src= 'https://github.com/Ahnjihye/allinone_AI/blob/images/17_%EC%98%AC%EB%A6%BC%ED%94%BD.png?raw=true' width=500>\n",
        "\n",
        "\n",
        "\n",
        "```\n",
        "olympic =[\n",
        "          [1,'미국',46,37,38,121],\n",
        "          [2,'영국',27,23,17,67],\n",
        "          [3,'중국',26,18,26,70],\n",
        "          [4,'러시아',19,18,19,56],\n",
        "          [5,'독일',17,10,15,42],\n",
        "          [6,'일본',12,8,21,41],\n",
        "          [7,'프랑스',10,18,14,42],\n",
        "          [8,'대한민국',9,3,9,21] \n",
        "        ]\n",
        "```\n",
        "\n"
      ]
    },
    {
      "cell_type": "code",
      "metadata": {
        "id": "zAmf-fO5yh3Q"
      },
      "source": [
        ""
      ],
      "execution_count": null,
      "outputs": []
    },
    {
      "cell_type": "markdown",
      "metadata": {
        "id": "ZLUYChHh1i0F"
      },
      "source": [
        "#### 실습 5 : 2016년 올림픽 순위권에 든 모든 국가를 출력하시오"
      ]
    },
    {
      "cell_type": "code",
      "metadata": {
        "id": "-fwtxKmByh5a"
      },
      "source": [
        ""
      ],
      "execution_count": null,
      "outputs": []
    },
    {
      "cell_type": "code",
      "metadata": {
        "id": "XfL15yI1zJxt"
      },
      "source": [
        "# 나라 이름에 글자 '국'이 들어간 모든 국가를 출력하시오\n",
        "\n"
      ],
      "execution_count": null,
      "outputs": []
    },
    {
      "cell_type": "markdown",
      "metadata": {
        "id": "Uis92sW9zVYy"
      },
      "source": [
        "#### 글자 포함 유무를 비교하는 연산자\n",
        " \n",
        "\n",
        "```\n",
        "'글자' in '통글자' \n",
        "'글자' not in '통글자' \n",
        "```\n",
        "\n",
        "\n",
        "```\n",
        "if '국' in 000 : \n",
        "\n",
        "if '국' not in 000 : \n",
        "```\n",
        "\n",
        "\n"
      ]
    },
    {
      "cell_type": "markdown",
      "metadata": {
        "id": "9Ia4-Kea1oV5"
      },
      "source": [
        "#### 실습 6 : 나라이름에 글자 '국'이 들어가지 않은 모든 국가를 출력하기"
      ]
    },
    {
      "cell_type": "code",
      "metadata": {
        "id": "v9y2B_vozxq4"
      },
      "source": [
        "\n"
      ],
      "execution_count": null,
      "outputs": []
    },
    {
      "cell_type": "markdown",
      "metadata": {
        "id": "GUeAJqKb1tBo"
      },
      "source": [
        "#### 실습 7 : 8개 국가의 총 금메달 개수 구하기"
      ]
    },
    {
      "cell_type": "code",
      "metadata": {
        "id": "GdqUzs-zyh-z"
      },
      "source": [
        "\n"
      ],
      "execution_count": null,
      "outputs": []
    },
    {
      "cell_type": "markdown",
      "metadata": {
        "id": "ehn_kQ9d1xtQ"
      },
      "source": [
        "#### 실습 8 : 금메달 개수보다 동메달 개수가 많은 나라를 출력하시오"
      ]
    },
    {
      "cell_type": "code",
      "metadata": {
        "id": "dPMLi6p1ypp5"
      },
      "source": [
        "# 금메달보다 동메달 개수가 많은 나라를 출력하시오\n",
        "\n"
      ],
      "execution_count": null,
      "outputs": []
    },
    {
      "cell_type": "markdown",
      "metadata": {
        "id": "9K2fLhMD12Aj"
      },
      "source": [
        "#### 실습 9 : x축은 국가명, y축은 금메달개수 꺾은선 그래프 그리기 \n"
      ]
    },
    {
      "cell_type": "code",
      "metadata": {
        "id": "l4xLq5WFtEvo"
      },
      "source": [
        "# x축은 국가명, y축은 금메달개수 꺾은선 그래프 그리기 \n",
        "\n"
      ],
      "execution_count": null,
      "outputs": []
    },
    {
      "cell_type": "code",
      "metadata": {
        "id": "kmNA_F72luf4"
      },
      "source": [
        "\n"
      ],
      "execution_count": null,
      "outputs": []
    },
    {
      "cell_type": "markdown",
      "metadata": {
        "id": "Z9lRPdj52Crf"
      },
      "source": [
        "#### 실습 10 : x축은 국가명, y축은 금메달개수 막대 그래프 그리기 (x축, y축 이름 추가)"
      ]
    },
    {
      "cell_type": "code",
      "metadata": {
        "id": "y_TRydEyl4zk"
      },
      "source": [
        "\n"
      ],
      "execution_count": null,
      "outputs": []
    },
    {
      "cell_type": "markdown",
      "metadata": {
        "id": "c3j6U_RWmlnM"
      },
      "source": [
        "#### 실습 11: 아래 궁금증을 해결하는 그래프를 그려보자\n",
        "> 금메달이 많을수록 총 메달이 많을까? </br>\n",
        "> 어떤 그래프가 가장 잘 표현할 수 있을까?\n",
        "\n",
        "\n"
      ]
    },
    {
      "cell_type": "code",
      "metadata": {
        "id": "Uex34s1wmhxL"
      },
      "source": [
        "\n"
      ],
      "execution_count": null,
      "outputs": []
    },
    {
      "cell_type": "code",
      "metadata": {
        "id": "OdOt6LGYm6bl"
      },
      "source": [
        "\n"
      ],
      "execution_count": null,
      "outputs": []
    },
    {
      "cell_type": "markdown",
      "metadata": {
        "id": "ac2w3Rv533Tn"
      },
      "source": [
        "### 모든 나라의 금메달, 은메달, 동메달 그래프 한번에 그리기"
      ]
    },
    {
      "cell_type": "code",
      "metadata": {
        "id": "kdJf0eqG32sD"
      },
      "source": [
        "\n"
      ],
      "execution_count": null,
      "outputs": []
    },
    {
      "cell_type": "markdown",
      "metadata": {
        "id": "alBPxrxB4cng"
      },
      "source": [
        "#### 실습 12 : 위 그래프에 범례(라벨)과 x축/y축 이름 추가해보기"
      ]
    },
    {
      "cell_type": "code",
      "metadata": {
        "id": "wk-idFHZ4lI3"
      },
      "source": [
        "\n"
      ],
      "execution_count": null,
      "outputs": []
    },
    {
      "cell_type": "markdown",
      "metadata": {
        "id": "R032dHnvuLca"
      },
      "source": [
        "## 3. 파일 업로드 & 데이터 분석\n",
        "\n",
        "#### csv 파일이란? \n",
        "comma seperated values의 약자로\n",
        "콤마(,)로 분리된 파일\n",
        "\n",
        "<img src='https://github.com/Ahnjihye/allinone_AI/blob/images/18_csv%ED%8C%8C%EC%9D%BC.png?raw=true' width=800>\n",
        "\n",
        "\n",
        "\n",
        "```\n",
        "# 코랩에 파일 업로드하는 방법\n",
        " \n",
        "from google.colab import files\n",
        "uploaded = files.upload()\n",
        "```\n",
        "\n"
      ]
    },
    {
      "cell_type": "code",
      "metadata": {
        "id": "xMe9NjEmuO2o"
      },
      "source": [
        "\n"
      ],
      "execution_count": null,
      "outputs": []
    },
    {
      "cell_type": "markdown",
      "metadata": {
        "id": "856yefHCuK2D"
      },
      "source": [
        "### csv 파일을 파이썬으로 읽어오기 \n",
        "\n",
        "\n",
        "\n",
        "1.   파일 open\n",
        "2.   파일 읽기 reader\n",
        "3.   파일 헤더 건너뛰기\n",
        "4.   파일을 리스트로 바꾸기\n",
        "\n",
        "\n",
        "\n",
        "```\n",
        "# csv 라이브러리 임포트\n",
        "import csv \n",
        "\n",
        "f = open('파일명.csv')       # 파일 오픈\n",
        "data = csv.reader(f)         # 파일 읽기 reader\n",
        "next(data)                   # 파일 헤더 건너뛰기 \n",
        "data = list(data)            # 파일 리스트로 바꾸기\n",
        "```\n",
        "\n"
      ]
    },
    {
      "cell_type": "code",
      "metadata": {
        "id": "--E-FxMCuRlC"
      },
      "source": [
        "\n"
      ],
      "execution_count": null,
      "outputs": []
    },
    {
      "cell_type": "code",
      "metadata": {
        "id": "q3t86Z5LuRm7"
      },
      "source": [
        ""
      ],
      "execution_count": null,
      "outputs": []
    },
    {
      "cell_type": "markdown",
      "metadata": {
        "id": "QjjysIWDqm34"
      },
      "source": [
        "<img src='https://github.com/Ahnjihye/allinone_AI/blob/images/64_%EC%B9%B4%EB%93%9C%EB%8D%B0%EC%9D%B4%ED%84%B0.png?raw=true'>"
      ]
    },
    {
      "cell_type": "code",
      "metadata": {
        "id": "4bnAQFR9uRo7"
      },
      "source": [
        ""
      ],
      "execution_count": null,
      "outputs": []
    },
    {
      "cell_type": "markdown",
      "metadata": {
        "id": "mCKJAnCsuO7z"
      },
      "source": [
        "### 파이썬으로 읽어들인 데이터 분석하기!"
      ]
    },
    {
      "cell_type": "markdown",
      "metadata": {
        "id": "89v0MUZ4y0uJ"
      },
      "source": [
        "<img src ='https://github.com/Ahnjihye/allinone_AI/blob/images/19_%EB%8D%B0%EC%9D%B4%ED%84%B0%20%EA%B5%AC%EC%A1%B0.png?raw=true' width=600>"
      ]
    },
    {
      "cell_type": "code",
      "metadata": {
        "id": "AaAfV1s_qzOR"
      },
      "source": [
        "# 총 데이터의 개수는?\n"
      ],
      "execution_count": null,
      "outputs": []
    },
    {
      "cell_type": "code",
      "metadata": {
        "id": "0SSz-ZSvuRrV"
      },
      "source": [
        "# 카드이용일자 모두 출력하기\n"
      ],
      "execution_count": null,
      "outputs": []
    },
    {
      "cell_type": "code",
      "metadata": {
        "id": "RIz2XBOey6wh"
      },
      "source": [
        "# 카드 사용금액 모두 출력하기\n"
      ],
      "execution_count": null,
      "outputs": []
    },
    {
      "cell_type": "markdown",
      "metadata": {
        "id": "RzWt9ggxy7Ap"
      },
      "source": [
        "<img src ='https://github.com/Ahnjihye/allinone_AI/blob/images/20_%EB%8D%B0%EC%9D%B4%ED%84%B0%EB%B6%84%EC%84%9D%20%EB%B0%98%EB%B3%B5%EB%AC%B8.png?raw=true' width=800>"
      ]
    },
    {
      "cell_type": "code",
      "metadata": {
        "id": "JdHc9hvCy6y7"
      },
      "source": [
        "# 카드 사용처와 금액 모두 출력하기\n"
      ],
      "execution_count": null,
      "outputs": []
    },
    {
      "cell_type": "code",
      "metadata": {
        "id": "NgwKIIVszjfN"
      },
      "source": [
        "# 카드 사용처와 금액 모두 출력하기\n"
      ],
      "execution_count": null,
      "outputs": []
    },
    {
      "cell_type": "markdown",
      "metadata": {
        "id": "1IpuG5Jvy7Vk"
      },
      "source": [
        "<img src = 'https://github.com/Ahnjihye/allinone_AI/blob/images/21_%EB%8D%B0%EC%9D%B4%ED%84%B0%EB%B6%84%EC%84%9D_%EB%B0%98%EB%B3%B5%EB%AC%B82.png?raw=true' width=800>"
      ]
    },
    {
      "cell_type": "code",
      "metadata": {
        "id": "XDbYFvliy61T"
      },
      "source": [
        "# 3개월간 사용한 총 금액은? ^_ㅠ??\n"
      ],
      "execution_count": null,
      "outputs": []
    },
    {
      "cell_type": "markdown",
      "metadata": {
        "id": "sk_9v2hLyrNk"
      },
      "source": [
        "> 파일로 읽어들인 데이터는 모두 문자이다.  </br>\n",
        "> 따라서 연산하려면 숫자로 변경해주어야 함!!"
      ]
    },
    {
      "cell_type": "code",
      "metadata": {
        "id": "Oaq__8xwyu7P"
      },
      "source": [
        "# 3개월간 사용한 총 금액은? ^_ㅠ??\n",
        "\n"
      ],
      "execution_count": null,
      "outputs": []
    },
    {
      "cell_type": "markdown",
      "metadata": {
        "id": "R2gvf4J8rS9s"
      },
      "source": [
        "매입상태를 잘 살펴보자 \n",
        "\n",
        "<img src='https://github.com/Ahnjihye/allinone_AI/blob/images/64_%EC%B9%B4%EB%93%9C%EB%8D%B0%EC%9D%B4%ED%84%B0.png?raw=true' width=800>"
      ]
    },
    {
      "cell_type": "code",
      "metadata": {
        "id": "-A7grbYry7JZ"
      },
      "source": [
        "# 3개월간 사용한 \"진짜\" 총 금액은? ^_ㅠ??\n",
        "\n"
      ],
      "execution_count": null,
      "outputs": []
    },
    {
      "cell_type": "markdown",
      "metadata": {
        "id": "KKcsbWawz7_8"
      },
      "source": [
        "# 4. 진짜! 데이터 분석!\n",
        "### 분석 1 : 10월, 11월, 12월 지출액을 그래프로 그리기\n",
        "\n",
        "> 잠깐! 그래프로 그리려면?      </br>\n",
        "> plt.plot()안에 뭐가 필요할까?\n",
        "\n"
      ]
    },
    {
      "cell_type": "markdown",
      "metadata": {
        "id": "b0rJSIsNxZq4"
      },
      "source": [
        "<img src = 'https://github.com/Ahnjihye/allinone_AI/blob/images/24_%EC%B9%B4%EB%93%9C%20%EB%A6%AC%EC%8A%A4%ED%8A%B8.png?raw=true' width = 400>\n",
        "\n",
        "</br>\n",
        "</br>\n",
        "\n",
        "*   10월 -> [0]\n",
        "*   11월 -> [1]\n",
        "*   12월 -> [2]\n",
        "\n",
        "</br>\n",
        "\n",
        "> 규칙은 뭘까?\n"
      ]
    },
    {
      "cell_type": "code",
      "metadata": {
        "id": "DRJXI5T-2EPT"
      },
      "source": [
        ""
      ],
      "execution_count": null,
      "outputs": []
    },
    {
      "cell_type": "code",
      "metadata": {
        "id": "nzbtTm8H2Io6"
      },
      "source": [
        ""
      ],
      "execution_count": null,
      "outputs": []
    },
    {
      "cell_type": "code",
      "metadata": {
        "id": "t2ja02zPy7L7"
      },
      "source": [
        "# 10-12월 지출액 저장하는 리스트 \n",
        "# [0]에 10월, [1]에 11월, [2]에 12월 저장\n",
        "\n"
      ],
      "execution_count": null,
      "outputs": []
    },
    {
      "cell_type": "code",
      "metadata": {
        "id": "HTNFp2EZy7OD"
      },
      "source": [
        "# 10-12월 지출액 저장하는 리스트 \n",
        "# [0]에 10월, [1]에 11월, [2]에 12월 저장\n",
        "\n"
      ],
      "execution_count": null,
      "outputs": []
    },
    {
      "cell_type": "code",
      "metadata": {
        "id": "i2-cuPNs2y9d"
      },
      "source": [
        "# 초간단ver\n",
        "\n"
      ],
      "execution_count": null,
      "outputs": []
    },
    {
      "cell_type": "code",
      "metadata": {
        "id": "VxmnUsvcy7Qq"
      },
      "source": [
        "# 그래프 그리기\n",
        "\n"
      ],
      "execution_count": null,
      "outputs": []
    },
    {
      "cell_type": "markdown",
      "metadata": {
        "id": "WqbXQ3Nc3vDM"
      },
      "source": [
        "안지혜 선생님은 돈을 얼마나 낭비했을까?"
      ]
    },
    {
      "cell_type": "markdown",
      "metadata": {
        "id": "CJIzyZgU3nAD"
      },
      "source": [
        "### 분석 2 : 월별 택시 이용 금액 구하기"
      ]
    },
    {
      "cell_type": "code",
      "metadata": {
        "id": "NAKsjo--zCXX"
      },
      "source": [
        "\n"
      ],
      "execution_count": null,
      "outputs": []
    },
    {
      "cell_type": "code",
      "metadata": {
        "id": "k9rWiM2y31QN"
      },
      "source": [
        "# 초간단 ver\n",
        "\n"
      ],
      "execution_count": null,
      "outputs": []
    },
    {
      "cell_type": "code",
      "metadata": {
        "id": "eC-54uUm31So"
      },
      "source": [
        "\n"
      ],
      "execution_count": null,
      "outputs": []
    },
    {
      "cell_type": "markdown",
      "metadata": {
        "id": "9yQp40sX31ar"
      },
      "source": [
        "### 분석 3 : 월별 배달 이용 금액 구하기"
      ]
    },
    {
      "cell_type": "code",
      "metadata": {
        "id": "IU4xutnd31VM"
      },
      "source": [
        "\n"
      ],
      "execution_count": null,
      "outputs": []
    },
    {
      "cell_type": "code",
      "metadata": {
        "id": "nIoEOuNJ31fz"
      },
      "source": [
        "\n"
      ],
      "execution_count": null,
      "outputs": []
    },
    {
      "cell_type": "markdown",
      "metadata": {
        "id": "A2F6ROi_4Rix"
      },
      "source": [
        "### 분석 4 : 택시 지출액과 배달음식 지출액 비교하기"
      ]
    },
    {
      "cell_type": "code",
      "metadata": {
        "id": "EdQ0Poe431ik"
      },
      "source": [
        "\n"
      ],
      "execution_count": null,
      "outputs": []
    },
    {
      "cell_type": "markdown",
      "metadata": {
        "id": "nQGC9tRc4qis"
      },
      "source": [
        "### 분석 5 : 3개월간 돈을 어디에 가장 많이 썼을까? 10개 가맹점 추려보기!\n",
        "\n",
        "잠깐) 가맹점별 금액을 어떻게 저장할 수 있을까? 리스트로 가능할까?\n",
        "\n",
        "---\n",
        "<img src='https://github.com/Ahnjihye/allinone_AI/blob/images/25_%EC%B9%B4%EB%93%9C%20%EB%94%95%EC%85%94%EB%84%88%EB%A6%AC.png?raw=true' width=600>\n",
        "\n"
      ]
    },
    {
      "cell_type": "markdown",
      "metadata": {
        "id": "YUjUXo-VVr_i"
      },
      "source": [
        "# 딕셔너리\n",
        "Key - Value 대응      \n",
        "키 - 값 대응\n",
        "\n",
        "```\n",
        "딕셔너리이름 = {키1 : 값1, 키2 : 값2, ... 키n : 값n}\n",
        "```\n",
        "<img src = 'https://github.com/Ahnjihye/allinone_AI/blob/images/12_%EB%94%95%EC%85%94%EB%84%88%EB%A6%AC.png?raw=true' width =500>\n"
      ]
    },
    {
      "cell_type": "code",
      "metadata": {
        "id": "muilZTAqVWSX"
      },
      "source": [
        "\n"
      ],
      "execution_count": null,
      "outputs": []
    },
    {
      "cell_type": "code",
      "metadata": {
        "id": "m_L_9MFXHE-q"
      },
      "source": [
        "\n"
      ],
      "execution_count": null,
      "outputs": []
    },
    {
      "cell_type": "code",
      "metadata": {
        "id": "f8nsSOSgWiF_"
      },
      "source": [
        "\n"
      ],
      "execution_count": null,
      "outputs": []
    },
    {
      "cell_type": "code",
      "metadata": {
        "id": "ZD5r03fYWiIn"
      },
      "source": [
        "\n"
      ],
      "execution_count": null,
      "outputs": []
    },
    {
      "cell_type": "code",
      "metadata": {
        "id": "dNCtUNpQWiC9"
      },
      "source": [
        "\n"
      ],
      "execution_count": null,
      "outputs": []
    },
    {
      "cell_type": "code",
      "metadata": {
        "id": "2fEMex4SHszU"
      },
      "source": [
        "\n"
      ],
      "execution_count": null,
      "outputs": []
    },
    {
      "cell_type": "markdown",
      "metadata": {
        "id": "xrO7GOZeF8-U"
      },
      "source": [
        "<img src = 'https://github.com/Ahnjihye/allinone_AI/blob/images/13_%EB%94%95%EC%85%94%EB%84%88%EB%A6%AC2.png?raw=true' width=800>"
      ]
    },
    {
      "cell_type": "markdown",
      "metadata": {
        "id": "WU3kevp9H65l"
      },
      "source": [
        "```\n",
        "# 딕셔너리의 키만 꺼내기 \n",
        "딕셔너리이름.keys()\n",
        "\n",
        "# 딕셔너리의 값(value)만 꺼내기 \n",
        "딕셔너리이름.values()\n",
        "\n",
        "# 딕셔너리의 키-값 모두 꺼내기 \n",
        "딕셔너리이름.items()\n",
        "```\n",
        "\n",
        "\n"
      ]
    },
    {
      "cell_type": "code",
      "metadata": {
        "id": "DXX_OvkAHwpZ"
      },
      "source": [
        ""
      ],
      "execution_count": null,
      "outputs": []
    },
    {
      "cell_type": "code",
      "metadata": {
        "id": "0DV55KHaIWgw"
      },
      "source": [
        ""
      ],
      "execution_count": null,
      "outputs": []
    },
    {
      "cell_type": "code",
      "metadata": {
        "id": "TLymlSQpIWe8"
      },
      "source": [
        ""
      ],
      "execution_count": null,
      "outputs": []
    },
    {
      "cell_type": "code",
      "metadata": {
        "id": "hhowVdC3IWdJ"
      },
      "source": [
        "# 딕셔너리의 키를 리스트로 변환하기\n"
      ],
      "execution_count": null,
      "outputs": []
    },
    {
      "cell_type": "code",
      "metadata": {
        "id": "2gzBfJX9IWbN"
      },
      "source": [
        "# 딕셔너리의 값을 리스트로 변환하기\n"
      ],
      "execution_count": null,
      "outputs": []
    },
    {
      "cell_type": "markdown",
      "metadata": {
        "id": "mlwiPRL7I9EQ"
      },
      "source": [
        "딕셔너리 정렬하기 \n",
        "```\n",
        "# 딕셔너리 키를 정렬\n",
        "sorted(딕셔너리.keys())\n",
        "\n",
        "# 딕셔너리 값을 정렬\n",
        "sorted(딕셔너리.values())\n",
        "\n",
        "# 딕셔너리 키-값을 정렬\n",
        "sorted(딕셔너리.items())\n",
        "```\n",
        "\n"
      ]
    },
    {
      "cell_type": "code",
      "metadata": {
        "id": "ETSdsoVgIWYO"
      },
      "source": [
        ""
      ],
      "execution_count": null,
      "outputs": []
    },
    {
      "cell_type": "code",
      "metadata": {
        "id": "Pg_GLT2oLreA"
      },
      "source": [
        ""
      ],
      "execution_count": null,
      "outputs": []
    },
    {
      "cell_type": "code",
      "metadata": {
        "id": "bjpDRS6SJgF6"
      },
      "source": [
        ""
      ],
      "execution_count": null,
      "outputs": []
    },
    {
      "cell_type": "code",
      "metadata": {
        "id": "bncTr6GMLOaM"
      },
      "source": [
        "# 가장 싼 음식의 가격은?\n"
      ],
      "execution_count": null,
      "outputs": []
    },
    {
      "cell_type": "code",
      "metadata": {
        "id": "PPt8AS0HLUIo"
      },
      "source": [
        "# 가장 싼 음식 두 개의 가격은?\n"
      ],
      "execution_count": null,
      "outputs": []
    },
    {
      "cell_type": "code",
      "metadata": {
        "id": "7iD_SBBBLXlL"
      },
      "source": [
        "# 가장 비싼 음식의 두 개의 가격은?\n"
      ],
      "execution_count": null,
      "outputs": []
    },
    {
      "cell_type": "code",
      "metadata": {
        "id": "o4sYzkMzLuD4"
      },
      "source": [
        ""
      ],
      "execution_count": null,
      "outputs": []
    },
    {
      "cell_type": "code",
      "metadata": {
        "id": "Jrp5KKgfJgNb"
      },
      "source": [
        ""
      ],
      "execution_count": null,
      "outputs": []
    },
    {
      "cell_type": "markdown",
      "metadata": {
        "id": "PTYAzHvFLHUk"
      },
      "source": [
        "\n",
        "\n",
        "```\n",
        "# 딕셔너리 키-값은 자동으로 키를 기준으로 정렬됨\n",
        "sorted(딕셔너리.items())\n",
        "```\n",
        "\n"
      ]
    },
    {
      "cell_type": "code",
      "metadata": {
        "id": "wrsd9v3_JgK8"
      },
      "source": [
        "# 딕셔너리 키-값 정렬시 값을 기준으로 정렬하ㅣ\n"
      ],
      "execution_count": null,
      "outputs": []
    },
    {
      "cell_type": "code",
      "metadata": {
        "id": "PLFvCYtvJgA9"
      },
      "source": [
        "# 가장 싼 음식은 무엇인가?\n"
      ],
      "execution_count": null,
      "outputs": []
    },
    {
      "cell_type": "code",
      "metadata": {
        "id": "hykiPb9gIVPy"
      },
      "source": [
        "# 가장 싼 음식 두 개는 무엇인가?\n"
      ],
      "execution_count": null,
      "outputs": []
    },
    {
      "cell_type": "code",
      "metadata": {
        "id": "w-ALYJpJNPPJ"
      },
      "source": [
        "# 역순 정렬\n"
      ],
      "execution_count": null,
      "outputs": []
    },
    {
      "cell_type": "code",
      "metadata": {
        "id": "iDhLDbC3NVcX"
      },
      "source": [
        "# 가장 비싼 음식 두 개는? \n"
      ],
      "execution_count": null,
      "outputs": []
    },
    {
      "cell_type": "markdown",
      "metadata": {
        "id": "ql_rZUyT7cWm"
      },
      "source": [
        "### 분석 5 : 3개월간 돈을 어디에 가장 많이 썼을까? 10개 가맹점 추려보기!\n",
        "\n",
        "잠깐) 가맹점별 금액을 어떻게 저장할 수 있을까? 리스트로 가능할까?\n",
        "\n",
        "---\n",
        "<img src='https://github.com/Ahnjihye/allinone_AI/blob/images/25_%EC%B9%B4%EB%93%9C%20%EB%94%95%EC%85%94%EB%84%88%EB%A6%AC.png?raw=true' width=600>\n"
      ]
    },
    {
      "cell_type": "markdown",
      "metadata": {
        "id": "x40-7_Hy5GfF"
      },
      "source": [
        "**생각 정리하기**\n",
        "1. 빈 딕셔너리 만들기 (키 = 사용처, 값 = 금액)\n",
        "2. 카드내역을 한 줄씩 읽으면서 (반복문)\n",
        "3. 딕셔너리에 사용처가 있으면 금액을 더하고,\n",
        "4. 딕셔너리에 사용처가 없으면 키-값을 추가한다.\n",
        "5. 딕셔너리가 완성되면 값(금액)을 기준으로 내림차순 정렬 & 앞에서 10개 데이터만 뽑기\n",
        "6. 딕셔너리 키(사용처)와 값(사용금액)을 따로 분리\n",
        "7. 그래프 그리기\n"
      ]
    },
    {
      "cell_type": "code",
      "metadata": {
        "id": "ZxT20raz31lF"
      },
      "source": [
        "# 1. 빈 딕셔너리 만들기\n",
        "\n"
      ],
      "execution_count": null,
      "outputs": []
    },
    {
      "cell_type": "code",
      "metadata": {
        "id": "auLl91Xi5mEZ"
      },
      "source": [
        "# 5. 딕셔너리가 완성되면 값(금액)을 기준으로 내림차순 정렬 \n",
        "# 앞에서 10개 데이터만 뽑기\n",
        "\n"
      ],
      "execution_count": null,
      "outputs": []
    },
    {
      "cell_type": "code",
      "metadata": {
        "id": "X-YEj7h431m9"
      },
      "source": [
        "# 6. 딕셔너리 키(사용처)와 값(사용금액)을 따로 분리\n",
        "\n"
      ],
      "execution_count": null,
      "outputs": []
    },
    {
      "cell_type": "code",
      "metadata": {
        "id": "OOlfOBdg7X4s"
      },
      "source": [
        "# 7. 그래프 그리기\n",
        "\n"
      ],
      "execution_count": null,
      "outputs": []
    },
    {
      "cell_type": "code",
      "metadata": {
        "id": "eamU672F8Lsf"
      },
      "source": [
        ""
      ],
      "execution_count": null,
      "outputs": []
    }
  ]
}